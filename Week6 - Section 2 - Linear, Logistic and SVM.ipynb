{
 "cells": [
  {
   "cell_type": "markdown",
   "metadata": {},
   "source": [
    "# Group 5 - Final Report\n",
    "### Noelani Roy, Yihong Qiu, Cosimo Cambi, Craig Perkins"
   ]
  },
  {
   "cell_type": "code",
   "execution_count": 25,
   "metadata": {},
   "outputs": [],
   "source": [
    "#Libraries Imported\n",
    "import pandas as pd\n",
    "import numpy as np\n"
   ]
  },
  {
   "cell_type": "markdown",
   "metadata": {},
   "source": [
    "### EDA - Data Loading"
   ]
  },
  {
   "cell_type": "code",
   "execution_count": 3,
   "metadata": {},
   "outputs": [
    {
     "data": {
      "text/html": [
       "<div>\n",
       "<style scoped>\n",
       "    .dataframe tbody tr th:only-of-type {\n",
       "        vertical-align: middle;\n",
       "    }\n",
       "\n",
       "    .dataframe tbody tr th {\n",
       "        vertical-align: top;\n",
       "    }\n",
       "\n",
       "    .dataframe thead th {\n",
       "        text-align: right;\n",
       "    }\n",
       "</style>\n",
       "<table border=\"1\" class=\"dataframe\">\n",
       "  <thead>\n",
       "    <tr style=\"text-align: right;\">\n",
       "      <th></th>\n",
       "      <th>Unnamed: 0</th>\n",
       "      <th>trans_date_trans_time</th>\n",
       "      <th>cc_num</th>\n",
       "      <th>merchant</th>\n",
       "      <th>category</th>\n",
       "      <th>amt</th>\n",
       "      <th>first</th>\n",
       "      <th>last</th>\n",
       "      <th>gender</th>\n",
       "      <th>street</th>\n",
       "      <th>...</th>\n",
       "      <th>lat</th>\n",
       "      <th>long</th>\n",
       "      <th>city_pop</th>\n",
       "      <th>job</th>\n",
       "      <th>dob</th>\n",
       "      <th>trans_num</th>\n",
       "      <th>unix_time</th>\n",
       "      <th>merch_lat</th>\n",
       "      <th>merch_long</th>\n",
       "      <th>is_fraud</th>\n",
       "    </tr>\n",
       "  </thead>\n",
       "  <tbody>\n",
       "    <tr>\n",
       "      <th>0</th>\n",
       "      <td>0</td>\n",
       "      <td>2020-06-21 12:14:25</td>\n",
       "      <td>2291163933867244</td>\n",
       "      <td>fraud_Kirlin and Sons</td>\n",
       "      <td>personal_care</td>\n",
       "      <td>2.86</td>\n",
       "      <td>Jeff</td>\n",
       "      <td>Elliott</td>\n",
       "      <td>M</td>\n",
       "      <td>351 Darlene Green</td>\n",
       "      <td>...</td>\n",
       "      <td>33.9659</td>\n",
       "      <td>-80.9355</td>\n",
       "      <td>333497</td>\n",
       "      <td>Mechanical engineer</td>\n",
       "      <td>1968-03-19</td>\n",
       "      <td>2da90c7d74bd46a0caf3777415b3ebd3</td>\n",
       "      <td>1371816865</td>\n",
       "      <td>33.986391</td>\n",
       "      <td>-81.200714</td>\n",
       "      <td>0</td>\n",
       "    </tr>\n",
       "    <tr>\n",
       "      <th>1</th>\n",
       "      <td>1</td>\n",
       "      <td>2020-06-21 12:14:33</td>\n",
       "      <td>3573030041201292</td>\n",
       "      <td>fraud_Sporer-Keebler</td>\n",
       "      <td>personal_care</td>\n",
       "      <td>29.84</td>\n",
       "      <td>Joanne</td>\n",
       "      <td>Williams</td>\n",
       "      <td>F</td>\n",
       "      <td>3638 Marsh Union</td>\n",
       "      <td>...</td>\n",
       "      <td>40.3207</td>\n",
       "      <td>-110.4360</td>\n",
       "      <td>302</td>\n",
       "      <td>Sales professional, IT</td>\n",
       "      <td>1990-01-17</td>\n",
       "      <td>324cc204407e99f51b0d6ca0055005e7</td>\n",
       "      <td>1371816873</td>\n",
       "      <td>39.450498</td>\n",
       "      <td>-109.960431</td>\n",
       "      <td>0</td>\n",
       "    </tr>\n",
       "    <tr>\n",
       "      <th>2</th>\n",
       "      <td>2</td>\n",
       "      <td>2020-06-21 12:14:53</td>\n",
       "      <td>3598215285024754</td>\n",
       "      <td>fraud_Swaniawski, Nitzsche and Welch</td>\n",
       "      <td>health_fitness</td>\n",
       "      <td>41.28</td>\n",
       "      <td>Ashley</td>\n",
       "      <td>Lopez</td>\n",
       "      <td>F</td>\n",
       "      <td>9333 Valentine Point</td>\n",
       "      <td>...</td>\n",
       "      <td>40.6729</td>\n",
       "      <td>-73.5365</td>\n",
       "      <td>34496</td>\n",
       "      <td>Librarian, public</td>\n",
       "      <td>1970-10-21</td>\n",
       "      <td>c81755dbbbea9d5c77f094348a7579be</td>\n",
       "      <td>1371816893</td>\n",
       "      <td>40.495810</td>\n",
       "      <td>-74.196111</td>\n",
       "      <td>0</td>\n",
       "    </tr>\n",
       "    <tr>\n",
       "      <th>3</th>\n",
       "      <td>3</td>\n",
       "      <td>2020-06-21 12:15:15</td>\n",
       "      <td>3591919803438423</td>\n",
       "      <td>fraud_Haley Group</td>\n",
       "      <td>misc_pos</td>\n",
       "      <td>60.05</td>\n",
       "      <td>Brian</td>\n",
       "      <td>Williams</td>\n",
       "      <td>M</td>\n",
       "      <td>32941 Krystal Mill Apt. 552</td>\n",
       "      <td>...</td>\n",
       "      <td>28.5697</td>\n",
       "      <td>-80.8191</td>\n",
       "      <td>54767</td>\n",
       "      <td>Set designer</td>\n",
       "      <td>1987-07-25</td>\n",
       "      <td>2159175b9efe66dc301f149d3d5abf8c</td>\n",
       "      <td>1371816915</td>\n",
       "      <td>28.812398</td>\n",
       "      <td>-80.883061</td>\n",
       "      <td>0</td>\n",
       "    </tr>\n",
       "    <tr>\n",
       "      <th>4</th>\n",
       "      <td>4</td>\n",
       "      <td>2020-06-21 12:15:17</td>\n",
       "      <td>3526826139003047</td>\n",
       "      <td>fraud_Johnston-Casper</td>\n",
       "      <td>travel</td>\n",
       "      <td>3.19</td>\n",
       "      <td>Nathan</td>\n",
       "      <td>Massey</td>\n",
       "      <td>M</td>\n",
       "      <td>5783 Evan Roads Apt. 465</td>\n",
       "      <td>...</td>\n",
       "      <td>44.2529</td>\n",
       "      <td>-85.0170</td>\n",
       "      <td>1126</td>\n",
       "      <td>Furniture designer</td>\n",
       "      <td>1955-07-06</td>\n",
       "      <td>57ff021bd3f328f8738bb535c302a31b</td>\n",
       "      <td>1371816917</td>\n",
       "      <td>44.959148</td>\n",
       "      <td>-85.884734</td>\n",
       "      <td>0</td>\n",
       "    </tr>\n",
       "  </tbody>\n",
       "</table>\n",
       "<p>5 rows × 23 columns</p>\n",
       "</div>"
      ],
      "text/plain": [
       "   Unnamed: 0 trans_date_trans_time            cc_num  \\\n",
       "0           0   2020-06-21 12:14:25  2291163933867244   \n",
       "1           1   2020-06-21 12:14:33  3573030041201292   \n",
       "2           2   2020-06-21 12:14:53  3598215285024754   \n",
       "3           3   2020-06-21 12:15:15  3591919803438423   \n",
       "4           4   2020-06-21 12:15:17  3526826139003047   \n",
       "\n",
       "                               merchant        category    amt   first  \\\n",
       "0                 fraud_Kirlin and Sons   personal_care   2.86    Jeff   \n",
       "1                  fraud_Sporer-Keebler   personal_care  29.84  Joanne   \n",
       "2  fraud_Swaniawski, Nitzsche and Welch  health_fitness  41.28  Ashley   \n",
       "3                     fraud_Haley Group        misc_pos  60.05   Brian   \n",
       "4                 fraud_Johnston-Casper          travel   3.19  Nathan   \n",
       "\n",
       "       last gender                       street  ...      lat      long  \\\n",
       "0   Elliott      M            351 Darlene Green  ...  33.9659  -80.9355   \n",
       "1  Williams      F             3638 Marsh Union  ...  40.3207 -110.4360   \n",
       "2     Lopez      F         9333 Valentine Point  ...  40.6729  -73.5365   \n",
       "3  Williams      M  32941 Krystal Mill Apt. 552  ...  28.5697  -80.8191   \n",
       "4    Massey      M     5783 Evan Roads Apt. 465  ...  44.2529  -85.0170   \n",
       "\n",
       "   city_pop                     job         dob  \\\n",
       "0    333497     Mechanical engineer  1968-03-19   \n",
       "1       302  Sales professional, IT  1990-01-17   \n",
       "2     34496       Librarian, public  1970-10-21   \n",
       "3     54767            Set designer  1987-07-25   \n",
       "4      1126      Furniture designer  1955-07-06   \n",
       "\n",
       "                          trans_num   unix_time  merch_lat  merch_long  \\\n",
       "0  2da90c7d74bd46a0caf3777415b3ebd3  1371816865  33.986391  -81.200714   \n",
       "1  324cc204407e99f51b0d6ca0055005e7  1371816873  39.450498 -109.960431   \n",
       "2  c81755dbbbea9d5c77f094348a7579be  1371816893  40.495810  -74.196111   \n",
       "3  2159175b9efe66dc301f149d3d5abf8c  1371816915  28.812398  -80.883061   \n",
       "4  57ff021bd3f328f8738bb535c302a31b  1371816917  44.959148  -85.884734   \n",
       "\n",
       "   is_fraud  \n",
       "0         0  \n",
       "1         0  \n",
       "2         0  \n",
       "3         0  \n",
       "4         0  \n",
       "\n",
       "[5 rows x 23 columns]"
      ]
     },
     "execution_count": 3,
     "metadata": {},
     "output_type": "execute_result"
    }
   ],
   "source": [
    "df_test=pd.read_csv(\n",
    "    'fraudTest.csv')\n",
    "df_train=pd.read_csv(\n",
    "    'fraudTrain.csv')  \n",
    "\n",
    "fraud_df= df_test.append(df_train)\n",
    "fraud_df.head()"
   ]
  },
  {
   "cell_type": "markdown",
   "metadata": {},
   "source": [
    "### EDA - Data Preprocessing"
   ]
  },
  {
   "cell_type": "code",
   "execution_count": 4,
   "metadata": {},
   "outputs": [
    {
     "data": {
      "text/plain": [
       "0"
      ]
     },
     "execution_count": 4,
     "metadata": {},
     "output_type": "execute_result"
    }
   ],
   "source": [
    "# Checking for missing values\n",
    "fraud_df.isnull().any().sum()"
   ]
  },
  {
   "cell_type": "code",
   "execution_count": 5,
   "metadata": {},
   "outputs": [
    {
     "data": {
      "text/plain": [
       "Unnamed: 0               1296675\n",
       "trans_date_trans_time    1819551\n",
       "cc_num                       999\n",
       "merchant                     693\n",
       "category                      14\n",
       "amt                        60616\n",
       "first                        355\n",
       "last                         486\n",
       "gender                         2\n",
       "street                       999\n",
       "city                         906\n",
       "state                         51\n",
       "zip                          985\n",
       "lat                          983\n",
       "long                         983\n",
       "city_pop                     891\n",
       "job                          497\n",
       "dob                          984\n",
       "trans_num                1852394\n",
       "unix_time                1819583\n",
       "merch_lat                1754157\n",
       "merch_long               1809753\n",
       "is_fraud                       2\n",
       "dtype: int64"
      ]
     },
     "execution_count": 5,
     "metadata": {},
     "output_type": "execute_result"
    }
   ],
   "source": [
    "fraud_df.nunique()"
   ]
  },
  {
   "cell_type": "code",
   "execution_count": 6,
   "metadata": {},
   "outputs": [
    {
     "data": {
      "text/plain": [
       "Unnamed: 0                 int64\n",
       "trans_date_trans_time     object\n",
       "cc_num                     int64\n",
       "merchant                  object\n",
       "category                  object\n",
       "amt                      float64\n",
       "first                     object\n",
       "last                      object\n",
       "gender                    object\n",
       "street                    object\n",
       "city                      object\n",
       "state                     object\n",
       "zip                        int64\n",
       "lat                      float64\n",
       "long                     float64\n",
       "city_pop                   int64\n",
       "job                       object\n",
       "dob                       object\n",
       "trans_num                 object\n",
       "unix_time                  int64\n",
       "merch_lat                float64\n",
       "merch_long               float64\n",
       "is_fraud                   int64\n",
       "dtype: object"
      ]
     },
     "execution_count": 6,
     "metadata": {},
     "output_type": "execute_result"
    }
   ],
   "source": [
    "fraud_df.dtypes"
   ]
  },
  {
   "cell_type": "markdown",
   "metadata": {},
   "source": [
    "### EDA - Column Exploration"
   ]
  },
  {
   "cell_type": "code",
   "execution_count": 7,
   "metadata": {},
   "outputs": [
    {
     "data": {
      "text/plain": [
       "Text(0, 0.5, 'Volume')"
      ]
     },
     "execution_count": 7,
     "metadata": {},
     "output_type": "execute_result"
    },
    {
     "data": {
      "image/png": "[encoded data removed]",
      "text/plain": [
       "<Figure size 1152x576 with 1 Axes>"
      ]
     },
     "metadata": {
      "needs_background": "light"
     },
     "output_type": "display_data"
    }
   ],
   "source": [
    "plt = pd.value_counts(fraud_df['category']).plot.bar(figsize=(16, 8), title=\"Volume by Category\")\n",
    "plt.set_xlabel('Category')\n",
    "plt.set_ylabel('Volume')"
   ]
  },
  {
   "cell_type": "code",
   "execution_count": 8,
   "metadata": {},
   "outputs": [
    {
     "data": {
      "text/plain": [
       "Text(0, 0.5, 'Volume')"
      ]
     },
     "execution_count": 8,
     "metadata": {},
     "output_type": "execute_result"
    },
    {
     "data": {
      "image/png": "[encoded data removed]",
      "text/plain": [
       "<Figure size 1152x576 with 1 Axes>"
      ]
     },
     "metadata": {
      "needs_background": "light"
     },
     "output_type": "display_data"
    }
   ],
   "source": [
    "plt = pd.value_counts(fraud_df['state']).plot.bar(figsize=(16, 8), title=\"Volume by State\")\n",
    "plt.set_xlabel('State')\n",
    "plt.set_ylabel('Volume')"
   ]
  },
  {
   "cell_type": "code",
   "execution_count": 8,
   "metadata": {},
   "outputs": [
    {
     "data": {
      "text/plain": [
       "Text(0, 0.5, 'Volume')"
      ]
     },
     "execution_count": 8,
     "metadata": {},
     "output_type": "execute_result"
    },
    {
     "data": {
      "image/png": "[encoded data removed]",
      "text/plain": [
       "<Figure size 1152x576 with 1 Axes>"
      ]
     },
     "metadata": {
      "needs_background": "light"
     },
     "output_type": "display_data"
    }
   ],
   "source": [
    "fraud_df['txn_datetime'] =  pd.to_datetime(fraud_df['trans_date_trans_time'], format='%Y-%m-%d %H:%M:%S')\n",
    "\n",
    "fraud_df['date_of_birth'] =  pd.to_datetime(fraud_df['dob'], format='%Y-%m-%d')\n",
    "fraud_df['year_of_birth'] = fraud_df['date_of_birth'].dt.year\n",
    "fraud_df['date_of_birth'] = fraud_df['date_of_birth'].dt.date\n",
    "\n",
    "fraud_df['txn_date'] = fraud_df['txn_datetime'].dt.date\n",
    "txn_count_by_date = fraud_df['txn_date'].value_counts().sort_index().reset_index()\n",
    "txn_count_by_date.columns = ['txn_date','count']\n",
    "plt = txn_count_by_date.plot.line(x='txn_date', y='count', figsize=(16, 8), title=\"Transaction Volume by Date\")\n",
    "plt.set_xlabel('Transaction Date')\n",
    "plt.set_ylabel('Volume')"
   ]
  },
  {
   "cell_type": "code",
   "execution_count": 10,
   "metadata": {},
   "outputs": [
    {
     "data": {
      "text/plain": [
       "Text(0, 0.5, 'Count')"
      ]
     },
     "execution_count": 10,
     "metadata": {},
     "output_type": "execute_result"
    },
    {
     "data": {
      "image/png": "[encoded data removed]",
      "text/plain": [
       "<Figure size 1152x576 with 1 Axes>"
      ]
     },
     "metadata": {
      "needs_background": "light"
     },
     "output_type": "display_data"
    }
   ],
   "source": [
    "dob_counts = fraud_df['year_of_birth'].value_counts().sort_index().reset_index()\n",
    "dob_counts.columns = ['year_of_birth','count']\n",
    "\n",
    "plt = dob_counts.plot.bar(x='year_of_birth', y='count', figsize=(16, 8), title=\"Year of Birth Distribution\")\n",
    "plt.set_xlabel('Year of Birth')\n",
    "plt.set_ylabel('Count')"
   ]
  },
  {
   "cell_type": "code",
   "execution_count": 11,
   "metadata": {},
   "outputs": [
    {
     "name": "stdout",
     "output_type": "stream",
     "text": [
      "Number of merchants: 693\n",
      "Number of cards: 999\n",
      "Number of unique users: 999\n"
     ]
    }
   ],
   "source": [
    "# Number of merchants in the dataset\n",
    "\n",
    "print(f\"Number of merchants: {fraud_df['merchant'].nunique()}\")\n",
    "\n",
    "# Number of cards in the dataset\n",
    "\n",
    "print(f\"Number of cards: {fraud_df['cc_num'].nunique()}\")\n",
    "\n",
    "# Number of cards in the dataset\n",
    "\n",
    "print(f\"Number of unique users: {fraud_df.groupby(['first', 'last', 'gender', 'street', 'city']).ngroups}\")\n"
   ]
  },
  {
   "cell_type": "code",
   "execution_count": 12,
   "metadata": {},
   "outputs": [
    {
     "data": {
      "text/plain": [
       "Text(0, 0.5, 'Volume')"
      ]
     },
     "execution_count": 12,
     "metadata": {},
     "output_type": "execute_result"
    },
    {
     "data": {
      "image/png": "[encoded data removed]",
      "text/plain": [
       "<Figure size 576x576 with 1 Axes>"
      ]
     },
     "metadata": {
      "needs_background": "light"
     },
     "output_type": "display_data"
    }
   ],
   "source": [
    "plt = pd.value_counts(fraud_df['merchant']).nlargest(10).plot.bar(figsize=(8, 8), title=\"Volume by Merchant\")\n",
    "plt.set_xlabel('Merchent')\n",
    "plt.set_ylabel('Volume')"
   ]
  },
  {
   "cell_type": "code",
   "execution_count": 13,
   "metadata": {},
   "outputs": [
    {
     "data": {
      "text/plain": [
       "<matplotlib.axes._subplots.AxesSubplot at 0x29c09982070>"
      ]
     },
     "execution_count": 13,
     "metadata": {},
     "output_type": "execute_result"
    },
    {
     "data": {
      "image/png": "[encoded data removed]",
      "text/plain": [
       "<Figure size 720x864 with 1 Axes>"
      ]
     },
     "metadata": {},
     "output_type": "display_data"
    }
   ],
   "source": [
    "category_amt = fraud_df.groupby(\"category\")[\"amt\"].sum()\n",
    "category_amt.plot.pie(autopct=\"%.1f%%\", figsize=(10, 12))"
   ]
  },
  {
   "cell_type": "markdown",
   "metadata": {},
   "source": [
    "### EDA - Special Features Engineering"
   ]
  },
  {
   "cell_type": "code",
   "execution_count": 4,
   "metadata": {},
   "outputs": [],
   "source": [
    "from datetime import date\n",
    "import geopy.distance\n",
    "\n",
    "from math import sin, cos, sqrt, atan2, radians, log"
   ]
  },
  {
   "cell_type": "markdown",
   "metadata": {},
   "source": [
    "#### Calculating Age from Date of Birth Column "
   ]
  },
  {
   "cell_type": "code",
   "execution_count": 5,
   "metadata": {},
   "outputs": [],
   "source": [
    "#Calculate Age\n",
    "def calculate_age(born):\n",
    "    today = date.today()\n",
    "    return today.year - born.year - ((today.month, today.day) < (born.month, born.day))\n",
    "\n",
    "if 'dob' in fraud_df.columns:\n",
    "    fraud_df['age'] = [calculate_age(d) for d in pd.to_datetime(fraud_df['dob'], format='%Y-%m-%d')]"
   ]
  },
  {
   "cell_type": "markdown",
   "metadata": {},
   "source": [
    "#### Calculating Distance between card holder and merchant"
   ]
  },
  {
   "cell_type": "code",
   "execution_count": 6,
   "metadata": {},
   "outputs": [],
   "source": [
    "def calculate_distance(row):\n",
    "    coords_1 = (row['lat'], row['long'])\n",
    "    coords_2 = (row['merch_lat'], row['merch_long'])\n",
    "    return geopy.distance.geodesic(coords_1, coords_2).km\n",
    "\n",
    "# Answer from https://stackoverflow.com/questions/19412462/getting-distance-between-two-points-based-on-latitude-longitude\n",
    "# The answers above are based on the Haversine formula, which assumes the earth is a sphere,\n",
    "# which results in errors of up to about 0.5% (according to help(geopy.distance)). \n",
    "# Vincenty distance uses more accurate ellipsoidal models such as WGS-84, and is implemented in geopy. For example,\n",
    "def calculate_distance2(row):\n",
    "    # approximate radius of earth in km\n",
    "    R = 6373.0\n",
    "\n",
    "    lat1 = radians(row['lat'])\n",
    "    lon1 = radians(row['long'])\n",
    "    lat2 = radians(row['merch_lat'])\n",
    "    lon2 = radians(row['merch_long'])\n",
    "\n",
    "    dlon = lon2 - lon1\n",
    "    dlat = lat2 - lat1\n",
    "\n",
    "    a = sin(dlat / 2)**2 + cos(lat1) * cos(lat2) * sin(dlon / 2)**2\n",
    "    c = 2 * atan2(sqrt(a), sqrt(1 - a))\n",
    "\n",
    "    distance = R * c\n",
    "    print(distance)\n",
    "    \n",
    "if set(['lat', 'long', 'merch_lat', 'merch_long']).issubset(set(fraud_df.columns)):\n",
    "     fraud_df['distance'] = [calculate_distance(row) for _, row in fraud_df.iterrows()]"
   ]
  },
  {
   "cell_type": "markdown",
   "metadata": {},
   "source": [
    "#### Separating Time Buckets from Datetime Column"
   ]
  },
  {
   "cell_type": "code",
   "execution_count": 9,
   "metadata": {},
   "outputs": [],
   "source": [
    "fraud_df['hour'] = fraud_df['txn_datetime'].dt.hour\n",
    "fraud_df['day'] = fraud_df['txn_datetime'].dt.day\n",
    "fraud_df['month'] = fraud_df['txn_datetime'].dt.month\n",
    "fraud_df['year'] = fraud_df['txn_datetime'].dt.year"
   ]
  },
  {
   "cell_type": "markdown",
   "metadata": {},
   "source": [
    "#### Removing Columns used to derive new features"
   ]
  },
  {
   "cell_type": "code",
   "execution_count": 10,
   "metadata": {},
   "outputs": [
    {
     "data": {
      "text/html": [
       "<div>\n",
       "<style scoped>\n",
       "    .dataframe tbody tr th:only-of-type {\n",
       "        vertical-align: middle;\n",
       "    }\n",
       "\n",
       "    .dataframe tbody tr th {\n",
       "        vertical-align: top;\n",
       "    }\n",
       "\n",
       "    .dataframe thead th {\n",
       "        text-align: right;\n",
       "    }\n",
       "</style>\n",
       "<table border=\"1\" class=\"dataframe\">\n",
       "  <thead>\n",
       "    <tr style=\"text-align: right;\">\n",
       "      <th></th>\n",
       "      <th>txn_datetime</th>\n",
       "      <th>cc_num</th>\n",
       "      <th>merchant</th>\n",
       "      <th>category</th>\n",
       "      <th>amt</th>\n",
       "      <th>gender</th>\n",
       "      <th>city_pop</th>\n",
       "      <th>job</th>\n",
       "      <th>age</th>\n",
       "      <th>distance</th>\n",
       "      <th>date_of_birth</th>\n",
       "      <th>year_of_birth</th>\n",
       "      <th>txn_date</th>\n",
       "      <th>hour</th>\n",
       "      <th>day</th>\n",
       "      <th>month</th>\n",
       "      <th>year</th>\n",
       "      <th>is_fraud</th>\n",
       "    </tr>\n",
       "  </thead>\n",
       "  <tbody>\n",
       "    <tr>\n",
       "      <th>0</th>\n",
       "      <td>2020-06-21 12:14:25</td>\n",
       "      <td>2291163933867244</td>\n",
       "      <td>fraud_Kirlin and Sons</td>\n",
       "      <td>personal_care</td>\n",
       "      <td>2.86</td>\n",
       "      <td>M</td>\n",
       "      <td>333497</td>\n",
       "      <td>Mechanical engineer</td>\n",
       "      <td>52</td>\n",
       "      <td>24.613746</td>\n",
       "      <td>1968-03-19</td>\n",
       "      <td>1968</td>\n",
       "      <td>2020-06-21</td>\n",
       "      <td>12</td>\n",
       "      <td>21</td>\n",
       "      <td>6</td>\n",
       "      <td>2020</td>\n",
       "      <td>0</td>\n",
       "    </tr>\n",
       "    <tr>\n",
       "      <th>1</th>\n",
       "      <td>2020-06-21 12:14:33</td>\n",
       "      <td>3573030041201292</td>\n",
       "      <td>fraud_Sporer-Keebler</td>\n",
       "      <td>personal_care</td>\n",
       "      <td>29.84</td>\n",
       "      <td>F</td>\n",
       "      <td>302</td>\n",
       "      <td>Sales professional, IT</td>\n",
       "      <td>30</td>\n",
       "      <td>104.834043</td>\n",
       "      <td>1990-01-17</td>\n",
       "      <td>1990</td>\n",
       "      <td>2020-06-21</td>\n",
       "      <td>12</td>\n",
       "      <td>21</td>\n",
       "      <td>6</td>\n",
       "      <td>2020</td>\n",
       "      <td>0</td>\n",
       "    </tr>\n",
       "    <tr>\n",
       "      <th>2</th>\n",
       "      <td>2020-06-21 12:14:53</td>\n",
       "      <td>3598215285024754</td>\n",
       "      <td>fraud_Swaniawski, Nitzsche and Welch</td>\n",
       "      <td>health_fitness</td>\n",
       "      <td>41.28</td>\n",
       "      <td>F</td>\n",
       "      <td>34496</td>\n",
       "      <td>Librarian, public</td>\n",
       "      <td>50</td>\n",
       "      <td>59.204796</td>\n",
       "      <td>1970-10-21</td>\n",
       "      <td>1970</td>\n",
       "      <td>2020-06-21</td>\n",
       "      <td>12</td>\n",
       "      <td>21</td>\n",
       "      <td>6</td>\n",
       "      <td>2020</td>\n",
       "      <td>0</td>\n",
       "    </tr>\n",
       "    <tr>\n",
       "      <th>3</th>\n",
       "      <td>2020-06-21 12:15:15</td>\n",
       "      <td>3591919803438423</td>\n",
       "      <td>fraud_Haley Group</td>\n",
       "      <td>misc_pos</td>\n",
       "      <td>60.05</td>\n",
       "      <td>M</td>\n",
       "      <td>54767</td>\n",
       "      <td>Set designer</td>\n",
       "      <td>33</td>\n",
       "      <td>27.615117</td>\n",
       "      <td>1987-07-25</td>\n",
       "      <td>1987</td>\n",
       "      <td>2020-06-21</td>\n",
       "      <td>12</td>\n",
       "      <td>21</td>\n",
       "      <td>6</td>\n",
       "      <td>2020</td>\n",
       "      <td>0</td>\n",
       "    </tr>\n",
       "    <tr>\n",
       "      <th>4</th>\n",
       "      <td>2020-06-21 12:15:17</td>\n",
       "      <td>3526826139003047</td>\n",
       "      <td>fraud_Johnston-Casper</td>\n",
       "      <td>travel</td>\n",
       "      <td>3.19</td>\n",
       "      <td>M</td>\n",
       "      <td>1126</td>\n",
       "      <td>Furniture designer</td>\n",
       "      <td>65</td>\n",
       "      <td>104.423175</td>\n",
       "      <td>1955-07-06</td>\n",
       "      <td>1955</td>\n",
       "      <td>2020-06-21</td>\n",
       "      <td>12</td>\n",
       "      <td>21</td>\n",
       "      <td>6</td>\n",
       "      <td>2020</td>\n",
       "      <td>0</td>\n",
       "    </tr>\n",
       "  </tbody>\n",
       "</table>\n",
       "</div>"
      ],
      "text/plain": [
       "         txn_datetime            cc_num                              merchant  \\\n",
       "0 2020-06-21 12:14:25  2291163933867244                 fraud_Kirlin and Sons   \n",
       "1 2020-06-21 12:14:33  3573030041201292                  fraud_Sporer-Keebler   \n",
       "2 2020-06-21 12:14:53  3598215285024754  fraud_Swaniawski, Nitzsche and Welch   \n",
       "3 2020-06-21 12:15:15  3591919803438423                     fraud_Haley Group   \n",
       "4 2020-06-21 12:15:17  3526826139003047                 fraud_Johnston-Casper   \n",
       "\n",
       "         category    amt gender  city_pop                     job  age  \\\n",
       "0   personal_care   2.86      M    333497     Mechanical engineer   52   \n",
       "1   personal_care  29.84      F       302  Sales professional, IT   30   \n",
       "2  health_fitness  41.28      F     34496       Librarian, public   50   \n",
       "3        misc_pos  60.05      M     54767            Set designer   33   \n",
       "4          travel   3.19      M      1126      Furniture designer   65   \n",
       "\n",
       "     distance date_of_birth  year_of_birth    txn_date  hour  day  month  \\\n",
       "0   24.613746    1968-03-19           1968  2020-06-21    12   21      6   \n",
       "1  104.834043    1990-01-17           1990  2020-06-21    12   21      6   \n",
       "2   59.204796    1970-10-21           1970  2020-06-21    12   21      6   \n",
       "3   27.615117    1987-07-25           1987  2020-06-21    12   21      6   \n",
       "4  104.423175    1955-07-06           1955  2020-06-21    12   21      6   \n",
       "\n",
       "   year  is_fraud  \n",
       "0  2020         0  \n",
       "1  2020         0  \n",
       "2  2020         0  \n",
       "3  2020         0  \n",
       "4  2020         0  "
      ]
     },
     "execution_count": 10,
     "metadata": {},
     "output_type": "execute_result"
    }
   ],
   "source": [
    "fraud_df.drop([\n",
    "    'Unnamed: 0',\n",
    "    'trans_num',\n",
    "    'unix_time',\n",
    "    'first',\n",
    "    'last',\n",
    "    'street',\n",
    "    'city',\n",
    "    'state',\n",
    "    'zip',\n",
    "    'dob',\n",
    "    'trans_date_trans_time',\n",
    "    'lat',\n",
    "    'long',\n",
    "    'merch_lat',\n",
    "    'merch_long'\n",
    "], axis=1, errors='ignore', inplace=True)\n",
    "\n",
    "cols = list(fraud_df.columns)\n",
    "cols.insert(0, cols.pop(cols.index(\"txn_datetime\")))\n",
    "cols.append(cols.pop(cols.index('is_fraud')))\n",
    "fraud_df = fraud_df[cols]\n",
    "\n",
    "fraud_df.head()"
   ]
  },
  {
   "cell_type": "markdown",
   "metadata": {},
   "source": [
    "### EDA - Outlier Detection"
   ]
  },
  {
   "cell_type": "code",
   "execution_count": 19,
   "metadata": {},
   "outputs": [
    {
     "data": {
      "text/plain": [
       "<matplotlib.axes._subplots.AxesSubplot at 0x29c097d6460>"
      ]
     },
     "execution_count": 19,
     "metadata": {},
     "output_type": "execute_result"
    },
    {
     "data": {
      "image/png": "[encoded data removed]",
      "text/plain": [
       "<Figure size 288x288 with 1 Axes>"
      ]
     },
     "metadata": {
      "needs_background": "light"
     },
     "output_type": "display_data"
    }
   ],
   "source": [
    "fraud_df.boxplot(column='age', figsize=(4, 4))"
   ]
  },
  {
   "cell_type": "code",
   "execution_count": 20,
   "metadata": {},
   "outputs": [
    {
     "name": "stdout",
     "output_type": "stream",
     "text": [
      "Transaction Amount:\n",
      "count    1.852394e+06\n",
      "mean     7.006357e+01\n",
      "std      1.592540e+02\n",
      "min      1.000000e+00\n",
      "25%      9.640000e+00\n",
      "50%      4.745000e+01\n",
      "75%      8.310000e+01\n",
      "max      2.894890e+04\n",
      "Name: amt, dtype: float64\n"
     ]
    },
    {
     "data": {
      "text/plain": [
       "<matplotlib.axes._subplots.AxesSubplot at 0x29c833ea460>"
      ]
     },
     "execution_count": 20,
     "metadata": {},
     "output_type": "execute_result"
    },
    {
     "data": {
      "image/png": "[encoded data removed]",
      "text/plain": [
       "<Figure size 576x720 with 1 Axes>"
      ]
     },
     "metadata": {
      "needs_background": "light"
     },
     "output_type": "display_data"
    }
   ],
   "source": [
    "stats = fraud_df['amt'].describe()\n",
    "print(\"Transaction Amount:\")\n",
    "print(stats)\n",
    "fraud_df.head(1000).boxplot(column='amt', figsize=(8, 10))"
   ]
  },
  {
   "cell_type": "code",
   "execution_count": 21,
   "metadata": {},
   "outputs": [
    {
     "data": {
      "text/plain": [
       "<matplotlib.axes._subplots.AxesSubplot at 0x29c8334d3d0>"
      ]
     },
     "execution_count": 21,
     "metadata": {},
     "output_type": "execute_result"
    },
    {
     "data": {
      "image/png": "[encoded data removed]",
      "text/plain": [
       "<Figure size 576x720 with 1 Axes>"
      ]
     },
     "metadata": {
      "needs_background": "light"
     },
     "output_type": "display_data"
    }
   ],
   "source": [
    "import seaborn as sns\n",
    "import matplotlib.pyplot as plt\n",
    "gender_amt = pd.DataFrame(fraud_df.head(1000), columns = ['amt', 'gender'])\n",
    "\n",
    "plt.figure(figsize=(8,10))\n",
    "sns.boxplot(y='amt', x='gender', data=gender_amt, hue='gender', dodge=False, width = 0.6, palette= 'Set2')"
   ]
  },
  {
   "cell_type": "markdown",
   "metadata": {},
   "source": [
    "### EDA - Imbalance Identification"
   ]
  },
  {
   "cell_type": "code",
   "execution_count": 22,
   "metadata": {},
   "outputs": [
    {
     "name": "stdout",
     "output_type": "stream",
     "text": [
      "No Fraud Count: 1842743\n",
      "Fraud Count: 9651\n",
      "Fraud Percentage: 0.52%\n"
     ]
    }
   ],
   "source": [
    "fraud_counts = fraud_df['is_fraud'].value_counts().sort_index().reset_index()\n",
    "fraud_counts.columns = ['is_fraud','count']\n",
    "\n",
    "# print(fraud_counts)\n",
    "\n",
    "no_fraud_count = fraud_counts.loc[fraud_counts['is_fraud'] == 0].iloc[0]['count']\n",
    "fraud_count = fraud_counts.loc[fraud_counts['is_fraud'] == 1].iloc[0]['count']\n",
    "\n",
    "percent_with_fraud = \"{:.2f}\".format(((fraud_count / no_fraud_count) * 100))\n",
    "\n",
    "print(f\"No Fraud Count: {no_fraud_count}\")\n",
    "print(f\"Fraud Count: {fraud_count}\")\n",
    "print(f\"Fraud Percentage: {percent_with_fraud}%\")"
   ]
  },
  {
   "cell_type": "markdown",
   "metadata": {},
   "source": [
    "### Data Encoding - One Hot Encoder"
   ]
  },
  {
   "cell_type": "code",
   "execution_count": 11,
   "metadata": {},
   "outputs": [
    {
     "name": "stderr",
     "output_type": "stream",
     "text": [
      "<ipython-input-11-0a7290052b9a>:2: SettingWithCopyWarning: \n",
      "A value is trying to be set on a copy of a slice from a DataFrame.\n",
      "Try using .loc[row_indexer,col_indexer] = value instead\n",
      "\n",
      "See the caveats in the documentation: https://pandas.pydata.org/pandas-docs/stable/user_guide/indexing.html#returning-a-view-versus-a-copy\n",
      "  fraud_df['Target'] = fraud_df['amt']\n"
     ]
    },
    {
     "data": {
      "text/html": [
       "<div>\n",
       "<style scoped>\n",
       "    .dataframe tbody tr th:only-of-type {\n",
       "        vertical-align: middle;\n",
       "    }\n",
       "\n",
       "    .dataframe tbody tr th {\n",
       "        vertical-align: top;\n",
       "    }\n",
       "\n",
       "    .dataframe thead th {\n",
       "        text-align: right;\n",
       "    }\n",
       "</style>\n",
       "<table border=\"1\" class=\"dataframe\">\n",
       "  <thead>\n",
       "    <tr style=\"text-align: right;\">\n",
       "      <th></th>\n",
       "      <th>category_food_dining</th>\n",
       "      <th>category_gas_transport</th>\n",
       "      <th>category_grocery_net</th>\n",
       "      <th>category_grocery_pos</th>\n",
       "      <th>category_health_fitness</th>\n",
       "      <th>category_home</th>\n",
       "      <th>category_kids_pets</th>\n",
       "      <th>category_misc_net</th>\n",
       "      <th>category_misc_pos</th>\n",
       "      <th>category_personal_care</th>\n",
       "      <th>category_shopping_net</th>\n",
       "      <th>category_shopping_pos</th>\n",
       "      <th>category_travel</th>\n",
       "      <th>gender_M</th>\n",
       "    </tr>\n",
       "  </thead>\n",
       "  <tbody>\n",
       "    <tr>\n",
       "      <th>0</th>\n",
       "      <td>0</td>\n",
       "      <td>0</td>\n",
       "      <td>0</td>\n",
       "      <td>0</td>\n",
       "      <td>0</td>\n",
       "      <td>0</td>\n",
       "      <td>0</td>\n",
       "      <td>0</td>\n",
       "      <td>0</td>\n",
       "      <td>1</td>\n",
       "      <td>0</td>\n",
       "      <td>0</td>\n",
       "      <td>0</td>\n",
       "      <td>1</td>\n",
       "    </tr>\n",
       "    <tr>\n",
       "      <th>1</th>\n",
       "      <td>0</td>\n",
       "      <td>0</td>\n",
       "      <td>0</td>\n",
       "      <td>0</td>\n",
       "      <td>0</td>\n",
       "      <td>0</td>\n",
       "      <td>0</td>\n",
       "      <td>0</td>\n",
       "      <td>0</td>\n",
       "      <td>1</td>\n",
       "      <td>0</td>\n",
       "      <td>0</td>\n",
       "      <td>0</td>\n",
       "      <td>0</td>\n",
       "    </tr>\n",
       "    <tr>\n",
       "      <th>2</th>\n",
       "      <td>0</td>\n",
       "      <td>0</td>\n",
       "      <td>0</td>\n",
       "      <td>0</td>\n",
       "      <td>1</td>\n",
       "      <td>0</td>\n",
       "      <td>0</td>\n",
       "      <td>0</td>\n",
       "      <td>0</td>\n",
       "      <td>0</td>\n",
       "      <td>0</td>\n",
       "      <td>0</td>\n",
       "      <td>0</td>\n",
       "      <td>0</td>\n",
       "    </tr>\n",
       "    <tr>\n",
       "      <th>3</th>\n",
       "      <td>0</td>\n",
       "      <td>0</td>\n",
       "      <td>0</td>\n",
       "      <td>0</td>\n",
       "      <td>0</td>\n",
       "      <td>0</td>\n",
       "      <td>0</td>\n",
       "      <td>0</td>\n",
       "      <td>1</td>\n",
       "      <td>0</td>\n",
       "      <td>0</td>\n",
       "      <td>0</td>\n",
       "      <td>0</td>\n",
       "      <td>1</td>\n",
       "    </tr>\n",
       "    <tr>\n",
       "      <th>4</th>\n",
       "      <td>0</td>\n",
       "      <td>0</td>\n",
       "      <td>0</td>\n",
       "      <td>0</td>\n",
       "      <td>0</td>\n",
       "      <td>0</td>\n",
       "      <td>0</td>\n",
       "      <td>0</td>\n",
       "      <td>0</td>\n",
       "      <td>0</td>\n",
       "      <td>0</td>\n",
       "      <td>0</td>\n",
       "      <td>1</td>\n",
       "      <td>1</td>\n",
       "    </tr>\n",
       "  </tbody>\n",
       "</table>\n",
       "</div>"
      ],
      "text/plain": [
       "   category_food_dining  category_gas_transport  category_grocery_net  \\\n",
       "0                     0                       0                     0   \n",
       "1                     0                       0                     0   \n",
       "2                     0                       0                     0   \n",
       "3                     0                       0                     0   \n",
       "4                     0                       0                     0   \n",
       "\n",
       "   category_grocery_pos  category_health_fitness  category_home  \\\n",
       "0                     0                        0              0   \n",
       "1                     0                        0              0   \n",
       "2                     0                        1              0   \n",
       "3                     0                        0              0   \n",
       "4                     0                        0              0   \n",
       "\n",
       "   category_kids_pets  category_misc_net  category_misc_pos  \\\n",
       "0                   0                  0                  0   \n",
       "1                   0                  0                  0   \n",
       "2                   0                  0                  0   \n",
       "3                   0                  0                  1   \n",
       "4                   0                  0                  0   \n",
       "\n",
       "   category_personal_care  category_shopping_net  category_shopping_pos  \\\n",
       "0                       1                      0                      0   \n",
       "1                       1                      0                      0   \n",
       "2                       0                      0                      0   \n",
       "3                       0                      0                      0   \n",
       "4                       0                      0                      0   \n",
       "\n",
       "   category_travel  gender_M  \n",
       "0                0         1  \n",
       "1                0         0  \n",
       "2                0         0  \n",
       "3                0         1  \n",
       "4                1         1  "
      ]
     },
     "execution_count": 11,
     "metadata": {},
     "output_type": "execute_result"
    }
   ],
   "source": [
    "cat_col = ['category','gender']\n",
    "fraud_df['Target'] = fraud_df['amt']\n",
    "#This one hot encodes the categorical columns and create a new variable to hold the nex column headers\n",
    "if len(cat_col)>0: \n",
    "    cat_onehotencode = pd.get_dummies(fraud_df[cat_col],drop_first = True)\n",
    "    cat_col_onehotencode = list(cat_onehotencode.columns)\n",
    "    fraud_df = pd.concat([fraud_df,cat_onehotencode], axis = 1)\n",
    "\n",
    "else:\n",
    "    cat_col_onehotencode = []\n",
    "fraud_df[cat_col_onehotencode].head()"
   ]
  },
  {
   "cell_type": "code",
   "execution_count": 121,
   "metadata": {},
   "outputs": [],
   "source": [
    "fraud_df.to_csv('df_cat.csv', index=False)"
   ]
  },
  {
   "cell_type": "code",
   "execution_count": 1,
   "metadata": {},
   "outputs": [
    {
     "data": {
      "text/html": [
       "<div>\n",
       "<style scoped>\n",
       "    .dataframe tbody tr th:only-of-type {\n",
       "        vertical-align: middle;\n",
       "    }\n",
       "\n",
       "    .dataframe tbody tr th {\n",
       "        vertical-align: top;\n",
       "    }\n",
       "\n",
       "    .dataframe thead th {\n",
       "        text-align: right;\n",
       "    }\n",
       "</style>\n",
       "<table border=\"1\" class=\"dataframe\">\n",
       "  <thead>\n",
       "    <tr style=\"text-align: right;\">\n",
       "      <th></th>\n",
       "      <th>txn_datetime</th>\n",
       "      <th>cc_num</th>\n",
       "      <th>merchant</th>\n",
       "      <th>category</th>\n",
       "      <th>amt</th>\n",
       "      <th>gender</th>\n",
       "      <th>city_pop</th>\n",
       "      <th>job</th>\n",
       "      <th>age</th>\n",
       "      <th>distance</th>\n",
       "      <th>...</th>\n",
       "      <th>category_health_fitness</th>\n",
       "      <th>category_home</th>\n",
       "      <th>category_kids_pets</th>\n",
       "      <th>category_misc_net</th>\n",
       "      <th>category_misc_pos</th>\n",
       "      <th>category_personal_care</th>\n",
       "      <th>category_shopping_net</th>\n",
       "      <th>category_shopping_pos</th>\n",
       "      <th>category_travel</th>\n",
       "      <th>gender_M</th>\n",
       "    </tr>\n",
       "  </thead>\n",
       "  <tbody>\n",
       "    <tr>\n",
       "      <th>0</th>\n",
       "      <td>2020-06-21 12:14:25</td>\n",
       "      <td>2291163933867244</td>\n",
       "      <td>fraud_Kirlin and Sons</td>\n",
       "      <td>personal_care</td>\n",
       "      <td>2.86</td>\n",
       "      <td>M</td>\n",
       "      <td>333497</td>\n",
       "      <td>Mechanical engineer</td>\n",
       "      <td>52</td>\n",
       "      <td>24.613746</td>\n",
       "      <td>...</td>\n",
       "      <td>0</td>\n",
       "      <td>0</td>\n",
       "      <td>0</td>\n",
       "      <td>0</td>\n",
       "      <td>0</td>\n",
       "      <td>1</td>\n",
       "      <td>0</td>\n",
       "      <td>0</td>\n",
       "      <td>0</td>\n",
       "      <td>1</td>\n",
       "    </tr>\n",
       "    <tr>\n",
       "      <th>1</th>\n",
       "      <td>2020-06-21 12:14:33</td>\n",
       "      <td>3573030041201292</td>\n",
       "      <td>fraud_Sporer-Keebler</td>\n",
       "      <td>personal_care</td>\n",
       "      <td>29.84</td>\n",
       "      <td>F</td>\n",
       "      <td>302</td>\n",
       "      <td>Sales professional, IT</td>\n",
       "      <td>30</td>\n",
       "      <td>104.834043</td>\n",
       "      <td>...</td>\n",
       "      <td>0</td>\n",
       "      <td>0</td>\n",
       "      <td>0</td>\n",
       "      <td>0</td>\n",
       "      <td>0</td>\n",
       "      <td>1</td>\n",
       "      <td>0</td>\n",
       "      <td>0</td>\n",
       "      <td>0</td>\n",
       "      <td>0</td>\n",
       "    </tr>\n",
       "    <tr>\n",
       "      <th>2</th>\n",
       "      <td>2020-06-21 12:14:53</td>\n",
       "      <td>3598215285024754</td>\n",
       "      <td>fraud_Swaniawski, Nitzsche and Welch</td>\n",
       "      <td>health_fitness</td>\n",
       "      <td>41.28</td>\n",
       "      <td>F</td>\n",
       "      <td>34496</td>\n",
       "      <td>Librarian, public</td>\n",
       "      <td>50</td>\n",
       "      <td>59.204796</td>\n",
       "      <td>...</td>\n",
       "      <td>1</td>\n",
       "      <td>0</td>\n",
       "      <td>0</td>\n",
       "      <td>0</td>\n",
       "      <td>0</td>\n",
       "      <td>0</td>\n",
       "      <td>0</td>\n",
       "      <td>0</td>\n",
       "      <td>0</td>\n",
       "      <td>0</td>\n",
       "    </tr>\n",
       "    <tr>\n",
       "      <th>3</th>\n",
       "      <td>2020-06-21 12:15:15</td>\n",
       "      <td>3591919803438423</td>\n",
       "      <td>fraud_Haley Group</td>\n",
       "      <td>misc_pos</td>\n",
       "      <td>60.05</td>\n",
       "      <td>M</td>\n",
       "      <td>54767</td>\n",
       "      <td>Set designer</td>\n",
       "      <td>33</td>\n",
       "      <td>27.615117</td>\n",
       "      <td>...</td>\n",
       "      <td>0</td>\n",
       "      <td>0</td>\n",
       "      <td>0</td>\n",
       "      <td>0</td>\n",
       "      <td>1</td>\n",
       "      <td>0</td>\n",
       "      <td>0</td>\n",
       "      <td>0</td>\n",
       "      <td>0</td>\n",
       "      <td>1</td>\n",
       "    </tr>\n",
       "    <tr>\n",
       "      <th>4</th>\n",
       "      <td>2020-06-21 12:15:17</td>\n",
       "      <td>3526826139003047</td>\n",
       "      <td>fraud_Johnston-Casper</td>\n",
       "      <td>travel</td>\n",
       "      <td>3.19</td>\n",
       "      <td>M</td>\n",
       "      <td>1126</td>\n",
       "      <td>Furniture designer</td>\n",
       "      <td>65</td>\n",
       "      <td>104.423175</td>\n",
       "      <td>...</td>\n",
       "      <td>0</td>\n",
       "      <td>0</td>\n",
       "      <td>0</td>\n",
       "      <td>0</td>\n",
       "      <td>0</td>\n",
       "      <td>0</td>\n",
       "      <td>0</td>\n",
       "      <td>0</td>\n",
       "      <td>1</td>\n",
       "      <td>1</td>\n",
       "    </tr>\n",
       "    <tr>\n",
       "      <th>5</th>\n",
       "      <td>2020-06-21 12:15:37</td>\n",
       "      <td>30407675418785</td>\n",
       "      <td>fraud_Daugherty LLC</td>\n",
       "      <td>kids_pets</td>\n",
       "      <td>19.55</td>\n",
       "      <td>F</td>\n",
       "      <td>520</td>\n",
       "      <td>Psychotherapist</td>\n",
       "      <td>29</td>\n",
       "      <td>86.045959</td>\n",
       "      <td>...</td>\n",
       "      <td>0</td>\n",
       "      <td>0</td>\n",
       "      <td>1</td>\n",
       "      <td>0</td>\n",
       "      <td>0</td>\n",
       "      <td>0</td>\n",
       "      <td>0</td>\n",
       "      <td>0</td>\n",
       "      <td>0</td>\n",
       "      <td>0</td>\n",
       "    </tr>\n",
       "    <tr>\n",
       "      <th>6</th>\n",
       "      <td>2020-06-21 12:15:44</td>\n",
       "      <td>213180742685905</td>\n",
       "      <td>fraud_Romaguera Ltd</td>\n",
       "      <td>health_fitness</td>\n",
       "      <td>133.93</td>\n",
       "      <td>F</td>\n",
       "      <td>1139</td>\n",
       "      <td>Therapist, occupational</td>\n",
       "      <td>69</td>\n",
       "      <td>134.408462</td>\n",
       "      <td>...</td>\n",
       "      <td>1</td>\n",
       "      <td>0</td>\n",
       "      <td>0</td>\n",
       "      <td>0</td>\n",
       "      <td>0</td>\n",
       "      <td>0</td>\n",
       "      <td>0</td>\n",
       "      <td>0</td>\n",
       "      <td>0</td>\n",
       "      <td>0</td>\n",
       "    </tr>\n",
       "    <tr>\n",
       "      <th>7</th>\n",
       "      <td>2020-06-21 12:15:50</td>\n",
       "      <td>3589289942931264</td>\n",
       "      <td>fraud_Reichel LLC</td>\n",
       "      <td>personal_care</td>\n",
       "      <td>10.37</td>\n",
       "      <td>F</td>\n",
       "      <td>343</td>\n",
       "      <td>Development worker, international aid</td>\n",
       "      <td>48</td>\n",
       "      <td>82.907939</td>\n",
       "      <td>...</td>\n",
       "      <td>0</td>\n",
       "      <td>0</td>\n",
       "      <td>0</td>\n",
       "      <td>0</td>\n",
       "      <td>0</td>\n",
       "      <td>1</td>\n",
       "      <td>0</td>\n",
       "      <td>0</td>\n",
       "      <td>0</td>\n",
       "      <td>0</td>\n",
       "    </tr>\n",
       "    <tr>\n",
       "      <th>8</th>\n",
       "      <td>2020-06-21 12:16:10</td>\n",
       "      <td>3596357274378601</td>\n",
       "      <td>fraud_Goyette, Howell and Collier</td>\n",
       "      <td>shopping_pos</td>\n",
       "      <td>4.37</td>\n",
       "      <td>M</td>\n",
       "      <td>3688</td>\n",
       "      <td>Advice worker</td>\n",
       "      <td>47</td>\n",
       "      <td>61.401541</td>\n",
       "      <td>...</td>\n",
       "      <td>0</td>\n",
       "      <td>0</td>\n",
       "      <td>0</td>\n",
       "      <td>0</td>\n",
       "      <td>0</td>\n",
       "      <td>0</td>\n",
       "      <td>0</td>\n",
       "      <td>1</td>\n",
       "      <td>0</td>\n",
       "      <td>1</td>\n",
       "    </tr>\n",
       "    <tr>\n",
       "      <th>9</th>\n",
       "      <td>2020-06-21 12:16:11</td>\n",
       "      <td>3546897637165774</td>\n",
       "      <td>fraud_Kilback Group</td>\n",
       "      <td>food_dining</td>\n",
       "      <td>66.54</td>\n",
       "      <td>F</td>\n",
       "      <td>263</td>\n",
       "      <td>Barrister</td>\n",
       "      <td>64</td>\n",
       "      <td>44.193728</td>\n",
       "      <td>...</td>\n",
       "      <td>0</td>\n",
       "      <td>0</td>\n",
       "      <td>0</td>\n",
       "      <td>0</td>\n",
       "      <td>0</td>\n",
       "      <td>0</td>\n",
       "      <td>0</td>\n",
       "      <td>0</td>\n",
       "      <td>0</td>\n",
       "      <td>0</td>\n",
       "    </tr>\n",
       "  </tbody>\n",
       "</table>\n",
       "<p>10 rows × 33 columns</p>\n",
       "</div>"
      ],
      "text/plain": [
       "          txn_datetime            cc_num  \\\n",
       "0  2020-06-21 12:14:25  2291163933867244   \n",
       "1  2020-06-21 12:14:33  3573030041201292   \n",
       "2  2020-06-21 12:14:53  3598215285024754   \n",
       "3  2020-06-21 12:15:15  3591919803438423   \n",
       "4  2020-06-21 12:15:17  3526826139003047   \n",
       "5  2020-06-21 12:15:37    30407675418785   \n",
       "6  2020-06-21 12:15:44   213180742685905   \n",
       "7  2020-06-21 12:15:50  3589289942931264   \n",
       "8  2020-06-21 12:16:10  3596357274378601   \n",
       "9  2020-06-21 12:16:11  3546897637165774   \n",
       "\n",
       "                               merchant        category     amt gender  \\\n",
       "0                 fraud_Kirlin and Sons   personal_care    2.86      M   \n",
       "1                  fraud_Sporer-Keebler   personal_care   29.84      F   \n",
       "2  fraud_Swaniawski, Nitzsche and Welch  health_fitness   41.28      F   \n",
       "3                     fraud_Haley Group        misc_pos   60.05      M   \n",
       "4                 fraud_Johnston-Casper          travel    3.19      M   \n",
       "5                   fraud_Daugherty LLC       kids_pets   19.55      F   \n",
       "6                   fraud_Romaguera Ltd  health_fitness  133.93      F   \n",
       "7                     fraud_Reichel LLC   personal_care   10.37      F   \n",
       "8     fraud_Goyette, Howell and Collier    shopping_pos    4.37      M   \n",
       "9                   fraud_Kilback Group     food_dining   66.54      F   \n",
       "\n",
       "   city_pop                                    job  age    distance  ...  \\\n",
       "0    333497                    Mechanical engineer   52   24.613746  ...   \n",
       "1       302                 Sales professional, IT   30  104.834043  ...   \n",
       "2     34496                      Librarian, public   50   59.204796  ...   \n",
       "3     54767                           Set designer   33   27.615117  ...   \n",
       "4      1126                     Furniture designer   65  104.423175  ...   \n",
       "5       520                        Psychotherapist   29   86.045959  ...   \n",
       "6      1139                Therapist, occupational   69  134.408462  ...   \n",
       "7       343  Development worker, international aid   48   82.907939  ...   \n",
       "8      3688                          Advice worker   47   61.401541  ...   \n",
       "9       263                              Barrister   64   44.193728  ...   \n",
       "\n",
       "  category_health_fitness  category_home category_kids_pets  \\\n",
       "0                       0              0                  0   \n",
       "1                       0              0                  0   \n",
       "2                       1              0                  0   \n",
       "3                       0              0                  0   \n",
       "4                       0              0                  0   \n",
       "5                       0              0                  1   \n",
       "6                       1              0                  0   \n",
       "7                       0              0                  0   \n",
       "8                       0              0                  0   \n",
       "9                       0              0                  0   \n",
       "\n",
       "   category_misc_net  category_misc_pos  category_personal_care  \\\n",
       "0                  0                  0                       1   \n",
       "1                  0                  0                       1   \n",
       "2                  0                  0                       0   \n",
       "3                  0                  1                       0   \n",
       "4                  0                  0                       0   \n",
       "5                  0                  0                       0   \n",
       "6                  0                  0                       0   \n",
       "7                  0                  0                       1   \n",
       "8                  0                  0                       0   \n",
       "9                  0                  0                       0   \n",
       "\n",
       "   category_shopping_net  category_shopping_pos  category_travel  gender_M  \n",
       "0                      0                      0                0         1  \n",
       "1                      0                      0                0         0  \n",
       "2                      0                      0                0         0  \n",
       "3                      0                      0                0         1  \n",
       "4                      0                      0                1         1  \n",
       "5                      0                      0                0         0  \n",
       "6                      0                      0                0         0  \n",
       "7                      0                      0                0         0  \n",
       "8                      0                      1                0         1  \n",
       "9                      0                      0                0         0  \n",
       "\n",
       "[10 rows x 33 columns]"
      ]
     },
     "execution_count": 1,
     "metadata": {},
     "output_type": "execute_result"
    }
   ],
   "source": [
    "import pandas as pd\n",
    "df=pd.read_csv(\n",
    "    'df_cat.csv')\n",
    "df.head(10)"
   ]
  },
  {
   "cell_type": "code",
   "execution_count": 2,
   "metadata": {},
   "outputs": [
    {
     "data": {
      "text/html": [
       "<div>\n",
       "<style scoped>\n",
       "    .dataframe tbody tr th:only-of-type {\n",
       "        vertical-align: middle;\n",
       "    }\n",
       "\n",
       "    .dataframe tbody tr th {\n",
       "        vertical-align: top;\n",
       "    }\n",
       "\n",
       "    .dataframe thead th {\n",
       "        text-align: right;\n",
       "    }\n",
       "</style>\n",
       "<table border=\"1\" class=\"dataframe\">\n",
       "  <thead>\n",
       "    <tr style=\"text-align: right;\">\n",
       "      <th></th>\n",
       "      <th>amt</th>\n",
       "      <th>city_pop</th>\n",
       "      <th>age</th>\n",
       "      <th>distance</th>\n",
       "      <th>hour</th>\n",
       "      <th>day</th>\n",
       "      <th>month</th>\n",
       "      <th>year</th>\n",
       "      <th>is_fraud</th>\n",
       "      <th>category_food_dining</th>\n",
       "      <th>...</th>\n",
       "      <th>category_health_fitness</th>\n",
       "      <th>category_home</th>\n",
       "      <th>category_kids_pets</th>\n",
       "      <th>category_misc_net</th>\n",
       "      <th>category_misc_pos</th>\n",
       "      <th>category_personal_care</th>\n",
       "      <th>category_shopping_net</th>\n",
       "      <th>category_shopping_pos</th>\n",
       "      <th>category_travel</th>\n",
       "      <th>gender_M</th>\n",
       "    </tr>\n",
       "  </thead>\n",
       "  <tbody>\n",
       "    <tr>\n",
       "      <th>0</th>\n",
       "      <td>2.86</td>\n",
       "      <td>333497</td>\n",
       "      <td>52</td>\n",
       "      <td>24.613746</td>\n",
       "      <td>12</td>\n",
       "      <td>21</td>\n",
       "      <td>6</td>\n",
       "      <td>2020</td>\n",
       "      <td>0</td>\n",
       "      <td>0</td>\n",
       "      <td>...</td>\n",
       "      <td>0</td>\n",
       "      <td>0</td>\n",
       "      <td>0</td>\n",
       "      <td>0</td>\n",
       "      <td>0</td>\n",
       "      <td>1</td>\n",
       "      <td>0</td>\n",
       "      <td>0</td>\n",
       "      <td>0</td>\n",
       "      <td>1</td>\n",
       "    </tr>\n",
       "    <tr>\n",
       "      <th>1</th>\n",
       "      <td>29.84</td>\n",
       "      <td>302</td>\n",
       "      <td>30</td>\n",
       "      <td>104.834043</td>\n",
       "      <td>12</td>\n",
       "      <td>21</td>\n",
       "      <td>6</td>\n",
       "      <td>2020</td>\n",
       "      <td>0</td>\n",
       "      <td>0</td>\n",
       "      <td>...</td>\n",
       "      <td>0</td>\n",
       "      <td>0</td>\n",
       "      <td>0</td>\n",
       "      <td>0</td>\n",
       "      <td>0</td>\n",
       "      <td>1</td>\n",
       "      <td>0</td>\n",
       "      <td>0</td>\n",
       "      <td>0</td>\n",
       "      <td>0</td>\n",
       "    </tr>\n",
       "    <tr>\n",
       "      <th>2</th>\n",
       "      <td>41.28</td>\n",
       "      <td>34496</td>\n",
       "      <td>50</td>\n",
       "      <td>59.204796</td>\n",
       "      <td>12</td>\n",
       "      <td>21</td>\n",
       "      <td>6</td>\n",
       "      <td>2020</td>\n",
       "      <td>0</td>\n",
       "      <td>0</td>\n",
       "      <td>...</td>\n",
       "      <td>1</td>\n",
       "      <td>0</td>\n",
       "      <td>0</td>\n",
       "      <td>0</td>\n",
       "      <td>0</td>\n",
       "      <td>0</td>\n",
       "      <td>0</td>\n",
       "      <td>0</td>\n",
       "      <td>0</td>\n",
       "      <td>0</td>\n",
       "    </tr>\n",
       "    <tr>\n",
       "      <th>3</th>\n",
       "      <td>60.05</td>\n",
       "      <td>54767</td>\n",
       "      <td>33</td>\n",
       "      <td>27.615117</td>\n",
       "      <td>12</td>\n",
       "      <td>21</td>\n",
       "      <td>6</td>\n",
       "      <td>2020</td>\n",
       "      <td>0</td>\n",
       "      <td>0</td>\n",
       "      <td>...</td>\n",
       "      <td>0</td>\n",
       "      <td>0</td>\n",
       "      <td>0</td>\n",
       "      <td>0</td>\n",
       "      <td>1</td>\n",
       "      <td>0</td>\n",
       "      <td>0</td>\n",
       "      <td>0</td>\n",
       "      <td>0</td>\n",
       "      <td>1</td>\n",
       "    </tr>\n",
       "    <tr>\n",
       "      <th>4</th>\n",
       "      <td>3.19</td>\n",
       "      <td>1126</td>\n",
       "      <td>65</td>\n",
       "      <td>104.423175</td>\n",
       "      <td>12</td>\n",
       "      <td>21</td>\n",
       "      <td>6</td>\n",
       "      <td>2020</td>\n",
       "      <td>0</td>\n",
       "      <td>0</td>\n",
       "      <td>...</td>\n",
       "      <td>0</td>\n",
       "      <td>0</td>\n",
       "      <td>0</td>\n",
       "      <td>0</td>\n",
       "      <td>0</td>\n",
       "      <td>0</td>\n",
       "      <td>0</td>\n",
       "      <td>0</td>\n",
       "      <td>1</td>\n",
       "      <td>1</td>\n",
       "    </tr>\n",
       "  </tbody>\n",
       "</table>\n",
       "<p>5 rows × 23 columns</p>\n",
       "</div>"
      ],
      "text/plain": [
       "     amt  city_pop  age    distance  hour  day  month  year  is_fraud  \\\n",
       "0   2.86    333497   52   24.613746    12   21      6  2020         0   \n",
       "1  29.84       302   30  104.834043    12   21      6  2020         0   \n",
       "2  41.28     34496   50   59.204796    12   21      6  2020         0   \n",
       "3  60.05     54767   33   27.615117    12   21      6  2020         0   \n",
       "4   3.19      1126   65  104.423175    12   21      6  2020         0   \n",
       "\n",
       "   category_food_dining  ...  category_health_fitness  category_home  \\\n",
       "0                     0  ...                        0              0   \n",
       "1                     0  ...                        0              0   \n",
       "2                     0  ...                        1              0   \n",
       "3                     0  ...                        0              0   \n",
       "4                     0  ...                        0              0   \n",
       "\n",
       "   category_kids_pets  category_misc_net  category_misc_pos  \\\n",
       "0                   0                  0                  0   \n",
       "1                   0                  0                  0   \n",
       "2                   0                  0                  0   \n",
       "3                   0                  0                  1   \n",
       "4                   0                  0                  0   \n",
       "\n",
       "   category_personal_care  category_shopping_net  category_shopping_pos  \\\n",
       "0                       1                      0                      0   \n",
       "1                       1                      0                      0   \n",
       "2                       0                      0                      0   \n",
       "3                       0                      0                      0   \n",
       "4                       0                      0                      0   \n",
       "\n",
       "   category_travel  gender_M  \n",
       "0                0         1  \n",
       "1                0         0  \n",
       "2                0         0  \n",
       "3                0         1  \n",
       "4                1         1  \n",
       "\n",
       "[5 rows x 23 columns]"
      ]
     },
     "execution_count": 2,
     "metadata": {},
     "output_type": "execute_result"
    }
   ],
   "source": [
    "df.drop([\n",
    "    'cc_num',\n",
    "    'merchant',\n",
    "    'category',\n",
    "    # 'amt',\n",
    "    'last',\n",
    "    # 'city_pop',\n",
    "    'job',\n",
    "    'date_of_birth',\n",
    "    'year_of_birth',\n",
    "    'gender',\n",
    "    'txn_datetime',\n",
    "    'txn_date',\n",
    "    # 'distance',\n",
    "    'Target',\n",
    "    # 'age'\n",
    "], axis=1, errors='ignore', inplace=True)\n",
    "df.head()"
   ]
  },
  {
   "cell_type": "code",
   "execution_count": null,
   "metadata": {},
   "outputs": [],
   "source": [
    "df.nunique()"
   ]
  },
  {
   "cell_type": "code",
   "execution_count": null,
   "metadata": {},
   "outputs": [],
   "source": [
    "df.sum"
   ]
  },
  {
   "cell_type": "code",
   "execution_count": 3,
   "metadata": {},
   "outputs": [
    {
     "data": {
      "text/html": [
       "<div>\n",
       "<style scoped>\n",
       "    .dataframe tbody tr th:only-of-type {\n",
       "        vertical-align: middle;\n",
       "    }\n",
       "\n",
       "    .dataframe tbody tr th {\n",
       "        vertical-align: top;\n",
       "    }\n",
       "\n",
       "    .dataframe thead th {\n",
       "        text-align: right;\n",
       "    }\n",
       "</style>\n",
       "<table border=\"1\" class=\"dataframe\">\n",
       "  <thead>\n",
       "    <tr style=\"text-align: right;\">\n",
       "      <th></th>\n",
       "      <th>amt</th>\n",
       "      <th>city_pop</th>\n",
       "      <th>age</th>\n",
       "      <th>distance</th>\n",
       "      <th>hour</th>\n",
       "      <th>day</th>\n",
       "      <th>month</th>\n",
       "      <th>year</th>\n",
       "      <th>category_food_dining</th>\n",
       "      <th>category_gas_transport</th>\n",
       "      <th>...</th>\n",
       "      <th>category_health_fitness</th>\n",
       "      <th>category_home</th>\n",
       "      <th>category_kids_pets</th>\n",
       "      <th>category_misc_net</th>\n",
       "      <th>category_misc_pos</th>\n",
       "      <th>category_personal_care</th>\n",
       "      <th>category_shopping_net</th>\n",
       "      <th>category_shopping_pos</th>\n",
       "      <th>category_travel</th>\n",
       "      <th>gender_M</th>\n",
       "    </tr>\n",
       "  </thead>\n",
       "  <tbody>\n",
       "    <tr>\n",
       "      <th>0</th>\n",
       "      <td>2.86</td>\n",
       "      <td>333497</td>\n",
       "      <td>52</td>\n",
       "      <td>24.613746</td>\n",
       "      <td>12</td>\n",
       "      <td>21</td>\n",
       "      <td>6</td>\n",
       "      <td>2020</td>\n",
       "      <td>0</td>\n",
       "      <td>0</td>\n",
       "      <td>...</td>\n",
       "      <td>0</td>\n",
       "      <td>0</td>\n",
       "      <td>0</td>\n",
       "      <td>0</td>\n",
       "      <td>0</td>\n",
       "      <td>1</td>\n",
       "      <td>0</td>\n",
       "      <td>0</td>\n",
       "      <td>0</td>\n",
       "      <td>1</td>\n",
       "    </tr>\n",
       "    <tr>\n",
       "      <th>1</th>\n",
       "      <td>29.84</td>\n",
       "      <td>302</td>\n",
       "      <td>30</td>\n",
       "      <td>104.834043</td>\n",
       "      <td>12</td>\n",
       "      <td>21</td>\n",
       "      <td>6</td>\n",
       "      <td>2020</td>\n",
       "      <td>0</td>\n",
       "      <td>0</td>\n",
       "      <td>...</td>\n",
       "      <td>0</td>\n",
       "      <td>0</td>\n",
       "      <td>0</td>\n",
       "      <td>0</td>\n",
       "      <td>0</td>\n",
       "      <td>1</td>\n",
       "      <td>0</td>\n",
       "      <td>0</td>\n",
       "      <td>0</td>\n",
       "      <td>0</td>\n",
       "    </tr>\n",
       "    <tr>\n",
       "      <th>2</th>\n",
       "      <td>41.28</td>\n",
       "      <td>34496</td>\n",
       "      <td>50</td>\n",
       "      <td>59.204796</td>\n",
       "      <td>12</td>\n",
       "      <td>21</td>\n",
       "      <td>6</td>\n",
       "      <td>2020</td>\n",
       "      <td>0</td>\n",
       "      <td>0</td>\n",
       "      <td>...</td>\n",
       "      <td>1</td>\n",
       "      <td>0</td>\n",
       "      <td>0</td>\n",
       "      <td>0</td>\n",
       "      <td>0</td>\n",
       "      <td>0</td>\n",
       "      <td>0</td>\n",
       "      <td>0</td>\n",
       "      <td>0</td>\n",
       "      <td>0</td>\n",
       "    </tr>\n",
       "    <tr>\n",
       "      <th>3</th>\n",
       "      <td>60.05</td>\n",
       "      <td>54767</td>\n",
       "      <td>33</td>\n",
       "      <td>27.615117</td>\n",
       "      <td>12</td>\n",
       "      <td>21</td>\n",
       "      <td>6</td>\n",
       "      <td>2020</td>\n",
       "      <td>0</td>\n",
       "      <td>0</td>\n",
       "      <td>...</td>\n",
       "      <td>0</td>\n",
       "      <td>0</td>\n",
       "      <td>0</td>\n",
       "      <td>0</td>\n",
       "      <td>1</td>\n",
       "      <td>0</td>\n",
       "      <td>0</td>\n",
       "      <td>0</td>\n",
       "      <td>0</td>\n",
       "      <td>1</td>\n",
       "    </tr>\n",
       "    <tr>\n",
       "      <th>4</th>\n",
       "      <td>3.19</td>\n",
       "      <td>1126</td>\n",
       "      <td>65</td>\n",
       "      <td>104.423175</td>\n",
       "      <td>12</td>\n",
       "      <td>21</td>\n",
       "      <td>6</td>\n",
       "      <td>2020</td>\n",
       "      <td>0</td>\n",
       "      <td>0</td>\n",
       "      <td>...</td>\n",
       "      <td>0</td>\n",
       "      <td>0</td>\n",
       "      <td>0</td>\n",
       "      <td>0</td>\n",
       "      <td>0</td>\n",
       "      <td>0</td>\n",
       "      <td>0</td>\n",
       "      <td>0</td>\n",
       "      <td>1</td>\n",
       "      <td>1</td>\n",
       "    </tr>\n",
       "  </tbody>\n",
       "</table>\n",
       "<p>5 rows × 22 columns</p>\n",
       "</div>"
      ],
      "text/plain": [
       "     amt  city_pop  age    distance  hour  day  month  year  \\\n",
       "0   2.86    333497   52   24.613746    12   21      6  2020   \n",
       "1  29.84       302   30  104.834043    12   21      6  2020   \n",
       "2  41.28     34496   50   59.204796    12   21      6  2020   \n",
       "3  60.05     54767   33   27.615117    12   21      6  2020   \n",
       "4   3.19      1126   65  104.423175    12   21      6  2020   \n",
       "\n",
       "   category_food_dining  category_gas_transport  ...  category_health_fitness  \\\n",
       "0                     0                       0  ...                        0   \n",
       "1                     0                       0  ...                        0   \n",
       "2                     0                       0  ...                        1   \n",
       "3                     0                       0  ...                        0   \n",
       "4                     0                       0  ...                        0   \n",
       "\n",
       "   category_home  category_kids_pets  category_misc_net  category_misc_pos  \\\n",
       "0              0                   0                  0                  0   \n",
       "1              0                   0                  0                  0   \n",
       "2              0                   0                  0                  0   \n",
       "3              0                   0                  0                  1   \n",
       "4              0                   0                  0                  0   \n",
       "\n",
       "   category_personal_care  category_shopping_net  category_shopping_pos  \\\n",
       "0                       1                      0                      0   \n",
       "1                       1                      0                      0   \n",
       "2                       0                      0                      0   \n",
       "3                       0                      0                      0   \n",
       "4                       0                      0                      0   \n",
       "\n",
       "   category_travel  gender_M  \n",
       "0                0         1  \n",
       "1                0         0  \n",
       "2                0         0  \n",
       "3                0         1  \n",
       "4                1         1  \n",
       "\n",
       "[5 rows x 22 columns]"
      ]
     },
     "execution_count": 3,
     "metadata": {},
     "output_type": "execute_result"
    }
   ],
   "source": [
    "#Breaking it into two parts, separate the target variable from the other columns\n",
    "X = df.drop('is_fraud',axis=1).copy()\n",
    "X.head()"
   ]
  },
  {
   "cell_type": "code",
   "execution_count": 4,
   "metadata": {},
   "outputs": [
    {
     "data": {
      "text/plain": [
       "0    0\n",
       "1    0\n",
       "2    0\n",
       "3    0\n",
       "4    0\n",
       "Name: is_fraud, dtype: int64"
      ]
     },
     "execution_count": 4,
     "metadata": {},
     "output_type": "execute_result"
    }
   ],
   "source": [
    "y = df['is_fraud'].copy()\n",
    "y.head()"
   ]
  },
  {
   "cell_type": "code",
   "execution_count": 26,
   "metadata": {},
   "outputs": [],
   "source": [
    "from sklearn.model_selection import train_test_split\n",
    "\n",
    "X_train, X_test, y_train, y_test = train_test_split(X, y, test_size=.3 , stratify=y)"
   ]
  },
  {
   "cell_type": "code",
   "execution_count": 27,
   "metadata": {},
   "outputs": [
    {
     "name": "stdout",
     "output_type": "stream",
     "text": [
      "Before Undersampling, counts of label '1': 6756\n",
      "Before Undersampling, counts of label '0': 1289919 \n",
      "\n",
      "After Undersampling, the shape of train_X: (74316, 22)\n",
      "After Undersampling, the shape of train_y: (74316,) \n",
      "\n",
      "After Undersampling, counts of label '1': 6756\n",
      "After Undersampling, counts of label '0': 67560\n"
     ]
    }
   ],
   "source": [
    "print(\"Before Undersampling, counts of label '1': {}\".format(sum(y_train == 1))) \n",
    "print(\"Before Undersampling, counts of label '0': {} \\n\".format(sum(y_train == 0))) \n",
    "  \n",
    "# apply near miss \n",
    "from imblearn.under_sampling import NearMiss \n",
    "nr = NearMiss() \n",
    "\n",
    "from imblearn.under_sampling import RandomUnderSampler\n",
    "\n",
    "us = RandomUnderSampler(sampling_strategy = 0.1)\n",
    "  \n",
    "X_train, y_train = us.fit_sample(X_train, y_train.ravel()) \n",
    "  \n",
    "print('After Undersampling, the shape of train_X: {}'.format(X_train.shape)) \n",
    "print('After Undersampling, the shape of train_y: {} \\n'.format(y_train.shape)) \n",
    "  \n",
    "print(\"After Undersampling, counts of label '1': {}\".format(sum(y_train == 1))) \n",
    "print(\"After Undersampling, counts of label '0': {}\".format(sum(y_train == 0))) "
   ]
  },
  {
   "cell_type": "code",
   "execution_count": 18,
   "metadata": {},
   "outputs": [
    {
     "data": {
      "text/plain": [
       "0.00520948612333256"
      ]
     },
     "execution_count": 18,
     "metadata": {},
     "output_type": "execute_result"
    }
   ],
   "source": [
    "sum(y_train)/len(y_train)"
   ]
  },
  {
   "cell_type": "code",
   "execution_count": 19,
   "metadata": {},
   "outputs": [
    {
     "data": {
      "text/plain": [
       "0.0052100734484795954"
      ]
     },
     "execution_count": 19,
     "metadata": {},
     "output_type": "execute_result"
    }
   ],
   "source": [
    "sum(y_test)/len(y_test)"
   ]
  },
  {
   "cell_type": "code",
   "execution_count": 114,
   "metadata": {
    "scrolled": true
   },
   "outputs": [
    {
     "name": "stdout",
     "output_type": "stream",
     "text": [
      "Before Undersampling, counts of label '1': 965\n",
      "Before Undersampling, counts of label '0': 184274 \n",
      "\n",
      "After Undersampling, the shape of train_X: (10615, 22)\n",
      "After Undersampling, the shape of train_y: (10615,) \n",
      "\n",
      "After Undersampling, counts of label '1': 965\n",
      "After Undersampling, counts of label '0': 9650\n"
     ]
    }
   ],
   "source": [
    "# print(\"Before Undersampling, counts of label '1': {}\".format(sum(y_train == 1))) \n",
    "# print(\"Before Undersampling, counts of label '0': {} \\n\".format(sum(y_train == 0))) \n",
    "  \n",
    "# # apply near miss \n",
    "# from imblearn.under_sampling import NearMiss \n",
    "# nr = NearMiss() \n",
    "\n",
    "# from imblearn.under_sampling import RandomUnderSampler\n",
    "\n",
    "# us = RandomUnderSampler(sampling_strategy = 0.1)\n",
    "  \n",
    "# X_train, y_train = us.fit_sample(X_train, y_train.ravel()) \n",
    "# X_test, y_test = us.fit_sample(X_test, y_test.ravel()) \n",
    "  \n",
    "# print('After Undersampling, the shape of train_X: {}'.format(X_train.shape)) \n",
    "# print('After Undersampling, the shape of train_y: {} \\n'.format(y_train.shape)) \n",
    "  \n",
    "# print(\"After Undersampling, counts of label '1': {}\".format(sum(y_train == 1))) \n",
    "# print(\"After Undersampling, counts of label '0': {}\".format(sum(y_train == 0))) "
   ]
  },
  {
   "cell_type": "code",
   "execution_count": null,
   "metadata": {},
   "outputs": [],
   "source": [
    "df.nunique()"
   ]
  },
  {
   "cell_type": "code",
   "execution_count": 128,
   "metadata": {},
   "outputs": [
    {
     "data": {
      "text/html": [
       "<div>\n",
       "<style scoped>\n",
       "    .dataframe tbody tr th:only-of-type {\n",
       "        vertical-align: middle;\n",
       "    }\n",
       "\n",
       "    .dataframe tbody tr th {\n",
       "        vertical-align: top;\n",
       "    }\n",
       "\n",
       "    .dataframe thead th {\n",
       "        text-align: right;\n",
       "    }\n",
       "</style>\n",
       "<table border=\"1\" class=\"dataframe\">\n",
       "  <thead>\n",
       "    <tr style=\"text-align: right;\">\n",
       "      <th></th>\n",
       "      <th>amt</th>\n",
       "      <th>city_pop</th>\n",
       "      <th>age</th>\n",
       "      <th>distance</th>\n",
       "      <th>hour</th>\n",
       "      <th>day</th>\n",
       "      <th>month</th>\n",
       "      <th>year</th>\n",
       "      <th>category_food_dining</th>\n",
       "      <th>category_gas_transport</th>\n",
       "      <th>...</th>\n",
       "      <th>category_health_fitness</th>\n",
       "      <th>category_home</th>\n",
       "      <th>category_kids_pets</th>\n",
       "      <th>category_misc_net</th>\n",
       "      <th>category_misc_pos</th>\n",
       "      <th>category_personal_care</th>\n",
       "      <th>category_shopping_net</th>\n",
       "      <th>category_shopping_pos</th>\n",
       "      <th>category_travel</th>\n",
       "      <th>gender_M</th>\n",
       "    </tr>\n",
       "  </thead>\n",
       "  <tbody>\n",
       "    <tr>\n",
       "      <th>22633</th>\n",
       "      <td>141.63</td>\n",
       "      <td>1383</td>\n",
       "      <td>54</td>\n",
       "      <td>50.246112</td>\n",
       "      <td>2</td>\n",
       "      <td>26</td>\n",
       "      <td>4</td>\n",
       "      <td>2019</td>\n",
       "      <td>0</td>\n",
       "      <td>0</td>\n",
       "      <td>...</td>\n",
       "      <td>0</td>\n",
       "      <td>0</td>\n",
       "      <td>0</td>\n",
       "      <td>0</td>\n",
       "      <td>0</td>\n",
       "      <td>0</td>\n",
       "      <td>0</td>\n",
       "      <td>0</td>\n",
       "      <td>0</td>\n",
       "      <td>1</td>\n",
       "    </tr>\n",
       "    <tr>\n",
       "      <th>62587</th>\n",
       "      <td>2.51</td>\n",
       "      <td>1089</td>\n",
       "      <td>49</td>\n",
       "      <td>89.932368</td>\n",
       "      <td>15</td>\n",
       "      <td>22</td>\n",
       "      <td>9</td>\n",
       "      <td>2020</td>\n",
       "      <td>0</td>\n",
       "      <td>0</td>\n",
       "      <td>...</td>\n",
       "      <td>0</td>\n",
       "      <td>0</td>\n",
       "      <td>1</td>\n",
       "      <td>0</td>\n",
       "      <td>0</td>\n",
       "      <td>0</td>\n",
       "      <td>0</td>\n",
       "      <td>0</td>\n",
       "      <td>0</td>\n",
       "      <td>0</td>\n",
       "    </tr>\n",
       "    <tr>\n",
       "      <th>73803</th>\n",
       "      <td>110.23</td>\n",
       "      <td>128</td>\n",
       "      <td>74</td>\n",
       "      <td>91.108794</td>\n",
       "      <td>9</td>\n",
       "      <td>31</td>\n",
       "      <td>10</td>\n",
       "      <td>2020</td>\n",
       "      <td>0</td>\n",
       "      <td>1</td>\n",
       "      <td>...</td>\n",
       "      <td>0</td>\n",
       "      <td>0</td>\n",
       "      <td>0</td>\n",
       "      <td>0</td>\n",
       "      <td>0</td>\n",
       "      <td>0</td>\n",
       "      <td>0</td>\n",
       "      <td>0</td>\n",
       "      <td>0</td>\n",
       "      <td>1</td>\n",
       "    </tr>\n",
       "    <tr>\n",
       "      <th>72530</th>\n",
       "      <td>8.19</td>\n",
       "      <td>223</td>\n",
       "      <td>81</td>\n",
       "      <td>46.373169</td>\n",
       "      <td>8</td>\n",
       "      <td>12</td>\n",
       "      <td>9</td>\n",
       "      <td>2019</td>\n",
       "      <td>0</td>\n",
       "      <td>0</td>\n",
       "      <td>...</td>\n",
       "      <td>0</td>\n",
       "      <td>0</td>\n",
       "      <td>0</td>\n",
       "      <td>1</td>\n",
       "      <td>0</td>\n",
       "      <td>0</td>\n",
       "      <td>0</td>\n",
       "      <td>0</td>\n",
       "      <td>0</td>\n",
       "      <td>1</td>\n",
       "    </tr>\n",
       "    <tr>\n",
       "      <th>75703</th>\n",
       "      <td>8.95</td>\n",
       "      <td>54767</td>\n",
       "      <td>33</td>\n",
       "      <td>28.472157</td>\n",
       "      <td>21</td>\n",
       "      <td>27</td>\n",
       "      <td>7</td>\n",
       "      <td>2020</td>\n",
       "      <td>0</td>\n",
       "      <td>0</td>\n",
       "      <td>...</td>\n",
       "      <td>0</td>\n",
       "      <td>0</td>\n",
       "      <td>0</td>\n",
       "      <td>0</td>\n",
       "      <td>0</td>\n",
       "      <td>0</td>\n",
       "      <td>0</td>\n",
       "      <td>1</td>\n",
       "      <td>0</td>\n",
       "      <td>1</td>\n",
       "    </tr>\n",
       "    <tr>\n",
       "      <th>...</th>\n",
       "      <td>...</td>\n",
       "      <td>...</td>\n",
       "      <td>...</td>\n",
       "      <td>...</td>\n",
       "      <td>...</td>\n",
       "      <td>...</td>\n",
       "      <td>...</td>\n",
       "      <td>...</td>\n",
       "      <td>...</td>\n",
       "      <td>...</td>\n",
       "      <td>...</td>\n",
       "      <td>...</td>\n",
       "      <td>...</td>\n",
       "      <td>...</td>\n",
       "      <td>...</td>\n",
       "      <td>...</td>\n",
       "      <td>...</td>\n",
       "      <td>...</td>\n",
       "      <td>...</td>\n",
       "      <td>...</td>\n",
       "      <td>...</td>\n",
       "    </tr>\n",
       "    <tr>\n",
       "      <th>100462</th>\n",
       "      <td>1102.19</td>\n",
       "      <td>459921</td>\n",
       "      <td>60</td>\n",
       "      <td>64.406470</td>\n",
       "      <td>23</td>\n",
       "      <td>26</td>\n",
       "      <td>4</td>\n",
       "      <td>2019</td>\n",
       "      <td>0</td>\n",
       "      <td>0</td>\n",
       "      <td>...</td>\n",
       "      <td>0</td>\n",
       "      <td>0</td>\n",
       "      <td>0</td>\n",
       "      <td>0</td>\n",
       "      <td>0</td>\n",
       "      <td>0</td>\n",
       "      <td>0</td>\n",
       "      <td>1</td>\n",
       "      <td>0</td>\n",
       "      <td>0</td>\n",
       "    </tr>\n",
       "    <tr>\n",
       "      <th>88164</th>\n",
       "      <td>39.53</td>\n",
       "      <td>2368</td>\n",
       "      <td>31</td>\n",
       "      <td>78.592408</td>\n",
       "      <td>20</td>\n",
       "      <td>28</td>\n",
       "      <td>12</td>\n",
       "      <td>2019</td>\n",
       "      <td>0</td>\n",
       "      <td>0</td>\n",
       "      <td>...</td>\n",
       "      <td>0</td>\n",
       "      <td>0</td>\n",
       "      <td>1</td>\n",
       "      <td>0</td>\n",
       "      <td>0</td>\n",
       "      <td>0</td>\n",
       "      <td>0</td>\n",
       "      <td>0</td>\n",
       "      <td>0</td>\n",
       "      <td>0</td>\n",
       "    </tr>\n",
       "    <tr>\n",
       "      <th>17784</th>\n",
       "      <td>50.08</td>\n",
       "      <td>2607</td>\n",
       "      <td>25</td>\n",
       "      <td>11.527957</td>\n",
       "      <td>20</td>\n",
       "      <td>23</td>\n",
       "      <td>11</td>\n",
       "      <td>2020</td>\n",
       "      <td>0</td>\n",
       "      <td>0</td>\n",
       "      <td>...</td>\n",
       "      <td>0</td>\n",
       "      <td>0</td>\n",
       "      <td>1</td>\n",
       "      <td>0</td>\n",
       "      <td>0</td>\n",
       "      <td>0</td>\n",
       "      <td>0</td>\n",
       "      <td>0</td>\n",
       "      <td>0</td>\n",
       "      <td>0</td>\n",
       "    </tr>\n",
       "    <tr>\n",
       "      <th>99190</th>\n",
       "      <td>1000.90</td>\n",
       "      <td>1946</td>\n",
       "      <td>30</td>\n",
       "      <td>60.768023</td>\n",
       "      <td>14</td>\n",
       "      <td>2</td>\n",
       "      <td>2</td>\n",
       "      <td>2019</td>\n",
       "      <td>0</td>\n",
       "      <td>0</td>\n",
       "      <td>...</td>\n",
       "      <td>0</td>\n",
       "      <td>0</td>\n",
       "      <td>0</td>\n",
       "      <td>0</td>\n",
       "      <td>0</td>\n",
       "      <td>0</td>\n",
       "      <td>1</td>\n",
       "      <td>0</td>\n",
       "      <td>0</td>\n",
       "      <td>1</td>\n",
       "    </tr>\n",
       "    <tr>\n",
       "      <th>45588</th>\n",
       "      <td>73.54</td>\n",
       "      <td>12335</td>\n",
       "      <td>33</td>\n",
       "      <td>82.936375</td>\n",
       "      <td>13</td>\n",
       "      <td>1</td>\n",
       "      <td>2</td>\n",
       "      <td>2019</td>\n",
       "      <td>0</td>\n",
       "      <td>0</td>\n",
       "      <td>...</td>\n",
       "      <td>1</td>\n",
       "      <td>0</td>\n",
       "      <td>0</td>\n",
       "      <td>0</td>\n",
       "      <td>0</td>\n",
       "      <td>0</td>\n",
       "      <td>0</td>\n",
       "      <td>0</td>\n",
       "      <td>0</td>\n",
       "      <td>0</td>\n",
       "    </tr>\n",
       "  </tbody>\n",
       "</table>\n",
       "<p>100 rows × 22 columns</p>\n",
       "</div>"
      ],
      "text/plain": [
       "            amt  city_pop  age   distance  hour  day  month  year  \\\n",
       "22633    141.63      1383   54  50.246112     2   26      4  2019   \n",
       "62587      2.51      1089   49  89.932368    15   22      9  2020   \n",
       "73803    110.23       128   74  91.108794     9   31     10  2020   \n",
       "72530      8.19       223   81  46.373169     8   12      9  2019   \n",
       "75703      8.95     54767   33  28.472157    21   27      7  2020   \n",
       "...         ...       ...  ...        ...   ...  ...    ...   ...   \n",
       "100462  1102.19    459921   60  64.406470    23   26      4  2019   \n",
       "88164     39.53      2368   31  78.592408    20   28     12  2019   \n",
       "17784     50.08      2607   25  11.527957    20   23     11  2020   \n",
       "99190   1000.90      1946   30  60.768023    14    2      2  2019   \n",
       "45588     73.54     12335   33  82.936375    13    1      2  2019   \n",
       "\n",
       "        category_food_dining  category_gas_transport  ...  \\\n",
       "22633                      0                       0  ...   \n",
       "62587                      0                       0  ...   \n",
       "73803                      0                       1  ...   \n",
       "72530                      0                       0  ...   \n",
       "75703                      0                       0  ...   \n",
       "...                      ...                     ...  ...   \n",
       "100462                     0                       0  ...   \n",
       "88164                      0                       0  ...   \n",
       "17784                      0                       0  ...   \n",
       "99190                      0                       0  ...   \n",
       "45588                      0                       0  ...   \n",
       "\n",
       "        category_health_fitness  category_home  category_kids_pets  \\\n",
       "22633                         0              0                   0   \n",
       "62587                         0              0                   1   \n",
       "73803                         0              0                   0   \n",
       "72530                         0              0                   0   \n",
       "75703                         0              0                   0   \n",
       "...                         ...            ...                 ...   \n",
       "100462                        0              0                   0   \n",
       "88164                         0              0                   1   \n",
       "17784                         0              0                   1   \n",
       "99190                         0              0                   0   \n",
       "45588                         1              0                   0   \n",
       "\n",
       "        category_misc_net  category_misc_pos  category_personal_care  \\\n",
       "22633                   0                  0                       0   \n",
       "62587                   0                  0                       0   \n",
       "73803                   0                  0                       0   \n",
       "72530                   1                  0                       0   \n",
       "75703                   0                  0                       0   \n",
       "...                   ...                ...                     ...   \n",
       "100462                  0                  0                       0   \n",
       "88164                   0                  0                       0   \n",
       "17784                   0                  0                       0   \n",
       "99190                   0                  0                       0   \n",
       "45588                   0                  0                       0   \n",
       "\n",
       "        category_shopping_net  category_shopping_pos  category_travel  \\\n",
       "22633                       0                      0                0   \n",
       "62587                       0                      0                0   \n",
       "73803                       0                      0                0   \n",
       "72530                       0                      0                0   \n",
       "75703                       0                      1                0   \n",
       "...                       ...                    ...              ...   \n",
       "100462                      0                      1                0   \n",
       "88164                       0                      0                0   \n",
       "17784                       0                      0                0   \n",
       "99190                       1                      0                0   \n",
       "45588                       0                      0                0   \n",
       "\n",
       "        gender_M  \n",
       "22633          1  \n",
       "62587          0  \n",
       "73803          1  \n",
       "72530          1  \n",
       "75703          1  \n",
       "...          ...  \n",
       "100462         0  \n",
       "88164          0  \n",
       "17784          0  \n",
       "99190          1  \n",
       "45588          0  \n",
       "\n",
       "[100 rows x 22 columns]"
      ]
     },
     "execution_count": 128,
     "metadata": {},
     "output_type": "execute_result"
    }
   ],
   "source": [
    "X_train.head(100)"
   ]
  },
  {
   "cell_type": "markdown",
   "metadata": {},
   "source": [
    "# Scaling for Linear Regression"
   ]
  },
  {
   "cell_type": "code",
   "execution_count": 28,
   "metadata": {},
   "outputs": [],
   "source": [
    "# Scale the DataFrame using MinMaxScaler\n",
    "\n",
    "import pandas as pd\n",
    "from sklearn import preprocessing\n",
    "\n",
    "min_max_scaler = preprocessing.MinMaxScaler()\n",
    "x = X_train.values\n",
    "x_scaled = min_max_scaler.fit_transform(x)\n",
    "X_train_scaled = pd.DataFrame(x_scaled)\n",
    "X_train_scaled.columns = X_train.columns\n",
    "\n",
    "x = X_test.values\n",
    "x_scaled = min_max_scaler.fit_transform(x)\n",
    "X_test_scaled = pd.DataFrame(x_scaled)\n",
    "X_test_scaled.columns = X_test.columns"
   ]
  },
  {
   "cell_type": "code",
   "execution_count": 130,
   "metadata": {},
   "outputs": [
    {
     "data": {
      "text/html": [
       "<div>\n",
       "<style scoped>\n",
       "    .dataframe tbody tr th:only-of-type {\n",
       "        vertical-align: middle;\n",
       "    }\n",
       "\n",
       "    .dataframe tbody tr th {\n",
       "        vertical-align: top;\n",
       "    }\n",
       "\n",
       "    .dataframe thead th {\n",
       "        text-align: right;\n",
       "    }\n",
       "</style>\n",
       "<table border=\"1\" class=\"dataframe\">\n",
       "  <thead>\n",
       "    <tr style=\"text-align: right;\">\n",
       "      <th></th>\n",
       "      <th>amt</th>\n",
       "      <th>city_pop</th>\n",
       "      <th>age</th>\n",
       "      <th>distance</th>\n",
       "      <th>hour</th>\n",
       "      <th>day</th>\n",
       "      <th>month</th>\n",
       "      <th>year</th>\n",
       "      <th>category_food_dining</th>\n",
       "      <th>category_gas_transport</th>\n",
       "      <th>...</th>\n",
       "      <th>category_health_fitness</th>\n",
       "      <th>category_home</th>\n",
       "      <th>category_kids_pets</th>\n",
       "      <th>category_misc_net</th>\n",
       "      <th>category_misc_pos</th>\n",
       "      <th>category_personal_care</th>\n",
       "      <th>category_shopping_net</th>\n",
       "      <th>category_shopping_pos</th>\n",
       "      <th>category_travel</th>\n",
       "      <th>gender_M</th>\n",
       "    </tr>\n",
       "  </thead>\n",
       "  <tbody>\n",
       "    <tr>\n",
       "      <th>0</th>\n",
       "      <td>0.031847</td>\n",
       "      <td>0.000468</td>\n",
       "      <td>0.481481</td>\n",
       "      <td>0.341817</td>\n",
       "      <td>0.086957</td>\n",
       "      <td>0.833333</td>\n",
       "      <td>0.272727</td>\n",
       "      <td>0.0</td>\n",
       "      <td>0.0</td>\n",
       "      <td>0.0</td>\n",
       "      <td>...</td>\n",
       "      <td>0.0</td>\n",
       "      <td>0.0</td>\n",
       "      <td>0.0</td>\n",
       "      <td>0.0</td>\n",
       "      <td>0.0</td>\n",
       "      <td>0.0</td>\n",
       "      <td>0.0</td>\n",
       "      <td>0.0</td>\n",
       "      <td>0.0</td>\n",
       "      <td>1.0</td>\n",
       "    </tr>\n",
       "    <tr>\n",
       "      <th>1</th>\n",
       "      <td>0.000340</td>\n",
       "      <td>0.000367</td>\n",
       "      <td>0.419753</td>\n",
       "      <td>0.613576</td>\n",
       "      <td>0.652174</td>\n",
       "      <td>0.700000</td>\n",
       "      <td>0.727273</td>\n",
       "      <td>1.0</td>\n",
       "      <td>0.0</td>\n",
       "      <td>0.0</td>\n",
       "      <td>...</td>\n",
       "      <td>0.0</td>\n",
       "      <td>0.0</td>\n",
       "      <td>1.0</td>\n",
       "      <td>0.0</td>\n",
       "      <td>0.0</td>\n",
       "      <td>0.0</td>\n",
       "      <td>0.0</td>\n",
       "      <td>0.0</td>\n",
       "      <td>0.0</td>\n",
       "      <td>0.0</td>\n",
       "    </tr>\n",
       "    <tr>\n",
       "      <th>2</th>\n",
       "      <td>0.024736</td>\n",
       "      <td>0.000036</td>\n",
       "      <td>0.728395</td>\n",
       "      <td>0.621632</td>\n",
       "      <td>0.391304</td>\n",
       "      <td>1.000000</td>\n",
       "      <td>0.818182</td>\n",
       "      <td>1.0</td>\n",
       "      <td>0.0</td>\n",
       "      <td>1.0</td>\n",
       "      <td>...</td>\n",
       "      <td>0.0</td>\n",
       "      <td>0.0</td>\n",
       "      <td>0.0</td>\n",
       "      <td>0.0</td>\n",
       "      <td>0.0</td>\n",
       "      <td>0.0</td>\n",
       "      <td>0.0</td>\n",
       "      <td>0.0</td>\n",
       "      <td>0.0</td>\n",
       "      <td>1.0</td>\n",
       "    </tr>\n",
       "    <tr>\n",
       "      <th>3</th>\n",
       "      <td>0.001626</td>\n",
       "      <td>0.000069</td>\n",
       "      <td>0.814815</td>\n",
       "      <td>0.315296</td>\n",
       "      <td>0.347826</td>\n",
       "      <td>0.366667</td>\n",
       "      <td>0.727273</td>\n",
       "      <td>0.0</td>\n",
       "      <td>0.0</td>\n",
       "      <td>0.0</td>\n",
       "      <td>...</td>\n",
       "      <td>0.0</td>\n",
       "      <td>0.0</td>\n",
       "      <td>0.0</td>\n",
       "      <td>1.0</td>\n",
       "      <td>0.0</td>\n",
       "      <td>0.0</td>\n",
       "      <td>0.0</td>\n",
       "      <td>0.0</td>\n",
       "      <td>0.0</td>\n",
       "      <td>1.0</td>\n",
       "    </tr>\n",
       "    <tr>\n",
       "      <th>4</th>\n",
       "      <td>0.001798</td>\n",
       "      <td>0.018834</td>\n",
       "      <td>0.222222</td>\n",
       "      <td>0.192715</td>\n",
       "      <td>0.913043</td>\n",
       "      <td>0.866667</td>\n",
       "      <td>0.545455</td>\n",
       "      <td>1.0</td>\n",
       "      <td>0.0</td>\n",
       "      <td>0.0</td>\n",
       "      <td>...</td>\n",
       "      <td>0.0</td>\n",
       "      <td>0.0</td>\n",
       "      <td>0.0</td>\n",
       "      <td>0.0</td>\n",
       "      <td>0.0</td>\n",
       "      <td>0.0</td>\n",
       "      <td>0.0</td>\n",
       "      <td>1.0</td>\n",
       "      <td>0.0</td>\n",
       "      <td>1.0</td>\n",
       "    </tr>\n",
       "  </tbody>\n",
       "</table>\n",
       "<p>5 rows × 22 columns</p>\n",
       "</div>"
      ],
      "text/plain": [
       "        amt  city_pop       age  distance      hour       day     month  year  \\\n",
       "0  0.031847  0.000468  0.481481  0.341817  0.086957  0.833333  0.272727   0.0   \n",
       "1  0.000340  0.000367  0.419753  0.613576  0.652174  0.700000  0.727273   1.0   \n",
       "2  0.024736  0.000036  0.728395  0.621632  0.391304  1.000000  0.818182   1.0   \n",
       "3  0.001626  0.000069  0.814815  0.315296  0.347826  0.366667  0.727273   0.0   \n",
       "4  0.001798  0.018834  0.222222  0.192715  0.913043  0.866667  0.545455   1.0   \n",
       "\n",
       "   category_food_dining  category_gas_transport  ...  category_health_fitness  \\\n",
       "0                   0.0                     0.0  ...                      0.0   \n",
       "1                   0.0                     0.0  ...                      0.0   \n",
       "2                   0.0                     1.0  ...                      0.0   \n",
       "3                   0.0                     0.0  ...                      0.0   \n",
       "4                   0.0                     0.0  ...                      0.0   \n",
       "\n",
       "   category_home  category_kids_pets  category_misc_net  category_misc_pos  \\\n",
       "0            0.0                 0.0                0.0                0.0   \n",
       "1            0.0                 1.0                0.0                0.0   \n",
       "2            0.0                 0.0                0.0                0.0   \n",
       "3            0.0                 0.0                1.0                0.0   \n",
       "4            0.0                 0.0                0.0                0.0   \n",
       "\n",
       "   category_personal_care  category_shopping_net  category_shopping_pos  \\\n",
       "0                     0.0                    0.0                    0.0   \n",
       "1                     0.0                    0.0                    0.0   \n",
       "2                     0.0                    0.0                    0.0   \n",
       "3                     0.0                    0.0                    0.0   \n",
       "4                     0.0                    0.0                    1.0   \n",
       "\n",
       "   category_travel  gender_M  \n",
       "0              0.0       1.0  \n",
       "1              0.0       0.0  \n",
       "2              0.0       1.0  \n",
       "3              0.0       1.0  \n",
       "4              0.0       1.0  \n",
       "\n",
       "[5 rows x 22 columns]"
      ]
     },
     "execution_count": 130,
     "metadata": {},
     "output_type": "execute_result"
    }
   ],
   "source": [
    "X_train_scaled.head()"
   ]
  },
  {
   "cell_type": "markdown",
   "metadata": {},
   "source": [
    "# Analyzing features for Collinearity\n",
    "\n",
    "## Correlation Matrix"
   ]
  },
  {
   "cell_type": "code",
   "execution_count": 9,
   "metadata": {},
   "outputs": [
    {
     "data": {
      "image/png": "[encoded data removed]",
      "text/plain": [
       "<Figure size 864x720 with 2 Axes>"
      ]
     },
     "metadata": {
      "needs_background": "light"
     },
     "output_type": "display_data"
    }
   ],
   "source": [
    "# Correlation Matrix\n",
    "\n",
    "import seaborn as sns\n",
    "import matplotlib.pyplot as plt\n",
    "\n",
    "plt.figure(figsize=(12, 10))\n",
    "cmap = sns.diverging_palette(250, 30, s=80, l=65, as_cmap=True)\n",
    "sns.heatmap(X_train_scaled.corr(), cmap=cmap)\n",
    "plt.show()"
   ]
  },
  {
   "cell_type": "markdown",
   "metadata": {},
   "source": [
    "## Variance Inflation Factor"
   ]
  },
  {
   "cell_type": "code",
   "execution_count": 132,
   "metadata": {},
   "outputs": [
    {
     "name": "stdout",
     "output_type": "stream",
     "text": [
      "const                      45.911052\n",
      "amt                         1.181387\n",
      "city_pop                    1.007797\n",
      "age                         1.052235\n",
      "distance                    1.002174\n",
      "hour                        1.949698\n",
      "day                         1.001698\n",
      "month                       1.005640\n",
      "year                        1.002418\n",
      "category_food_dining        1.853510\n",
      "category_gas_transport      2.658052\n",
      "category_grocery_net        1.610829\n",
      "category_grocery_pos        2.758495\n",
      "category_health_fitness     1.876253\n",
      "category_home               2.162549\n",
      "category_kids_pets          2.089133\n",
      "category_misc_net           1.875499\n",
      "category_misc_pos           1.821684\n",
      "category_personal_care      1.940198\n",
      "category_shopping_net       2.253438\n",
      "category_shopping_pos       2.286694\n",
      "category_travel             1.413443\n",
      "gender_M                    1.006331\n",
      "dtype: float64\n"
     ]
    }
   ],
   "source": [
    "from statsmodels.stats.outliers_influence import variance_inflation_factor\n",
    "from statsmodels.tools.tools import add_constant\n",
    "\n",
    "vif_test = add_constant(X_train_scaled)\n",
    "vif_series = pd.Series([variance_inflation_factor(vif_test.values, i) \n",
    "               for i in range(vif_test.shape[1])], \n",
    "              index=vif_test.columns)\n",
    "\n",
    "print(vif_series)"
   ]
  },
  {
   "cell_type": "markdown",
   "metadata": {},
   "source": [
    "## Linear Regression\n",
    "\n",
    "For our dataset we are predicting fraud, so to use Linear Regression we will use the amt as the Target variable to see if there is a linear relationship between the rest of our features in the feature set and the amt."
   ]
  },
  {
   "cell_type": "code",
   "execution_count": 29,
   "metadata": {},
   "outputs": [],
   "source": [
    "linear_columns = [col for col in X_train_scaled.columns if col not in ['amt']]\n",
    "\n",
    "amt = X_train_scaled['amt']\n",
    "X_train_linear = X_train_scaled[linear_columns]"
   ]
  },
  {
   "cell_type": "code",
   "execution_count": 44,
   "metadata": {},
   "outputs": [
    {
     "data": {
      "text/html": [
       "<div>\n",
       "<style scoped>\n",
       "    .dataframe tbody tr th:only-of-type {\n",
       "        vertical-align: middle;\n",
       "    }\n",
       "\n",
       "    .dataframe tbody tr th {\n",
       "        vertical-align: top;\n",
       "    }\n",
       "\n",
       "    .dataframe thead th {\n",
       "        text-align: right;\n",
       "    }\n",
       "</style>\n",
       "<table border=\"1\" class=\"dataframe\">\n",
       "  <thead>\n",
       "    <tr style=\"text-align: right;\">\n",
       "      <th></th>\n",
       "      <th>city_pop</th>\n",
       "      <th>age</th>\n",
       "      <th>distance</th>\n",
       "      <th>hour</th>\n",
       "      <th>day</th>\n",
       "      <th>month</th>\n",
       "      <th>year</th>\n",
       "      <th>category_food_dining</th>\n",
       "      <th>category_gas_transport</th>\n",
       "      <th>category_grocery_net</th>\n",
       "      <th>...</th>\n",
       "      <th>category_health_fitness</th>\n",
       "      <th>category_home</th>\n",
       "      <th>category_kids_pets</th>\n",
       "      <th>category_misc_net</th>\n",
       "      <th>category_misc_pos</th>\n",
       "      <th>category_personal_care</th>\n",
       "      <th>category_shopping_net</th>\n",
       "      <th>category_shopping_pos</th>\n",
       "      <th>category_travel</th>\n",
       "      <th>gender_M</th>\n",
       "    </tr>\n",
       "  </thead>\n",
       "  <tbody>\n",
       "    <tr>\n",
       "      <th>0</th>\n",
       "      <td>0.001260</td>\n",
       "      <td>0.358025</td>\n",
       "      <td>0.721539</td>\n",
       "      <td>0.739130</td>\n",
       "      <td>0.300000</td>\n",
       "      <td>0.636364</td>\n",
       "      <td>0.0</td>\n",
       "      <td>0.0</td>\n",
       "      <td>0.0</td>\n",
       "      <td>0.0</td>\n",
       "      <td>...</td>\n",
       "      <td>1.0</td>\n",
       "      <td>0.0</td>\n",
       "      <td>0.0</td>\n",
       "      <td>0.0</td>\n",
       "      <td>0.0</td>\n",
       "      <td>0.0</td>\n",
       "      <td>0.0</td>\n",
       "      <td>0.0</td>\n",
       "      <td>0.0</td>\n",
       "      <td>1.0</td>\n",
       "    </tr>\n",
       "    <tr>\n",
       "      <th>1</th>\n",
       "      <td>0.000174</td>\n",
       "      <td>0.197531</td>\n",
       "      <td>0.364206</td>\n",
       "      <td>0.521739</td>\n",
       "      <td>0.466667</td>\n",
       "      <td>0.181818</td>\n",
       "      <td>0.0</td>\n",
       "      <td>0.0</td>\n",
       "      <td>0.0</td>\n",
       "      <td>0.0</td>\n",
       "      <td>...</td>\n",
       "      <td>0.0</td>\n",
       "      <td>0.0</td>\n",
       "      <td>0.0</td>\n",
       "      <td>0.0</td>\n",
       "      <td>1.0</td>\n",
       "      <td>0.0</td>\n",
       "      <td>0.0</td>\n",
       "      <td>0.0</td>\n",
       "      <td>0.0</td>\n",
       "      <td>0.0</td>\n",
       "    </tr>\n",
       "    <tr>\n",
       "      <th>2</th>\n",
       "      <td>0.005108</td>\n",
       "      <td>0.382716</td>\n",
       "      <td>0.438367</td>\n",
       "      <td>1.000000</td>\n",
       "      <td>0.066667</td>\n",
       "      <td>0.818182</td>\n",
       "      <td>1.0</td>\n",
       "      <td>0.0</td>\n",
       "      <td>0.0</td>\n",
       "      <td>0.0</td>\n",
       "      <td>...</td>\n",
       "      <td>0.0</td>\n",
       "      <td>0.0</td>\n",
       "      <td>0.0</td>\n",
       "      <td>0.0</td>\n",
       "      <td>0.0</td>\n",
       "      <td>0.0</td>\n",
       "      <td>1.0</td>\n",
       "      <td>0.0</td>\n",
       "      <td>0.0</td>\n",
       "      <td>0.0</td>\n",
       "    </tr>\n",
       "    <tr>\n",
       "      <th>3</th>\n",
       "      <td>0.000482</td>\n",
       "      <td>0.086420</td>\n",
       "      <td>0.719902</td>\n",
       "      <td>1.000000</td>\n",
       "      <td>0.733333</td>\n",
       "      <td>0.909091</td>\n",
       "      <td>1.0</td>\n",
       "      <td>0.0</td>\n",
       "      <td>0.0</td>\n",
       "      <td>0.0</td>\n",
       "      <td>...</td>\n",
       "      <td>0.0</td>\n",
       "      <td>1.0</td>\n",
       "      <td>0.0</td>\n",
       "      <td>0.0</td>\n",
       "      <td>0.0</td>\n",
       "      <td>0.0</td>\n",
       "      <td>0.0</td>\n",
       "      <td>0.0</td>\n",
       "      <td>0.0</td>\n",
       "      <td>0.0</td>\n",
       "    </tr>\n",
       "    <tr>\n",
       "      <th>4</th>\n",
       "      <td>0.001555</td>\n",
       "      <td>0.086420</td>\n",
       "      <td>0.687888</td>\n",
       "      <td>0.826087</td>\n",
       "      <td>0.166667</td>\n",
       "      <td>0.090909</td>\n",
       "      <td>0.0</td>\n",
       "      <td>1.0</td>\n",
       "      <td>0.0</td>\n",
       "      <td>0.0</td>\n",
       "      <td>...</td>\n",
       "      <td>0.0</td>\n",
       "      <td>0.0</td>\n",
       "      <td>0.0</td>\n",
       "      <td>0.0</td>\n",
       "      <td>0.0</td>\n",
       "      <td>0.0</td>\n",
       "      <td>0.0</td>\n",
       "      <td>0.0</td>\n",
       "      <td>0.0</td>\n",
       "      <td>0.0</td>\n",
       "    </tr>\n",
       "  </tbody>\n",
       "</table>\n",
       "<p>5 rows × 21 columns</p>\n",
       "</div>"
      ],
      "text/plain": [
       "   city_pop       age  distance      hour       day     month  year  \\\n",
       "0  0.001260  0.358025  0.721539  0.739130  0.300000  0.636364   0.0   \n",
       "1  0.000174  0.197531  0.364206  0.521739  0.466667  0.181818   0.0   \n",
       "2  0.005108  0.382716  0.438367  1.000000  0.066667  0.818182   1.0   \n",
       "3  0.000482  0.086420  0.719902  1.000000  0.733333  0.909091   1.0   \n",
       "4  0.001555  0.086420  0.687888  0.826087  0.166667  0.090909   0.0   \n",
       "\n",
       "   category_food_dining  category_gas_transport  category_grocery_net  ...  \\\n",
       "0                   0.0                     0.0                   0.0  ...   \n",
       "1                   0.0                     0.0                   0.0  ...   \n",
       "2                   0.0                     0.0                   0.0  ...   \n",
       "3                   0.0                     0.0                   0.0  ...   \n",
       "4                   1.0                     0.0                   0.0  ...   \n",
       "\n",
       "   category_health_fitness  category_home  category_kids_pets  \\\n",
       "0                      1.0            0.0                 0.0   \n",
       "1                      0.0            0.0                 0.0   \n",
       "2                      0.0            0.0                 0.0   \n",
       "3                      0.0            1.0                 0.0   \n",
       "4                      0.0            0.0                 0.0   \n",
       "\n",
       "   category_misc_net  category_misc_pos  category_personal_care  \\\n",
       "0                0.0                0.0                     0.0   \n",
       "1                0.0                1.0                     0.0   \n",
       "2                0.0                0.0                     0.0   \n",
       "3                0.0                0.0                     0.0   \n",
       "4                0.0                0.0                     0.0   \n",
       "\n",
       "   category_shopping_net  category_shopping_pos  category_travel  gender_M  \n",
       "0                    0.0                    0.0              0.0       1.0  \n",
       "1                    0.0                    0.0              0.0       0.0  \n",
       "2                    1.0                    0.0              0.0       0.0  \n",
       "3                    0.0                    0.0              0.0       0.0  \n",
       "4                    0.0                    0.0              0.0       0.0  \n",
       "\n",
       "[5 rows x 21 columns]"
      ]
     },
     "execution_count": 44,
     "metadata": {},
     "output_type": "execute_result"
    }
   ],
   "source": [
    "X_train_linear.head()"
   ]
  },
  {
   "cell_type": "code",
   "execution_count": 30,
   "metadata": {},
   "outputs": [
    {
     "name": "stdout",
     "output_type": "stream",
     "text": [
      "                            OLS Regression Results                            \n",
      "==============================================================================\n",
      "Dep. Variable:                    amt   R-squared:                       0.129\n",
      "Model:                            OLS   Adj. R-squared:                  0.129\n",
      "Method:                 Least Squares   F-statistic:                     523.2\n",
      "Date:                Sun, 06 Dec 2020   Prob (F-statistic):               0.00\n",
      "Time:                        09:46:50   Log-Likelihood:             1.9876e+05\n",
      "No. Observations:               74316   AIC:                        -3.975e+05\n",
      "Df Residuals:                   74294   BIC:                        -3.973e+05\n",
      "Df Model:                          21                                         \n",
      "Covariance Type:            nonrobust                                         \n",
      "===========================================================================================\n",
      "                              coef    std err          t      P>|t|      [0.025      0.975]\n",
      "-------------------------------------------------------------------------------------------\n",
      "const                      -0.0041      0.000    -10.217      0.000      -0.005      -0.003\n",
      "city_pop                    0.0014      0.001      2.440      0.015       0.000       0.003\n",
      "age                         0.0047      0.000     16.185      0.000       0.004       0.005\n",
      "distance                    0.0004      0.000      1.448      0.148      -0.000       0.001\n",
      "hour                        0.0133      0.000     48.838      0.000       0.013       0.014\n",
      "day                        -0.0003      0.000     -1.345      0.179      -0.001       0.000\n",
      "month                      -0.0018      0.000     -9.373      0.000      -0.002      -0.001\n",
      "year                       -0.0003      0.000     -2.252      0.024      -0.001   -3.57e-05\n",
      "category_food_dining       -0.0024      0.000     -7.111      0.000      -0.003      -0.002\n",
      "category_gas_transport      0.0042      0.000     12.904      0.000       0.004       0.005\n",
      "category_grocery_net        0.0041      0.000      9.664      0.000       0.003       0.005\n",
      "category_grocery_pos        0.0109      0.000     34.217      0.000       0.010       0.012\n",
      "category_health_fitness    -0.0032      0.000     -9.507      0.000      -0.004      -0.003\n",
      "category_home              -0.0025      0.000     -7.957      0.000      -0.003      -0.002\n",
      "category_kids_pets         -0.0032      0.000     -9.931      0.000      -0.004      -0.003\n",
      "category_misc_net           0.0140      0.000     39.304      0.000       0.013       0.015\n",
      "category_misc_pos           0.0020      0.000      5.730      0.000       0.001       0.003\n",
      "category_personal_care     -0.0037      0.000    -11.128      0.000      -0.004      -0.003\n",
      "category_shopping_net       0.0163      0.000     52.666      0.000       0.016       0.017\n",
      "category_shopping_pos       0.0073      0.000     23.501      0.000       0.007       0.008\n",
      "category_travel             0.0015      0.000      3.518      0.000       0.001       0.002\n",
      "gender_M                    0.0009      0.000      7.413      0.000       0.001       0.001\n",
      "==============================================================================\n",
      "Omnibus:                   143426.387   Durbin-Watson:                   1.532\n",
      "Prob(Omnibus):                  0.000   Jarque-Bera (JB):       1342080675.908\n",
      "Skew:                          14.562   Prob(JB):                         0.00\n",
      "Kurtosis:                     660.701   Cond. No.                         25.6\n",
      "==============================================================================\n",
      "\n",
      "Notes:\n",
      "[1] Standard Errors assume that the covariance matrix of the errors is correctly specified.\n"
     ]
    }
   ],
   "source": [
    "# Use statsmodels to get predictive statistics\n",
    "\n",
    "import statsmodels.api as sm\n",
    "\n",
    "X_train_linear = sm.add_constant(X_train_linear)\n",
    "model = sm.OLS(amt, X_train_linear)\n",
    "results = model.fit()\n",
    "print(results.summary())\n",
    "# print(results.pvalues)\n",
    "# print(results.resid)"
   ]
  },
  {
   "cell_type": "markdown",
   "metadata": {},
   "source": [
    "You can see from the OLS Regression that 4 categories have the highest coefficients when predicting the amt of the transaction. Those categories are `category_shopping_net` (Coeff: 0.0509), `category_misc_net` (Coeff: 0.0434), `hour` (Coeff: 0.042) and `category_grocery_pos` (Coeff: 0.0346). This model does not have a high R Squared value (0.327) so the linear model is a pretty weak fit for the data."
   ]
  },
  {
   "cell_type": "markdown",
   "metadata": {},
   "source": [
    "# Logistic Regression"
   ]
  },
  {
   "cell_type": "code",
   "execution_count": 31,
   "metadata": {},
   "outputs": [
    {
     "name": "stderr",
     "output_type": "stream",
     "text": [
      "<ipython-input-31-e03a80bf8a31>:9: SettingWithCopyWarning: \n",
      "A value is trying to be set on a copy of a slice from a DataFrame.\n",
      "Try using .loc[row_indexer,col_indexer] = value instead\n",
      "\n",
      "See the caveats in the documentation: https://pandas.pydata.org/pandas-docs/stable/user_guide/indexing.html#returning-a-view-versus-a-copy\n",
      "  X_amt['is_fraud'] = y_train\n"
     ]
    },
    {
     "data": {
      "text/plain": [
       "Text(0.5, 1.0, 'amt vs probability of fraud trainng dataset')"
      ]
     },
     "execution_count": 31,
     "metadata": {},
     "output_type": "execute_result"
    },
    {
     "data": {
      "image/png": "[encoded data removed]",
      "text/plain": [
       "<Figure size 1152x864 with 1 Axes>"
      ]
     },
     "metadata": {
      "needs_background": "light"
     },
     "output_type": "display_data"
    }
   ],
   "source": [
    "# This is a Bivariate regression of scaled amt vs probability of fraud done for visualization purposes\n",
    "# and to illustrate the effect of tuning the parameters of the model. See the cell below for a multi-variate\n",
    "# analysis\n",
    "\n",
    "from sklearn import datasets, linear_model\n",
    "\n",
    "X_amt = X_train_scaled[['amt']]\n",
    "\n",
    "X_amt['is_fraud'] = y_train\n",
    "\n",
    "X_amt = X_amt.sort_values('amt')\n",
    "X_amt_sample = X_amt.sample(1000)\n",
    "y_amt = X_amt['is_fraud'].ravel()\n",
    "X_amt = X_amt[['amt']]\n",
    "\n",
    "model1 = linear_model.LogisticRegression(solver='liblinear', random_state=0, C=100.0)\n",
    "\n",
    "model1.fit(X_amt, y_amt)\n",
    "\n",
    "X_test_amt = X_test_scaled[['amt']]\n",
    "X_test_amt = X_test_amt.sort_values('amt')\n",
    "\n",
    "X_amt_sample = X_amt_sample.sort_values('amt')\n",
    "y_amt_sample = X_amt_sample['is_fraud'].ravel()\n",
    "X_amt_sample = X_amt_sample[['amt']]\n",
    "\n",
    "plt.figure(figsize=(16, 12))\n",
    "plt.scatter(X_amt_sample, y_amt_sample)\n",
    "plt.plot(X_test_amt, model1.predict_proba(X_test_amt)[:, 1], linewidth=3)\n",
    "plt.xlabel('amt')\n",
    "plt.ylabel('probability of fraud')\n",
    "plt.title('amt vs probability of fraud trainng dataset')"
   ]
  },
  {
   "cell_type": "code",
   "execution_count": 32,
   "metadata": {},
   "outputs": [
    {
     "data": {
      "text/plain": [
       "Text(0.5, 1.0, 'amt vs probability of fraud test dataset')"
      ]
     },
     "execution_count": 32,
     "metadata": {},
     "output_type": "execute_result"
    },
    {
     "data": {
      "image/png": "[encoded data removed]",
      "text/plain": [
       "<Figure size 1152x864 with 1 Axes>"
      ]
     },
     "metadata": {
      "needs_background": "light"
     },
     "output_type": "display_data"
    }
   ],
   "source": [
    "plt.figure(figsize=(16, 12))\n",
    "plt.scatter(X_test_scaled[['amt']], y_test)\n",
    "plt.plot(X_test_amt, model1.predict_proba(X_test_amt)[:, 1], linewidth=3)\n",
    "plt.xlabel('amt')\n",
    "plt.ylabel('probability of fraud')\n",
    "plt.title('amt vs probability of fraud test dataset')"
   ]
  },
  {
   "cell_type": "code",
   "execution_count": 48,
   "metadata": {},
   "outputs": [
    {
     "name": "stdout",
     "output_type": "stream",
     "text": [
      "Accuracy: 0.9931008297358918\n"
     ]
    },
    {
     "data": {
      "image/png": "[encoded data removed]",
      "text/plain": [
       "<Figure size 432x288 with 2 Axes>"
      ]
     },
     "metadata": {
      "needs_background": "light"
     },
     "output_type": "display_data"
    }
   ],
   "source": [
    "from sklearn.metrics import plot_confusion_matrix, accuracy_score\n",
    "\n",
    "print(f\"Accuracy: {accuracy_score(y_test, model1.predict(X_test_scaled[['amt']]))}\")\n",
    "\n",
    "plot_confusion_matrix(model1, X_test_scaled[['amt']], y_test)  # doctest: +SKIP\n",
    "plt.show()"
   ]
  },
  {
   "cell_type": "code",
   "execution_count": 34,
   "metadata": {},
   "outputs": [
    {
     "name": "stdout",
     "output_type": "stream",
     "text": [
      "[[551837    987]\n",
      " [  2847     48]]\n",
      "0.9931008297358918\n"
     ]
    }
   ],
   "source": [
    "from sklearn.metrics import confusion_matrix, accuracy_score\n",
    "\n",
    "# y_true = [2, 0, 2, 2, 0, 1]\n",
    "# y_pred = [0, 0, 2, 2, 0, 2]\n",
    "# confusion_matrix(y_true, y_pred)\n",
    "\n",
    "print(confusion_matrix(y_test, model1.predict(X_test_scaled[['amt']])))\n",
    "print(accuracy_score(y_test, model1.predict(X_test_scaled[['amt']])))"
   ]
  },
  {
   "cell_type": "code",
   "execution_count": 50,
   "metadata": {},
   "outputs": [
    {
     "data": {
      "text/plain": [
       "LogisticRegression(random_state=0, solver='liblinear')"
      ]
     },
     "execution_count": 50,
     "metadata": {},
     "output_type": "execute_result"
    }
   ],
   "source": [
    "from sklearn import linear_model\n",
    "\n",
    "model2 = linear_model.LogisticRegression(solver='liblinear', random_state=0)\n",
    "\n",
    "model2.fit(X_train_scaled, y_train)"
   ]
  },
  {
   "cell_type": "code",
   "execution_count": 51,
   "metadata": {},
   "outputs": [
    {
     "name": "stdout",
     "output_type": "stream",
     "text": [
      "[[552383    441]\n",
      " [  2831     64]]\n",
      "0.9941121322107036\n"
     ]
    }
   ],
   "source": [
    "from sklearn.metrics import confusion_matrix, accuracy_score\n",
    "\n",
    "print(confusion_matrix(y_test, model2.predict(X_test_scaled)))\n",
    "print(accuracy_score(y_test, model2.predict(X_test_scaled)))"
   ]
  },
  {
   "cell_type": "code",
   "execution_count": 49,
   "metadata": {},
   "outputs": [
    {
     "data": {
      "image/png": "[encoded data removed]",
      "text/plain": [
       "<Figure size 432x288 with 2 Axes>"
      ]
     },
     "metadata": {
      "needs_background": "light"
     },
     "output_type": "display_data"
    }
   ],
   "source": [
    "from sklearn.metrics import plot_confusion_matrix\n",
    "\n",
    "plot_confusion_matrix(model2, X_test_scaled, y_test)  # doctest: +SKIP\n",
    "plt.show()"
   ]
  },
  {
   "cell_type": "code",
   "execution_count": 38,
   "metadata": {},
   "outputs": [
    {
     "name": "stderr",
     "output_type": "stream",
     "text": [
      "/Users/perkinsc/Documents/Northeastern/EAI6000/eai6000_group5/env/lib/python3.8/site-packages/sklearn/model_selection/_validation.py:548: FitFailedWarning: Estimator fit failed. The score on this train-test partition for these parameters will be set to nan. Details: \n",
      "Traceback (most recent call last):\n",
      "  File \"/Users/perkinsc/Documents/Northeastern/EAI6000/eai6000_group5/env/lib/python3.8/site-packages/sklearn/model_selection/_validation.py\", line 531, in _fit_and_score\n",
      "    estimator.fit(X_train, y_train, **fit_params)\n",
      "  File \"/Users/perkinsc/Documents/Northeastern/EAI6000/eai6000_group5/env/lib/python3.8/site-packages/sklearn/linear_model/_logistic.py\", line 1304, in fit\n",
      "    solver = _check_solver(self.solver, self.penalty, self.dual)\n",
      "  File \"/Users/perkinsc/Documents/Northeastern/EAI6000/eai6000_group5/env/lib/python3.8/site-packages/sklearn/linear_model/_logistic.py\", line 449, in _check_solver\n",
      "    raise ValueError(\"Only 'saga' solver supports elasticnet penalty,\"\n",
      "ValueError: Only 'saga' solver supports elasticnet penalty, got solver=liblinear.\n",
      "\n",
      "  warnings.warn(\"Estimator fit failed. The score on this train-test\"\n",
      "/Users/perkinsc/Documents/Northeastern/EAI6000/eai6000_group5/env/lib/python3.8/site-packages/sklearn/model_selection/_validation.py:548: FitFailedWarning: Estimator fit failed. The score on this train-test partition for these parameters will be set to nan. Details: \n",
      "Traceback (most recent call last):\n",
      "  File \"/Users/perkinsc/Documents/Northeastern/EAI6000/eai6000_group5/env/lib/python3.8/site-packages/sklearn/model_selection/_validation.py\", line 531, in _fit_and_score\n",
      "    estimator.fit(X_train, y_train, **fit_params)\n",
      "  File \"/Users/perkinsc/Documents/Northeastern/EAI6000/eai6000_group5/env/lib/python3.8/site-packages/sklearn/linear_model/_logistic.py\", line 1312, in fit\n",
      "    raise ValueError(\"l1_ratio must be between 0 and 1;\"\n",
      "ValueError: l1_ratio must be between 0 and 1; got (l1_ratio=None)\n",
      "\n",
      "  warnings.warn(\"Estimator fit failed. The score on this train-test\"\n",
      "/Users/perkinsc/Documents/Northeastern/EAI6000/eai6000_group5/env/lib/python3.8/site-packages/sklearn/model_selection/_validation.py:548: FitFailedWarning: Estimator fit failed. The score on this train-test partition for these parameters will be set to nan. Details: \n",
      "Traceback (most recent call last):\n",
      "  File \"/Users/perkinsc/Documents/Northeastern/EAI6000/eai6000_group5/env/lib/python3.8/site-packages/sklearn/model_selection/_validation.py\", line 531, in _fit_and_score\n",
      "    estimator.fit(X_train, y_train, **fit_params)\n",
      "  File \"/Users/perkinsc/Documents/Northeastern/EAI6000/eai6000_group5/env/lib/python3.8/site-packages/sklearn/linear_model/_logistic.py\", line 1304, in fit\n",
      "    solver = _check_solver(self.solver, self.penalty, self.dual)\n",
      "  File \"/Users/perkinsc/Documents/Northeastern/EAI6000/eai6000_group5/env/lib/python3.8/site-packages/sklearn/linear_model/_logistic.py\", line 449, in _check_solver\n",
      "    raise ValueError(\"Only 'saga' solver supports elasticnet penalty,\"\n",
      "ValueError: Only 'saga' solver supports elasticnet penalty, got solver=liblinear.\n",
      "\n",
      "  warnings.warn(\"Estimator fit failed. The score on this train-test\"\n",
      "/Users/perkinsc/Documents/Northeastern/EAI6000/eai6000_group5/env/lib/python3.8/site-packages/sklearn/model_selection/_validation.py:548: FitFailedWarning: Estimator fit failed. The score on this train-test partition for these parameters will be set to nan. Details: \n",
      "Traceback (most recent call last):\n",
      "  File \"/Users/perkinsc/Documents/Northeastern/EAI6000/eai6000_group5/env/lib/python3.8/site-packages/sklearn/model_selection/_validation.py\", line 531, in _fit_and_score\n",
      "    estimator.fit(X_train, y_train, **fit_params)\n",
      "  File \"/Users/perkinsc/Documents/Northeastern/EAI6000/eai6000_group5/env/lib/python3.8/site-packages/sklearn/linear_model/_logistic.py\", line 1312, in fit\n",
      "    raise ValueError(\"l1_ratio must be between 0 and 1;\"\n",
      "ValueError: l1_ratio must be between 0 and 1; got (l1_ratio=None)\n",
      "\n",
      "  warnings.warn(\"Estimator fit failed. The score on this train-test\"\n",
      "/Users/perkinsc/Documents/Northeastern/EAI6000/eai6000_group5/env/lib/python3.8/site-packages/sklearn/model_selection/_validation.py:548: FitFailedWarning: Estimator fit failed. The score on this train-test partition for these parameters will be set to nan. Details: \n",
      "Traceback (most recent call last):\n",
      "  File \"/Users/perkinsc/Documents/Northeastern/EAI6000/eai6000_group5/env/lib/python3.8/site-packages/sklearn/model_selection/_validation.py\", line 531, in _fit_and_score\n",
      "    estimator.fit(X_train, y_train, **fit_params)\n",
      "  File \"/Users/perkinsc/Documents/Northeastern/EAI6000/eai6000_group5/env/lib/python3.8/site-packages/sklearn/linear_model/_logistic.py\", line 1304, in fit\n",
      "    solver = _check_solver(self.solver, self.penalty, self.dual)\n",
      "  File \"/Users/perkinsc/Documents/Northeastern/EAI6000/eai6000_group5/env/lib/python3.8/site-packages/sklearn/linear_model/_logistic.py\", line 449, in _check_solver\n",
      "    raise ValueError(\"Only 'saga' solver supports elasticnet penalty,\"\n",
      "ValueError: Only 'saga' solver supports elasticnet penalty, got solver=liblinear.\n",
      "\n",
      "  warnings.warn(\"Estimator fit failed. The score on this train-test\"\n",
      "/Users/perkinsc/Documents/Northeastern/EAI6000/eai6000_group5/env/lib/python3.8/site-packages/sklearn/model_selection/_validation.py:548: FitFailedWarning: Estimator fit failed. The score on this train-test partition for these parameters will be set to nan. Details: \n",
      "Traceback (most recent call last):\n",
      "  File \"/Users/perkinsc/Documents/Northeastern/EAI6000/eai6000_group5/env/lib/python3.8/site-packages/sklearn/model_selection/_validation.py\", line 531, in _fit_and_score\n",
      "    estimator.fit(X_train, y_train, **fit_params)\n",
      "  File \"/Users/perkinsc/Documents/Northeastern/EAI6000/eai6000_group5/env/lib/python3.8/site-packages/sklearn/linear_model/_logistic.py\", line 1312, in fit\n",
      "    raise ValueError(\"l1_ratio must be between 0 and 1;\"\n",
      "ValueError: l1_ratio must be between 0 and 1; got (l1_ratio=None)\n",
      "\n",
      "  warnings.warn(\"Estimator fit failed. The score on this train-test\"\n",
      "/Users/perkinsc/Documents/Northeastern/EAI6000/eai6000_group5/env/lib/python3.8/site-packages/sklearn/model_selection/_validation.py:548: FitFailedWarning: Estimator fit failed. The score on this train-test partition for these parameters will be set to nan. Details: \n",
      "Traceback (most recent call last):\n",
      "  File \"/Users/perkinsc/Documents/Northeastern/EAI6000/eai6000_group5/env/lib/python3.8/site-packages/sklearn/model_selection/_validation.py\", line 531, in _fit_and_score\n",
      "    estimator.fit(X_train, y_train, **fit_params)\n",
      "  File \"/Users/perkinsc/Documents/Northeastern/EAI6000/eai6000_group5/env/lib/python3.8/site-packages/sklearn/linear_model/_logistic.py\", line 1304, in fit\n",
      "    solver = _check_solver(self.solver, self.penalty, self.dual)\n",
      "  File \"/Users/perkinsc/Documents/Northeastern/EAI6000/eai6000_group5/env/lib/python3.8/site-packages/sklearn/linear_model/_logistic.py\", line 449, in _check_solver\n",
      "    raise ValueError(\"Only 'saga' solver supports elasticnet penalty,\"\n",
      "ValueError: Only 'saga' solver supports elasticnet penalty, got solver=liblinear.\n",
      "\n",
      "  warnings.warn(\"Estimator fit failed. The score on this train-test\"\n",
      "/Users/perkinsc/Documents/Northeastern/EAI6000/eai6000_group5/env/lib/python3.8/site-packages/sklearn/model_selection/_validation.py:548: FitFailedWarning: Estimator fit failed. The score on this train-test partition for these parameters will be set to nan. Details: \n",
      "Traceback (most recent call last):\n",
      "  File \"/Users/perkinsc/Documents/Northeastern/EAI6000/eai6000_group5/env/lib/python3.8/site-packages/sklearn/model_selection/_validation.py\", line 531, in _fit_and_score\n",
      "    estimator.fit(X_train, y_train, **fit_params)\n",
      "  File \"/Users/perkinsc/Documents/Northeastern/EAI6000/eai6000_group5/env/lib/python3.8/site-packages/sklearn/linear_model/_logistic.py\", line 1312, in fit\n",
      "    raise ValueError(\"l1_ratio must be between 0 and 1;\"\n",
      "ValueError: l1_ratio must be between 0 and 1; got (l1_ratio=None)\n",
      "\n",
      "  warnings.warn(\"Estimator fit failed. The score on this train-test\"\n",
      "/Users/perkinsc/Documents/Northeastern/EAI6000/eai6000_group5/env/lib/python3.8/site-packages/sklearn/model_selection/_validation.py:548: FitFailedWarning: Estimator fit failed. The score on this train-test partition for these parameters will be set to nan. Details: \n",
      "Traceback (most recent call last):\n",
      "  File \"/Users/perkinsc/Documents/Northeastern/EAI6000/eai6000_group5/env/lib/python3.8/site-packages/sklearn/model_selection/_validation.py\", line 531, in _fit_and_score\n",
      "    estimator.fit(X_train, y_train, **fit_params)\n",
      "  File \"/Users/perkinsc/Documents/Northeastern/EAI6000/eai6000_group5/env/lib/python3.8/site-packages/sklearn/linear_model/_logistic.py\", line 1304, in fit\n",
      "    solver = _check_solver(self.solver, self.penalty, self.dual)\n",
      "  File \"/Users/perkinsc/Documents/Northeastern/EAI6000/eai6000_group5/env/lib/python3.8/site-packages/sklearn/linear_model/_logistic.py\", line 449, in _check_solver\n",
      "    raise ValueError(\"Only 'saga' solver supports elasticnet penalty,\"\n",
      "ValueError: Only 'saga' solver supports elasticnet penalty, got solver=liblinear.\n",
      "\n",
      "  warnings.warn(\"Estimator fit failed. The score on this train-test\"\n",
      "/Users/perkinsc/Documents/Northeastern/EAI6000/eai6000_group5/env/lib/python3.8/site-packages/sklearn/model_selection/_validation.py:548: FitFailedWarning: Estimator fit failed. The score on this train-test partition for these parameters will be set to nan. Details: \n",
      "Traceback (most recent call last):\n",
      "  File \"/Users/perkinsc/Documents/Northeastern/EAI6000/eai6000_group5/env/lib/python3.8/site-packages/sklearn/model_selection/_validation.py\", line 531, in _fit_and_score\n",
      "    estimator.fit(X_train, y_train, **fit_params)\n",
      "  File \"/Users/perkinsc/Documents/Northeastern/EAI6000/eai6000_group5/env/lib/python3.8/site-packages/sklearn/linear_model/_logistic.py\", line 1312, in fit\n",
      "    raise ValueError(\"l1_ratio must be between 0 and 1;\"\n",
      "ValueError: l1_ratio must be between 0 and 1; got (l1_ratio=None)\n",
      "\n",
      "  warnings.warn(\"Estimator fit failed. The score on this train-test\"\n"
     ]
    },
    {
     "name": "stderr",
     "output_type": "stream",
     "text": [
      "/Users/perkinsc/Documents/Northeastern/EAI6000/eai6000_group5/env/lib/python3.8/site-packages/sklearn/model_selection/_validation.py:548: FitFailedWarning: Estimator fit failed. The score on this train-test partition for these parameters will be set to nan. Details: \n",
      "Traceback (most recent call last):\n",
      "  File \"/Users/perkinsc/Documents/Northeastern/EAI6000/eai6000_group5/env/lib/python3.8/site-packages/sklearn/model_selection/_validation.py\", line 531, in _fit_and_score\n",
      "    estimator.fit(X_train, y_train, **fit_params)\n",
      "  File \"/Users/perkinsc/Documents/Northeastern/EAI6000/eai6000_group5/env/lib/python3.8/site-packages/sklearn/linear_model/_logistic.py\", line 1304, in fit\n",
      "    solver = _check_solver(self.solver, self.penalty, self.dual)\n",
      "  File \"/Users/perkinsc/Documents/Northeastern/EAI6000/eai6000_group5/env/lib/python3.8/site-packages/sklearn/linear_model/_logistic.py\", line 449, in _check_solver\n",
      "    raise ValueError(\"Only 'saga' solver supports elasticnet penalty,\"\n",
      "ValueError: Only 'saga' solver supports elasticnet penalty, got solver=liblinear.\n",
      "\n",
      "  warnings.warn(\"Estimator fit failed. The score on this train-test\"\n",
      "/Users/perkinsc/Documents/Northeastern/EAI6000/eai6000_group5/env/lib/python3.8/site-packages/sklearn/model_selection/_validation.py:548: FitFailedWarning: Estimator fit failed. The score on this train-test partition for these parameters will be set to nan. Details: \n",
      "Traceback (most recent call last):\n",
      "  File \"/Users/perkinsc/Documents/Northeastern/EAI6000/eai6000_group5/env/lib/python3.8/site-packages/sklearn/model_selection/_validation.py\", line 531, in _fit_and_score\n",
      "    estimator.fit(X_train, y_train, **fit_params)\n",
      "  File \"/Users/perkinsc/Documents/Northeastern/EAI6000/eai6000_group5/env/lib/python3.8/site-packages/sklearn/linear_model/_logistic.py\", line 1312, in fit\n",
      "    raise ValueError(\"l1_ratio must be between 0 and 1;\"\n",
      "ValueError: l1_ratio must be between 0 and 1; got (l1_ratio=None)\n",
      "\n",
      "  warnings.warn(\"Estimator fit failed. The score on this train-test\"\n",
      "/Users/perkinsc/Documents/Northeastern/EAI6000/eai6000_group5/env/lib/python3.8/site-packages/sklearn/model_selection/_validation.py:548: FitFailedWarning: Estimator fit failed. The score on this train-test partition for these parameters will be set to nan. Details: \n",
      "Traceback (most recent call last):\n",
      "  File \"/Users/perkinsc/Documents/Northeastern/EAI6000/eai6000_group5/env/lib/python3.8/site-packages/sklearn/model_selection/_validation.py\", line 531, in _fit_and_score\n",
      "    estimator.fit(X_train, y_train, **fit_params)\n",
      "  File \"/Users/perkinsc/Documents/Northeastern/EAI6000/eai6000_group5/env/lib/python3.8/site-packages/sklearn/linear_model/_logistic.py\", line 1304, in fit\n",
      "    solver = _check_solver(self.solver, self.penalty, self.dual)\n",
      "  File \"/Users/perkinsc/Documents/Northeastern/EAI6000/eai6000_group5/env/lib/python3.8/site-packages/sklearn/linear_model/_logistic.py\", line 449, in _check_solver\n",
      "    raise ValueError(\"Only 'saga' solver supports elasticnet penalty,\"\n",
      "ValueError: Only 'saga' solver supports elasticnet penalty, got solver=liblinear.\n",
      "\n",
      "  warnings.warn(\"Estimator fit failed. The score on this train-test\"\n",
      "/Users/perkinsc/Documents/Northeastern/EAI6000/eai6000_group5/env/lib/python3.8/site-packages/sklearn/model_selection/_validation.py:548: FitFailedWarning: Estimator fit failed. The score on this train-test partition for these parameters will be set to nan. Details: \n",
      "Traceback (most recent call last):\n",
      "  File \"/Users/perkinsc/Documents/Northeastern/EAI6000/eai6000_group5/env/lib/python3.8/site-packages/sklearn/model_selection/_validation.py\", line 531, in _fit_and_score\n",
      "    estimator.fit(X_train, y_train, **fit_params)\n",
      "  File \"/Users/perkinsc/Documents/Northeastern/EAI6000/eai6000_group5/env/lib/python3.8/site-packages/sklearn/linear_model/_logistic.py\", line 1312, in fit\n",
      "    raise ValueError(\"l1_ratio must be between 0 and 1;\"\n",
      "ValueError: l1_ratio must be between 0 and 1; got (l1_ratio=None)\n",
      "\n",
      "  warnings.warn(\"Estimator fit failed. The score on this train-test\"\n"
     ]
    },
    {
     "data": {
      "text/plain": [
       "GridSearchCV(cv=10, estimator=LogisticRegression(),\n",
       "             param_grid={'C': array([3.70370370e-05, 1.11111111e-03, 3.33333333e-02, 1.00000000e+00,\n",
       "       3.00000000e+01, 9.00000000e+02, 2.70000000e+04]),\n",
       "                         'penalty': ['l1', 'l2', 'elasticnet'],\n",
       "                         'solver': ['liblinear', 'saga']})"
      ]
     },
     "execution_count": 38,
     "metadata": {},
     "output_type": "execute_result"
    }
   ],
   "source": [
    "from sklearn.linear_model import LogisticRegression\n",
    "from sklearn.model_selection import GridSearchCV\n",
    "\n",
    "grid = {\n",
    "    \"C\": np.logspace(-3, 3, 7, 20, 30),\n",
    "    \"solver\": [\"liblinear\", \"saga\"],\n",
    "    \"penalty\": [\n",
    "        \"l1\", # l1 lasso\n",
    "        \"l2\", # l2 ridge\n",
    "        \"elasticnet\"\n",
    "    ]\n",
    "}\n",
    "logreg = LogisticRegression()\n",
    "logreg_cv = GridSearchCV(logreg, grid, cv=10)\n",
    "logreg_cv.fit(X_train_scaled, y_train)"
   ]
  },
  {
   "cell_type": "code",
   "execution_count": 39,
   "metadata": {},
   "outputs": [
    {
     "data": {
      "text/plain": [
       "{'C': 30.0, 'penalty': 'l1', 'solver': 'liblinear'}"
      ]
     },
     "execution_count": 39,
     "metadata": {},
     "output_type": "execute_result"
    }
   ],
   "source": [
    "logreg_cv.best_params_"
   ]
  },
  {
   "cell_type": "code",
   "execution_count": 42,
   "metadata": {},
   "outputs": [
    {
     "data": {
      "text/plain": [
       "array([[99.81150745, -0.17186938,  0.32794654, -0.03026317,  1.19053233,\n",
       "        -0.01242672, -0.76242091, -0.14838823,  0.31628327,  1.83534711,\n",
       "         1.45801542,  2.07151359,  0.16084281,  0.0335916 ,  0.34621341,\n",
       "         0.12007021,  0.40425577,  0.61726083, -0.85590992, -0.9301223 ,\n",
       "        -0.40427121, -0.02969549]])"
      ]
     },
     "execution_count": 42,
     "metadata": {},
     "output_type": "execute_result"
    }
   ],
   "source": [
    "np.set_printoptions(suppress=True)\n",
    "\n",
    "logreg_cv.best_estimator_.coef_"
   ]
  },
  {
   "cell_type": "code",
   "execution_count": 43,
   "metadata": {},
   "outputs": [
    {
     "data": {
      "image/png": "[encoded data removed]",
      "text/plain": [
       "<Figure size 432x288 with 2 Axes>"
      ]
     },
     "metadata": {
      "needs_background": "light"
     },
     "output_type": "display_data"
    }
   ],
   "source": [
    "from sklearn.metrics import plot_confusion_matrix\n",
    "\n",
    "plot_confusion_matrix(logreg_cv.best_estimator_, X_test_scaled, y_test)  # doctest: +SKIP\n",
    "plt.show()"
   ]
  },
  {
   "cell_type": "code",
   "execution_count": 277,
   "metadata": {},
   "outputs": [
    {
     "data": {
      "text/plain": [
       "LogisticRegression(C=30.0, penalty='l1', solver='liblinear')"
      ]
     },
     "execution_count": 277,
     "metadata": {},
     "output_type": "execute_result"
    }
   ],
   "source": [
    "logreg_cv.best_estimator_"
   ]
  },
  {
   "cell_type": "code",
   "execution_count": 53,
   "metadata": {},
   "outputs": [
    {
     "name": "stdout",
     "output_type": "stream",
     "text": [
      "accuracy : 0.9515582396439782\n"
     ]
    }
   ],
   "source": [
    "print(\"accuracy:\", logreg_cv.best_score_)"
   ]
  },
  {
   "cell_type": "code",
   "execution_count": 54,
   "metadata": {},
   "outputs": [
    {
     "name": "stdout",
     "output_type": "stream",
     "text": [
      "[[552136    688]\n",
      " [  2886      9]]\n",
      "0.9935686920907869\n"
     ]
    }
   ],
   "source": [
    "from sklearn.metrics import confusion_matrix, accuracy_score\n",
    "\n",
    "print(confusion_matrix(y_test, logreg_cv.best_estimator_.predict(X_test_scaled)))\n",
    "print(accuracy_score(y_test, logreg_cv.best_estimator_.predict(X_test_scaled)))"
   ]
  },
  {
   "cell_type": "code",
   "execution_count": 46,
   "metadata": {},
   "outputs": [
    {
     "data": {
      "image/png": "[encoded data removed]",
      "text/plain": [
       "<Figure size 432x288 with 1 Axes>"
      ]
     },
     "metadata": {
      "needs_background": "light"
     },
     "output_type": "display_data"
    }
   ],
   "source": [
    "import matplotlib.pyplot as plt\n",
    "from sklearn.metrics import roc_curve, auc\n",
    "\n",
    "y_score = model1.predict_proba(X_test_scaled[['amt']])\n",
    "y_score2 = model2.predict_proba(X_test_scaled)\n",
    "y_score3 = logreg_cv.best_estimator_.predict_proba(X_test_scaled)\n",
    "\n",
    "fpr = []\n",
    "tpr = []\n",
    "roc_auc = []\n",
    "fpr, tpr, _ = roc_curve(y_test, y_score[:,1])\n",
    "roc_auc = auc(fpr, tpr)\n",
    "\n",
    "fpr2, tpr2, _ = roc_curve(y_test, y_score2[:,1])\n",
    "roc_auc2 = auc(fpr2, tpr2)\n",
    "\n",
    "fpr3, tpr3, _ = roc_curve(y_test, y_score3[:,1])\n",
    "roc_auc3 = auc(fpr3, tpr3)\n",
    "\n",
    "plt.plot(fpr, tpr, label=f\"Model1 ROC curve of class (area = {roc_auc:.2f})\")\n",
    "plt.plot(fpr2, tpr2, label=f\"Model2 ROC curve of class (area = {roc_auc2:.2f})\")\n",
    "plt.plot(fpr3, tpr3, label=f\"Model3 ROC curve of class (area = {roc_auc3:.2f})\")\n",
    "    \n",
    "plt.plot([0, 1], [0, 1], 'k--')\n",
    "plt.xlim([-0.05, 1.0])\n",
    "plt.ylim([0.0, 1.05])\n",
    "plt.xlabel('False Positive Rate')\n",
    "plt.ylabel('True Positive Rate')\n",
    "plt.title('Receiver operating characteristic for Logistic Regression')\n",
    "plt.legend(loc=\"lower right\")\n",
    "plt.show()"
   ]
  },
  {
   "cell_type": "markdown",
   "metadata": {},
   "source": [
    "# Support Vector Machines"
   ]
  },
  {
   "cell_type": "code",
   "execution_count": 55,
   "metadata": {},
   "outputs": [],
   "source": [
    "# It recommended to standardize inputs for SVMs\n",
    "\n",
    "# Scale the DataFrame using MinMaxScaler\n",
    "\n",
    "import pandas as pd\n",
    "from sklearn import preprocessing\n",
    "\n",
    "standard_scaler = preprocessing.StandardScaler()\n",
    "x = X_train.values\n",
    "x_scaled = standard_scaler.fit_transform(x)\n",
    "X_train_standardized = pd.DataFrame(x_scaled)\n",
    "X_train_standardized.columns = X_train.columns\n",
    "\n",
    "x = X_test.values\n",
    "x_scaled = standard_scaler.fit_transform(x)\n",
    "X_test_standardized = pd.DataFrame(x_scaled)\n",
    "X_test_standardized.columns = X_test.columns"
   ]
  },
  {
   "cell_type": "code",
   "execution_count": 56,
   "metadata": {},
   "outputs": [
    {
     "data": {
      "text/plain": [
       "SVC(probability=True)"
      ]
     },
     "execution_count": 56,
     "metadata": {},
     "output_type": "execute_result"
    }
   ],
   "source": [
    "from sklearn import svm\n",
    "\n",
    "clf = svm.SVC(probability=True)\n",
    "clf.fit(X_train_standardized, y_train)"
   ]
  },
  {
   "cell_type": "code",
   "execution_count": 57,
   "metadata": {},
   "outputs": [
    {
     "name": "stdout",
     "output_type": "stream",
     "text": [
      "Accuracy: 0.9761714103710688\n"
     ]
    },
    {
     "data": {
      "image/png": "[encoded data removed]",
      "text/plain": [
       "<Figure size 432x288 with 2 Axes>"
      ]
     },
     "metadata": {
      "needs_background": "light"
     },
     "output_type": "display_data"
    }
   ],
   "source": [
    "from sklearn.metrics import plot_confusion_matrix, accuracy_score\n",
    "\n",
    "print(f\"Accuracy: {accuracy_score(y_test, clf.predict(X_test_standardized))}\")\n",
    "plot_confusion_matrix(clf, X_test_standardized, y_test)  # doctest: +SKIP\n",
    "plt.show()"
   ]
  },
  {
   "cell_type": "code",
   "execution_count": 58,
   "metadata": {},
   "outputs": [
    {
     "data": {
      "text/plain": [
       "GridSearchCV(cv=10, estimator=SVC(probability=True),\n",
       "             param_grid={'C': [1, 10], 'kernel': ['rbf']})"
      ]
     },
     "execution_count": 58,
     "metadata": {},
     "output_type": "execute_result"
    }
   ],
   "source": [
    "# tuned_parameters = [{'kernel': ['rbf'], 'gamma': [1e-3, 1e-4],\n",
    "#                      'C': [1, 10, 100, 1000]},\n",
    "#                     {'kernel': ['linear'], 'C': [1, 10, 100, 1000]}]\n",
    "\n",
    "param_grid = {\n",
    "    'C': [\n",
    "        1,\n",
    "        10,\n",
    "#         100\n",
    "    ],  \n",
    "#     'gamma': [\n",
    "#         1,\n",
    "#         0.1,\n",
    "#         0.01\n",
    "#     ], \n",
    "    'kernel': ['rbf']\n",
    "}\n",
    "\n",
    "svc_cv = GridSearchCV(svm.SVC(probability=True), param_grid, cv=10)\n",
    "svc_cv.fit(X_train_standardized, y_train)"
   ]
  },
  {
   "cell_type": "code",
   "execution_count": 59,
   "metadata": {},
   "outputs": [
    {
     "name": "stdout",
     "output_type": "stream",
     "text": [
      "Accuracy: 0.9761714103710688\n"
     ]
    },
    {
     "data": {
      "image/png": "[encoded data removed]",
      "text/plain": [
       "<Figure size 432x288 with 2 Axes>"
      ]
     },
     "metadata": {
      "needs_background": "light"
     },
     "output_type": "display_data"
    }
   ],
   "source": [
    "from sklearn.metrics import plot_confusion_matrix, accuracy_score\n",
    "\n",
    "print(f\"Accuracy: {accuracy_score(y_test, clf.predict(X_test_standardized))}\")\n",
    "plot_confusion_matrix(svc_cv.best_estimator_, X_test_standardized, y_test)  # doctest: +SKIP\n",
    "plt.show()"
   ]
  },
  {
   "cell_type": "code",
   "execution_count": null,
   "metadata": {},
   "outputs": [],
   "source": [
    "import matplotlib.pyplot as plt\n",
    "from sklearn.metrics import roc_curve, auc\n",
    "\n",
    "y_score = clf.predict_proba(X_test_standardized)\n",
    "y_score2 = svc_cv.best_estimator_.predict_proba(X_test_standardized)\n",
    "\n",
    "fpr = []\n",
    "tpr = []\n",
    "roc_auc = []\n",
    "fpr, tpr, _ = roc_curve(y_test, y_score[:,1])\n",
    "roc_auc = auc(fpr, tpr)\n",
    "\n",
    "fpr2, tpr2, _ = roc_curve(y_test, y_score2[:,1])\n",
    "roc_auc2 = auc(fpr2, tpr2)\n",
    "\n",
    "\n",
    "plt.plot(fpr, tpr, label=f\"Model1 ROC curve of class (area = {roc_auc:.2f})\")\n",
    "plt.plot(fpr2, tpr2, label=f\"Model2 ROC curve of class (area = {roc_auc2:.2f})\")\n",
    "    \n",
    "plt.plot([0, 1], [0, 1], 'k--')\n",
    "plt.xlim([-0.05, 1.0])\n",
    "plt.ylim([0.0, 1.05])\n",
    "plt.xlabel('False Positive Rate')\n",
    "plt.ylabel('True Positive Rate')\n",
    "plt.title('Receiver operating characteristic for Support Vector Machines')\n",
    "plt.legend(loc=\"lower right\")\n",
    "plt.show()"
   ]
  },
  {
   "cell_type": "code",
   "execution_count": null,
   "metadata": {},
   "outputs": [],
   "source": []
  }
 ],
 "metadata": {
  "kernelspec": {
   "display_name": "Python 3",
   "language": "python",
   "name": "python3"
  },
  "language_info": {
   "codemirror_mode": {
    "name": "ipython",
    "version": 3
   },
   "file_extension": ".py",
   "mimetype": "text/x-python",
   "name": "python",
   "nbconvert_exporter": "python",
   "pygments_lexer": "ipython3",
   "version": "3.8.6"
  }
 },
 "nbformat": 4,
 "nbformat_minor": 4
}
