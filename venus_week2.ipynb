{
 "cells": [
  {
   "cell_type": "markdown",
   "metadata": {},
   "source": [
    "# Assignment Week 2 - Group 5\n",
    "\n",
    "### Noelani Roy, Yihong Qiu, Cosimo Cambi, Craig Perkins\n",
    "\n",
    "\n",
    "From the dataset your group has selected, complete the following tasks and prepare a paper\n",
    "(at least 6 pages, double-spaced, Times New Roman font size 12, include a cover page) and articulate your findings.\n",
    "\n",
    "1. Generate a linear and a logistic regression model to predict an outcome. The outcomes can be different from each other.\n",
    "\n",
    "2. Explain the results of the models using performance metrics such as Coefficient of Determination, QQ plots, Residual Plots, Confusion matrix etc.\n",
    "\n",
    "3. Improve the model using regularization and address multicollinearity in the data\n",
    "\n",
    "4. Explain your modeling conclusions. \n",
    "\n",
    "Note: Try to engineer features to extract non-linear relationships in the data."
   ]
  },
  {
   "cell_type": "markdown",
   "metadata": {},
   "source": [
    "# Data Preparation"
   ]
  },
  {
   "cell_type": "markdown",
   "metadata": {},
   "source": [
    "## Data Selection"
   ]
  },
  {
   "cell_type": "markdown",
   "metadata": {},
   "source": [
    "### Import libraries"
   ]
  },
  {
   "cell_type": "code",
   "execution_count": 274,
   "metadata": {},
   "outputs": [],
   "source": [
    "# main libraries\n",
    "import pandas as pd\n",
    "import numpy as np\n",
    "\n",
    "# visual libraries\n",
    "import seaborn as sns \n",
    "import matplotlib.pyplot as plt\n",
    "\n",
    "# sklearn libraries\n",
    "from sklearn.preprocessing import LabelEncoder\n",
    "from sklearn.preprocessing import StandardScaler\n",
    "from sklearn.model_selection import train_test_split"
   ]
  },
  {
   "cell_type": "markdown",
   "metadata": {},
   "source": [
    "### Read data"
   ]
  },
  {
   "cell_type": "code",
   "execution_count": 275,
   "metadata": {},
   "outputs": [],
   "source": [
    "fraudTrain = pd.read_csv(\"../fraudTrain.csv\")\n",
    "fraudTest = pd.read_csv(\"../fraudTest.csv\")"
   ]
  },
  {
   "cell_type": "code",
   "execution_count": 276,
   "metadata": {},
   "outputs": [],
   "source": [
    "# Joining fraudTrain and fraudTest datasets\n",
    "fraud_df = fraudTrain.append(fraudTest)\n",
    "# fraud_df.head()"
   ]
  },
  {
   "cell_type": "markdown",
   "metadata": {},
   "source": [
    "## Data Preprocessing"
   ]
  },
  {
   "cell_type": "markdown",
   "metadata": {},
   "source": [
    "### Data formatting and cleansing"
   ]
  },
  {
   "cell_type": "code",
   "execution_count": 277,
   "metadata": {},
   "outputs": [],
   "source": [
    "fraud_df = fraud_df.drop(columns=['Unnamed: 0'])"
   ]
  },
  {
   "cell_type": "code",
   "execution_count": 278,
   "metadata": {},
   "outputs": [],
   "source": [
    "# Converting dob to age \n",
    "## To parse all datetime columns in advance\n",
    "fraud_df['dob'] = pd.to_datetime(fraud_df['dob'], errors='coerce')\n",
    "\n",
    "now = pd.to_datetime('now')\n",
    "\n",
    "## Create a new column age\n",
    "fraud_df['dob']=(now.year - fraud_df['dob'].dt.year) - ((now.month - fraud_df['dob'].dt.month) < 0)\n",
    "\n",
    "fraud_df = fraud_df.rename(columns={'dob': 'age'})"
   ]
  },
  {
   "cell_type": "code",
   "execution_count": 279,
   "metadata": {},
   "outputs": [],
   "source": [
    "# Converting unix timestamp to datetime\n",
    "fraud_df['unix_time'] = pd.to_datetime(fraud_df['unix_time'], unit='s')"
   ]
  },
  {
   "cell_type": "code",
   "execution_count": 280,
   "metadata": {},
   "outputs": [],
   "source": [
    "# female = 0, male = 1 \n",
    "labelencoder = LabelEncoder()\n",
    "label = labelencoder.fit_transform(fraud_df['gender'])\n",
    "fraud_df['gender']=label"
   ]
  },
  {
   "cell_type": "code",
   "execution_count": 281,
   "metadata": {},
   "outputs": [
    {
     "data": {
      "text/html": [
       "<div>\n",
       "<style scoped>\n",
       "    .dataframe tbody tr th:only-of-type {\n",
       "        vertical-align: middle;\n",
       "    }\n",
       "\n",
       "    .dataframe tbody tr th {\n",
       "        vertical-align: top;\n",
       "    }\n",
       "\n",
       "    .dataframe thead th {\n",
       "        text-align: right;\n",
       "    }\n",
       "</style>\n",
       "<table border=\"1\" class=\"dataframe\">\n",
       "  <thead>\n",
       "    <tr style=\"text-align: right;\">\n",
       "      <th></th>\n",
       "      <th>trans_date_trans_time</th>\n",
       "      <th>cc_num</th>\n",
       "      <th>merchant</th>\n",
       "      <th>category</th>\n",
       "      <th>amt</th>\n",
       "      <th>first</th>\n",
       "      <th>last</th>\n",
       "      <th>gender</th>\n",
       "      <th>street</th>\n",
       "      <th>city</th>\n",
       "      <th>...</th>\n",
       "      <th>lat</th>\n",
       "      <th>long</th>\n",
       "      <th>city_pop</th>\n",
       "      <th>job</th>\n",
       "      <th>age</th>\n",
       "      <th>trans_num</th>\n",
       "      <th>unix_time</th>\n",
       "      <th>merch_lat</th>\n",
       "      <th>merch_long</th>\n",
       "      <th>is_fraud</th>\n",
       "    </tr>\n",
       "  </thead>\n",
       "  <tbody>\n",
       "    <tr>\n",
       "      <th>0</th>\n",
       "      <td>2019-01-01 00:00:18</td>\n",
       "      <td>2703186189652095</td>\n",
       "      <td>fraud_Rippin, Kub and Mann</td>\n",
       "      <td>misc_net</td>\n",
       "      <td>4.97</td>\n",
       "      <td>Jennifer</td>\n",
       "      <td>Banks</td>\n",
       "      <td>0</td>\n",
       "      <td>561 Perry Cove</td>\n",
       "      <td>Moravian Falls</td>\n",
       "      <td>...</td>\n",
       "      <td>36.0788</td>\n",
       "      <td>-81.1781</td>\n",
       "      <td>3495</td>\n",
       "      <td>Psychologist, counselling</td>\n",
       "      <td>32</td>\n",
       "      <td>0b242abb623afc578575680df30655b9</td>\n",
       "      <td>2012-01-01 00:00:18</td>\n",
       "      <td>36.011293</td>\n",
       "      <td>-82.048315</td>\n",
       "      <td>0</td>\n",
       "    </tr>\n",
       "    <tr>\n",
       "      <th>1</th>\n",
       "      <td>2019-01-01 00:00:44</td>\n",
       "      <td>630423337322</td>\n",
       "      <td>fraud_Heller, Gutmann and Zieme</td>\n",
       "      <td>grocery_pos</td>\n",
       "      <td>107.23</td>\n",
       "      <td>Stephanie</td>\n",
       "      <td>Gill</td>\n",
       "      <td>0</td>\n",
       "      <td>43039 Riley Greens Suite 393</td>\n",
       "      <td>Orient</td>\n",
       "      <td>...</td>\n",
       "      <td>48.8878</td>\n",
       "      <td>-118.2105</td>\n",
       "      <td>149</td>\n",
       "      <td>Special educational needs teacher</td>\n",
       "      <td>42</td>\n",
       "      <td>1f76529f8574734946361c461b024d99</td>\n",
       "      <td>2012-01-01 00:00:44</td>\n",
       "      <td>49.159047</td>\n",
       "      <td>-118.186462</td>\n",
       "      <td>0</td>\n",
       "    </tr>\n",
       "    <tr>\n",
       "      <th>2</th>\n",
       "      <td>2019-01-01 00:00:51</td>\n",
       "      <td>38859492057661</td>\n",
       "      <td>fraud_Lind-Buckridge</td>\n",
       "      <td>entertainment</td>\n",
       "      <td>220.11</td>\n",
       "      <td>Edward</td>\n",
       "      <td>Sanchez</td>\n",
       "      <td>1</td>\n",
       "      <td>594 White Dale Suite 530</td>\n",
       "      <td>Malad City</td>\n",
       "      <td>...</td>\n",
       "      <td>42.1808</td>\n",
       "      <td>-112.2620</td>\n",
       "      <td>4154</td>\n",
       "      <td>Nature conservation officer</td>\n",
       "      <td>58</td>\n",
       "      <td>a1a22d70485983eac12b5b88dad1cf95</td>\n",
       "      <td>2012-01-01 00:00:51</td>\n",
       "      <td>43.150704</td>\n",
       "      <td>-112.154481</td>\n",
       "      <td>0</td>\n",
       "    </tr>\n",
       "    <tr>\n",
       "      <th>3</th>\n",
       "      <td>2019-01-01 00:01:16</td>\n",
       "      <td>3534093764340240</td>\n",
       "      <td>fraud_Kutch, Hermiston and Farrell</td>\n",
       "      <td>gas_transport</td>\n",
       "      <td>45.00</td>\n",
       "      <td>Jeremy</td>\n",
       "      <td>White</td>\n",
       "      <td>1</td>\n",
       "      <td>9443 Cynthia Court Apt. 038</td>\n",
       "      <td>Boulder</td>\n",
       "      <td>...</td>\n",
       "      <td>46.2306</td>\n",
       "      <td>-112.1138</td>\n",
       "      <td>1939</td>\n",
       "      <td>Patent attorney</td>\n",
       "      <td>53</td>\n",
       "      <td>6b849c168bdad6f867558c3793159a81</td>\n",
       "      <td>2012-01-01 00:01:16</td>\n",
       "      <td>47.034331</td>\n",
       "      <td>-112.561071</td>\n",
       "      <td>0</td>\n",
       "    </tr>\n",
       "    <tr>\n",
       "      <th>4</th>\n",
       "      <td>2019-01-01 00:03:06</td>\n",
       "      <td>375534208663984</td>\n",
       "      <td>fraud_Keeling-Crist</td>\n",
       "      <td>misc_pos</td>\n",
       "      <td>41.96</td>\n",
       "      <td>Tyler</td>\n",
       "      <td>Garcia</td>\n",
       "      <td>1</td>\n",
       "      <td>408 Bradley Rest</td>\n",
       "      <td>Doe Hill</td>\n",
       "      <td>...</td>\n",
       "      <td>38.4207</td>\n",
       "      <td>-79.4629</td>\n",
       "      <td>99</td>\n",
       "      <td>Dance movement psychotherapist</td>\n",
       "      <td>34</td>\n",
       "      <td>a41d7549acf90789359a9aa5346dcb46</td>\n",
       "      <td>2012-01-01 00:03:06</td>\n",
       "      <td>38.674999</td>\n",
       "      <td>-78.632459</td>\n",
       "      <td>0</td>\n",
       "    </tr>\n",
       "  </tbody>\n",
       "</table>\n",
       "<p>5 rows × 22 columns</p>\n",
       "</div>"
      ],
      "text/plain": [
       "  trans_date_trans_time            cc_num                            merchant  \\\n",
       "0   2019-01-01 00:00:18  2703186189652095          fraud_Rippin, Kub and Mann   \n",
       "1   2019-01-01 00:00:44      630423337322     fraud_Heller, Gutmann and Zieme   \n",
       "2   2019-01-01 00:00:51    38859492057661                fraud_Lind-Buckridge   \n",
       "3   2019-01-01 00:01:16  3534093764340240  fraud_Kutch, Hermiston and Farrell   \n",
       "4   2019-01-01 00:03:06   375534208663984                 fraud_Keeling-Crist   \n",
       "\n",
       "        category     amt      first     last  gender  \\\n",
       "0       misc_net    4.97   Jennifer    Banks       0   \n",
       "1    grocery_pos  107.23  Stephanie     Gill       0   \n",
       "2  entertainment  220.11     Edward  Sanchez       1   \n",
       "3  gas_transport   45.00     Jeremy    White       1   \n",
       "4       misc_pos   41.96      Tyler   Garcia       1   \n",
       "\n",
       "                         street            city  ...      lat      long  \\\n",
       "0                561 Perry Cove  Moravian Falls  ...  36.0788  -81.1781   \n",
       "1  43039 Riley Greens Suite 393          Orient  ...  48.8878 -118.2105   \n",
       "2      594 White Dale Suite 530      Malad City  ...  42.1808 -112.2620   \n",
       "3   9443 Cynthia Court Apt. 038         Boulder  ...  46.2306 -112.1138   \n",
       "4              408 Bradley Rest        Doe Hill  ...  38.4207  -79.4629   \n",
       "\n",
       "   city_pop                                job  age  \\\n",
       "0      3495          Psychologist, counselling   32   \n",
       "1       149  Special educational needs teacher   42   \n",
       "2      4154        Nature conservation officer   58   \n",
       "3      1939                    Patent attorney   53   \n",
       "4        99     Dance movement psychotherapist   34   \n",
       "\n",
       "                          trans_num           unix_time  merch_lat  \\\n",
       "0  0b242abb623afc578575680df30655b9 2012-01-01 00:00:18  36.011293   \n",
       "1  1f76529f8574734946361c461b024d99 2012-01-01 00:00:44  49.159047   \n",
       "2  a1a22d70485983eac12b5b88dad1cf95 2012-01-01 00:00:51  43.150704   \n",
       "3  6b849c168bdad6f867558c3793159a81 2012-01-01 00:01:16  47.034331   \n",
       "4  a41d7549acf90789359a9aa5346dcb46 2012-01-01 00:03:06  38.674999   \n",
       "\n",
       "   merch_long  is_fraud  \n",
       "0  -82.048315         0  \n",
       "1 -118.186462         0  \n",
       "2 -112.154481         0  \n",
       "3 -112.561071         0  \n",
       "4  -78.632459         0  \n",
       "\n",
       "[5 rows x 22 columns]"
      ]
     },
     "execution_count": 281,
     "metadata": {},
     "output_type": "execute_result"
    }
   ],
   "source": [
    "fraud_df.head()"
   ]
  },
  {
   "cell_type": "code",
   "execution_count": 282,
   "metadata": {},
   "outputs": [
    {
     "name": "stdout",
     "output_type": "stream",
     "text": [
      "(1852394, 22)\n"
     ]
    }
   ],
   "source": [
    "print(fraud_df.shape)"
   ]
  },
  {
   "cell_type": "markdown",
   "metadata": {},
   "source": [
    "### Checking for missing values"
   ]
  },
  {
   "cell_type": "code",
   "execution_count": 283,
   "metadata": {},
   "outputs": [
    {
     "data": {
      "text/plain": [
       "0"
      ]
     },
     "execution_count": 283,
     "metadata": {},
     "output_type": "execute_result"
    }
   ],
   "source": [
    "fraud_df.isnull().any().sum()"
   ]
  },
  {
   "cell_type": "markdown",
   "metadata": {},
   "source": [
    "### Checking for data types"
   ]
  },
  {
   "cell_type": "code",
   "execution_count": 284,
   "metadata": {},
   "outputs": [
    {
     "data": {
      "text/plain": [
       "trans_date_trans_time            object\n",
       "cc_num                            int64\n",
       "merchant                         object\n",
       "category                         object\n",
       "amt                             float64\n",
       "first                            object\n",
       "last                             object\n",
       "gender                            int64\n",
       "street                           object\n",
       "city                             object\n",
       "state                            object\n",
       "zip                               int64\n",
       "lat                             float64\n",
       "long                            float64\n",
       "city_pop                          int64\n",
       "job                              object\n",
       "age                               int64\n",
       "trans_num                        object\n",
       "unix_time                datetime64[ns]\n",
       "merch_lat                       float64\n",
       "merch_long                      float64\n",
       "is_fraud                          int64\n",
       "dtype: object"
      ]
     },
     "execution_count": 284,
     "metadata": {},
     "output_type": "execute_result"
    }
   ],
   "source": [
    "fraud_df.dtypes"
   ]
  },
  {
   "cell_type": "markdown",
   "metadata": {},
   "source": [
    "### Checking for unique values"
   ]
  },
  {
   "cell_type": "code",
   "execution_count": 285,
   "metadata": {},
   "outputs": [
    {
     "data": {
      "text/plain": [
       "trans_date_trans_time    1819551\n",
       "cc_num                       999\n",
       "merchant                     693\n",
       "category                      14\n",
       "amt                        60616\n",
       "first                        355\n",
       "last                         486\n",
       "gender                         2\n",
       "street                       999\n",
       "city                         906\n",
       "state                         51\n",
       "zip                          985\n",
       "lat                          983\n",
       "long                         983\n",
       "city_pop                     891\n",
       "job                          497\n",
       "age                           82\n",
       "trans_num                1852394\n",
       "unix_time                1819583\n",
       "merch_lat                1754157\n",
       "merch_long               1809753\n",
       "is_fraud                       2\n",
       "dtype: int64"
      ]
     },
     "execution_count": 285,
     "metadata": {},
     "output_type": "execute_result"
    }
   ],
   "source": [
    "fraud_df.nunique()"
   ]
  },
  {
   "cell_type": "markdown",
   "metadata": {},
   "source": [
    "#### Take a look at column 'is_fraud'\n",
    "\n",
    "In the column 'is_fraud', data are Labeled as 0's and 1's. \n",
    "\n",
    "0 = non fraud, 1 = fraud"
   ]
  },
  {
   "cell_type": "code",
   "execution_count": 286,
   "metadata": {},
   "outputs": [
    {
     "name": "stdout",
     "output_type": "stream",
     "text": [
      "frauds : 0.5210014716091717 %\n",
      "non frauds : 99.47899852839083 %\n"
     ]
    }
   ],
   "source": [
    "All = fraud_df.shape[0]\n",
    "fraud = fraud_df[fraud_df['is_fraud'] == 1]\n",
    "nonFraud = fraud_df[fraud_df['is_fraud'] == 0]\n",
    "\n",
    "a = len(fraud)/All\n",
    "b = len(nonFraud)/All\n",
    "\n",
    "print('frauds :',a*100,'%')\n",
    "print('non frauds :',b*100,'%')"
   ]
  },
  {
   "cell_type": "markdown",
   "metadata": {},
   "source": [
    "## Data Transformation "
   ]
  },
  {
   "cell_type": "markdown",
   "metadata": {},
   "source": [
    "### Standardize the data"
   ]
  },
  {
   "cell_type": "code",
   "execution_count": 287,
   "metadata": {},
   "outputs": [],
   "source": [
    "# fraud_df.columns\n",
    "data = fraud_df[['amt', 'gender', 'zip','lat','long', 'city_pop','age','merch_lat','merch_long','is_fraud']]\n",
    "features = fraud_df[['amt', 'gender', 'zip','lat','long', 'city_pop','age','merch_lat','merch_long']]\n",
    "target = fraud_df[['is_fraud']]"
   ]
  },
  {
   "cell_type": "code",
   "execution_count": 288,
   "metadata": {},
   "outputs": [],
   "source": [
    "scaler = StandardScaler()\n",
    "\n",
    "scaler.fit(data)\n",
    "\n",
    "features = scaler.transform(data)"
   ]
  },
  {
   "cell_type": "markdown",
   "metadata": {},
   "source": [
    "### Principal Component Analysis"
   ]
  },
  {
   "cell_type": "code",
   "execution_count": 289,
   "metadata": {},
   "outputs": [],
   "source": [
    "from sklearn.decomposition import PCA\n",
    "# Make an instance of the Model\n",
    "pca = PCA(.95)"
   ]
  },
  {
   "cell_type": "code",
   "execution_count": 290,
   "metadata": {},
   "outputs": [],
   "source": [
    "pca.fit(data)\n",
    "data =pca.transform(data)"
   ]
  },
  {
   "cell_type": "markdown",
   "metadata": {},
   "source": [
    "### Data splitting"
   ]
  },
  {
   "cell_type": "code",
   "execution_count": 291,
   "metadata": {},
   "outputs": [],
   "source": [
    "x = fraud_df[['trans_date_trans_time', 'cc_num', 'merchant', 'category', 'amt','first', 'last', 'gender','street','city',\n",
    "              'state', 'zip', 'lat','long', 'city_pop', 'job', 'age', 'trans_num', 'unix_time', 'merch_lat','merch_long']]\n",
    "y = fraud_df[['is_fraud']]"
   ]
  },
  {
   "cell_type": "code",
   "execution_count": 292,
   "metadata": {},
   "outputs": [
    {
     "name": "stdout",
     "output_type": "stream",
     "text": [
      "(1296675, 21)\n",
      "(1296675, 1)\n",
      "(555719, 21)\n",
      "(555719, 1)\n"
     ]
    }
   ],
   "source": [
    "x_train,x_test,y_train,y_test=train_test_split(x,y,test_size=0.3,random_state=123)\n",
    "\n",
    "print(x_train.shape)\n",
    "print(y_train.shape)\n",
    "print(x_test.shape)\n",
    "print(y_test.shape)"
   ]
  },
  {
   "cell_type": "markdown",
   "metadata": {},
   "source": [
    "## Correlation Matrix"
   ]
  },
  {
   "cell_type": "code",
   "execution_count": 293,
   "metadata": {},
   "outputs": [
    {
     "name": "stdout",
     "output_type": "stream",
     "text": [
      "              cc_num       amt    gender       zip       lat      long  \\\n",
      "cc_num      1.000000  0.001826  0.000333  0.041504 -0.058744 -0.048429   \n",
      "amt         0.001826  1.000000  0.000740  0.001979 -0.000670 -0.000735   \n",
      "gender      0.000333  0.000740  1.000000 -0.066106  0.042862  0.050653   \n",
      "zip         0.041504  0.001979 -0.066106  1.000000 -0.114554 -0.909795   \n",
      "lat        -0.058744 -0.000670  0.042862 -0.114554  1.000000 -0.014744   \n",
      "long       -0.048429 -0.000735  0.050653 -0.909795 -0.014744  1.000000   \n",
      "city_pop   -0.009118  0.004921 -0.028862  0.077601 -0.154816 -0.052359   \n",
      "age        -0.000312 -0.010604  0.004718  0.009735  0.047874 -0.029061   \n",
      "merch_lat  -0.058415 -0.000613  0.042621 -0.113934  0.993582 -0.014585   \n",
      "merch_long -0.048421 -0.000711  0.050606 -0.908981 -0.014709  0.999118   \n",
      "is_fraud   -0.001125  0.209308  0.005844 -0.002190  0.002904  0.001022   \n",
      "\n",
      "            city_pop       age  merch_lat  merch_long  is_fraud  \n",
      "cc_num     -0.009118 -0.000312  -0.058415   -0.048421 -0.001125  \n",
      "amt         0.004921 -0.010604  -0.000613   -0.000711  0.209308  \n",
      "gender     -0.028862  0.004718   0.042621    0.050606  0.005844  \n",
      "zip         0.077601  0.009735  -0.113934   -0.908981 -0.002190  \n",
      "lat        -0.154816  0.047874   0.993582   -0.014709  0.002904  \n",
      "long       -0.052359 -0.029061  -0.014585    0.999118  0.001022  \n",
      "city_pop    1.000000 -0.091806  -0.153863   -0.052329  0.000325  \n",
      "age        -0.091806  1.000000   0.047493   -0.029016  0.011083  \n",
      "merch_lat  -0.153863  0.047493   1.000000   -0.014554  0.002778  \n",
      "merch_long -0.052329 -0.029016  -0.014554    1.000000  0.000999  \n",
      "is_fraud    0.000325  0.011083   0.002778    0.000999  1.000000  \n"
     ]
    }
   ],
   "source": [
    "corrMatrix = fraud_df.corr()\n",
    "print (corrMatrix)"
   ]
  },
  {
   "cell_type": "code",
   "execution_count": 294,
   "metadata": {},
   "outputs": [
    {
     "data": {
      "image/png": "[encoded data removed]",
      "text/plain": [
       "<Figure size 720x576 with 2 Axes>"
      ]
     },
     "metadata": {
      "needs_background": "light"
     },
     "output_type": "display_data"
    }
   ],
   "source": [
    "plt.figure(figsize=(10, 8))\n",
    "#cmap = sns.diverging_palette(250, 30, l=65, as_cmap=True)\n",
    "cmap =  sns.diverging_palette(150, 275, s=80, l=60, n=11)\n",
    "sn.heatmap(corrMatrix, annot=True, vmin=-1, vmax=1, center= 0, cmap=cmap)\n",
    "plt.show()"
   ]
  },
  {
   "cell_type": "code",
   "execution_count": null,
   "metadata": {},
   "outputs": [],
   "source": [
    "# Linear Regression Model"
   ]
  },
  {
   "cell_type": "code",
   "execution_count": null,
   "metadata": {},
   "outputs": [],
   "source": [
    "# Logistic Regression Model"
   ]
  },
  {
   "cell_type": "code",
   "execution_count": null,
   "metadata": {},
   "outputs": [],
   "source": []
  },
  {
   "cell_type": "markdown",
   "metadata": {},
   "source": [
    "# References\n",
    "[1] https://machinelearningmastery.com/rescaling-data-for-machine-learning-in-python-with-scikit-learn/\n",
    "\n",
    "[2] https://towardsdatascience.com/data-normalization-with-pandas-and-scikit-learn-7c1cc6ed6475\n",
    "\n",
    "[3] https://towardsdatascience.com/a-one-stop-shop-for-principal-component-analysis-5582fb7e0a9c\n",
    "\n",
    "[4] https://towardsdatascience.com/pca-using-python-scikit-learn-e653f8989e60 \n",
    "\n",
    "[5] https://towardsdatascience.com/metrics-to-evaluate-your-machine-learning-algorithm-f10ba6e38234"
   ]
  }
 ],
 "metadata": {
  "kernelspec": {
   "display_name": "Python 3",
   "language": "python",
   "name": "python3"
  },
  "language_info": {
   "codemirror_mode": {
    "name": "ipython",
    "version": 3
   },
   "file_extension": ".py",
   "mimetype": "text/x-python",
   "name": "python",
   "nbconvert_exporter": "python",
   "pygments_lexer": "ipython3",
   "version": "3.8.3"
  }
 },
 "nbformat": 4,
 "nbformat_minor": 4
}
