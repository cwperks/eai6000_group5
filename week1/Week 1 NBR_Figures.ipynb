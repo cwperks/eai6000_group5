{
 "cells": [
  {
   "cell_type": "code",
   "execution_count": 1,
   "metadata": {
    "scrolled": true
   },
   "outputs": [],
   "source": [
    "import pandas as pd\n",
    "import numpy as np\n",
    "\n",
    "df = pd.read_csv(\n",
    "    'C:/Users/Noela_tm/Downloads/FraudTest.csv'\n",
    ")\n",
    "\n"
   ]
  },
  {
   "cell_type": "code",
   "execution_count": 46,
   "metadata": {},
   "outputs": [
    {
     "name": "stdout",
     "output_type": "stream",
     "text": [
      "number of duplicate rows: (0, 18)\n"
     ]
    }
   ],
   "source": [
    "#Figure 1\n",
    "duplicate_rows_df = df[df.duplicated()]\n",
    "print(\"number of duplicate rows:\",duplicate_rows_df.shape)"
   ]
  },
  {
   "cell_type": "code",
   "execution_count": 8,
   "metadata": {},
   "outputs": [
    {
     "name": "stdout",
     "output_type": "stream",
     "text": [
      "merchant      0\n",
      "category      0\n",
      "amt           0\n",
      "first         0\n",
      "last          0\n",
      "gender        0\n",
      "street        0\n",
      "city          0\n",
      "state         0\n",
      "zip           0\n",
      "lat           0\n",
      "long          0\n",
      "job           0\n",
      "dob           0\n",
      "unix_time     0\n",
      "merch_lat     0\n",
      "merch_long    0\n",
      "is_fraud      0\n",
      "dtype: int64\n"
     ]
    }
   ],
   "source": [
    "#Figure 1\n",
    "print(df.isnull().sum())"
   ]
  },
  {
   "cell_type": "code",
   "execution_count": 51,
   "metadata": {},
   "outputs": [
    {
     "name": "stdout",
     "output_type": "stream",
     "text": [
      "Count of Fraud: 2145\n",
      "Total Rows: 555719\n"
     ]
    }
   ],
   "source": [
    "#Figure 2\n",
    "isFraudTotal=df['is_fraud'].sum()\n",
    "print(\"Count of Fraud:\",isFraudTotal)\n",
    "total_rows = df['merchant'].count()\n",
    "print(\"Total Rows:\",total_rows)"
   ]
  },
  {
   "cell_type": "code",
   "execution_count": 45,
   "metadata": {},
   "outputs": [
    {
     "data": {
      "text/html": [
       "<div>\n",
       "<style scoped>\n",
       "    .dataframe tbody tr th:only-of-type {\n",
       "        vertical-align: middle;\n",
       "    }\n",
       "\n",
       "    .dataframe tbody tr th {\n",
       "        vertical-align: top;\n",
       "    }\n",
       "\n",
       "    .dataframe thead th {\n",
       "        text-align: right;\n",
       "    }\n",
       "</style>\n",
       "<table border=\"1\" class=\"dataframe\">\n",
       "  <thead>\n",
       "    <tr style=\"text-align: right;\">\n",
       "      <th></th>\n",
       "      <th>merchant</th>\n",
       "      <th>is_fraud</th>\n",
       "    </tr>\n",
       "  </thead>\n",
       "  <tbody>\n",
       "    <tr>\n",
       "      <th>528</th>\n",
       "      <td>fraud_Romaguera, Cruickshank and Greenholt</td>\n",
       "      <td>18</td>\n",
       "    </tr>\n",
       "    <tr>\n",
       "      <th>386</th>\n",
       "      <td>fraud_Lemke-Gutmann</td>\n",
       "      <td>18</td>\n",
       "    </tr>\n",
       "    <tr>\n",
       "      <th>443</th>\n",
       "      <td>fraud_Mosciski, Ziemann and Farrell</td>\n",
       "      <td>18</td>\n",
       "    </tr>\n",
       "    <tr>\n",
       "      <th>570</th>\n",
       "      <td>fraud_Schultz, Simonis and Little</td>\n",
       "      <td>17</td>\n",
       "    </tr>\n",
       "    <tr>\n",
       "      <th>238</th>\n",
       "      <td>fraud_Heathcote, Yost and Kertzmann</td>\n",
       "      <td>17</td>\n",
       "    </tr>\n",
       "    <tr>\n",
       "      <th>237</th>\n",
       "      <td>fraud_Heathcote LLC</td>\n",
       "      <td>15</td>\n",
       "    </tr>\n",
       "    <tr>\n",
       "      <th>421</th>\n",
       "      <td>fraud_Medhurst PLC</td>\n",
       "      <td>15</td>\n",
       "    </tr>\n",
       "    <tr>\n",
       "      <th>427</th>\n",
       "      <td>fraud_Miller-Hauck</td>\n",
       "      <td>15</td>\n",
       "    </tr>\n",
       "    <tr>\n",
       "      <th>27</th>\n",
       "      <td>fraud_Bashirian Group</td>\n",
       "      <td>15</td>\n",
       "    </tr>\n",
       "    <tr>\n",
       "      <th>70</th>\n",
       "      <td>fraud_Boyer PLC</td>\n",
       "      <td>15</td>\n",
       "    </tr>\n",
       "    <tr>\n",
       "      <th>316</th>\n",
       "      <td>fraud_Kilback LLC</td>\n",
       "      <td>15</td>\n",
       "    </tr>\n",
       "    <tr>\n",
       "      <th>270</th>\n",
       "      <td>fraud_Huel, Hammes and Witting</td>\n",
       "      <td>14</td>\n",
       "    </tr>\n",
       "    <tr>\n",
       "      <th>346</th>\n",
       "      <td>fraud_Kuhic LLC</td>\n",
       "      <td>14</td>\n",
       "    </tr>\n",
       "    <tr>\n",
       "      <th>308</th>\n",
       "      <td>fraud_Kiehn Inc</td>\n",
       "      <td>14</td>\n",
       "    </tr>\n",
       "    <tr>\n",
       "      <th>6</th>\n",
       "      <td>fraud_Altenwerth, Cartwright and Koss</td>\n",
       "      <td>14</td>\n",
       "    </tr>\n",
       "    <tr>\n",
       "      <th>13</th>\n",
       "      <td>fraud_Auer-West</td>\n",
       "      <td>13</td>\n",
       "    </tr>\n",
       "    <tr>\n",
       "      <th>678</th>\n",
       "      <td>fraud_Wolf Inc</td>\n",
       "      <td>13</td>\n",
       "    </tr>\n",
       "    <tr>\n",
       "      <th>94</th>\n",
       "      <td>fraud_Cole PLC</td>\n",
       "      <td>13</td>\n",
       "    </tr>\n",
       "    <tr>\n",
       "      <th>352</th>\n",
       "      <td>fraud_Kunze Inc</td>\n",
       "      <td>13</td>\n",
       "    </tr>\n",
       "    <tr>\n",
       "      <th>72</th>\n",
       "      <td>fraud_Boyer-Reichert</td>\n",
       "      <td>13</td>\n",
       "    </tr>\n",
       "  </tbody>\n",
       "</table>\n",
       "</div>"
      ],
      "text/plain": [
       "                                       merchant  is_fraud\n",
       "528  fraud_Romaguera, Cruickshank and Greenholt        18\n",
       "386                         fraud_Lemke-Gutmann        18\n",
       "443         fraud_Mosciski, Ziemann and Farrell        18\n",
       "570           fraud_Schultz, Simonis and Little        17\n",
       "238         fraud_Heathcote, Yost and Kertzmann        17\n",
       "237                         fraud_Heathcote LLC        15\n",
       "421                          fraud_Medhurst PLC        15\n",
       "427                          fraud_Miller-Hauck        15\n",
       "27                        fraud_Bashirian Group        15\n",
       "70                              fraud_Boyer PLC        15\n",
       "316                           fraud_Kilback LLC        15\n",
       "270              fraud_Huel, Hammes and Witting        14\n",
       "346                             fraud_Kuhic LLC        14\n",
       "308                             fraud_Kiehn Inc        14\n",
       "6         fraud_Altenwerth, Cartwright and Koss        14\n",
       "13                              fraud_Auer-West        13\n",
       "678                              fraud_Wolf Inc        13\n",
       "94                               fraud_Cole PLC        13\n",
       "352                             fraud_Kunze Inc        13\n",
       "72                         fraud_Boyer-Reichert        13"
      ]
     },
     "execution_count": 45,
     "metadata": {},
     "output_type": "execute_result"
    }
   ],
   "source": [
    "df_count=df.groupby(['merchant'])['is_fraud'].sum().reset_index()\n",
    "df_count.sort_values(by=['is_fraud'],axis=0, ascending=False).head(20)"
   ]
  },
  {
   "cell_type": "code",
   "execution_count": 67,
   "metadata": {},
   "outputs": [
    {
     "name": "stdout",
     "output_type": "stream",
     "text": [
      "Transaction Amount:\n",
      "count    555719.000000\n",
      "mean         69.392810\n",
      "std         156.745941\n",
      "min           1.000000\n",
      "25%           9.630000\n",
      "50%          47.290000\n",
      "75%          83.010000\n",
      "max       22768.110000\n",
      "Name: amt, dtype: float64\n"
     ]
    },
    {
     "data": {
      "text/plain": [
       "<matplotlib.axes._subplots.AxesSubplot at 0x1e5a05a56d0>"
      ]
     },
     "execution_count": 67,
     "metadata": {},
     "output_type": "execute_result"
    },
    {
     "data": {
      "image/png": "[encoded data removed]",
      "text/plain": [
       "<Figure size 432x432 with 1 Axes>"
      ]
     },
     "metadata": {
      "needs_background": "light"
     },
     "output_type": "display_data"
    }
   ],
   "source": [
    "#Figure 3\n",
    "stats = df['amt'].describe()\n",
    "print(\"Transaction Amount:\")\n",
    "print(stats)\n",
    "df.boxplot(column='amt', figsize=(6, 6))"
   ]
  },
  {
   "cell_type": "code",
   "execution_count": 68,
   "metadata": {},
   "outputs": [
    {
     "name": "stdout",
     "output_type": "stream",
     "text": [
      "Unix Timeframe:\n",
      "count    5.557190e+05\n",
      "mean     1.380679e+09\n",
      "std      5.201104e+06\n",
      "min      1.371817e+09\n",
      "25%      1.376029e+09\n",
      "50%      1.380762e+09\n",
      "75%      1.385867e+09\n",
      "max      1.388534e+09\n",
      "Name: unix_time, dtype: float64\n"
     ]
    },
    {
     "data": {
      "text/plain": [
       "<matplotlib.axes._subplots.AxesSubplot at 0x1e5b13ead90>"
      ]
     },
     "execution_count": 68,
     "metadata": {},
     "output_type": "execute_result"
    },
    {
     "data": {
      "image/png": "[encoded data removed]",
      "text/plain": [
       "<Figure size 432x432 with 1 Axes>"
      ]
     },
     "metadata": {
      "needs_background": "light"
     },
     "output_type": "display_data"
    }
   ],
   "source": [
    "#Figure 4\n",
    "statstime = df['unix_time'].describe()\n",
    "print(\"Unix Timeframe:\")\n",
    "print(statstime)\n",
    "df.boxplot(column='unix_time', figsize=(6, 6))"
   ]
  },
  {
   "cell_type": "code",
   "execution_count": null,
   "metadata": {},
   "outputs": [],
   "source": []
  }
 ],
 "metadata": {
  "kernelspec": {
   "display_name": "Python 3",
   "language": "python",
   "name": "python3"
  },
  "language_info": {
   "codemirror_mode": {
    "name": "ipython",
    "version": 3
   },
   "file_extension": ".py",
   "mimetype": "text/x-python",
   "name": "python",
   "nbconvert_exporter": "python",
   "pygments_lexer": "ipython3",
   "version": "3.8.3"
  }
 },
 "nbformat": 4,
 "nbformat_minor": 4
}
