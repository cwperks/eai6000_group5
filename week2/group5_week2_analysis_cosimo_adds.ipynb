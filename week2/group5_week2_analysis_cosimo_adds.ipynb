{
 "cells": [
  {
   "cell_type": "markdown",
   "metadata": {},
   "source": [
    "# Assignment Week 2 - Group 5\n",
    "\n",
    "### Noelani Roy, Yihong Qiu, Cosimo Cambi, Craig Perkins"
   ]
  },
  {
   "cell_type": "code",
   "execution_count": 20,
   "metadata": {},
   "outputs": [],
   "source": [
    "#consolidate list of packages\n",
    "import pandas as pd\n",
    "import numpy as np\n",
    "from datetime import date\n",
    "import geopy.distance\n",
    "from math import sin, cos, sqrt, atan2, radians, log\n",
    "import matplotlib.pyplot as plt"
   ]
  },
  {
   "cell_type": "code",
   "execution_count": null,
   "metadata": {},
   "outputs": [],
   "source": [
    "filename = \"../fraudTrain.csv\"\n",
    "filename2 = \"../fraudTest.csv\"\n",
    "\n",
    "fraud_df = pd.read_csv(filename)\n",
    "# df = pd.read_csv(filename2)\n",
    "# df2 = pd.read_csv(filename2)\n",
    "\n",
    "# fraud_df = pd.concat([df, df2])"
   ]
  },
  {
   "cell_type": "code",
   "execution_count": 2,
   "metadata": {},
   "outputs": [],
   "source": [
    "filename1 = \"fraudTrain.csv\"\n",
    "df_1 = pd.read_csv(filename1)\n",
    "filename2 = \"fraudTest.csv\"\n",
    "df_2 = pd.read_csv(filename2)\n",
    "\n",
    "fraud_df = df_1.append(df_2)"
   ]
  },
  {
   "cell_type": "code",
   "execution_count": 3,
   "metadata": {},
   "outputs": [
    {
     "data": {
      "text/plain": [
       "(1852394, 23)"
      ]
     },
     "execution_count": 3,
     "metadata": {},
     "output_type": "execute_result"
    }
   ],
   "source": [
    "fraud_df.shape\n",
    "#Craig I noticed that I started out with 23 columns and you started out with 28\n",
    "#Did you do something to you files before loading them?\n",
    "#What does everyone else have?"
   ]
  },
  {
   "cell_type": "code",
   "execution_count": null,
   "metadata": {},
   "outputs": [],
   "source": [
    "#fraud_df = fraud_df.head(10000)"
   ]
  },
  {
   "cell_type": "code",
   "execution_count": 4,
   "metadata": {},
   "outputs": [],
   "source": [
    "def calculate_age(born):\n",
    "    today = date.today()\n",
    "    return today.year - born.year - ((today.month, today.day) < (born.month, born.day))\n",
    "\n",
    "def calculate_distance(row):\n",
    "    coords_1 = (row['lat'], row['long'])\n",
    "    coords_2 = (row['merch_lat'], row['merch_long'])\n",
    "    return geopy.distance.geodesic(coords_1, coords_2).km\n",
    "\n",
    "# Answer from https://stackoverflow.com/questions/19412462/getting-distance-between-two-points-based-on-latitude-longitude\n",
    "# The answers above are based on the Haversine formula, which assumes the earth is a sphere,\n",
    "# which results in errors of up to about 0.5% (according to help(geopy.distance)). \n",
    "# Vincenty distance uses more accurate ellipsoidal models such as WGS-84, and is implemented in geopy. For example,\n",
    "def calculate_distance2(row):\n",
    "    # approximate radius of earth in km\n",
    "    R = 6373.0\n",
    "\n",
    "    lat1 = radians(row['lat'])\n",
    "    lon1 = radians(row['long'])\n",
    "    lat2 = radians(row['merch_lat'])\n",
    "    lon2 = radians(row['merch_long'])\n",
    "\n",
    "    dlon = lon2 - lon1\n",
    "    dlat = lat2 - lat1\n",
    "\n",
    "    a = sin(dlat / 2)**2 + cos(lat1) * cos(lat2) * sin(dlon / 2)**2\n",
    "    c = 2 * atan2(sqrt(a), sqrt(1 - a))\n",
    "\n",
    "    distance = R * c\n",
    "    print(distance)\n",
    "\n",
    "\n",
    "# First derive columns\n",
    "if 'trans_date_trans_time' in fraud_df.columns:\n",
    "    fraud_df['txn_datetime'] =  pd.to_datetime(fraud_df['trans_date_trans_time'], format='%Y-%m-%d %H:%M:%S')\n",
    "\n",
    "if 'dob' in fraud_df.columns:\n",
    "    fraud_df['age'] = [calculate_age(d) for d in pd.to_datetime(fraud_df['dob'], format='%Y-%m-%d')]\n",
    "    \n",
    "if set(['lat', 'long', 'merch_lat', 'merch_long']).issubset(set(fraud_df.columns)):\n",
    "     fraud_df['distance'] = [calculate_distance(row) for _, row in fraud_df.iterrows()]\n",
    "        \n",
    "fraud_df['hour'] = fraud_df['txn_datetime'].dt.hour\n",
    "fraud_df['day'] = fraud_df['txn_datetime'].dt.day\n",
    "fraud_df['month'] = fraud_df['txn_datetime'].dt.month\n",
    "fraud_df['year'] = fraud_df['txn_datetime'].dt.year\n",
    "\n",
    "fraud_df['log_amt'] = [log(n) for n in fraud_df['amt']]    "
   ]
  },
  {
   "cell_type": "code",
   "execution_count": 5,
   "metadata": {},
   "outputs": [],
   "source": [
    "#Saving the new data frame since it take a while to create the new ones before after do the above steps and before the columns are dropped. \n",
    "fraud_df.to_csv('grp5_fraud_mod.csv')"
   ]
  },
  {
   "cell_type": "code",
   "execution_count": null,
   "metadata": {},
   "outputs": [],
   "source": [
    "#Read Modified Fraud File here to skip the feature generation...which can take a while\n",
    "filename1 = \"grp5_fraud_mod.csv\"\n",
    "fraud_df = pd.read_csv(filename1)"
   ]
  },
  {
   "cell_type": "code",
   "execution_count": 6,
   "metadata": {},
   "outputs": [],
   "source": [
    "# Drop the columns used to derive new features\n",
    "fraud_df.drop([\n",
    "    'Unnamed: 0',\n",
    "    'trans_num',\n",
    "    'unix_time',\n",
    "    'first',\n",
    "    'last',\n",
    "    'street',\n",
    "    'city',\n",
    "    'state',\n",
    "    'zip',\n",
    "    'dob',\n",
    "    'trans_date_trans_time',\n",
    "    'lat',\n",
    "    'long',\n",
    "    'merch_lat',\n",
    "    'merch_long'\n",
    "], axis=1, errors='ignore', inplace=True)\n",
    "\n",
    "\n",
    "cols = list(fraud_df.columns)\n",
    "cols.insert(0, cols.pop(cols.index(\"txn_datetime\")))\n",
    "cols.append(cols.pop(cols.index('is_fraud')))\n",
    "fraud_df = fraud_df[cols]"
   ]
  },
  {
   "cell_type": "code",
   "execution_count": 7,
   "metadata": {},
   "outputs": [
    {
     "data": {
      "application/vnd.jupyter.widget-view+json": {
       "model_id": "387708d084ba488fb31130f18dd3406a",
       "version_major": 2,
       "version_minor": 0
      },
      "text/plain": [
       "QgridWidget(grid_options={'fullWidthRows': True, 'syncColumnCellResize': True, 'forceFitColumns': False, 'defa…"
      ]
     },
     "metadata": {},
     "output_type": "display_data"
    }
   ],
   "source": [
    "import qgrid\n",
    "\n",
    "qgrid.show_grid(fraud_df.head(100), grid_options={'forceFitColumns': False, 'defaultColumnWidth': 100})"
   ]
  },
  {
   "cell_type": "code",
   "execution_count": 16,
   "metadata": {},
   "outputs": [],
   "source": [
    "#create a lis to hold our categorical columns and one to hold our numerical columns\n",
    "cat_col = ['category','gender',]\n",
    "#this is for the linear regression set and does not include amount - if we end up wanting to predict something else\n",
    "#we would just need replace the log_amt column with something else\n",
    "num_col = ['age','distance','year','month','day','hour','city_pop']\n",
    "\n",
    "#this is for the logistic regression model where we are predicitng is_fraud\n",
    "#num_col = ['log_amt','age','distance','year','month','day','hour','city_pop'] \n",
    "\n",
    "fraud_df['Target'] = fraud_df['log_amt'] #can chane if we want something else #for linear regression model\n",
    "#fraud_df['Target'] = fraud_df['is_fraud'] #for logistic regression model"
   ]
  },
  {
   "cell_type": "code",
   "execution_count": 9,
   "metadata": {},
   "outputs": [],
   "source": [
    "#This one hot encodes the categorical columns and create a new variable to hold the nex column headers\n",
    "if len(cat_col)>0: \n",
    "    cat_onehotencode = pd.get_dummies(fraud_df[cat_col],drop_first = True)\n",
    "    cat_col_onehotencode = list(cat_onehotencode.columns)\n",
    "    fraud_df = pd.concat([fraud_df,cat_onehotencode], axis = 1)\n",
    "\n",
    "else:\n",
    "    cat_col_onehotencode = []"
   ]
  },
  {
   "cell_type": "code",
   "execution_count": 14,
   "metadata": {},
   "outputs": [
    {
     "data": {
      "text/html": [
       "<div>\n",
       "<style scoped>\n",
       "    .dataframe tbody tr th:only-of-type {\n",
       "        vertical-align: middle;\n",
       "    }\n",
       "\n",
       "    .dataframe tbody tr th {\n",
       "        vertical-align: top;\n",
       "    }\n",
       "\n",
       "    .dataframe thead th {\n",
       "        text-align: right;\n",
       "    }\n",
       "</style>\n",
       "<table border=\"1\" class=\"dataframe\">\n",
       "  <thead>\n",
       "    <tr style=\"text-align: right;\">\n",
       "      <th></th>\n",
       "      <th>category_food_dining</th>\n",
       "      <th>category_gas_transport</th>\n",
       "      <th>category_grocery_net</th>\n",
       "      <th>category_grocery_pos</th>\n",
       "      <th>category_health_fitness</th>\n",
       "      <th>category_home</th>\n",
       "      <th>category_kids_pets</th>\n",
       "      <th>category_misc_net</th>\n",
       "      <th>category_misc_pos</th>\n",
       "      <th>category_personal_care</th>\n",
       "      <th>category_shopping_net</th>\n",
       "      <th>category_shopping_pos</th>\n",
       "      <th>category_travel</th>\n",
       "      <th>gender_M</th>\n",
       "    </tr>\n",
       "  </thead>\n",
       "  <tbody>\n",
       "    <tr>\n",
       "      <th>0</th>\n",
       "      <td>0</td>\n",
       "      <td>0</td>\n",
       "      <td>0</td>\n",
       "      <td>0</td>\n",
       "      <td>0</td>\n",
       "      <td>0</td>\n",
       "      <td>0</td>\n",
       "      <td>1</td>\n",
       "      <td>0</td>\n",
       "      <td>0</td>\n",
       "      <td>0</td>\n",
       "      <td>0</td>\n",
       "      <td>0</td>\n",
       "      <td>0</td>\n",
       "    </tr>\n",
       "    <tr>\n",
       "      <th>1</th>\n",
       "      <td>0</td>\n",
       "      <td>0</td>\n",
       "      <td>0</td>\n",
       "      <td>1</td>\n",
       "      <td>0</td>\n",
       "      <td>0</td>\n",
       "      <td>0</td>\n",
       "      <td>0</td>\n",
       "      <td>0</td>\n",
       "      <td>0</td>\n",
       "      <td>0</td>\n",
       "      <td>0</td>\n",
       "      <td>0</td>\n",
       "      <td>0</td>\n",
       "    </tr>\n",
       "    <tr>\n",
       "      <th>2</th>\n",
       "      <td>0</td>\n",
       "      <td>0</td>\n",
       "      <td>0</td>\n",
       "      <td>0</td>\n",
       "      <td>0</td>\n",
       "      <td>0</td>\n",
       "      <td>0</td>\n",
       "      <td>0</td>\n",
       "      <td>0</td>\n",
       "      <td>0</td>\n",
       "      <td>0</td>\n",
       "      <td>0</td>\n",
       "      <td>0</td>\n",
       "      <td>1</td>\n",
       "    </tr>\n",
       "    <tr>\n",
       "      <th>3</th>\n",
       "      <td>0</td>\n",
       "      <td>1</td>\n",
       "      <td>0</td>\n",
       "      <td>0</td>\n",
       "      <td>0</td>\n",
       "      <td>0</td>\n",
       "      <td>0</td>\n",
       "      <td>0</td>\n",
       "      <td>0</td>\n",
       "      <td>0</td>\n",
       "      <td>0</td>\n",
       "      <td>0</td>\n",
       "      <td>0</td>\n",
       "      <td>1</td>\n",
       "    </tr>\n",
       "    <tr>\n",
       "      <th>4</th>\n",
       "      <td>0</td>\n",
       "      <td>0</td>\n",
       "      <td>0</td>\n",
       "      <td>0</td>\n",
       "      <td>0</td>\n",
       "      <td>0</td>\n",
       "      <td>0</td>\n",
       "      <td>0</td>\n",
       "      <td>1</td>\n",
       "      <td>0</td>\n",
       "      <td>0</td>\n",
       "      <td>0</td>\n",
       "      <td>0</td>\n",
       "      <td>1</td>\n",
       "    </tr>\n",
       "  </tbody>\n",
       "</table>\n",
       "</div>"
      ],
      "text/plain": [
       "   category_food_dining  category_gas_transport  category_grocery_net  \\\n",
       "0                     0                       0                     0   \n",
       "1                     0                       0                     0   \n",
       "2                     0                       0                     0   \n",
       "3                     0                       1                     0   \n",
       "4                     0                       0                     0   \n",
       "\n",
       "   category_grocery_pos  category_health_fitness  category_home  \\\n",
       "0                     0                        0              0   \n",
       "1                     1                        0              0   \n",
       "2                     0                        0              0   \n",
       "3                     0                        0              0   \n",
       "4                     0                        0              0   \n",
       "\n",
       "   category_kids_pets  category_misc_net  category_misc_pos  \\\n",
       "0                   0                  1                  0   \n",
       "1                   0                  0                  0   \n",
       "2                   0                  0                  0   \n",
       "3                   0                  0                  0   \n",
       "4                   0                  0                  1   \n",
       "\n",
       "   category_personal_care  category_shopping_net  category_shopping_pos  \\\n",
       "0                       0                      0                      0   \n",
       "1                       0                      0                      0   \n",
       "2                       0                      0                      0   \n",
       "3                       0                      0                      0   \n",
       "4                       0                      0                      0   \n",
       "\n",
       "   category_travel  gender_M  \n",
       "0                0         0  \n",
       "1                0         0  \n",
       "2                0         1  \n",
       "3                0         1  \n",
       "4                0         1  "
      ]
     },
     "execution_count": 14,
     "metadata": {},
     "output_type": "execute_result"
    }
   ],
   "source": [
    "fraud_df[cat_col_onehotencode].head()"
   ]
  },
  {
   "cell_type": "code",
   "execution_count": 17,
   "metadata": {},
   "outputs": [
    {
     "name": "stdout",
     "output_type": "stream",
     "text": [
      "Total number of features: 21\n",
      "Numerical Features: 7\n",
      "Categorical Features: 14\n"
     ]
    }
   ],
   "source": [
    "#Count all the columns and put them togeather into one variable for easy tracking\n",
    "#does not include the log_amt column.\n",
    "print('Total number of features: {}'.format(len(num_col + cat_col_onehotencode)))\n",
    "print('Numerical Features: {}'.format(len(num_col)))\n",
    "print('Categorical Features: {}'.format(len(cat_col_onehotencode)))\n",
    "input_col = (num_col + cat_col_onehotencode)"
   ]
  },
  {
   "cell_type": "code",
   "execution_count": 19,
   "metadata": {},
   "outputs": [],
   "source": [
    "#build Training/Validation/Test Samples \n",
    "def Train_Valid_Test_Split(df,seed,tr):\n",
    "    #First Shuffle the data\n",
    "    df = df.sample(n = len(df), random_state=seed)\n",
    "    df = df.reset_index(drop = True)\n",
    "\n",
    "    #Splits Training Data = tr% - Validation & Test = (1-tr)/2\n",
    "    #First take (1-tr) for Validation and Test\n",
    "    valid_test=df.sample(frac=(1-tr),random_state=seed)\n",
    "\n",
    "    #Then Split the validation and test data in half \n",
    "    valid = valid_test.sample(frac=0.50,random_state=seed)\n",
    "    test = valid_test.drop(valid.index)\n",
    "\n",
    "    #The remodeling data is use for training data\n",
    "    train=df.drop(valid_test.index)\n",
    "    \n",
    "    return train, valid, test\n",
    "\n",
    "#I used a 60% split for test, 20% for vaild and 20% for Test because that is what the proff recommended. \n",
    "train,valid,test = Train_Valid_Test_Split(fraud_df[input_col +['Target']],12,.7)#(dataframe,randomseed,train split)"
   ]
  },
  {
   "cell_type": "code",
   "execution_count": 22,
   "metadata": {},
   "outputs": [
    {
     "data": {
      "image/png": "[encoded data removed]",
      "text/plain": [
       "<Figure size 640x480 with 1 Axes>"
      ]
     },
     "metadata": {},
     "output_type": "display_data"
    },
    {
     "name": "stdout",
     "output_type": "stream",
     "text": [
      "All samples (n = 1,852,394) accounted for.\n"
     ]
    }
   ],
   "source": [
    "#check to make sure all samples are accounted for and distribution of continous variable matches across data sets\n",
    "plt.figure(num=None, figsize=(8, 6), dpi=80, facecolor='w', edgecolor='k')\n",
    "plt.hist(train['Target'], alpha=0.5, label='Train',density=True)\n",
    "plt.hist(valid['Target'], alpha=0.5, label='Valid',density=True)\n",
    "plt.hist(test['Target'], alpha=0.5, label='Test',density=True)\n",
    "plt.legend(loc='upper right')\n",
    "plt.title = ('log(amt) Distribution in Split Datasets')\n",
    "plt.xlabel('log(amt)')\n",
    "plt.ylabel('Fraud Frequency')\n",
    "plt.show()\n",
    "\n",
    "#check all records are accounted for\n",
    "print('All samples (n = {:0,d}) accounted for.'.format(len(fraud_df)))\n",
    "assert len(fraud_df) == (len(test)+len(valid)+len(train)),'math didnt work'"
   ]
  },
  {
   "cell_type": "code",
   "execution_count": 26,
   "metadata": {},
   "outputs": [
    {
     "name": "stdout",
     "output_type": "stream",
     "text": [
      "Target checks:\n",
      "Test prevalence(n = 277,859):3.454\n",
      "Valid prevalence(n = 277,859):3.454\n",
      "Train all prevalence(n = 1,296,676):3.456\n",
      "All samples (n = 1,852,394) accounted for.\n",
      "For continous variables the prevelence is actually the average of the target variable\n"
     ]
    }
   ],
   "source": [
    "def calc_prevalence(y_actual):\n",
    "    # this function calculates the prevalence of the positive class (label = 1)\n",
    "    return (sum(y_actual)/len(y_actual))\n",
    "\n",
    "#check to make sure all samples are accounted for and prevelence of classification target variable matches across data sets\n",
    "print('Target checks:')\n",
    "print('Test prevalence(n = {:0,d}):{:.3f}'.format(len(test),calc_prevalence(test.Target.values)))\n",
    "print('Valid prevalence(n = {:0,d}):{:.3f}'.format(len(valid),calc_prevalence(valid.Target.values)))\n",
    "print('Train all prevalence(n = {:0,d}):{:.3f}'.format(len(train),calc_prevalence(train.Target.values)))\n",
    "\n",
    "#check all records are accounted for\n",
    "print('All samples (n = {:0,d}) accounted for.'.format(len(fraud_df)))\n",
    "assert len(fraud_df) == (len(test)+len(valid)+len(train)),'math didnt work'\n",
    "print('For continous variables the prevelence is actually the average of the target variable')"
   ]
  },
  {
   "cell_type": "code",
   "execution_count": 27,
   "metadata": {},
   "outputs": [],
   "source": [
    "#change data sets into maxtrix objects for the models\n",
    "X_train = train[input_col].values\n",
    "X_valid = valid[input_col].values\n",
    "X_test = test[input_col].values\n",
    "\n",
    "y_train = train['Target'].values\n",
    "y_valid = valid['Target'].values\n",
    "y_test = test['Target'].values"
   ]
  }
 ],
 "metadata": {
  "kernelspec": {
   "display_name": "Python 3",
   "language": "python",
   "name": "python3"
  },
  "language_info": {
   "codemirror_mode": {
    "name": "ipython",
    "version": 3
   },
   "file_extension": ".py",
   "mimetype": "text/x-python",
   "name": "python",
   "nbconvert_exporter": "python",
   "pygments_lexer": "ipython3",
   "version": "3.7.7"
  }
 },
 "nbformat": 4,
 "nbformat_minor": 4
}
