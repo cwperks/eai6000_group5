{
 "cells": [
  {
   "cell_type": "markdown",
   "metadata": {},
   "source": [
    "# Assignment Week 3 - Group 5\n",
    "\n",
    "### Cosimo Individual Work\n"
   ]
  },
  {
   "cell_type": "code",
   "execution_count": 1,
   "metadata": {},
   "outputs": [
    {
     "data": {
      "text/plain": [
       "<module 'CambiCosimo_Functions' from 'C:\\\\Users\\\\ccambi\\\\Desktop\\\\NEU\\\\EAI6000\\\\CambiCosimo_Functions.py'>"
      ]
     },
     "execution_count": 1,
     "metadata": {},
     "output_type": "execute_result"
    }
   ],
   "source": [
    "import CambiCosimo_Functions as cc\n",
    "#Some Functions to make this process easier and cleaner\n",
    "import importlib\n",
    "importlib.reload(cc)"
   ]
  },
  {
   "cell_type": "code",
   "execution_count": 2,
   "metadata": {},
   "outputs": [],
   "source": [
    "import pandas as pd\n",
    "import numpy as np\n",
    "import math as m\n",
    "from datetime import date\n",
    "import geopy.distance\n",
    "import matplotlib.pyplot as plt\n",
    "\n",
    "from sklearn.metrics import mean_squared_error, r2_score\n",
    "from sklearn.preprocessing import StandardScaler\n",
    "from sklearn.metrics import make_scorer, roc_curve, roc_auc_score, accuracy_score, precision_score, recall_score\n",
    "from sklearn.model_selection import GridSearchCV, RandomizedSearchCV\n",
    "from sklearn.ensemble import GradientBoostingClassifier\n",
    "\n",
    "from sklearn.tree import DecisionTreeClassifier\n",
    "from sklearn.ensemble import RandomForestClassifier\n",
    "from sklearn.linear_model import LinearRegression, ElasticNet, LogisticRegression\n",
    "\n",
    "import time\n",
    "\n",
    "#import seaborn as sns"
   ]
  },
  {
   "cell_type": "code",
   "execution_count": 3,
   "metadata": {},
   "outputs": [],
   "source": [
    "filename1 = \"fraudTrain.csv\"\n",
    "df_1 = pd.read_csv(filename1)\n",
    "filename2 = \"fraudTest.csv\"\n",
    "df_2 = pd.read_csv(filename2)\n",
    "\n",
    "fraud_df_all = df_1.append(df_2)\n",
    "\n",
    "#set to a sample of .xx to get all of the code working correctly, change to 1 for actuall run\n",
    "fraud_df = fraud_df_all.sample(frac=.25,\n",
    "                                random_state=12)\n",
    "#fraud_df=fraud_df_all"
   ]
  },
  {
   "cell_type": "code",
   "execution_count": 4,
   "metadata": {},
   "outputs": [],
   "source": [
    "#Custom Functions From Craig:\n",
    "def calculate_age(born):\n",
    "    today = date.today()\n",
    "    return today.year - born.year - ((today.month, today.day) < (born.month, born.day))\n",
    "\n",
    "def calculate_distance(row):\n",
    "    coords_1 = (row['lat'], row['long'])\n",
    "    coords_2 = (row['merch_lat'], row['merch_long'])\n",
    "    return geopy.distance.geodesic(coords_1, coords_2).km\n",
    "\n",
    "# Answer from https://stackoverflow.com/questions/19412462/getting-distance-between-two-points-based-on-latitude-longitude\n",
    "# The answers above are based on the Haversine formula, which assumes the earth is a sphere,\n",
    "# which results in errors of up to about 0.5% (according to help(geopy.distance)). \n",
    "# Vincenty distance uses more accurate ellipsoidal models such as WGS-84, and is implemented in geopy. For example,\n",
    "def calculate_distance2(row):\n",
    "    # approximate radius of earth in km\n",
    "    R = 6373.0\n",
    "\n",
    "    lat1 = radians(row['lat'])\n",
    "    lon1 = radians(row['long'])\n",
    "    lat2 = radians(row['merch_lat'])\n",
    "    lon2 = radians(row['merch_long'])\n",
    "\n",
    "    dlon = lon2 - lon1\n",
    "    dlat = lat2 - lat1\n",
    "\n",
    "    a = sin(dlat / 2)**2 + cos(lat1) * cos(lat2) * sin(dlon / 2)**2\n",
    "    c = 2 * atan2(sqrt(a), sqrt(1 - a))\n",
    "\n",
    "    distance = R * c\n",
    "    print(distance)"
   ]
  },
  {
   "cell_type": "code",
   "execution_count": 5,
   "metadata": {},
   "outputs": [],
   "source": [
    "# First derive columns\n",
    "if 'trans_date_trans_time' in fraud_df.columns:\n",
    "    fraud_df['txn_datetime'] =  pd.to_datetime(fraud_df['trans_date_trans_time'], format='%Y-%m-%d %H:%M:%S')\n",
    "\n",
    "if 'dob' in fraud_df.columns:\n",
    "    fraud_df['age'] = [calculate_age(d) for d in pd.to_datetime(fraud_df['dob'], format='%Y-%m-%d')]\n",
    "    \n",
    "if set(['lat', 'long', 'merch_lat', 'merch_long']).issubset(set(fraud_df.columns)):\n",
    "     fraud_df['distance'] = [calculate_distance(row) for _, row in fraud_df.iterrows()]\n",
    "        \n",
    "fraud_df['hour'] = fraud_df['txn_datetime'].dt.hour\n",
    "fraud_df['day'] = fraud_df['txn_datetime'].dt.day\n",
    "fraud_df['month'] = fraud_df['txn_datetime'].dt.month\n",
    "fraud_df['year'] = fraud_df['txn_datetime'].dt.year\n",
    "\n",
    "#create a seasons category??\n",
    "#create a time of day category??\n",
    "\n",
    "fraud_df['log_amt'] = [m.log(n) for n in fraud_df['amt']] "
   ]
  },
  {
   "cell_type": "code",
   "execution_count": 6,
   "metadata": {},
   "outputs": [
    {
     "name": "stdout",
     "output_type": "stream",
     "text": [
      "Unnamed: 0: 428294 unique values\n",
      "trans_date_trans_time: 461075 unique values\n",
      "cc_num: 991 unique values\n",
      "merchant: 693 unique values\n",
      "category\n",
      "['gas_transport' 'kids_pets' 'misc_pos' 'shopping_net' 'home'\n",
      " 'food_dining' 'entertainment' 'shopping_pos' 'grocery_pos' 'misc_net'\n",
      " 'health_fitness' 'personal_care' 'grocery_net' 'travel']\n",
      "amt: 35408 unique values\n",
      "first: 354 unique values\n",
      "last: 485 unique values\n",
      "gender\n",
      "['F' 'M']\n",
      "street: 991 unique values\n",
      "city: 902 unique values\n",
      "state: 51 unique values\n",
      "zip: 978 unique values\n",
      "lat: 976 unique values\n",
      "long: 976 unique values\n",
      "city_pop: 886 unique values\n",
      "job: 495 unique values\n",
      "dob: 976 unique values\n",
      "trans_num: 463098 unique values\n",
      "unix_time: 461076 unique values\n",
      "merch_lat: 456631 unique values\n",
      "merch_long: 460522 unique values\n",
      "is_fraud\n",
      "[0 1]\n",
      "txn_datetime: 461075 unique values\n",
      "age: 82 unique values\n",
      "distance: 463098 unique values\n",
      "hour\n",
      "[11 22  1  5 17 23 12 21 13 16 15 14  2 10 20  9  4  3  6 19  8  7 18  0]\n",
      "day: 31 unique values\n",
      "month\n",
      "[ 3  4  8 12  2  1 10  5  7  6  9 11]\n",
      "year\n",
      "[2019 2020]\n",
      "log_amt: 35408 unique values\n"
     ]
    }
   ],
   "source": [
    "#(dataframe, max number of unique values to show)\n",
    "cc.UniqueValues(fraud_df,30)"
   ]
  },
  {
   "cell_type": "code",
   "execution_count": 7,
   "metadata": {},
   "outputs": [],
   "source": [
    "#create target lables\n",
    "#target will be a binary classification variable for logistic regression: is_fraud\n",
    "fraud_df['Target'] = fraud_df['is_fraud']"
   ]
  },
  {
   "cell_type": "code",
   "execution_count": 8,
   "metadata": {},
   "outputs": [
    {
     "name": "stdout",
     "output_type": "stream",
     "text": [
      "Prevalence of the positive class for Target: 0.005\n"
     ]
    }
   ],
   "source": [
    "#Review the prevalence of the positive class for target\n",
    "print('Prevalence of the positive class for Target: {:.3f}'.format(cc.calc_prevalence(fraud_df['Target'].values)))"
   ]
  },
  {
   "cell_type": "code",
   "execution_count": 9,
   "metadata": {},
   "outputs": [],
   "source": [
    "#create a list to hold our categorical columns and one to hold our numerical columns\n",
    "cat_col = ['category','gender']\n",
    "num_col = ['age','city_pop','distance','amt','month','hour','day','year']"
   ]
  },
  {
   "cell_type": "code",
   "execution_count": 10,
   "metadata": {},
   "outputs": [
    {
     "name": "stdout",
     "output_type": "stream",
     "text": [
      "gender      0\n",
      "category    0\n",
      "dtype: int64\n",
      "year        0\n",
      "day         0\n",
      "hour        0\n",
      "month       0\n",
      "amt         0\n",
      "distance    0\n",
      "city_pop    0\n",
      "age         0\n",
      "dtype: int64\n"
     ]
    }
   ],
   "source": [
    "#make sure there are no missing values \n",
    "print(fraud_df[cat_col].isnull().sum().sort_values(ascending = False).head(50))\n",
    "print(fraud_df[num_col].isnull().sum().sort_values(ascending = False).head(50))"
   ]
  },
  {
   "cell_type": "code",
   "execution_count": 11,
   "metadata": {},
   "outputs": [],
   "source": [
    "#In order for categorical columns to work we have to one hot encode them\n",
    "if len(cat_col)>0: \n",
    "    cat_onehotencode = pd.get_dummies(fraud_df[cat_col],drop_first = True)\n",
    "    cat_col_onehotencode = list(cat_onehotencode.columns)\n",
    "    fraud_df = pd.concat([fraud_df,cat_onehotencode], axis = 1)\n",
    "\n",
    "else:\n",
    "    cat_col_onehotencode = []"
   ]
  },
  {
   "cell_type": "code",
   "execution_count": 12,
   "metadata": {},
   "outputs": [],
   "source": [
    "input_col = (num_col + cat_col_onehotencode)"
   ]
  },
  {
   "cell_type": "code",
   "execution_count": 13,
   "metadata": {},
   "outputs": [
    {
     "name": "stdout",
     "output_type": "stream",
     "text": [
      "Removed column 'year' with a 53.047709790594894 VIF.\n",
      "Final VIF DF\n",
      "                  variables       VIF\n",
      "2                  distance  6.823275\n",
      "0                       age  6.640844\n",
      "5                      hour  6.589325\n",
      "4                     month  4.927764\n",
      "6                       day  3.941152\n",
      "12            category_home  2.078092\n",
      "13       category_kids_pets  1.998311\n",
      "8    category_gas_transport  1.923728\n",
      "10     category_grocery_pos  1.881548\n",
      "18    category_shopping_pos  1.816488\n",
      "16   category_personal_care  1.795751\n",
      "20                 gender_M  1.787674\n",
      "11  category_health_fitness  1.743165\n",
      "7      category_food_dining  1.736453\n",
      "17    category_shopping_net  1.673539\n",
      "15        category_misc_pos  1.528591\n",
      "14        category_misc_net  1.421283\n",
      "19          category_travel  1.366509\n",
      "9      category_grocery_net  1.283685\n",
      "3                       amt  1.250984\n",
      "1                  city_pop  1.090991\n"
     ]
    }
   ],
   "source": [
    "#check for colinearity and create a new input column list for the reduced set\n",
    "input_col_reduced = cc.auto_vif(fraud_df[input_col],7)"
   ]
  },
  {
   "cell_type": "code",
   "execution_count": 14,
   "metadata": {},
   "outputs": [
    {
     "name": "stdout",
     "output_type": "stream",
     "text": [
      "Total number of features: 22\n",
      "Numerical Features: 8\n",
      "Categorical Features: 14\n",
      "Total number of features after coliniarity reduction: 21\n"
     ]
    }
   ],
   "source": [
    "print('Total number of features: {}'.format(len(num_col + cat_col_onehotencode)))\n",
    "print('Numerical Features: {}'.format(len(num_col)))\n",
    "print('Categorical Features: {}'.format(len(cat_col_onehotencode)))\n",
    "print('Total number of features after coliniarity reduction: {}'.format(len(input_col_reduced)))"
   ]
  },
  {
   "cell_type": "code",
   "execution_count": 15,
   "metadata": {},
   "outputs": [],
   "source": [
    "#build Training/Validation/Test Samples \n",
    "#(dataframe,randomseed,train split)\n",
    "train_ub,valid,test = cc.Train_Valid_Test_Split(fraud_df[input_col +['Target']],12,.7)"
   ]
  },
  {
   "cell_type": "code",
   "execution_count": 16,
   "metadata": {},
   "outputs": [
    {
     "name": "stdout",
     "output_type": "stream",
     "text": [
      "Balance Method Selected is  Sub\n",
      "Train balanced prevalence(n = 3,384):0.500\n"
     ]
    }
   ],
   "source": [
    "#balance the data set via Smote\n",
    "train = cc.balance_train_df(train_ub,'Sub','Target')\n",
    "\n",
    "#Possible alternative is to underdampe the data\n",
    "#train = cc.balance_train_df(train_ub,'Sub','Target')"
   ]
  },
  {
   "cell_type": "code",
   "execution_count": 17,
   "metadata": {},
   "outputs": [],
   "source": [
    "# create the X and y matrices for models\n",
    "X_train = train[input_col].values\n",
    "X_train_rd = train[input_col_reduced].values\n",
    "X_valid = valid[input_col].values\n",
    "X_valid_rd = valid[input_col_reduced].values\n",
    "X_test = test[input_col].values\n",
    "X_test_rd = test[input_col_reduced].values\n",
    "\n",
    "y_train = train['Target'].values\n",
    "y_valid = valid['Target'].values\n",
    "y_test = test['Target'].values"
   ]
  },
  {
   "cell_type": "code",
   "execution_count": 18,
   "metadata": {},
   "outputs": [],
   "source": [
    "#This creates scalars in order to scale the data so each variable is of similar size.\n",
    "#Use the unbalenced data set\n",
    "scaler  = StandardScaler()\n",
    "scaler.fit(train_ub[input_col].values)\n",
    "\n",
    "scaler_reduced  = StandardScaler()\n",
    "scaler_reduced.fit(train_ub[input_col_reduced].values)\n",
    "\n",
    "# transform our data matrices - this applies our scalar and scales the matrices for training and validation data\n",
    "X_train_tf = scaler.transform(X_train)\n",
    "X_train_rd_tf = scaler_reduced.transform(X_train_rd)\n",
    "X_valid_tf = scaler.transform(X_valid)\n",
    "X_valid_rd_tf = scaler_reduced.transform(X_valid_rd)\n",
    "X_test_tf = scaler.transform(X_test)\n",
    "X_test_rd_tf = scaler_reduced.transform(X_test_rd)"
   ]
  },
  {
   "cell_type": "markdown",
   "metadata": {},
   "source": [
    "# Start Modeling"
   ]
  },
  {
   "cell_type": "code",
   "execution_count": 19,
   "metadata": {},
   "outputs": [],
   "source": [
    "#Scoring used for cross validation\n",
    "auc_scoring = make_scorer(roc_auc_score)"
   ]
  },
  {
   "cell_type": "markdown",
   "metadata": {},
   "source": [
    "# Logistic Regression"
   ]
  },
  {
   "cell_type": "code",
   "execution_count": 20,
   "metadata": {},
   "outputs": [
    {
     "name": "stdout",
     "output_type": "stream",
     "text": [
      "Baseline Logistic Regression\n",
      "Training AUC:0.773\n",
      "Validation AUC:0.772\n"
     ]
    }
   ],
   "source": [
    "#Create a Baseline Model\n",
    "lr=LogisticRegression(random_state = 12)\n",
    "\n",
    "lr.fit(X_train_rd, y_train)\n",
    "\n",
    "y_train_preds = lr.predict_proba(X_train_rd_tf)[:,1]\n",
    "y_valid_preds = lr.predict_proba(X_valid_rd_tf)[:,1]\n",
    "\n",
    "print('Baseline Logistic Regression')\n",
    "lr_train_base_auc = roc_auc_score(y_train, y_train_preds)\n",
    "lr_valid_base_auc = roc_auc_score(y_valid, y_valid_preds)\n",
    "\n",
    "print('Training AUC:{:.3f}'.format(lr_train_base_auc))\n",
    "print('Validation AUC:{:.3f}'.format(lr_valid_base_auc))"
   ]
  },
  {
   "cell_type": "code",
   "execution_count": 21,
   "metadata": {},
   "outputs": [],
   "source": [
    "#help(LogisticRegression)\n",
    "#lr.get_params()"
   ]
  },
  {
   "cell_type": "code",
   "execution_count": 22,
   "metadata": {},
   "outputs": [
    {
     "name": "stdout",
     "output_type": "stream",
     "text": [
      "{'C': [0.002, 0.02, 1.2, 2, 20], 'class_weight': [None], 'dual': [False, True], 'fit_intercept': [False, True], 'intercept_scaling': [1], 'l1_ratio': [None], 'max_iter': [50, 100, 250], 'multi_class': ['auto'], 'n_jobs': [-1], 'penalty': ['l1', 'l2', 'elasticnet'], 'random_state': [12], 'solver': ['newton-cg', 'lbfgs', 'liblinear', 'sag', 'saga'], 'tol': [0.001, 0.0001, 1e-05], 'verbose': [1], 'warm_start': [False, True]}\n"
     ]
    }
   ],
   "source": [
    "#Create grid Optimized Model\n",
    "\n",
    "C = [0.002,0.02,1.2,2,20]\n",
    "class_weight = [None]\n",
    "dual = [False,True]\n",
    "fit_intercept = [False,True]\n",
    "intercept_scaling = [1]\n",
    "l1_ratio = [None]\n",
    "max_iter = [50,100,250]\n",
    "multi_class = ['auto']\n",
    "n_jobs = [-1]\n",
    "random_state = [12]\n",
    "penalty = ['l1', 'l2', 'elasticnet']\n",
    "solver = ['newton-cg', 'lbfgs', 'liblinear', 'sag', 'saga']\n",
    "tol = [0.001,0.0001,0.00001]\n",
    "verbose = [1]\n",
    "warm_start = [False,True]\n",
    "\n",
    "#param_grid\n",
    "\n",
    "param_grid_lr = {'C': C,\n",
    " 'class_weight': class_weight,\n",
    " 'dual': dual,\n",
    " 'fit_intercept': fit_intercept,\n",
    " 'intercept_scaling': intercept_scaling,\n",
    " 'l1_ratio': l1_ratio,\n",
    " 'max_iter': max_iter,\n",
    " 'multi_class': multi_class,\n",
    " 'n_jobs': n_jobs,\n",
    " 'penalty': penalty,\n",
    " 'random_state': random_state,\n",
    " 'solver': solver,\n",
    " 'tol': tol,\n",
    " 'verbose': verbose,\n",
    " 'warm_start': warm_start}\n",
    "\n",
    "print(param_grid_lr)\n"
   ]
  },
  {
   "cell_type": "code",
   "execution_count": 23,
   "metadata": {},
   "outputs": [
    {
     "name": "stdout",
     "output_type": "stream",
     "text": [
      "Fitting 5 folds for each of 5400 candidates, totalling 27000 fits\n"
     ]
    },
    {
     "name": "stderr",
     "output_type": "stream",
     "text": [
      "[Parallel(n_jobs=-1)]: Using backend LokyBackend with 8 concurrent workers.\n",
      "[Parallel(n_jobs=-1)]: Done  16 tasks      | elapsed:    3.9s\n",
      "[Parallel(n_jobs=-1)]: Done 344 tasks      | elapsed:    7.1s\n",
      "[Parallel(n_jobs=-1)]: Done 1624 tasks      | elapsed:   16.2s\n",
      "[Parallel(n_jobs=-1)]: Done 3416 tasks      | elapsed:   24.7s\n",
      "[Parallel(n_jobs=-1)]: Done 6258 tasks      | elapsed:   35.2s\n",
      "[Parallel(n_jobs=-1)]: Done 9096 tasks      | elapsed:   51.7s\n",
      "[Parallel(n_jobs=-1)]: Done 12666 tasks      | elapsed:  1.2min\n",
      "[Parallel(n_jobs=-1)]: Done 16224 tasks      | elapsed:  1.5min\n",
      "[Parallel(n_jobs=-1)]: Done 19072 tasks      | elapsed:  2.0min\n",
      "[Parallel(n_jobs=-1)]: Done 22696 tasks      | elapsed:  2.3min\n",
      "[Parallel(n_jobs=-1)]: Done 27000 out of 27000 | elapsed:  2.8min finished\n"
     ]
    },
    {
     "name": "stdout",
     "output_type": "stream",
     "text": [
      "convergence after 7 epochs took 0 seconds\n",
      "Elapsed Time: 167.09468698501587\n",
      "Best Parameters: {'C': 0.002, 'class_weight': None, 'dual': False, 'fit_intercept': True, 'intercept_scaling': 1, 'l1_ratio': None, 'max_iter': 50, 'multi_class': 'auto', 'n_jobs': -1, 'penalty': 'l1', 'random_state': 12, 'solver': 'saga', 'tol': 0.001, 'verbose': 1, 'warm_start': False}\n"
     ]
    },
    {
     "name": "stderr",
     "output_type": "stream",
     "text": [
      "[Parallel(n_jobs=-1)]: Using backend ThreadingBackend with 8 concurrent workers.\n",
      "[Parallel(n_jobs=-1)]: Done   1 out of   1 | elapsed:    0.0s finished\n"
     ]
    }
   ],
   "source": [
    "# create the cross-validation by grid method\n",
    "lr_grid = GridSearchCV(estimator = lr, param_grid = param_grid_lr, \n",
    "                            cv = 5, scoring=auc_scoring,verbose = 3, n_jobs = -1, \n",
    "                            error_score=0)\n",
    "\n",
    "\n",
    "# fit the random search model (this will take a few minutes)\n",
    "t1 = time.time()\n",
    "lr_grid.fit(X_train_rd_tf, y_train)\n",
    "t2 = time.time()\n",
    "print('Elapsed Time:',(t2-t1))\n",
    "\n",
    "print('Best Parameters:',lr_grid.best_params_)"
   ]
  },
  {
   "cell_type": "code",
   "execution_count": 24,
   "metadata": {},
   "outputs": [
    {
     "name": "stdout",
     "output_type": "stream",
     "text": [
      "Optimized Logistic Regression\n",
      "Training AUC:0.840\n",
      "Validation AUC:0.805\n"
     ]
    }
   ],
   "source": [
    "print('Optimized Logistic Regression')\n",
    "y_train_preds_grid = lr_grid.best_estimator_.predict_proba(X_train_rd_tf)[:,1]\n",
    "y_valid_preds_grid = lr_grid.best_estimator_.predict_proba(X_valid_rd_tf)[:,1]\n",
    "\n",
    "lr_train_opt_auc = roc_auc_score(y_train, y_train_preds_grid)\n",
    "lr_valid_opt_auc = roc_auc_score(y_valid, y_valid_preds_grid)\n",
    "\n",
    "print('Training AUC:{:.3f}'.format(lr_train_opt_auc))\n",
    "print('Validation AUC:{:.3f}'.format(lr_valid_opt_auc))"
   ]
  },
  {
   "cell_type": "markdown",
   "metadata": {},
   "source": [
    "## Decision Tree"
   ]
  },
  {
   "cell_type": "code",
   "execution_count": 25,
   "metadata": {},
   "outputs": [
    {
     "name": "stdout",
     "output_type": "stream",
     "text": [
      "Baseline Decision Tree\n",
      "Training AUC:0.482\n",
      "Validation AUC:0.495\n"
     ]
    }
   ],
   "source": [
    "#Create a Baseline Model\n",
    "dt=DecisionTreeClassifier(random_state = 12)\n",
    "\n",
    "dt.fit(X_train, y_train)\n",
    "\n",
    "y_train_preds = dt.predict_proba(X_train_tf)[:,1]\n",
    "y_valid_preds = dt.predict_proba(X_valid_tf)[:,1]\n",
    "\n",
    "print('Baseline Decision Tree')\n",
    "dt_train_base_auc = roc_auc_score(y_train, y_train_preds)\n",
    "dt_valid_base_auc = roc_auc_score(y_valid, y_valid_preds)\n",
    "\n",
    "print('Training AUC:{:.3f}'.format(dt_train_base_auc))\n",
    "print('Validation AUC:{:.3f}'.format(dt_valid_base_auc))\n"
   ]
  },
  {
   "cell_type": "code",
   "execution_count": 26,
   "metadata": {},
   "outputs": [],
   "source": [
    "#help(DecisionTreeClassifier)\n",
    "#dt_sub.get_params()"
   ]
  },
  {
   "cell_type": "code",
   "execution_count": 27,
   "metadata": {},
   "outputs": [
    {
     "name": "stdout",
     "output_type": "stream",
     "text": [
      "{'ccp_alpha': [0.0, 0.2], 'class_weight': [None], 'criterion': ['gini', 'entropy'], 'max_depth': [None], 'max_features': ['auto', 'sqrt', 'log2', 'none'], 'max_leaf_nodes': [None], 'min_impurity_decrease': [0.0], 'min_impurity_split': [None], 'min_samples_leaf': [1, 2, 10], 'min_samples_split': [1, 2, 10], 'min_weight_fraction_leaf': [0.0, 0.1, 0.25], 'random_state': [12], 'splitter': ['best', 'random']}\n"
     ]
    }
   ],
   "source": [
    "#Create Optimized Model\n",
    "\n",
    "ccp_alpha=[0.0,0.2]\n",
    "class_weight=[None]\n",
    "criterion=['gini','entropy']\n",
    "max_depth=[None]\n",
    "max_features=[\"auto\", \"sqrt\", \"log2\",\"none\"]\n",
    "max_leaf_nodes=[None]\n",
    "min_impurity_decrease=[0.0]\n",
    "min_impurity_split=[None]\n",
    "min_samples_leaf=[1,2,10]\n",
    "min_samples_split=[1,2,10]\n",
    "min_weight_fraction_leaf=[0.0,0.1,0.25]\n",
    "random_state=[12]\n",
    "splitter=['best','random']\n",
    "\n",
    "#param_grid\n",
    "\n",
    "param_grid_dt = {'ccp_alpha': ccp_alpha,\n",
    " 'class_weight': class_weight,\n",
    " 'criterion': criterion,\n",
    " 'max_depth': max_depth,\n",
    " 'max_features': max_features,\n",
    " 'max_leaf_nodes': max_leaf_nodes,\n",
    " 'min_impurity_decrease': min_impurity_decrease,\n",
    " 'min_impurity_split': min_impurity_split,\n",
    " 'min_samples_leaf': min_samples_leaf,\n",
    " 'min_samples_split': min_samples_split,\n",
    " 'min_weight_fraction_leaf': min_weight_fraction_leaf,\n",
    " 'random_state': random_state,\n",
    " 'splitter': splitter}\n",
    "\n",
    "print(param_grid_dt)"
   ]
  },
  {
   "cell_type": "code",
   "execution_count": 28,
   "metadata": {},
   "outputs": [
    {
     "name": "stdout",
     "output_type": "stream",
     "text": [
      "Fitting 5 folds for each of 864 candidates, totalling 4320 fits\n"
     ]
    },
    {
     "name": "stderr",
     "output_type": "stream",
     "text": [
      "[Parallel(n_jobs=-1)]: Using backend LokyBackend with 8 concurrent workers.\n",
      "[Parallel(n_jobs=-1)]: Done  56 tasks      | elapsed:    0.5s\n",
      "[Parallel(n_jobs=-1)]: Done 1200 tasks      | elapsed:    3.2s\n",
      "[Parallel(n_jobs=-1)]: Done 3200 tasks      | elapsed:    7.9s\n"
     ]
    },
    {
     "name": "stdout",
     "output_type": "stream",
     "text": [
      "Elapsed Time: 10.714024543762207\n",
      "Best Parameters: {'ccp_alpha': 0.0, 'class_weight': None, 'criterion': 'entropy', 'max_depth': None, 'max_features': 'auto', 'max_leaf_nodes': None, 'min_impurity_decrease': 0.0, 'min_impurity_split': None, 'min_samples_leaf': 2, 'min_samples_split': 10, 'min_weight_fraction_leaf': 0.0, 'random_state': 12, 'splitter': 'best'}\n"
     ]
    },
    {
     "name": "stderr",
     "output_type": "stream",
     "text": [
      "[Parallel(n_jobs=-1)]: Done 4320 out of 4320 | elapsed:   10.5s finished\n"
     ]
    }
   ],
   "source": [
    "# create the cross-validation by grid method\n",
    "dt_grid = GridSearchCV(estimator = dt, param_grid = param_grid_dt, \n",
    "                            cv = 5, scoring=auc_scoring,verbose = 1, n_jobs = -1, \n",
    "                            error_score=0)\n",
    "\n",
    "# fit the random search model (this will take a few minutes)\n",
    "t1 = time.time()\n",
    "dt_grid.fit(X_train_tf, y_train)\n",
    "t2 = time.time()\n",
    "print('Elapsed Time:',(t2-t1))\n",
    "\n",
    "print('Best Parameters:',dt_grid.best_params_)"
   ]
  },
  {
   "cell_type": "code",
   "execution_count": 29,
   "metadata": {},
   "outputs": [
    {
     "name": "stdout",
     "output_type": "stream",
     "text": [
      "Optimized Decision Tree\n",
      "Training AUC:0.995\n",
      "Validation AUC:0.926\n"
     ]
    }
   ],
   "source": [
    "print('Optimized Decision Tree')\n",
    "y_train_preds_grid = dt_grid.best_estimator_.predict_proba(X_train_tf)[:,1]\n",
    "y_valid_preds_grid = dt_grid.best_estimator_.predict_proba(X_valid_tf)[:,1]\n",
    "\n",
    "dt_train_opt_auc = roc_auc_score(y_train, y_train_preds_grid)\n",
    "dt_valid_opt_auc = roc_auc_score(y_valid, y_valid_preds_grid)\n",
    "\n",
    "print('Training AUC:{:.3f}'.format(dt_train_opt_auc))\n",
    "print('Validation AUC:{:.3f}'.format(dt_valid_opt_auc))"
   ]
  },
  {
   "cell_type": "markdown",
   "metadata": {},
   "source": [
    "## Random Forest"
   ]
  },
  {
   "cell_type": "code",
   "execution_count": 30,
   "metadata": {},
   "outputs": [
    {
     "name": "stdout",
     "output_type": "stream",
     "text": [
      "Baseline Random Forest\n",
      "Training AUC:0.353\n",
      "Validation AUC:0.366\n"
     ]
    }
   ],
   "source": [
    "#Create a Baseline Model\n",
    "rf=RandomForestClassifier(random_state = 12)\n",
    "\n",
    "rf.fit(X_train, y_train)\n",
    "\n",
    "y_train_preds = rf.predict_proba(X_train_tf)[:,1]\n",
    "y_valid_preds = rf.predict_proba(X_valid_tf)[:,1]\n",
    "\n",
    "print('Baseline Random Forest')\n",
    "rf_train_base_auc = roc_auc_score(y_train, y_train_preds)\n",
    "rf_valid_base_auc = roc_auc_score(y_valid, y_valid_preds)\n",
    "\n",
    "print('Training AUC:{:.3f}'.format(rf_train_base_auc))\n",
    "print('Validation AUC:{:.3f}'.format(rf_valid_base_auc))"
   ]
  },
  {
   "cell_type": "code",
   "execution_count": 31,
   "metadata": {},
   "outputs": [],
   "source": [
    "#help(RandomForestClassifier)\n",
    "#rf_sub.get_params()"
   ]
  },
  {
   "cell_type": "code",
   "execution_count": 32,
   "metadata": {},
   "outputs": [
    {
     "name": "stdout",
     "output_type": "stream",
     "text": [
      "{'bootstrap': [True, False], 'ccp_alpha': [0.0, 0.2], 'class_weight': [None], 'criterion': ['gini', 'entropy'], 'max_depth': [None], 'max_features': ['auto', 'sqrt', 'log2', 'none'], 'max_leaf_nodes': [None], 'max_samples': [0, 0.5, 1], 'min_impurity_decrease': [0.0], 'min_impurity_split': [None], 'min_samples_leaf': [1, 2, 10], 'min_samples_split': [1, 2, 10], 'min_weight_fraction_leaf': [0.0, 0.1, 0.25], 'n_estimators': [10, 100, 250], 'n_jobs': [-1], 'oob_score': [True, False], 'random_state': [12], 'verbose': [1], 'warm_start': [True, False]}\n"
     ]
    }
   ],
   "source": [
    "#Create Optimized Model\n",
    "\n",
    "bootstrap=[True,False]\n",
    "ccp_alpha=[0.0,0.2]\n",
    "class_weight=[None]\n",
    "criterion=['gini','entropy']\n",
    "max_depth=[None]\n",
    "max_features=[\"auto\", \"sqrt\", \"log2\",\"none\"]\n",
    "max_leaf_nodes=[None]\n",
    "max_samples=[0,.5,1]\n",
    "min_impurity_decrease=[0.0]\n",
    "min_impurity_split=[None]\n",
    "min_samples_leaf=[1,2,10]\n",
    "min_samples_split=[1,2,10]\n",
    "n_estimators=[10,100,250]#,1000]\n",
    "n_jobs=[-1]\n",
    "oob_score=[True,False]\n",
    "random_state=[12]\n",
    "verbose=[1]\n",
    "warm_start=[True,False]\n",
    "\n",
    "#param_grid\n",
    "\n",
    "param_grid_rf = {'bootstrap': bootstrap,\n",
    " 'ccp_alpha': ccp_alpha,\n",
    " 'class_weight': class_weight,\n",
    " 'criterion': criterion,\n",
    " 'max_depth': max_depth,\n",
    " 'max_features': max_features,\n",
    " 'max_leaf_nodes': max_leaf_nodes,\n",
    " 'max_samples': max_samples,\n",
    " 'min_impurity_decrease': min_impurity_decrease,\n",
    " 'min_impurity_split': min_impurity_split,\n",
    " 'min_samples_leaf': min_samples_leaf,\n",
    " 'min_samples_split': min_samples_split,\n",
    " 'min_weight_fraction_leaf': min_weight_fraction_leaf,\n",
    " 'n_estimators': n_estimators,\n",
    " 'n_jobs': n_jobs,\n",
    " 'oob_score': oob_score,\n",
    " 'random_state': random_state,\n",
    " 'verbose': verbose,\n",
    " 'warm_start': warm_start}\n",
    "\n",
    "print(param_grid_rf)"
   ]
  },
  {
   "cell_type": "code",
   "execution_count": 33,
   "metadata": {},
   "outputs": [
    {
     "name": "stdout",
     "output_type": "stream",
     "text": [
      "Fitting 5 folds for each of 1000 candidates, totalling 5000 fits\n"
     ]
    },
    {
     "name": "stderr",
     "output_type": "stream",
     "text": [
      "[Parallel(n_jobs=-1)]: Using backend LokyBackend with 8 concurrent workers.\n",
      "[Parallel(n_jobs=-1)]: Done  52 tasks      | elapsed:    3.6s\n",
      "[Parallel(n_jobs=-1)]: Done 216 tasks      | elapsed:   13.9s\n",
      "[Parallel(n_jobs=-1)]: Done 628 tasks      | elapsed:   39.1s\n",
      "[Parallel(n_jobs=-1)]: Done 1113 tasks      | elapsed:  1.1min\n",
      "[Parallel(n_jobs=-1)]: Done 1754 tasks      | elapsed:  1.9min\n",
      "[Parallel(n_jobs=-1)]: Done 2512 tasks      | elapsed:  2.5min\n",
      "[Parallel(n_jobs=-1)]: Done 3250 tasks      | elapsed:  3.3min\n",
      "[Parallel(n_jobs=-1)]: Done 4352 tasks      | elapsed:  4.5min\n",
      "[Parallel(n_jobs=-1)]: Done 4985 out of 5000 | elapsed:  5.2min remaining:    0.8s\n",
      "[Parallel(n_jobs=-1)]: Done 5000 out of 5000 | elapsed:  5.3min finished\n",
      "[Parallel(n_jobs=-1)]: Using backend ThreadingBackend with 8 concurrent workers.\n",
      "[Parallel(n_jobs=-1)]: Done  34 tasks      | elapsed:    0.1s\n",
      "[Parallel(n_jobs=-1)]: Done 184 tasks      | elapsed:    0.6s\n"
     ]
    },
    {
     "name": "stdout",
     "output_type": "stream",
     "text": [
      "Elapsed Time: 318.0159420967102\n",
      "Best Parameters: {'warm_start': False, 'verbose': 1, 'random_state': 12, 'oob_score': False, 'n_jobs': -1, 'n_estimators': 250, 'min_weight_fraction_leaf': 0.0, 'min_samples_split': 2, 'min_samples_leaf': 1, 'min_impurity_split': None, 'min_impurity_decrease': 0.0, 'max_samples': 1, 'max_leaf_nodes': None, 'max_features': 'sqrt', 'max_depth': None, 'criterion': 'gini', 'class_weight': None, 'ccp_alpha': 0.0, 'bootstrap': False}\n"
     ]
    },
    {
     "name": "stderr",
     "output_type": "stream",
     "text": [
      "[Parallel(n_jobs=-1)]: Done 250 out of 250 | elapsed:    0.9s finished\n"
     ]
    }
   ],
   "source": [
    "\n",
    "# create the cross-validation by grid method\n",
    "#rf_grid = GridSearchCV(estimator = rf, param_grid = param_grid_rf, \n",
    "#                            cv = 2, scoring=auc_scoring,verbose = 1, n_jobs = -1, #changed cv to 2 due to time\n",
    "#                            error_score=0)\n",
    "\n",
    "#Random grid search used for time constraints:\n",
    "\n",
    "rf_rand = RandomizedSearchCV(estimator = rf, param_distributions = param_grid_rf, \n",
    "                            n_iter = 1000, cv = 5, scoring=auc_scoring,verbose = 1, n_jobs = -1,\n",
    "                            error_score=0, random_state=12)\n",
    "        \n",
    "\n",
    "# fit the random search model (this will take a few minutes)\n",
    "t1 = time.time()\n",
    "rf_rand.fit(X_train_tf, y_train)\n",
    "t2 = time.time()\n",
    "print('Elapsed Time:',(t2-t1))\n",
    "\n",
    "print('Best Parameters:',rf_rand.best_params_)"
   ]
  },
  {
   "cell_type": "code",
   "execution_count": 34,
   "metadata": {},
   "outputs": [
    {
     "name": "stderr",
     "output_type": "stream",
     "text": [
      "[Parallel(n_jobs=8)]: Using backend ThreadingBackend with 8 concurrent workers.\n",
      "[Parallel(n_jobs=8)]: Done  34 tasks      | elapsed:    0.0s\n"
     ]
    },
    {
     "name": "stdout",
     "output_type": "stream",
     "text": [
      "Optimized Random Forest\n"
     ]
    },
    {
     "name": "stderr",
     "output_type": "stream",
     "text": [
      "[Parallel(n_jobs=8)]: Done 184 tasks      | elapsed:    0.1s\n",
      "[Parallel(n_jobs=8)]: Done 250 out of 250 | elapsed:    0.2s finished\n",
      "[Parallel(n_jobs=8)]: Using backend ThreadingBackend with 8 concurrent workers.\n",
      "[Parallel(n_jobs=8)]: Done  34 tasks      | elapsed:    0.1s\n",
      "[Parallel(n_jobs=8)]: Done 184 tasks      | elapsed:    0.6s\n"
     ]
    },
    {
     "name": "stdout",
     "output_type": "stream",
     "text": [
      "Training AUC:1.000\n",
      "Validation AUC:0.991\n"
     ]
    },
    {
     "name": "stderr",
     "output_type": "stream",
     "text": [
      "[Parallel(n_jobs=8)]: Done 250 out of 250 | elapsed:    0.9s finished\n"
     ]
    }
   ],
   "source": [
    "print('Optimized Random Forest')\n",
    "y_train_preds_rand = rf_rand.best_estimator_.predict_proba(X_train_tf)[:,1]\n",
    "y_valid_preds_rand = rf_rand.best_estimator_.predict_proba(X_valid_tf)[:,1]\n",
    "\n",
    "rf_train_opt_auc = roc_auc_score(y_train, y_train_preds_rand)\n",
    "rf_valid_opt_auc = roc_auc_score(y_valid, y_valid_preds_rand)\n",
    "\n",
    "print('Training AUC:{:.3f}'.format(rf_train_opt_auc))\n",
    "print('Validation AUC:{:.3f}'.format(rf_valid_opt_auc))"
   ]
  },
  {
   "cell_type": "markdown",
   "metadata": {},
   "source": [
    "## Gradient Boosting Classifier"
   ]
  },
  {
   "cell_type": "code",
   "execution_count": 35,
   "metadata": {},
   "outputs": [
    {
     "name": "stdout",
     "output_type": "stream",
     "text": [
      "Baseline Gradient Boosting Classifier\n",
      "Training AUC:0.433\n",
      "Validation AUC:0.453\n"
     ]
    }
   ],
   "source": [
    "#Create a Baseline Model\n",
    "gbc=GradientBoostingClassifier(random_state = 12)\n",
    "\n",
    "gbc.fit(X_train, y_train)\n",
    "\n",
    "y_train_preds = gbc.predict_proba(X_train_tf)[:,1]\n",
    "y_valid_preds = gbc.predict_proba(X_valid_tf)[:,1]\n",
    "\n",
    "print('Baseline Gradient Boosting Classifier')\n",
    "gbc_train_base_auc = roc_auc_score(y_train, y_train_preds)\n",
    "gbc_valid_base_auc = roc_auc_score(y_valid, y_valid_preds)\n",
    "\n",
    "print('Training AUC:{:.3f}'.format(gbc_train_base_auc))\n",
    "print('Validation AUC:{:.3f}'.format(gbc_valid_base_auc))"
   ]
  },
  {
   "cell_type": "markdown",
   "metadata": {},
   "source": [
    "## Learning Curves to help with hypertuning parameters"
   ]
  },
  {
   "cell_type": "code",
   "execution_count": 36,
   "metadata": {},
   "outputs": [
    {
     "data": {
      "image/png": "[encoded data removed]",
      "text/plain": [
       "<Figure size 432x288 with 1 Axes>"
      ]
     },
     "metadata": {
      "needs_background": "light"
     },
     "output_type": "display_data"
    }
   ],
   "source": [
    "#learning curves\n",
    "max_features = np.arange(1,23,1)\n",
    "\n",
    "train_aucs = np.zeros(len(max_features))\n",
    "valid_aucs = np.zeros(len(max_features))\n",
    "\n",
    "for jj in range(len(max_features)):\n",
    "    max_feature = max_features[jj]\n",
    "    # fit model\n",
    "    gbc =GradientBoostingClassifier(max_features=max_feature, random_state=12)\n",
    "    gbc.fit(X_train_tf, y_train)\n",
    "    \n",
    "    # get predictions\n",
    "    y_train_preds = gbc.predict_proba(X_train_tf)[:,1]\n",
    "    y_valid_preds = gbc.predict_proba(X_valid_tf)[:,1]\n",
    "\n",
    "    # calculate auc\n",
    "    auc_train = roc_auc_score(y_train, y_train_preds)\n",
    "    auc_valid = roc_auc_score(y_valid, y_valid_preds)\n",
    "\n",
    "    # save aucs\n",
    "    train_aucs[jj] = auc_train\n",
    "    valid_aucs[jj] = auc_valid\n",
    "\n",
    "plt.plot(max_features, train_aucs,'o-',label = 'Train')\n",
    "plt.plot(max_features, valid_aucs,'o-',label = 'Valid')\n",
    "\n",
    "plt.xlabel('max_features')\n",
    "plt.title('max_features learning curve')\n",
    "plt.ylabel('AUC')\n",
    "plt.legend()\n",
    "plt.show()"
   ]
  },
  {
   "cell_type": "code",
   "execution_count": 37,
   "metadata": {},
   "outputs": [
    {
     "data": {
      "image/png": "[encoded data removed]",
      "text/plain": [
       "<Figure size 432x288 with 1 Axes>"
      ]
     },
     "metadata": {
      "needs_background": "light"
     },
     "output_type": "display_data"
    }
   ],
   "source": [
    "#learning curves\n",
    "n_estimators = np.arange(10,500,10)\n",
    "\n",
    "train_aucs = np.zeros(len(n_estimators))\n",
    "valid_aucs = np.zeros(len(n_estimators))\n",
    "\n",
    "for jj in range(len(n_estimators)):\n",
    "    n_estimator = n_estimators[jj]\n",
    "    print\n",
    "    # fit model\n",
    "    gbc =GradientBoostingClassifier(n_estimators=n_estimator, random_state=12)\n",
    "    gbc.fit(X_train_tf, y_train)\n",
    "    \n",
    "    # get predictions\n",
    "    y_train_preds = gbc.predict_proba(X_train_tf)[:,1]\n",
    "    y_valid_preds = gbc.predict_proba(X_valid_tf)[:,1]\n",
    "\n",
    "    # calculate auc\n",
    "    auc_train = roc_auc_score(y_train, y_train_preds)\n",
    "    auc_valid = roc_auc_score(y_valid, y_valid_preds)\n",
    "\n",
    "    # save aucs\n",
    "    train_aucs[jj] = auc_train\n",
    "    valid_aucs[jj] = auc_valid\n",
    "\n",
    "plt.plot(n_estimators, train_aucs,'o-',label = 'Train')\n",
    "plt.plot(n_estimators, valid_aucs,'o-',label = 'Valid')\n",
    "\n",
    "plt.xlabel('n_estimators')\n",
    "plt.ylabel('AUC')\n",
    "plt.title('n_estimators learning curve')\n",
    "plt.legend()\n",
    "plt.show()"
   ]
  },
  {
   "cell_type": "code",
   "execution_count": 38,
   "metadata": {},
   "outputs": [
    {
     "data": {
      "image/png": "[encoded data removed]",
      "text/plain": [
       "<Figure size 432x288 with 1 Axes>"
      ]
     },
     "metadata": {
      "needs_background": "light"
     },
     "output_type": "display_data"
    }
   ],
   "source": [
    "#learning curves\n",
    "max_depths = np.arange(2,26,2)\n",
    "\n",
    "train_aucs = np.zeros(len(max_depths))\n",
    "valid_aucs = np.zeros(len(max_depths))\n",
    "\n",
    "for jj in range(len(max_depths)):\n",
    "    max_depth = max_depths[jj]\n",
    "    # fit model\n",
    "    gbc =GradientBoostingClassifier(max_depth=max_depth, random_state=12)\n",
    "    gbc.fit(X_train_tf, y_train)\n",
    "    \n",
    "    # get predictions\n",
    "    y_train_preds = gbc.predict_proba(X_train_tf)[:,1]\n",
    "    y_valid_preds = gbc.predict_proba(X_valid_tf)[:,1]\n",
    "\n",
    "    # calculate auc\n",
    "    auc_train = roc_auc_score(y_train, y_train_preds)\n",
    "    auc_valid = roc_auc_score(y_valid, y_valid_preds)\n",
    "\n",
    "    # save aucs\n",
    "    train_aucs[jj] = auc_train\n",
    "    valid_aucs[jj] = auc_valid\n",
    "\n",
    "plt.plot(max_depths, train_aucs,'o-',label = 'Train')\n",
    "plt.plot(max_depths, valid_aucs,'o-',label = 'Valid')\n",
    "\n",
    "plt.xlabel('max_depths')\n",
    "plt.title('max_depths learning curve')\n",
    "plt.ylabel('AUC')\n",
    "plt.legend()\n",
    "plt.show()"
   ]
  },
  {
   "cell_type": "code",
   "execution_count": 39,
   "metadata": {},
   "outputs": [
    {
     "data": {
      "image/png": "[encoded data removed]",
      "text/plain": [
       "<Figure size 432x288 with 1 Axes>"
      ]
     },
     "metadata": {
      "needs_background": "light"
     },
     "output_type": "display_data"
    }
   ],
   "source": [
    "#learning curves\n",
    "min_samples_leafs = np.arange(1,20,1)\n",
    "\n",
    "train_aucs = np.zeros(len(min_samples_leafs))\n",
    "valid_aucs = np.zeros(len(min_samples_leafs))\n",
    "\n",
    "for jj in range(len(min_samples_leafs)):\n",
    "    min_samples_leaf = min_samples_leafs[jj]\n",
    "    # fit model\n",
    "    gbc =GradientBoostingClassifier(min_samples_leaf=min_samples_leaf, random_state=12)\n",
    "    gbc.fit(X_train_tf, y_train)\n",
    "    \n",
    "    # get predictions\n",
    "    y_train_preds = gbc.predict_proba(X_train_tf)[:,1]\n",
    "    y_valid_preds = gbc.predict_proba(X_valid_tf)[:,1]\n",
    "\n",
    "    # calculate auc\n",
    "    auc_train = roc_auc_score(y_train, y_train_preds)\n",
    "    auc_valid = roc_auc_score(y_valid, y_valid_preds)\n",
    "\n",
    "    # save aucs\n",
    "    train_aucs[jj] = auc_train\n",
    "    valid_aucs[jj] = auc_valid\n",
    "\n",
    "plt.plot(min_samples_leafs, train_aucs,'o-',label = 'Train')\n",
    "plt.plot(min_samples_leafs, valid_aucs,'o-',label = 'Valid')\n",
    "\n",
    "plt.xlabel('min_samples_leafs')\n",
    "plt.title('min_samples_leafs learning curve')\n",
    "plt.ylabel('AUC')\n",
    "plt.legend()\n",
    "plt.show()"
   ]
  },
  {
   "cell_type": "code",
   "execution_count": 40,
   "metadata": {
    "scrolled": true
   },
   "outputs": [
    {
     "data": {
      "image/png": "[encoded data removed]",
      "text/plain": [
       "<Figure size 432x288 with 1 Axes>"
      ]
     },
     "metadata": {
      "needs_background": "light"
     },
     "output_type": "display_data"
    }
   ],
   "source": [
    "#learning curves\n",
    "min_samples_splits = np.arange(2,20,1)\n",
    "\n",
    "train_aucs = np.zeros(len(min_samples_splits))\n",
    "valid_aucs = np.zeros(len(min_samples_splits))\n",
    "\n",
    "for jj in range(len(min_samples_splits)):\n",
    "    min_samples_split = min_samples_splits[jj]\n",
    "    # fit model\n",
    "    gbc =GradientBoostingClassifier(min_samples_split=min_samples_split, random_state=12)\n",
    "    gbc.fit(X_train_tf, y_train)\n",
    "    \n",
    "    # get predictions\n",
    "    y_train_preds = gbc.predict_proba(X_train_tf)[:,1]\n",
    "    y_valid_preds = gbc.predict_proba(X_valid_tf)[:,1]\n",
    "\n",
    "    # calculate auc\n",
    "    auc_train = roc_auc_score(y_train, y_train_preds)\n",
    "    auc_valid = roc_auc_score(y_valid, y_valid_preds)\n",
    "\n",
    "    # save aucs\n",
    "    train_aucs[jj] = auc_train\n",
    "    valid_aucs[jj] = auc_valid\n",
    "\n",
    "plt.plot(min_samples_splits, train_aucs,'o-',label = 'Train')\n",
    "plt.plot(min_samples_splits, valid_aucs,'o-',label = 'Valid')\n",
    "\n",
    "plt.xlabel('min_samples_splits')\n",
    "plt.title('min_samples_splits learning curve')\n",
    "plt.ylabel('AUC')\n",
    "plt.legend()\n",
    "plt.show()"
   ]
  },
  {
   "cell_type": "markdown",
   "metadata": {},
   "source": [
    "## Grid Search"
   ]
  },
  {
   "cell_type": "code",
   "execution_count": 41,
   "metadata": {},
   "outputs": [
    {
     "name": "stdout",
     "output_type": "stream",
     "text": [
      "{'ccp_alpha': [0.0, 0, 5, 1], 'criterion': ['friedman_mse', 'mse', 'mae'], 'init': ['zero'], 'learning_rate': [0.01, 0.05, 0.1, 0.25], 'loss': ['deviance', 'exponential'], 'max_depth': [4, 6, 8, 10, 12], 'max_features': ['auto', 'log2', 8], 'max_leaf_nodes': [10, None], 'min_impurity_decrease': [0.0], 'min_impurity_split': [None], 'min_samples_leaf': [1, 2, 3, 4], 'min_samples_split': [2], 'n_estimators': range(150, 501, 50), 'n_iter_no_change': [None], 'random_state': [12], 'subsample': [0.75, 1.0], 'tol': [0.0001, 0.001, 0.01], 'validation_fraction': [0.1, 0.25], 'verbose': [1], 'warm_start': [True, False]}\n"
     ]
    }
   ],
   "source": [
    "#Create Optimized Model\n",
    "\n",
    "ccp_alpha= [0.0,0,5,1]\n",
    "criterion = ['friedman_mse','mse','mae']\n",
    "init= ['zero']\n",
    "learning_rate = [0.01,0.05,0.1,0.25]\n",
    "loss = ['deviance', 'exponential']\n",
    "max_depth = [4,6,8,10,12]\n",
    "max_features = ['auto','log2',8]\n",
    "max_leaf_nodes = [10,None]\n",
    "min_impurity_decrease = [0.0]\n",
    "min_impurity_split = [None]\n",
    "min_samples_leaf = [1,2,3,4]\n",
    "min_samples_split = [2]\n",
    "min_weight_fraction_leaf = [0.0]\n",
    "n_estimators = range(150,501,50)\n",
    "n_iter_no_change = [None]\n",
    "random_state = [12]\n",
    "subsample = [0.75,1.0]\n",
    "tol = [0.0001,0.001,0.01]\n",
    "validation_fraction = [0.1,0.25]\n",
    "verbose = [1]\n",
    "warm_start = [True,False]\n",
    "    \n",
    "# param grid\n",
    "param_grid_gbc = {'ccp_alpha' : ccp_alpha,\n",
    "                    'criterion': criterion,\n",
    "                    'init': init,\n",
    "                    'learning_rate': learning_rate,\n",
    "                    'loss': loss,\n",
    "                    'max_depth': max_depth,\n",
    "                    'max_features': max_features,\n",
    "                    'max_leaf_nodes': max_leaf_nodes,\n",
    "                    'min_impurity_decrease': min_impurity_decrease,\n",
    "                    'min_impurity_split': min_impurity_split,\n",
    "                    'min_samples_leaf': min_samples_leaf,\n",
    "                    'min_samples_split': min_samples_split,\n",
    "                    'n_estimators': n_estimators,\n",
    "                    'n_iter_no_change': n_iter_no_change,\n",
    "                    'random_state': random_state,\n",
    "                    'subsample': subsample,\n",
    "                    'tol': tol,\n",
    "                    'validation_fraction': validation_fraction,\n",
    "                    'verbose': verbose,\n",
    "                    'warm_start': warm_start\n",
    "                    }\n",
    "\n",
    "print(param_grid_gbc)"
   ]
  },
  {
   "cell_type": "code",
   "execution_count": 42,
   "metadata": {},
   "outputs": [
    {
     "name": "stdout",
     "output_type": "stream",
     "text": [
      "Fitting 2 folds for each of 500 candidates, totalling 1000 fits\n"
     ]
    },
    {
     "name": "stderr",
     "output_type": "stream",
     "text": [
      "[Parallel(n_jobs=-1)]: Using backend LokyBackend with 8 concurrent workers.\n",
      "[Parallel(n_jobs=-1)]: Done  34 tasks      | elapsed:  2.7min\n",
      "[Parallel(n_jobs=-1)]: Done 184 tasks      | elapsed: 92.7min\n",
      "[Parallel(n_jobs=-1)]: Done 434 tasks      | elapsed: 104.6min\n",
      "[Parallel(n_jobs=-1)]: Done 784 tasks      | elapsed: 123.1min\n",
      "[Parallel(n_jobs=-1)]: Done 1000 out of 1000 | elapsed: 132.0min finished\n"
     ]
    },
    {
     "name": "stdout",
     "output_type": "stream",
     "text": [
      "      Iter       Train Loss      OOB Improve   Remaining Time \n",
      "         1           0.8468           0.1572            1.20s\n",
      "         2           0.7077           0.1368            1.04s\n",
      "         3           0.6518           0.0567            1.01s\n",
      "         4           0.5593           0.0917            1.05s\n",
      "         5           0.5119           0.0451            1.08s\n",
      "         6           0.4725           0.0375            1.05s\n",
      "         7           0.4429           0.0241            1.02s\n",
      "         8           0.3918           0.0450            1.00s\n",
      "         9           0.3777           0.0187            0.99s\n",
      "        10           0.3552           0.0150            0.98s\n",
      "        20           0.2484          -0.0010            0.89s\n",
      "        30           0.1984           0.0015            0.84s\n",
      "        40           0.1715          -0.0003            0.77s\n",
      "        50           0.1413           0.0000            0.72s\n",
      "        60           0.1196           0.0002            0.67s\n",
      "        70           0.1060          -0.0007            0.64s\n",
      "        80           0.0955          -0.0006            0.61s\n",
      "        90           0.0788           0.0002            0.58s\n",
      "       100           0.0728          -0.0005            0.55s\n",
      "       200           0.0238          -0.0002            0.25s\n",
      "       300           0.0080           0.0001            0.00s\n",
      "Elapsed Time: 7918.102669715881\n",
      "Best Parameters: {'warm_start': False, 'verbose': 1, 'validation_fraction': 0.1, 'tol': 0.0001, 'subsample': 0.75, 'random_state': 12, 'n_iter_no_change': None, 'n_estimators': 300, 'min_samples_split': 2, 'min_samples_leaf': 2, 'min_impurity_split': None, 'min_impurity_decrease': 0.0, 'max_leaf_nodes': 10, 'max_features': 8, 'max_depth': 10, 'loss': 'exponential', 'learning_rate': 0.25, 'init': 'zero', 'criterion': 'friedman_mse', 'ccp_alpha': 0.0}\n"
     ]
    }
   ],
   "source": [
    "# create the cross-validation by grid method\n",
    "#gbc_grid = GridSearchCV(estimator = gbc, param_grid = param_grid_gbc, \n",
    "#                            cv = 2, scoring=auc_scoring,verbose = 1, n_jobs = -1, #changed cv to 2 due to time\n",
    "#                            error_score=0)\n",
    "\n",
    "#Random grid search used for time constraints:\n",
    "\n",
    "gbc_rand = RandomizedSearchCV(estimator = gbc, param_distributions = param_grid_gbc, \n",
    "                            n_iter = 500, cv = 2, scoring=auc_scoring,verbose = 1, n_jobs = -1,\n",
    "                            error_score=0, random_state=12)\n",
    "        \n",
    "\n",
    "# fit the random search model (this will take a few minutes)\n",
    "t1 = time.time()\n",
    "gbc_rand.fit(X_train_tf, y_train)\n",
    "t2 = time.time()\n",
    "print('Elapsed Time:',(t2-t1))\n",
    "\n",
    "print('Best Parameters:',gbc_rand.best_params_)"
   ]
  },
  {
   "cell_type": "code",
   "execution_count": 43,
   "metadata": {},
   "outputs": [
    {
     "name": "stdout",
     "output_type": "stream",
     "text": [
      "Optimized Gradient Boosting Classifier\n",
      "Training AUC:1.000\n",
      "Validation AUC:0.993\n"
     ]
    }
   ],
   "source": [
    "print('Optimized Gradient Boosting Classifier')\n",
    "y_train_preds_rand = gbc_rand.best_estimator_.predict_proba(X_train_tf)[:,1]\n",
    "y_valid_preds_rand = gbc_rand.best_estimator_.predict_proba(X_valid_tf)[:,1]\n",
    "\n",
    "gbc_train_opt_auc = roc_auc_score(y_train, y_train_preds_rand)\n",
    "gbc_valid_opt_auc = roc_auc_score(y_valid, y_valid_preds_rand)\n",
    "\n",
    "print('Training AUC:{:.3f}'.format(gbc_train_opt_auc))\n",
    "print('Validation AUC:{:.3f}'.format(gbc_valid_opt_auc))"
   ]
  },
  {
   "cell_type": "code",
   "execution_count": 44,
   "metadata": {},
   "outputs": [
    {
     "name": "stdout",
     "output_type": "stream",
     "text": [
      "GBC Training:\n",
      "AUC:1.000\n",
      "accuracy:1.000\n",
      "recall:1.000\n",
      "precision:1.000\n",
      "specificity:1.000\n",
      "prevalence:0.500\n",
      " \n",
      "GBC Validation:\n",
      "AUC:0.993\n",
      "accuracy:0.965\n",
      "recall:0.959\n",
      "precision:0.120\n",
      "specificity:0.965\n",
      "prevalence:0.005\n",
      " \n",
      "GBC Test:\n",
      "AUC:0.993\n",
      "accuracy:0.965\n",
      "recall:0.959\n",
      "precision:0.121\n",
      "specificity:0.965\n",
      "prevalence:0.005\n",
      " \n"
     ]
    }
   ],
   "source": [
    "thresh = 0.5\n",
    "\n",
    "y_train_preds_gbc = gbc_rand.best_estimator_.predict_proba(X_train_tf)[:,1]\n",
    "y_valid_preds_gbc = gbc_rand.best_estimator_.predict_proba(X_valid_tf)[:,1]\n",
    "y_test_preds_gbc = gbc_rand.best_estimator_.predict_proba(X_test_tf)[:,1]\n",
    "\n",
    "print('GBC Training:')\n",
    "train_auc, train_accuracy, train_recall, train_precision, train_specificity = cc.print_report(y_train,y_train_preds_gbc, thresh)\n",
    "print('GBC Validation:')\n",
    "valid_auc, valid_accuracy, valid_recall, valid_precision, valid_specificity = cc.print_report(y_valid,y_valid_preds_gbc, thresh)\n",
    "print('GBC Test:')\n",
    "test_auc, test_accuracy, test_recall, test_precision, test_specificity = cc.print_report(y_test,y_test_preds_gbc, thresh)\n"
   ]
  },
  {
   "cell_type": "markdown",
   "metadata": {},
   "source": [
    "## Neural Networks"
   ]
  },
  {
   "cell_type": "markdown",
   "metadata": {},
   "source": [
    "### Scikit-learn"
   ]
  },
  {
   "cell_type": "code",
   "execution_count": 45,
   "metadata": {},
   "outputs": [],
   "source": [
    " from sklearn.neural_network import MLPClassifier"
   ]
  },
  {
   "cell_type": "code",
   "execution_count": 46,
   "metadata": {},
   "outputs": [],
   "source": [
    "#Create a Baseline Model\n",
    "nn=MLPClassifier(max_iter=1000, random_state=12)\n",
    "\n",
    "nn.fit(X_train_rd_tf, y_train)\n",
    "\n",
    "y_train_preds = nn.predict_proba(X_train_rd_tf)[:,1]\n",
    "y_valid_preds = nn.predict_proba(X_valid_rd_tf)[:,1]"
   ]
  },
  {
   "cell_type": "code",
   "execution_count": 47,
   "metadata": {},
   "outputs": [
    {
     "name": "stdout",
     "output_type": "stream",
     "text": [
      "Baseline Neural Network\n",
      "Training AUC:1.000\n",
      "Validation AUC:0.983\n"
     ]
    }
   ],
   "source": [
    "print('Baseline Neural Network')\n",
    "nn_train_base_auc = roc_auc_score(y_train, y_train_preds)\n",
    "nn_valid_base_auc = roc_auc_score(y_valid, y_valid_preds)\n",
    "\n",
    "print('Training AUC:{:.3f}'.format(nn_train_base_auc))\n",
    "print('Validation AUC:{:.3f}'.format(nn_valid_base_auc))"
   ]
  },
  {
   "cell_type": "markdown",
   "metadata": {},
   "source": [
    "## Learning Curves"
   ]
  },
  {
   "cell_type": "markdown",
   "metadata": {},
   "source": [
    "### Epochs\n",
    "\n",
    "max_iter: int, default=200\n",
    "\n",
    "    Maximum number of iterations. The solver iterates until convergence (determined by ‘tol’) or this number of iterations. For stochastic solvers (‘sgd’, ‘adam’), note that this determines the number of epochs (how many times each data point will be used), not the number of gradient steps.\n"
   ]
  },
  {
   "cell_type": "code",
   "execution_count": 48,
   "metadata": {},
   "outputs": [
    {
     "name": "stderr",
     "output_type": "stream",
     "text": [
      "C:\\Users\\ccambi\\Anaconda3\\lib\\site-packages\\sklearn\\neural_network\\_multilayer_perceptron.py:585: ConvergenceWarning: Stochastic Optimizer: Maximum iterations (500) reached and the optimization hasn't converged yet.\n",
      "  % self.max_iter, ConvergenceWarning)\n"
     ]
    },
    {
     "name": "stdout",
     "output_type": "stream",
     "text": [
      "max_iter:500\n",
      "Elapsed Time: 12.630617380142212\n",
      "max_iter:1000\n",
      "Elapsed Time: 13.526946783065796\n",
      "max_iter:2500\n",
      "Elapsed Time: 12.26463007926941\n",
      "max_iter:5000\n",
      "Elapsed Time: 12.2096426486969\n",
      "max_iter:7500\n",
      "Elapsed Time: 12.140123844146729\n",
      "max_iter:10000\n",
      "Elapsed Time: 16.581087827682495\n"
     ]
    },
    {
     "data": {
      "image/png": "[encoded data removed]",
      "text/plain": [
       "<Figure size 432x288 with 1 Axes>"
      ]
     },
     "metadata": {
      "needs_background": "light"
     },
     "output_type": "display_data"
    },
    {
     "data": {
      "image/png": "[encoded data removed]",
      "text/plain": [
       "<Figure size 432x288 with 1 Axes>"
      ]
     },
     "metadata": {
      "needs_background": "light"
     },
     "output_type": "display_data"
    }
   ],
   "source": [
    "#learning curves\n",
    "\n",
    "max_iters = [500,1000,2500,5000,7500,10000]\n",
    "#[500,600,700,800,1000,1500,2000,3000,10000] #np.arange(1000,3001,1000)\n",
    "thresh = 0.5\n",
    "\n",
    "train_aucs = np.zeros(len(max_iters))\n",
    "valid_aucs = np.zeros(len(max_iters))\n",
    "train_acs = np.zeros(len(max_iters))\n",
    "valid_acs = np.zeros(len(max_iters))\n",
    "\n",
    "for jj in range(len(max_iters)):\n",
    "    max_iter = max_iters[jj]\n",
    "    # fit model\n",
    "    t1 = time.time()\n",
    "    nn=MLPClassifier(max_iter=max_iter, solver = 'adam', random_state=12)\n",
    "    nn.fit(X_train_rd_tf, y_train)\n",
    "    \n",
    "    # get predictions\n",
    "    y_train_preds = nn.predict_proba(X_train_rd_tf)[:,1]\n",
    "    y_valid_preds = nn.predict_proba(X_valid_rd_tf)[:,1]\n",
    "\n",
    "    # calculate auc\n",
    "    auc_train = roc_auc_score(y_train, y_train_preds)\n",
    "    auc_valid = roc_auc_score(y_valid, y_valid_preds)\n",
    "    \n",
    "    accuracy_train = accuracy_score(y_train, (y_train_preds > thresh))\n",
    "    accuracy_valid = accuracy_score(y_valid, (y_valid_preds > thresh))\n",
    "\n",
    "    # save aucs\n",
    "    train_aucs[jj] = auc_train\n",
    "    valid_aucs[jj] = auc_valid\n",
    "    \n",
    "    # save accuracy\n",
    "    train_acs[jj] = accuracy_train\n",
    "    valid_acs[jj] = accuracy_valid\n",
    "    \n",
    "    t2 = time.time()\n",
    "    print('max_iter:{}'.format(max_iter))\n",
    "    print('Elapsed Time:',(t2-t1))\n",
    "    #print('Training AUC:{:.4f}'.format(auc_train))\n",
    "    #print('Validation AUC:{:.4f}'.format(auc_valid))\n",
    "    #print('Training Accuracy:{:.4f}'.format(accuracy_train))\n",
    "    #print('Validation Accuracy:{:.4f}'.format(accuracy_valid))\n",
    "    \n",
    "plt.plot(max_iters, train_aucs,'o-',label = 'Train')\n",
    "plt.plot(max_iters, valid_aucs,'o-',label = 'Valid')\n",
    "\n",
    "plt.xlabel('max_iter/epoch')\n",
    "plt.title('max_iter/epoch learning curve - solver:adam')\n",
    "plt.ylabel('AUC')\n",
    "plt.legend()\n",
    "plt.show()\n",
    "\n",
    "plt.plot(max_iters, train_acs,'o-',label = 'Train')\n",
    "plt.plot(max_iters, valid_acs,'o-',label = 'Valid')\n",
    "\n",
    "plt.xlabel('max_iter/epoch')\n",
    "plt.title('max_iter/epoch learning curve - solver:adam')\n",
    "plt.ylabel('Accuracy')\n",
    "plt.legend()\n",
    "plt.show()"
   ]
  },
  {
   "cell_type": "code",
   "execution_count": 49,
   "metadata": {},
   "outputs": [
    {
     "name": "stdout",
     "output_type": "stream",
     "text": [
      "max_iter:2000\n",
      "Elapsed Time: 32.3783233165741\n",
      "max_iter:2500\n",
      "Elapsed Time: 25.33199119567871\n",
      "max_iter:5000\n",
      "Elapsed Time: 25.77020835876465\n",
      "max_iter:7500\n",
      "Elapsed Time: 26.45949411392212\n",
      "max_iter:10000\n",
      "Elapsed Time: 26.59027934074402\n"
     ]
    },
    {
     "data": {
      "image/png": "[encoded data removed]",
      "text/plain": [
       "<Figure size 432x288 with 1 Axes>"
      ]
     },
     "metadata": {
      "needs_background": "light"
     },
     "output_type": "display_data"
    },
    {
     "data": {
      "image/png": "[encoded data removed]",
      "text/plain": [
       "<Figure size 432x288 with 1 Axes>"
      ]
     },
     "metadata": {
      "needs_background": "light"
     },
     "output_type": "display_data"
    }
   ],
   "source": [
    "#learning curves\n",
    "\n",
    "max_iters = [2000, 2500,5000,7500,10000]\n",
    "#[500,600,700,800,1000,1500,2000,3000,10000] #np.arange(1000,3001,1000)\n",
    "thresh = 0.5\n",
    "\n",
    "train_aucs = np.zeros(len(max_iters))\n",
    "valid_aucs = np.zeros(len(max_iters))\n",
    "train_acs = np.zeros(len(max_iters))\n",
    "valid_acs = np.zeros(len(max_iters))\n",
    "\n",
    "for jj in range(len(max_iters)):\n",
    "    max_iter = max_iters[jj]\n",
    "    # fit model\n",
    "    t1 = time.time()\n",
    "    nn=MLPClassifier(max_iter=max_iter, solver = 'sgd', random_state=12)\n",
    "    nn.fit(X_train_rd_tf, y_train)\n",
    "    \n",
    "    # get predictions\n",
    "    y_train_preds = nn.predict_proba(X_train_rd_tf)[:,1]\n",
    "    y_valid_preds = nn.predict_proba(X_valid_rd_tf)[:,1]\n",
    "\n",
    "    # calculate auc\n",
    "    auc_train = roc_auc_score(y_train, y_train_preds)\n",
    "    auc_valid = roc_auc_score(y_valid, y_valid_preds)\n",
    "    \n",
    "    accuracy_train = accuracy_score(y_train, (y_train_preds > thresh))\n",
    "    accuracy_valid = accuracy_score(y_valid, (y_valid_preds > thresh))\n",
    "\n",
    "    # save aucs\n",
    "    train_aucs[jj] = auc_train\n",
    "    valid_aucs[jj] = auc_valid\n",
    "    \n",
    "    # save accuracy\n",
    "    train_acs[jj] = accuracy_train\n",
    "    valid_acs[jj] = accuracy_valid\n",
    "    \n",
    "    t2 = time.time()\n",
    "    print('max_iter:{}'.format(max_iter))\n",
    "    print('Elapsed Time:',(t2-t1))\n",
    "    #print('Training AUC:{:.4f}'.format(auc_train))\n",
    "    #print('Validation AUC:{:.4f}'.format(auc_valid))\n",
    "    #print('Training Accuracy:{:.4f}'.format(accuracy_train))\n",
    "    #print('Validation Accuracy:{:.4f}'.format(accuracy_valid))\n",
    "    \n",
    "plt.plot(max_iters, train_aucs,'o-',label = 'Train')\n",
    "plt.plot(max_iters, valid_aucs,'o-',label = 'Valid')\n",
    "\n",
    "plt.xlabel('max_iter/epoch')\n",
    "plt.title('max_iter/epoch learning curve - solver:sgd')\n",
    "plt.ylabel('AUC')\n",
    "plt.legend()\n",
    "plt.show()\n",
    "\n",
    "plt.plot(max_iters, train_acs,'o-',label = 'Train')\n",
    "plt.plot(max_iters, valid_acs,'o-',label = 'Valid')\n",
    "\n",
    "plt.xlabel('max_iter/epoch')\n",
    "plt.title('max_iter/epoch learning curve - solver:sgd')\n",
    "plt.ylabel('Accuracy')\n",
    "plt.legend()\n",
    "plt.show()"
   ]
  },
  {
   "cell_type": "markdown",
   "metadata": {},
   "source": [
    "### Hidden Layer\n",
    "\n",
    "hidden_layer_sizes: tuple, length = n_layers - 2, default=(100,)\n",
    "\n",
    "        The ith element represents the number of neurons in the ith hidden layer.\n"
   ]
  },
  {
   "cell_type": "code",
   "execution_count": 73,
   "metadata": {
    "scrolled": true
   },
   "outputs": [
    {
     "name": "stdout",
     "output_type": "stream",
     "text": [
      "hidden_layer_size:1\n",
      "Elapsed Time: 1.0810678005218506\n",
      "Training AUC:0.7246\n",
      "Validation AUC:0.7269\n",
      "Training Accuracy:0.7134\n",
      "Validation Accuracy:0.5072\n",
      "hidden_layer_size:2\n",
      "Elapsed Time: 1.8829891681671143\n",
      "Training AUC:0.9236\n",
      "Validation AUC:0.9066\n",
      "Training Accuracy:0.8457\n",
      "Validation Accuracy:0.8856\n",
      "hidden_layer_size:5\n",
      "Elapsed Time: 6.179480314254761\n",
      "Training AUC:0.9910\n",
      "Validation AUC:0.9838\n",
      "Training Accuracy:0.9483\n",
      "Validation Accuracy:0.9469\n",
      "hidden_layer_size:10\n",
      "Elapsed Time: 5.472982406616211\n",
      "Training AUC:0.9967\n",
      "Validation AUC:0.9866\n",
      "Training Accuracy:0.9696\n",
      "Validation Accuracy:0.9489\n",
      "hidden_layer_size:100\n",
      "Elapsed Time: 10.631845951080322\n",
      "Training AUC:0.9997\n",
      "Validation AUC:0.9834\n",
      "Training Accuracy:0.9920\n",
      "Validation Accuracy:0.9443\n",
      "hidden_layer_size:150\n",
      "Elapsed Time: 7.147943735122681\n",
      "Training AUC:0.9992\n",
      "Validation AUC:0.9853\n",
      "Training Accuracy:0.9873\n",
      "Validation Accuracy:0.9487\n",
      "hidden_layer_size:200\n",
      "Elapsed Time: 14.377928018569946\n",
      "Training AUC:0.9999\n",
      "Validation AUC:0.9835\n",
      "Training Accuracy:0.9947\n",
      "Validation Accuracy:0.9437\n"
     ]
    },
    {
     "data": {
      "image/png": "[encoded data removed]",
      "text/plain": [
       "<Figure size 432x288 with 1 Axes>"
      ]
     },
     "metadata": {
      "needs_background": "light"
     },
     "output_type": "display_data"
    },
    {
     "data": {
      "image/png": "[encoded data removed]",
      "text/plain": [
       "<Figure size 432x288 with 1 Axes>"
      ]
     },
     "metadata": {
      "needs_background": "light"
     },
     "output_type": "display_data"
    }
   ],
   "source": [
    "#learning curves\n",
    "\n",
    "hidden_layer_sizes = [1,2,5,10,100,150,200]\n",
    "#[500,600,700,800,1000,1500,2000,3000,10000] #np.arange(1000,3001,1000)\n",
    "thresh = 0.5\n",
    "\n",
    "train_aucs = np.zeros(len(hidden_layer_sizes))\n",
    "valid_aucs = np.zeros(len(hidden_layer_sizes))\n",
    "train_acs = np.zeros(len(hidden_layer_sizes))\n",
    "valid_acs = np.zeros(len(hidden_layer_sizes))\n",
    "\n",
    "for jj in range(len(hidden_layer_sizes)):\n",
    "    hidden_layer_size = hidden_layer_sizes[jj]\n",
    "    # fit model\n",
    "    t1 = time.time()\n",
    "    nn=MLPClassifier(hidden_layer_sizes=(hidden_layer_size,), solver = 'adam', max_iter=2000, random_state=12)\n",
    "    nn.fit(X_train_rd_tf, y_train)\n",
    "    \n",
    "    # get predictions\n",
    "    y_train_preds = nn.predict_proba(X_train_rd_tf)[:,1]\n",
    "    y_valid_preds = nn.predict_proba(X_valid_rd_tf)[:,1]\n",
    "\n",
    "    # calculate auc\n",
    "    auc_train = roc_auc_score(y_train, y_train_preds)\n",
    "    auc_valid = roc_auc_score(y_valid, y_valid_preds)\n",
    "    \n",
    "    accuracy_train = accuracy_score(y_train, (y_train_preds > thresh))\n",
    "    accuracy_valid = accuracy_score(y_valid, (y_valid_preds > thresh))\n",
    "\n",
    "    # save aucs\n",
    "    train_aucs[jj] = auc_train\n",
    "    valid_aucs[jj] = auc_valid\n",
    "    \n",
    "    # save accuracy\n",
    "    train_acs[jj] = accuracy_train\n",
    "    valid_acs[jj] = accuracy_valid\n",
    "    \n",
    "    t2 = time.time()\n",
    "    print('Hidden_layer_size:{}'.format(hidden_layer_size))\n",
    "    print('Elapsed Time:',(t2-t1))\n",
    "    print('Training AUC:{:.4f}'.format(auc_train))\n",
    "    print('Validation AUC:{:.4f}'.format(auc_valid))\n",
    "    print('Training Accuracy:{:.4f}'.format(accuracy_train))\n",
    "    print('Validation Accuracy:{:.4f}'.format(accuracy_valid))\n",
    "    \n",
    "plt.plot(hidden_layer_sizes, train_aucs,'o-',label = 'Train')\n",
    "plt.plot(hidden_layer_sizes, valid_aucs,'o-',label = 'Valid')\n",
    "\n",
    "plt.xlabel('hidden_layer_sizes')\n",
    "plt.title('hidden_layer_sizes learning curve')\n",
    "plt.ylabel('AUC')\n",
    "plt.legend()\n",
    "plt.show()\n",
    "\n",
    "plt.plot(hidden_layer_sizes, train_acs,'o-',label = 'Train')\n",
    "plt.plot(hidden_layer_sizes, valid_acs,'o-',label = 'Valid')\n",
    "\n",
    "plt.xlabel('hidden_layer_sizes')\n",
    "plt.title('hidden_layer_sizes learning curve')\n",
    "plt.ylabel('Accuracy')\n",
    "plt.legend()\n",
    "plt.show()"
   ]
  },
  {
   "cell_type": "code",
   "execution_count": 83,
   "metadata": {},
   "outputs": [
    {
     "name": "stdout",
     "output_type": "stream",
     "text": [
      "Hidden_layer_size:2\n",
      "Elapsed Time: 4.710525989532471\n",
      "Training AUC:0.9929\n",
      "Validation AUC:0.9828\n",
      "Training Accuracy:0.9669\n",
      "Validation Accuracy:0.9423\n",
      "Hidden_layer_size:4\n",
      "Elapsed Time: 5.454553604125977\n",
      "Training AUC:0.9819\n",
      "Validation AUC:0.9634\n",
      "Training Accuracy:0.9075\n",
      "Validation Accuracy:0.9615\n",
      "Hidden_layer_size:6\n",
      "Elapsed Time: 5.0500807762146\n",
      "Training AUC:0.9974\n",
      "Validation AUC:0.9862\n",
      "Training Accuracy:0.9725\n",
      "Validation Accuracy:0.9486\n",
      "Hidden_layer_size:8\n",
      "Elapsed Time: 5.448376893997192\n",
      "Training AUC:0.9977\n",
      "Validation AUC:0.9884\n",
      "Training Accuracy:0.9740\n",
      "Validation Accuracy:0.9520\n",
      "Hidden_layer_size:10\n",
      "Elapsed Time: 5.247392892837524\n",
      "Training AUC:0.9980\n",
      "Validation AUC:0.9852\n",
      "Training Accuracy:0.9758\n",
      "Validation Accuracy:0.9468\n",
      "Hidden_layer_size:12\n",
      "Elapsed Time: 4.04500675201416\n",
      "Training AUC:0.9968\n",
      "Validation AUC:0.9859\n",
      "Training Accuracy:0.9734\n",
      "Validation Accuracy:0.9440\n"
     ]
    },
    {
     "data": {
      "image/png": "[encoded data removed]",
      "text/plain": [
       "<Figure size 432x288 with 1 Axes>"
      ]
     },
     "metadata": {
      "needs_background": "light"
     },
     "output_type": "display_data"
    },
    {
     "data": {
      "image/png": "[encoded data removed]",
      "text/plain": [
       "<Figure size 432x288 with 1 Axes>"
      ]
     },
     "metadata": {
      "needs_background": "light"
     },
     "output_type": "display_data"
    }
   ],
   "source": [
    "#learning curves\n",
    "\n",
    "hidden_layer_sizes = [2,4,6,8,10,12]\n",
    "#[500,600,700,800,1000,1500,2000,3000,10000] #np.arange(1000,3001,1000)\n",
    "thresh = 0.5\n",
    "\n",
    "train_aucs = np.zeros(len(hidden_layer_sizes))\n",
    "valid_aucs = np.zeros(len(hidden_layer_sizes))\n",
    "train_acs = np.zeros(len(hidden_layer_sizes))\n",
    "valid_acs = np.zeros(len(hidden_layer_sizes))\n",
    "\n",
    "for jj in range(len(hidden_layer_sizes)):\n",
    "    hidden_layer_size = hidden_layer_sizes[jj]\n",
    "    # fit model\n",
    "    t1 = time.time()\n",
    "    nn=MLPClassifier(hidden_layer_sizes=(10,hidden_layer_size), solver = 'adam', max_iter=2000, random_state=12)\n",
    "    nn.fit(X_train_rd_tf, y_train)\n",
    "    \n",
    "    # get predictions\n",
    "    y_train_preds = nn.predict_proba(X_train_rd_tf)[:,1]\n",
    "    y_valid_preds = nn.predict_proba(X_valid_rd_tf)[:,1]\n",
    "\n",
    "    # calculate auc\n",
    "    auc_train = roc_auc_score(y_train, y_train_preds)\n",
    "    auc_valid = roc_auc_score(y_valid, y_valid_preds)\n",
    "    \n",
    "    accuracy_train = accuracy_score(y_train, (y_train_preds > thresh))\n",
    "    accuracy_valid = accuracy_score(y_valid, (y_valid_preds > thresh))\n",
    "\n",
    "    # save aucs\n",
    "    train_aucs[jj] = auc_train\n",
    "    valid_aucs[jj] = auc_valid\n",
    "    \n",
    "    # save accuracy\n",
    "    train_acs[jj] = accuracy_train\n",
    "    valid_acs[jj] = accuracy_valid\n",
    "    \n",
    "    t2 = time.time()\n",
    "    print('Hidden_layer_size:{}'.format(hidden_layer_size))\n",
    "    print('Elapsed Time:',(t2-t1))\n",
    "    print('Training AUC:{:.4f}'.format(auc_train))\n",
    "    print('Validation AUC:{:.4f}'.format(auc_valid))\n",
    "    print('Training Accuracy:{:.4f}'.format(accuracy_train))\n",
    "    print('Validation Accuracy:{:.4f}'.format(accuracy_valid))\n",
    "    \n",
    "plt.plot(hidden_layer_sizes, train_aucs,'o-',label = 'Train')\n",
    "plt.plot(hidden_layer_sizes, valid_aucs,'o-',label = 'Valid')\n",
    "\n",
    "plt.xlabel('hidden_layer_sizes')\n",
    "plt.title('hidden_layer_sizes - neurons learning curve')\n",
    "plt.ylabel('AUC')\n",
    "plt.legend()\n",
    "plt.show()\n",
    "\n",
    "plt.plot(hidden_layer_sizes, train_acs,'o-',label = 'Train')\n",
    "plt.plot(hidden_layer_sizes, valid_acs,'o-',label = 'Valid')\n",
    "\n",
    "plt.xlabel('hidden_layer_sizes')\n",
    "plt.title('hidden_layer_sizes - neurons learning curve')\n",
    "plt.ylabel('Accuracy')\n",
    "plt.legend()\n",
    "plt.show()"
   ]
  },
  {
   "cell_type": "code",
   "execution_count": 78,
   "metadata": {},
   "outputs": [
    {
     "name": "stdout",
     "output_type": "stream",
     "text": [
      "{'activation': ['identity', 'logistic', 'tanh', 'relu'], 'alpha': [0.001, 0.0001, 1e-05], 'batch_size': ['auto'], 'beta_1': [0.9], 'beta_2': [0.999], 'early_stopping': [True, False], 'epsilon': [1e-08], 'hidden_layer_sizes': [(10, 4), (10, 8)], 'learning_rate': ['constant', 'invscaling', 'adaptive'], 'learning_rate_init': [0.01, 0.001, 0.0001], 'max_fun': [15000], 'max_iter': [5000], 'momentum': [0.5, 0.9, 0.99], 'n_iter_no_change': [10, 50], 'nesterovs_momentum': [True, False], 'power_t': [0.25, 0.5, 0.75], 'random_state': [12], 'shuffle': [True, False], 'solver': ['lbfgs', 'sgd', 'adam'], 'tol': [0.0001], 'validation_fraction': [0.1], 'verbose': [True], 'warm_start': [True, False]}\n"
     ]
    }
   ],
   "source": [
    "#Create Random Optimized Model\n",
    "\n",
    "activation= ['identity', 'logistic', 'tanh', 'relu']\n",
    "alpha= [0.001,0.0001,0.00001]\n",
    "batch_size= ['auto']\n",
    "beta_1= [0.9]\n",
    "beta_2= [0.999]\n",
    "early_stopping= [True,False]\n",
    "epsilon= [0.00000001]\n",
    "hidden_layer_sizes= [(10,4),(10,8)] #from learning curves\n",
    "learning_rate= ['constant', 'invscaling', 'adaptive']\n",
    "learning_rate_init= [0.01,0.001,0.0001]\n",
    "max_fun= [15000]\n",
    "max_iter= [5000] #from learning curve we learned that there is no improvement with additional epochs \n",
    "            #and anything less than 2500 may not converge with 'sgd' sovler. Also additional epochs do not cause model to take longer\n",
    "            #[500,1000,15000]\n",
    "momentum= [0.5,0.9,0.99]\n",
    "n_iter_no_change= [10,50]\n",
    "nesterovs_momentum= [True,False]\n",
    "power_t= [0.25,0.5,0.75]\n",
    "random_state= [12]\n",
    "shuffle= [True,False]\n",
    "solver= ['lbfgs', 'sgd', 'adam']\n",
    "tol= [0.0001]\n",
    "validation_fraction= [0.1]\n",
    "verbose= [True]\n",
    "warm_start= [True,False]\n",
    "\n",
    "#param_rand\n",
    "\n",
    "param_grid_nn = {'activation': activation,\n",
    " 'alpha': alpha,\n",
    " 'batch_size': batch_size,\n",
    " 'beta_1': beta_1,\n",
    " 'beta_2': beta_2,\n",
    " 'early_stopping': early_stopping,\n",
    " 'epsilon': epsilon,\n",
    " 'hidden_layer_sizes': hidden_layer_sizes,\n",
    " 'learning_rate': learning_rate,\n",
    " 'learning_rate_init': learning_rate_init,\n",
    " 'max_fun': max_fun,\n",
    " 'max_iter': max_iter,\n",
    " 'momentum': momentum,\n",
    " 'n_iter_no_change': n_iter_no_change,\n",
    " 'nesterovs_momentum': nesterovs_momentum,\n",
    " 'power_t': power_t,\n",
    " 'random_state': random_state,\n",
    " 'shuffle': shuffle,\n",
    " 'solver': solver,\n",
    " 'tol': tol,\n",
    " 'validation_fraction': validation_fraction,\n",
    " 'verbose': verbose,\n",
    " 'warm_start': warm_start}\n",
    "\n",
    "print(param_grid_nn)\n"
   ]
  },
  {
   "cell_type": "code",
   "execution_count": 79,
   "metadata": {},
   "outputs": [
    {
     "name": "stdout",
     "output_type": "stream",
     "text": [
      "Fitting 3 folds for each of 100 candidates, totalling 300 fits\n"
     ]
    },
    {
     "name": "stderr",
     "output_type": "stream",
     "text": [
      "[Parallel(n_jobs=-1)]: Using backend LokyBackend with 8 concurrent workers.\n",
      "[Parallel(n_jobs=-1)]: Done  34 tasks      | elapsed:    8.5s\n",
      "[Parallel(n_jobs=-1)]: Done 184 tasks      | elapsed:  1.7min\n",
      "[Parallel(n_jobs=-1)]: Done 300 out of 300 | elapsed:  3.0min finished\n"
     ]
    },
    {
     "name": "stdout",
     "output_type": "stream",
     "text": [
      "Iteration 1, loss = 0.67328657\n",
      "Iteration 2, loss = 0.58290730\n",
      "Iteration 3, loss = 0.51443377\n",
      "Iteration 4, loss = 0.46588512\n",
      "Iteration 5, loss = 0.43108362\n",
      "Iteration 6, loss = 0.40602037\n",
      "Iteration 7, loss = 0.38736462\n",
      "Iteration 8, loss = 0.37259609\n",
      "Iteration 9, loss = 0.36001782\n",
      "Iteration 10, loss = 0.34977169\n",
      "Iteration 11, loss = 0.34036335\n",
      "Iteration 12, loss = 0.33240415\n",
      "Iteration 13, loss = 0.32522546\n",
      "Iteration 14, loss = 0.31883504\n",
      "Iteration 15, loss = 0.31329362\n",
      "Iteration 16, loss = 0.30839326\n",
      "Iteration 17, loss = 0.30387064\n",
      "Iteration 18, loss = 0.29996857\n",
      "Iteration 19, loss = 0.29590239\n",
      "Iteration 20, loss = 0.29260616\n",
      "Iteration 21, loss = 0.28940137\n",
      "Iteration 22, loss = 0.28658429\n",
      "Iteration 23, loss = 0.28364721\n",
      "Iteration 24, loss = 0.28114674\n",
      "Iteration 25, loss = 0.27892755\n",
      "Iteration 26, loss = 0.27648873\n",
      "Iteration 27, loss = 0.27407357\n",
      "Iteration 28, loss = 0.27220929\n",
      "Iteration 29, loss = 0.27017444\n",
      "Iteration 30, loss = 0.26841586\n",
      "Iteration 31, loss = 0.26670137\n",
      "Iteration 32, loss = 0.26508929\n",
      "Iteration 33, loss = 0.26310959\n",
      "Iteration 34, loss = 0.26162003\n",
      "Iteration 35, loss = 0.26004361\n",
      "Iteration 36, loss = 0.25851524\n",
      "Iteration 37, loss = 0.25715852\n",
      "Iteration 38, loss = 0.25569894\n",
      "Iteration 39, loss = 0.25411433\n",
      "Iteration 40, loss = 0.25281414\n",
      "Iteration 41, loss = 0.25135800\n",
      "Iteration 42, loss = 0.24979860\n",
      "Iteration 43, loss = 0.24847252\n",
      "Iteration 44, loss = 0.24744578\n",
      "Iteration 45, loss = 0.24582980\n",
      "Iteration 46, loss = 0.24468062\n",
      "Iteration 47, loss = 0.24332246\n",
      "Iteration 48, loss = 0.24214459\n",
      "Iteration 49, loss = 0.24127237\n",
      "Iteration 50, loss = 0.24046177\n",
      "Iteration 51, loss = 0.23879437\n",
      "Iteration 52, loss = 0.23767759\n",
      "Iteration 53, loss = 0.23669854\n",
      "Iteration 54, loss = 0.23533808\n",
      "Iteration 55, loss = 0.23417529\n",
      "Iteration 56, loss = 0.23305665\n",
      "Iteration 57, loss = 0.23186329\n",
      "Iteration 58, loss = 0.23097004\n",
      "Iteration 59, loss = 0.22977759\n",
      "Iteration 60, loss = 0.22871951\n",
      "Iteration 61, loss = 0.22775894\n",
      "Iteration 62, loss = 0.22660060\n",
      "Iteration 63, loss = 0.22554320\n",
      "Iteration 64, loss = 0.22434202\n",
      "Iteration 65, loss = 0.22357380\n",
      "Iteration 66, loss = 0.22296663\n",
      "Iteration 67, loss = 0.22200291\n",
      "Iteration 68, loss = 0.22054677\n",
      "Iteration 69, loss = 0.21961541\n",
      "Iteration 70, loss = 0.21906030\n",
      "Iteration 71, loss = 0.21770894\n",
      "Iteration 72, loss = 0.21705228\n",
      "Iteration 73, loss = 0.21582147\n",
      "Iteration 74, loss = 0.21494113\n",
      "Iteration 75, loss = 0.21417021\n",
      "Iteration 76, loss = 0.21353280\n",
      "Iteration 77, loss = 0.21242575\n",
      "Iteration 78, loss = 0.21173607\n",
      "Iteration 79, loss = 0.21081604\n",
      "Iteration 80, loss = 0.20980384\n",
      "Iteration 81, loss = 0.20944236\n",
      "Iteration 82, loss = 0.20843483\n",
      "Iteration 83, loss = 0.20752654\n",
      "Iteration 84, loss = 0.20692221\n",
      "Iteration 85, loss = 0.20614189\n",
      "Iteration 86, loss = 0.20541382\n",
      "Iteration 87, loss = 0.20532096\n",
      "Iteration 88, loss = 0.20418013\n",
      "Iteration 89, loss = 0.20364430\n",
      "Iteration 90, loss = 0.20367164\n",
      "Iteration 91, loss = 0.20223089\n",
      "Iteration 92, loss = 0.20182184\n",
      "Iteration 93, loss = 0.20141972\n",
      "Iteration 94, loss = 0.20092300\n",
      "Iteration 95, loss = 0.19962586\n",
      "Iteration 96, loss = 0.19936135\n",
      "Iteration 97, loss = 0.19889779\n",
      "Iteration 98, loss = 0.19804247\n",
      "Iteration 99, loss = 0.19754833\n",
      "Iteration 100, loss = 0.19693418\n",
      "Iteration 101, loss = 0.19637302\n",
      "Iteration 102, loss = 0.19569730\n",
      "Iteration 103, loss = 0.19563942\n",
      "Iteration 104, loss = 0.19447432\n",
      "Iteration 105, loss = 0.19427532\n",
      "Iteration 106, loss = 0.19367979\n",
      "Iteration 107, loss = 0.19319777\n",
      "Iteration 108, loss = 0.19248264\n",
      "Iteration 109, loss = 0.19204412\n",
      "Iteration 110, loss = 0.19149130\n",
      "Iteration 111, loss = 0.19103789\n",
      "Iteration 112, loss = 0.19053103\n",
      "Iteration 113, loss = 0.19019795\n",
      "Iteration 114, loss = 0.18964173\n",
      "Iteration 115, loss = 0.18907655\n",
      "Iteration 116, loss = 0.18881733\n",
      "Iteration 117, loss = 0.18803022\n",
      "Iteration 118, loss = 0.18772898\n",
      "Iteration 119, loss = 0.18677954\n",
      "Iteration 120, loss = 0.18659771\n",
      "Iteration 121, loss = 0.18571458\n",
      "Iteration 122, loss = 0.18566625\n",
      "Iteration 123, loss = 0.18495163\n",
      "Iteration 124, loss = 0.18424455\n",
      "Iteration 125, loss = 0.18385943\n",
      "Iteration 126, loss = 0.18337241\n",
      "Iteration 127, loss = 0.18273421\n",
      "Iteration 128, loss = 0.18239749\n",
      "Iteration 129, loss = 0.18141232\n",
      "Iteration 130, loss = 0.18119858\n",
      "Iteration 131, loss = 0.18063303\n",
      "Iteration 132, loss = 0.18037333\n",
      "Iteration 133, loss = 0.17954301\n",
      "Iteration 134, loss = 0.17875393\n",
      "Iteration 135, loss = 0.17837124\n",
      "Iteration 136, loss = 0.17719268\n",
      "Iteration 137, loss = 0.17669554\n",
      "Iteration 138, loss = 0.17639509\n",
      "Iteration 139, loss = 0.17493759\n",
      "Iteration 140, loss = 0.17395137\n",
      "Iteration 141, loss = 0.17319942\n",
      "Iteration 142, loss = 0.17269715\n",
      "Iteration 143, loss = 0.17142230\n",
      "Iteration 144, loss = 0.16928864\n",
      "Iteration 145, loss = 0.16717443\n",
      "Iteration 146, loss = 0.16665152\n",
      "Iteration 147, loss = 0.16403948\n",
      "Iteration 148, loss = 0.16147912\n",
      "Iteration 149, loss = 0.15891482\n",
      "Iteration 150, loss = 0.15900812\n",
      "Iteration 151, loss = 0.15616665\n",
      "Iteration 152, loss = 0.15367562\n",
      "Iteration 153, loss = 0.15062156\n",
      "Iteration 154, loss = 0.14948402\n",
      "Iteration 155, loss = 0.14756063\n",
      "Iteration 156, loss = 0.14605798\n",
      "Iteration 157, loss = 0.14408763\n",
      "Iteration 158, loss = 0.14384316\n",
      "Iteration 159, loss = 0.14208266\n",
      "Iteration 160, loss = 0.14188519\n",
      "Iteration 161, loss = 0.13900776\n",
      "Iteration 162, loss = 0.13877055\n",
      "Iteration 163, loss = 0.13687854\n",
      "Iteration 164, loss = 0.13614245\n",
      "Iteration 165, loss = 0.13392795\n",
      "Iteration 166, loss = 0.13191628\n",
      "Iteration 167, loss = 0.13393163\n",
      "Iteration 168, loss = 0.13223818\n",
      "Iteration 169, loss = 0.12974425\n",
      "Iteration 170, loss = 0.12805769\n",
      "Iteration 171, loss = 0.12855902\n",
      "Iteration 172, loss = 0.12551897\n",
      "Iteration 173, loss = 0.12564404\n",
      "Iteration 174, loss = 0.12346631\n",
      "Iteration 175, loss = 0.12345083\n",
      "Iteration 176, loss = 0.12199568\n",
      "Iteration 177, loss = 0.12187688\n",
      "Iteration 178, loss = 0.12032764\n",
      "Iteration 179, loss = 0.11893462\n",
      "Iteration 180, loss = 0.11933623\n",
      "Iteration 181, loss = 0.11818160\n",
      "Iteration 182, loss = 0.11854884\n",
      "Iteration 183, loss = 0.11747327\n",
      "Iteration 184, loss = 0.11577478\n",
      "Iteration 185, loss = 0.11578832\n",
      "Iteration 186, loss = 0.11303002\n",
      "Iteration 187, loss = 0.11259021\n",
      "Iteration 188, loss = 0.11258365\n",
      "Iteration 189, loss = 0.11203791\n",
      "Iteration 190, loss = 0.11119783\n",
      "Iteration 191, loss = 0.10978378\n",
      "Iteration 192, loss = 0.10939986\n",
      "Iteration 193, loss = 0.10942804\n",
      "Iteration 194, loss = 0.10777188\n",
      "Iteration 195, loss = 0.10904852\n",
      "Iteration 196, loss = 0.10654543\n",
      "Iteration 197, loss = 0.10716574\n",
      "Iteration 198, loss = 0.10501605\n",
      "Iteration 199, loss = 0.10460047\n",
      "Iteration 200, loss = 0.10441249\n",
      "Iteration 201, loss = 0.10475907\n",
      "Iteration 202, loss = 0.10521607\n",
      "Iteration 203, loss = 0.10390017\n",
      "Iteration 204, loss = 0.10409540\n",
      "Iteration 205, loss = 0.10228644\n",
      "Iteration 206, loss = 0.10048859\n",
      "Iteration 207, loss = 0.10033998\n",
      "Iteration 208, loss = 0.10141710\n",
      "Iteration 209, loss = 0.10059633\n",
      "Iteration 210, loss = 0.10126044\n",
      "Iteration 211, loss = 0.09926471\n",
      "Iteration 212, loss = 0.09972173\n",
      "Iteration 213, loss = 0.09818708\n",
      "Iteration 214, loss = 0.09897203\n",
      "Iteration 215, loss = 0.09744527\n",
      "Iteration 216, loss = 0.09755480\n",
      "Iteration 217, loss = 0.09749626\n",
      "Iteration 218, loss = 0.09715587\n",
      "Iteration 219, loss = 0.09748786\n",
      "Iteration 220, loss = 0.09826114\n",
      "Iteration 221, loss = 0.09717532\n",
      "Iteration 222, loss = 0.09491512\n",
      "Iteration 223, loss = 0.09556230\n",
      "Iteration 224, loss = 0.09455629\n",
      "Iteration 225, loss = 0.09556652\n",
      "Iteration 226, loss = 0.09552784\n",
      "Iteration 227, loss = 0.09560478\n",
      "Iteration 228, loss = 0.09569321\n",
      "Iteration 229, loss = 0.09395351\n",
      "Iteration 230, loss = 0.09368286\n",
      "Iteration 231, loss = 0.09576212\n",
      "Iteration 232, loss = 0.09342126\n",
      "Iteration 233, loss = 0.09394152\n",
      "Iteration 234, loss = 0.09304522\n",
      "Iteration 235, loss = 0.09244513\n",
      "Iteration 236, loss = 0.09128732\n",
      "Iteration 237, loss = 0.09069627\n",
      "Iteration 238, loss = 0.09134320\n",
      "Iteration 239, loss = 0.09264475\n",
      "Iteration 240, loss = 0.08995673\n",
      "Iteration 241, loss = 0.09128232\n",
      "Iteration 242, loss = 0.09176839\n",
      "Iteration 243, loss = 0.09025149\n",
      "Iteration 244, loss = 0.09207879\n",
      "Iteration 245, loss = 0.09201996\n",
      "Iteration 246, loss = 0.09141505\n",
      "Iteration 247, loss = 0.08995791\n",
      "Iteration 248, loss = 0.08935327\n",
      "Iteration 249, loss = 0.09374253\n",
      "Iteration 250, loss = 0.09244359\n",
      "Iteration 251, loss = 0.08988365\n",
      "Iteration 252, loss = 0.08759868\n",
      "Iteration 253, loss = 0.09044365\n",
      "Iteration 254, loss = 0.08713261\n",
      "Iteration 255, loss = 0.08782561\n",
      "Iteration 256, loss = 0.08636967\n",
      "Iteration 257, loss = 0.08639387\n",
      "Iteration 258, loss = 0.08751855\n",
      "Iteration 259, loss = 0.08764442\n",
      "Iteration 260, loss = 0.08746025\n",
      "Iteration 261, loss = 0.08625580\n",
      "Iteration 262, loss = 0.08622675\n",
      "Iteration 263, loss = 0.08687617\n",
      "Iteration 264, loss = 0.08483978\n",
      "Iteration 265, loss = 0.08684466\n",
      "Iteration 266, loss = 0.08796887\n",
      "Iteration 267, loss = 0.09133826\n",
      "Iteration 268, loss = 0.08688783\n",
      "Iteration 269, loss = 0.08670827\n",
      "Iteration 270, loss = 0.08569683\n",
      "Iteration 271, loss = 0.08517907\n",
      "Iteration 272, loss = 0.08642674\n",
      "Iteration 273, loss = 0.08487517\n",
      "Iteration 274, loss = 0.08441439\n",
      "Iteration 275, loss = 0.08373645\n",
      "Iteration 276, loss = 0.08340845\n",
      "Iteration 277, loss = 0.08397049\n"
     ]
    },
    {
     "name": "stdout",
     "output_type": "stream",
     "text": [
      "Iteration 278, loss = 0.08580972\n",
      "Iteration 279, loss = 0.08252788\n",
      "Iteration 280, loss = 0.08567888\n",
      "Iteration 281, loss = 0.08557002\n",
      "Iteration 282, loss = 0.08483890\n",
      "Iteration 283, loss = 0.08251079\n",
      "Iteration 284, loss = 0.08271005\n",
      "Iteration 285, loss = 0.08219770\n",
      "Iteration 286, loss = 0.08169102\n",
      "Iteration 287, loss = 0.08325214\n",
      "Iteration 288, loss = 0.08395629\n",
      "Iteration 289, loss = 0.08300452\n",
      "Iteration 290, loss = 0.08177449\n",
      "Iteration 291, loss = 0.08106712\n",
      "Iteration 292, loss = 0.08083501\n",
      "Iteration 293, loss = 0.08248039\n",
      "Iteration 294, loss = 0.08300229\n",
      "Iteration 295, loss = 0.08195243\n",
      "Iteration 296, loss = 0.08267299\n",
      "Iteration 297, loss = 0.08231412\n",
      "Iteration 298, loss = 0.08020435\n",
      "Iteration 299, loss = 0.08055000\n",
      "Iteration 300, loss = 0.08153702\n",
      "Iteration 301, loss = 0.08330310\n",
      "Iteration 302, loss = 0.08128325\n",
      "Iteration 303, loss = 0.08004863\n",
      "Iteration 304, loss = 0.08067945\n",
      "Iteration 305, loss = 0.08208701\n",
      "Iteration 306, loss = 0.07992936\n",
      "Iteration 307, loss = 0.07957806\n",
      "Iteration 308, loss = 0.07948769\n",
      "Iteration 309, loss = 0.07878622\n",
      "Iteration 310, loss = 0.07976065\n",
      "Iteration 311, loss = 0.07908468\n",
      "Iteration 312, loss = 0.07872935\n",
      "Iteration 313, loss = 0.07827252\n",
      "Iteration 314, loss = 0.07827928\n",
      "Iteration 315, loss = 0.07895350\n",
      "Iteration 316, loss = 0.07773286\n",
      "Iteration 317, loss = 0.07850139\n",
      "Iteration 318, loss = 0.07934290\n",
      "Iteration 319, loss = 0.08458334\n",
      "Iteration 320, loss = 0.07857134\n",
      "Iteration 321, loss = 0.08031462\n",
      "Iteration 322, loss = 0.07848326\n",
      "Iteration 323, loss = 0.07875756\n",
      "Iteration 324, loss = 0.07644543\n",
      "Iteration 325, loss = 0.07823537\n",
      "Iteration 326, loss = 0.08055460\n",
      "Iteration 327, loss = 0.07791946\n",
      "Iteration 328, loss = 0.07684814\n",
      "Iteration 329, loss = 0.07767679\n",
      "Iteration 330, loss = 0.07738874\n",
      "Iteration 331, loss = 0.07757040\n",
      "Iteration 332, loss = 0.07778332\n",
      "Iteration 333, loss = 0.07756669\n",
      "Iteration 334, loss = 0.07716690\n",
      "Iteration 335, loss = 0.07847678\n",
      "Training loss did not improve more than tol=0.000100 for 10 consecutive epochs. Setting learning rate to 0.002000\n",
      "Iteration 336, loss = 0.07772959\n",
      "Iteration 337, loss = 0.07528905\n",
      "Iteration 338, loss = 0.07381700\n",
      "Iteration 339, loss = 0.07350915\n",
      "Iteration 340, loss = 0.07347989\n",
      "Iteration 341, loss = 0.07341934\n",
      "Iteration 342, loss = 0.07328998\n",
      "Iteration 343, loss = 0.07333636\n",
      "Iteration 344, loss = 0.07308309\n",
      "Iteration 345, loss = 0.07344481\n",
      "Iteration 346, loss = 0.07315251\n",
      "Iteration 347, loss = 0.07329360\n",
      "Iteration 348, loss = 0.07316400\n",
      "Iteration 349, loss = 0.07336801\n",
      "Iteration 350, loss = 0.07289301\n",
      "Iteration 351, loss = 0.07297932\n",
      "Iteration 352, loss = 0.07309348\n",
      "Iteration 353, loss = 0.07288451\n",
      "Iteration 354, loss = 0.07301398\n",
      "Iteration 355, loss = 0.07297305\n",
      "Iteration 356, loss = 0.07289636\n",
      "Iteration 357, loss = 0.07285344\n",
      "Iteration 358, loss = 0.07316517\n",
      "Iteration 359, loss = 0.07286536\n",
      "Iteration 360, loss = 0.07269959\n",
      "Iteration 361, loss = 0.07291783\n",
      "Iteration 362, loss = 0.07258138\n",
      "Iteration 363, loss = 0.07281529\n",
      "Iteration 364, loss = 0.07295025\n",
      "Iteration 365, loss = 0.07262521\n",
      "Iteration 366, loss = 0.07285762\n",
      "Iteration 367, loss = 0.07251379\n",
      "Iteration 368, loss = 0.07248285\n",
      "Iteration 369, loss = 0.07242441\n",
      "Iteration 370, loss = 0.07267743\n",
      "Iteration 371, loss = 0.07275928\n",
      "Iteration 372, loss = 0.07264880\n",
      "Iteration 373, loss = 0.07254993\n",
      "Training loss did not improve more than tol=0.000100 for 10 consecutive epochs. Setting learning rate to 0.000400\n",
      "Iteration 374, loss = 0.07235169\n",
      "Iteration 375, loss = 0.07216372\n",
      "Iteration 376, loss = 0.07207939\n",
      "Iteration 377, loss = 0.07199837\n",
      "Iteration 378, loss = 0.07196215\n",
      "Iteration 379, loss = 0.07199715\n",
      "Iteration 380, loss = 0.07195224\n",
      "Iteration 381, loss = 0.07194235\n",
      "Iteration 382, loss = 0.07194575\n",
      "Iteration 383, loss = 0.07193106\n",
      "Iteration 384, loss = 0.07208359\n",
      "Iteration 385, loss = 0.07191963\n",
      "Iteration 386, loss = 0.07202491\n",
      "Training loss did not improve more than tol=0.000100 for 10 consecutive epochs. Setting learning rate to 0.000080\n",
      "Iteration 387, loss = 0.07181867\n",
      "Iteration 388, loss = 0.07182925\n",
      "Iteration 389, loss = 0.07182259\n",
      "Iteration 390, loss = 0.07182740\n",
      "Iteration 391, loss = 0.07181808\n",
      "Iteration 392, loss = 0.07183758\n",
      "Iteration 393, loss = 0.07182047\n",
      "Iteration 394, loss = 0.07181195\n",
      "Iteration 395, loss = 0.07182638\n",
      "Iteration 396, loss = 0.07180633\n",
      "Iteration 397, loss = 0.07182860\n",
      "Iteration 398, loss = 0.07182710\n",
      "Training loss did not improve more than tol=0.000100 for 10 consecutive epochs. Setting learning rate to 0.000016\n",
      "Iteration 399, loss = 0.07178777\n",
      "Iteration 400, loss = 0.07179714\n",
      "Iteration 401, loss = 0.07179217\n",
      "Iteration 402, loss = 0.07179249\n",
      "Iteration 403, loss = 0.07179267\n",
      "Iteration 404, loss = 0.07179248\n",
      "Iteration 405, loss = 0.07179307\n",
      "Iteration 406, loss = 0.07179149\n",
      "Iteration 407, loss = 0.07179198\n",
      "Iteration 408, loss = 0.07179082\n",
      "Iteration 409, loss = 0.07179143\n",
      "Training loss did not improve more than tol=0.000100 for 10 consecutive epochs. Setting learning rate to 0.000003\n",
      "Iteration 410, loss = 0.07178733\n",
      "Iteration 411, loss = 0.07178805\n",
      "Iteration 412, loss = 0.07178782\n",
      "Iteration 413, loss = 0.07178747\n",
      "Iteration 414, loss = 0.07178765\n",
      "Iteration 415, loss = 0.07178753\n",
      "Iteration 416, loss = 0.07178750\n",
      "Iteration 417, loss = 0.07178738\n",
      "Iteration 418, loss = 0.07178747\n",
      "Iteration 419, loss = 0.07178760\n",
      "Iteration 420, loss = 0.07178735\n",
      "Training loss did not improve more than tol=0.000100 for 10 consecutive epochs. Setting learning rate to 0.000001\n",
      "Iteration 421, loss = 0.07178655\n",
      "Iteration 422, loss = 0.07178661\n",
      "Iteration 423, loss = 0.07178673\n",
      "Iteration 424, loss = 0.07178657\n",
      "Iteration 425, loss = 0.07178660\n",
      "Iteration 426, loss = 0.07178652\n",
      "Iteration 427, loss = 0.07178656\n",
      "Iteration 428, loss = 0.07178655\n",
      "Iteration 429, loss = 0.07178658\n",
      "Iteration 430, loss = 0.07178646\n",
      "Iteration 431, loss = 0.07178664\n",
      "Training loss did not improve more than tol=0.000100 for 10 consecutive epochs. Learning rate too small. Stopping.\n",
      "Elapsed Time: 183.4310657978058\n"
     ]
    }
   ],
   "source": [
    "# create the search cross-validation\n",
    "nn_rand = RandomizedSearchCV(estimator = nn, param_distributions = param_grid_nn, \n",
    "                            n_iter=100, cv=3, scoring=auc_scoring,verbose = 1, n_jobs = -1, \n",
    "                            error_score=0)\n",
    "\n",
    "# fit the random search model (this will take a few minutes)\n",
    "t1 = time.time()\n",
    "nn_rand.fit(X_train_rd_tf, y_train)\n",
    "t2 = time.time()\n",
    "print('Elapsed Time:',(t2-t1))\n"
   ]
  },
  {
   "cell_type": "code",
   "execution_count": 80,
   "metadata": {},
   "outputs": [
    {
     "name": "stdout",
     "output_type": "stream",
     "text": [
      "{'warm_start': False, 'verbose': True, 'validation_fraction': 0.1, 'tol': 0.0001, 'solver': 'sgd', 'shuffle': True, 'random_state': 12, 'power_t': 0.25, 'nesterovs_momentum': False, 'n_iter_no_change': 10, 'momentum': 0.9, 'max_iter': 5000, 'max_fun': 15000, 'learning_rate_init': 0.01, 'learning_rate': 'adaptive', 'hidden_layer_sizes': (10, 8), 'epsilon': 1e-08, 'early_stopping': False, 'beta_2': 0.999, 'beta_1': 0.9, 'batch_size': 'auto', 'alpha': 0.0001, 'activation': 'tanh'}\n",
      "Optimized Neural Network\n",
      "Training AUC:0.997\n",
      "Validation AUC:0.986\n"
     ]
    }
   ],
   "source": [
    "print(nn_rand.best_params_)\n",
    "\n",
    "print('Optimized Neural Network')\n",
    "y_train_preds_rand = nn_rand.best_estimator_.predict_proba(X_train_rd_tf)[:,1]\n",
    "y_valid_preds_rand = nn_rand.best_estimator_.predict_proba(X_valid_rd_tf)[:,1]\n",
    "\n",
    "nn_train_opt_auc = roc_auc_score(y_train, y_train_preds_rand)\n",
    "nn_valid_opt_auc = roc_auc_score(y_valid, y_valid_preds_rand)\n",
    "\n",
    "print('Training AUC:{:.3f}'.format(nn_train_opt_auc))\n",
    "print('Validation AUC:{:.3f}'.format(nn_valid_opt_auc))"
   ]
  },
  {
   "cell_type": "markdown",
   "metadata": {},
   "source": [
    "### TensorFlow\n",
    "(Using example from discussion T13_tutorial_deep_learning_basics"
   ]
  },
  {
   "cell_type": "code",
   "execution_count": 53,
   "metadata": {},
   "outputs": [],
   "source": [
    "# TensorFlow and tf.keras\n",
    "import tensorflow as tf\n",
    "from tensorflow import keras\n",
    "from tensorflow.keras.layers import Conv2D, MaxPooling2D, Dropout, Flatten, Dense\n",
    "\n",
    "# Commonly used modules\n",
    "import numpy as np\n",
    "import os\n",
    "import sys"
   ]
  },
  {
   "cell_type": "code",
   "execution_count": 67,
   "metadata": {},
   "outputs": [],
   "source": [
    "def build_model():\n",
    "    model = keras.Sequential([\n",
    "        Dense(20, activation=tf.nn.relu, input_shape=[len(X_train_rd_tf[0])]),\n",
    "        Dense(1)\n",
    "    ])\n",
    "\n",
    "    model.compile(optimizer=tf.optimizers.Adam(), \n",
    "                  loss='mse',\n",
    "                  #metrics=[tf.keras.metrics.AUC()]\n",
    "                  metrics=[tf.keras.metrics.BinaryAccuracy(),'mae', 'mse']\n",
    "                 )\n",
    "    return model"
   ]
  },
  {
   "cell_type": "code",
   "execution_count": 68,
   "metadata": {},
   "outputs": [],
   "source": [
    "# this helps makes our output less verbose but still shows progress\n",
    "class PrintDot(keras.callbacks.Callback):\n",
    "    def on_epoch_end(self, epoch, logs):\n",
    "        if epoch % 100 == 0: print('')\n",
    "        print('.', end='')\n",
    "\n",
    "model = build_model()"
   ]
  },
  {
   "cell_type": "code",
   "execution_count": 69,
   "metadata": {},
   "outputs": [
    {
     "name": "stdout",
     "output_type": "stream",
     "text": [
      "\n",
      "............................................................................................."
     ]
    }
   ],
   "source": [
    "early_stop = keras.callbacks.EarlyStopping(monitor='val_loss', patience=50)\n",
    "history = model.fit(X_train_rd_tf, y_train, epochs=1000, verbose=0, validation_split = 0.1,\n",
    "                    callbacks=[early_stop, PrintDot()])\n",
    "\n",
    "hist = pd.DataFrame(history.history)\n",
    "hist['epoch'] = history.epoch\n",
    "\n"
   ]
  },
  {
   "cell_type": "code",
   "execution_count": 70,
   "metadata": {},
   "outputs": [
    {
     "data": {
      "text/html": [
       "<div>\n",
       "<style scoped>\n",
       "    .dataframe tbody tr th:only-of-type {\n",
       "        vertical-align: middle;\n",
       "    }\n",
       "\n",
       "    .dataframe tbody tr th {\n",
       "        vertical-align: top;\n",
       "    }\n",
       "\n",
       "    .dataframe thead th {\n",
       "        text-align: right;\n",
       "    }\n",
       "</style>\n",
       "<table border=\"1\" class=\"dataframe\">\n",
       "  <thead>\n",
       "    <tr style=\"text-align: right;\">\n",
       "      <th></th>\n",
       "      <th>loss</th>\n",
       "      <th>binary_accuracy</th>\n",
       "      <th>mae</th>\n",
       "      <th>mse</th>\n",
       "      <th>val_loss</th>\n",
       "      <th>val_binary_accuracy</th>\n",
       "      <th>val_mae</th>\n",
       "      <th>val_mse</th>\n",
       "      <th>epoch</th>\n",
       "    </tr>\n",
       "  </thead>\n",
       "  <tbody>\n",
       "    <tr>\n",
       "      <th>count</th>\n",
       "      <td>93.000000</td>\n",
       "      <td>93.000000</td>\n",
       "      <td>93.000000</td>\n",
       "      <td>93.000000</td>\n",
       "      <td>93.000000</td>\n",
       "      <td>93.000000</td>\n",
       "      <td>93.000000</td>\n",
       "      <td>93.000000</td>\n",
       "      <td>93.000000</td>\n",
       "    </tr>\n",
       "    <tr>\n",
       "      <th>mean</th>\n",
       "      <td>0.070243</td>\n",
       "      <td>0.926663</td>\n",
       "      <td>0.183746</td>\n",
       "      <td>0.070243</td>\n",
       "      <td>0.089486</td>\n",
       "      <td>0.904685</td>\n",
       "      <td>0.224273</td>\n",
       "      <td>0.089486</td>\n",
       "      <td>46.000000</td>\n",
       "    </tr>\n",
       "    <tr>\n",
       "      <th>std</th>\n",
       "      <td>0.065980</td>\n",
       "      <td>0.058043</td>\n",
       "      <td>0.062049</td>\n",
       "      <td>0.065980</td>\n",
       "      <td>0.035838</td>\n",
       "      <td>0.042343</td>\n",
       "      <td>0.042042</td>\n",
       "      <td>0.035838</td>\n",
       "      <td>26.990739</td>\n",
       "    </tr>\n",
       "    <tr>\n",
       "      <th>min</th>\n",
       "      <td>0.044983</td>\n",
       "      <td>0.577668</td>\n",
       "      <td>0.145082</td>\n",
       "      <td>0.044983</td>\n",
       "      <td>0.065708</td>\n",
       "      <td>0.622419</td>\n",
       "      <td>0.186371</td>\n",
       "      <td>0.065708</td>\n",
       "      <td>0.000000</td>\n",
       "    </tr>\n",
       "    <tr>\n",
       "      <th>25%</th>\n",
       "      <td>0.047644</td>\n",
       "      <td>0.921839</td>\n",
       "      <td>0.152084</td>\n",
       "      <td>0.047644</td>\n",
       "      <td>0.076869</td>\n",
       "      <td>0.908555</td>\n",
       "      <td>0.203582</td>\n",
       "      <td>0.076869</td>\n",
       "      <td>23.000000</td>\n",
       "    </tr>\n",
       "    <tr>\n",
       "      <th>50%</th>\n",
       "      <td>0.051813</td>\n",
       "      <td>0.951396</td>\n",
       "      <td>0.160808</td>\n",
       "      <td>0.051813</td>\n",
       "      <td>0.081830</td>\n",
       "      <td>0.914454</td>\n",
       "      <td>0.212487</td>\n",
       "      <td>0.081830</td>\n",
       "      <td>46.000000</td>\n",
       "    </tr>\n",
       "    <tr>\n",
       "      <th>75%</th>\n",
       "      <td>0.069066</td>\n",
       "      <td>0.956322</td>\n",
       "      <td>0.191204</td>\n",
       "      <td>0.069066</td>\n",
       "      <td>0.088276</td>\n",
       "      <td>0.920354</td>\n",
       "      <td>0.227068</td>\n",
       "      <td>0.088276</td>\n",
       "      <td>69.000000</td>\n",
       "    </tr>\n",
       "    <tr>\n",
       "      <th>max</th>\n",
       "      <td>0.634511</td>\n",
       "      <td>0.960591</td>\n",
       "      <td>0.611382</td>\n",
       "      <td>0.634511</td>\n",
       "      <td>0.376953</td>\n",
       "      <td>0.943953</td>\n",
       "      <td>0.491287</td>\n",
       "      <td>0.376953</td>\n",
       "      <td>92.000000</td>\n",
       "    </tr>\n",
       "  </tbody>\n",
       "</table>\n",
       "</div>"
      ],
      "text/plain": [
       "            loss  binary_accuracy        mae        mse   val_loss  \\\n",
       "count  93.000000        93.000000  93.000000  93.000000  93.000000   \n",
       "mean    0.070243         0.926663   0.183746   0.070243   0.089486   \n",
       "std     0.065980         0.058043   0.062049   0.065980   0.035838   \n",
       "min     0.044983         0.577668   0.145082   0.044983   0.065708   \n",
       "25%     0.047644         0.921839   0.152084   0.047644   0.076869   \n",
       "50%     0.051813         0.951396   0.160808   0.051813   0.081830   \n",
       "75%     0.069066         0.956322   0.191204   0.069066   0.088276   \n",
       "max     0.634511         0.960591   0.611382   0.634511   0.376953   \n",
       "\n",
       "       val_binary_accuracy    val_mae    val_mse      epoch  \n",
       "count            93.000000  93.000000  93.000000  93.000000  \n",
       "mean              0.904685   0.224273   0.089486  46.000000  \n",
       "std               0.042343   0.042042   0.035838  26.990739  \n",
       "min               0.622419   0.186371   0.065708   0.000000  \n",
       "25%               0.908555   0.203582   0.076869  23.000000  \n",
       "50%               0.914454   0.212487   0.081830  46.000000  \n",
       "75%               0.920354   0.227068   0.088276  69.000000  \n",
       "max               0.943953   0.491287   0.376953  92.000000  "
      ]
     },
     "execution_count": 70,
     "metadata": {},
     "output_type": "execute_result"
    }
   ],
   "source": [
    "hist.describe()"
   ]
  },
  {
   "cell_type": "code",
   "execution_count": 58,
   "metadata": {},
   "outputs": [
    {
     "name": "stdout",
     "output_type": "stream",
     "text": [
      "\n",
      "Final Root Mean Square Error on validation set: 0.277\n"
     ]
    }
   ],
   "source": [
    "rmse_final = np.sqrt(float(hist['val_mse'].tail(1)))\n",
    "print()\n",
    "print('Final Root Mean Square Error on validation set: {}'.format(round(rmse_final, 3)))"
   ]
  },
  {
   "cell_type": "code",
   "execution_count": 59,
   "metadata": {},
   "outputs": [
    {
     "data": {
      "image/png": "[encoded data removed]",
      "text/plain": [
       "<Figure size 432x288 with 1 Axes>"
      ]
     },
     "metadata": {
      "needs_background": "light"
     },
     "output_type": "display_data"
    }
   ],
   "source": [
    "def plot_history():\n",
    "    plt.figure()\n",
    "    plt.xlabel('Epoch')\n",
    "    plt.ylabel('Mean Square Error [Thousand Dollars$^2$]')\n",
    "    plt.plot(hist['epoch'], hist['mse'], label='Train Error')\n",
    "    plt.plot(hist['epoch'], hist['val_mse'], label = 'Val Error')\n",
    "    plt.legend()\n",
    "    plt.ylim([0,1])\n",
    "\n",
    "plot_history()"
   ]
  },
  {
   "cell_type": "code",
   "execution_count": 62,
   "metadata": {},
   "outputs": [
    {
     "name": "stdout",
     "output_type": "stream",
     "text": [
      "   1/2171 [..............................] - ETA: 0s - loss: 0.0453 - accuracy: 0.0000e+00 - mae: 0.1287 - mse: 0.0453WARNING:tensorflow:Callbacks method `on_test_batch_end` is slow compared to the batch time (batch time: 0.0000s vs `on_test_batch_end` time: 0.0010s). Check your callbacks.\n",
      "2171/2171 [==============================] - 1s 430us/step - loss: 0.0790 - accuracy: 0.0000e+00 - mae: 0.1913 - mse: 0.0790\n",
      "2171/2171 [==============================] - 1s 439us/step - loss: 0.0790 - accuracy: 0.0000e+00 - mae: 0.1913 - mse: 0.0790\n",
      "Root Mean Square Error on test set: 0.281\n"
     ]
    }
   ],
   "source": [
    "mse, _, _, _ = model.evaluate(X_test_rd_tf, y_test)\n",
    "model.evaluate(X_test_rd_tf, y_test)\n",
    "rmse = np.sqrt(mse)\n",
    "print('Root Mean Square Error on test set: {}'.format(round(rmse, 3)))"
   ]
  },
  {
   "cell_type": "markdown",
   "metadata": {},
   "source": [
    "# Compare Models  NN vs LogReg"
   ]
  },
  {
   "cell_type": "code",
   "execution_count": 63,
   "metadata": {},
   "outputs": [],
   "source": [
    "y_train_preds_lr = lr_grid.best_estimator_.predict_proba(X_train_rd_tf)[:,1]\n",
    "y_valid_preds_lr = lr_grid.best_estimator_.predict_proba(X_valid_rd_tf)[:,1]\n",
    "y_test_preds_lr = lr_grid.best_estimator_.predict_proba(X_test_rd_tf)[:,1]\n",
    "\n",
    "y_train_preds_nn = nn_rand.best_estimator_.predict_proba(X_train_rd_tf)[:,1]\n",
    "y_valid_preds_nn = nn_rand.best_estimator_.predict_proba(X_valid_rd_tf)[:,1]\n",
    "y_test_preds_nn = nn_rand.best_estimator_.predict_proba(X_test_rd_tf)[:,1]"
   ]
  },
  {
   "cell_type": "code",
   "execution_count": 64,
   "metadata": {},
   "outputs": [
    {
     "name": "stdout",
     "output_type": "stream",
     "text": [
      "LR Training:\n",
      "AUC:0.840\n",
      "accuracy:0.864\n",
      "recall:0.748\n",
      "precision:0.974\n",
      "specificity:0.980\n",
      "prevalence:0.500\n",
      " \n",
      "LR Validation:\n",
      "AUC:0.805\n",
      "accuracy:0.971\n",
      "recall:0.711\n",
      "precision:0.112\n",
      "specificity:0.972\n",
      "prevalence:0.005\n",
      " \n",
      "LR Test:\n",
      "AUC:0.840\n",
      "accuracy:0.971\n",
      "recall:0.762\n",
      "precision:0.121\n",
      "specificity:0.972\n",
      "prevalence:0.005\n",
      " \n",
      "NN Training:\n",
      "AUC:1.000\n",
      "accuracy:1.000\n",
      "recall:1.000\n",
      "precision:1.000\n",
      "specificity:1.000\n",
      "prevalence:0.500\n",
      " \n",
      "NN Validation:\n",
      "AUC:0.983\n",
      "accuracy:0.948\n",
      "recall:0.942\n",
      "precision:0.083\n",
      "specificity:0.948\n",
      "prevalence:0.005\n",
      " \n",
      "NN Test:\n",
      "AUC:0.987\n",
      "accuracy:0.949\n",
      "recall:0.942\n",
      "precision:0.085\n",
      "specificity:0.949\n",
      "prevalence:0.005\n",
      " \n"
     ]
    }
   ],
   "source": [
    "thresh = 0.5\n",
    "\n",
    "print('LR Training:')\n",
    "train_auc, train_accuracy, train_recall, train_precision, train_specificity = cc.print_report(y_train,y_train_preds_lr, thresh)\n",
    "print('LR Validation:')\n",
    "valid_auc, valid_accuracy, valid_recall, valid_precision, valid_specificity = cc.print_report(y_valid,y_valid_preds_lr, thresh)\n",
    "print('LR Test:')\n",
    "test_auc, test_accuracy, test_recall, test_precision, test_specificity = cc.print_report(y_test,y_test_preds_lr, thresh)\n",
    "\n",
    "print('NN Training:')\n",
    "train_auc, train_accuracy, train_recall, train_precision, train_specificity = cc.print_report(y_train,y_train_preds_nn, thresh)\n",
    "print('NN Validation:')\n",
    "valid_auc, valid_accuracy, valid_recall, valid_precision, valid_specificity = cc.print_report(y_valid,y_valid_preds_nn, thresh)\n",
    "print('NN Test:')\n",
    "test_auc, test_accuracy, test_recall, test_precision, test_specificity = cc.print_report(y_test,y_test_preds_nn, thresh)\n"
   ]
  },
  {
   "cell_type": "code",
   "execution_count": 65,
   "metadata": {},
   "outputs": [
    {
     "data": {
      "image/png": "[encoded data removed]",
      "text/plain": [
       "<Figure size 1200x1200 with 1 Axes>"
      ]
     },
     "metadata": {
      "needs_background": "light"
     },
     "output_type": "display_data"
    }
   ],
   "source": [
    "fpr_train, tpr_train, thresholds_train = roc_curve(y_train, y_train_preds_lr)\n",
    "auc_train = roc_auc_score(y_train, y_train_preds_lr)\n",
    "\n",
    "fpr_valid, tpr_valid, thresholds_valid = roc_curve(y_valid, y_valid_preds_lr)\n",
    "auc_valid = roc_auc_score(y_valid, y_valid_preds_lr)\n",
    "\n",
    "fpr_test, tpr_test, thresholds_test = roc_curve(y_test, y_test_preds_lr)\n",
    "auc_test = roc_auc_score(y_test, y_test_preds_lr)\n",
    "\n",
    "\n",
    "\n",
    "plt.figure(figsize=(8,8), dpi=150)\n",
    "plt.rc('ytick', labelsize=12) \n",
    "plt.plot(fpr_train, tpr_train, 'r-',label ='Train AUC:{:.3f}'.format(auc_train))\n",
    "plt.plot(fpr_valid, tpr_valid, 'b-',label ='Valid AUC:{:.3f}'.format(auc_valid))\n",
    "plt.plot(fpr_test, tpr_test, 'g-',label ='Test AUC:{:.3f}'.format(auc_test))\n",
    "plt.plot([0,1],[0,1],'k--')\n",
    "plt.xlabel('False Positive Rate')\n",
    "plt.ylabel('True Positive Rate')\n",
    "plt.title('AUC - LR')\n",
    "plt.legend()\n",
    "plt.show()"
   ]
  },
  {
   "cell_type": "code",
   "execution_count": 81,
   "metadata": {},
   "outputs": [
    {
     "data": {
      "image/png": "[encoded data removed]",
      "text/plain": [
       "<Figure size 1200x1200 with 1 Axes>"
      ]
     },
     "metadata": {
      "needs_background": "light"
     },
     "output_type": "display_data"
    }
   ],
   "source": [
    "fpr_train, tpr_train, thresholds_train = roc_curve(y_train, y_train_preds_nn)\n",
    "auc_train = roc_auc_score(y_train, y_train_preds_nn)\n",
    "\n",
    "fpr_valid, tpr_valid, thresholds_valid = roc_curve(y_valid, y_valid_preds_nn)\n",
    "auc_valid = roc_auc_score(y_valid, y_valid_preds_nn)\n",
    "\n",
    "fpr_test, tpr_test, thresholds_test = roc_curve(y_test, y_test_preds_nn)\n",
    "auc_test = roc_auc_score(y_test, y_test_preds_nn)\n",
    "\n",
    "\n",
    "\n",
    "plt.figure(figsize=(8,8), dpi=150)\n",
    "plt.rc('ytick', labelsize=12) \n",
    "plt.plot(fpr_train, tpr_train, 'r-',label ='Train AUC:{:.3f}'.format(auc_train))\n",
    "plt.plot(fpr_valid, tpr_valid, 'b-',label ='Valid AUC:{:.3f}'.format(auc_valid))\n",
    "plt.plot(fpr_test, tpr_test, 'g-',label ='Test AUC:{:.3f}'.format(auc_test))\n",
    "plt.plot([0,1],[0,1],'k--')\n",
    "plt.xlabel('False Positive Rate')\n",
    "plt.ylabel('True Positive Rate')\n",
    "plt.title('AUC - MLP NN')\n",
    "plt.legend()\n",
    "plt.show()"
   ]
  }
 ],
 "metadata": {
  "kernelspec": {
   "display_name": "Python 3",
   "language": "python",
   "name": "python3"
  },
  "language_info": {
   "codemirror_mode": {
    "name": "ipython",
    "version": 3
   },
   "file_extension": ".py",
   "mimetype": "text/x-python",
   "name": "python",
   "nbconvert_exporter": "python",
   "pygments_lexer": "ipython3",
   "version": "3.7.7"
  }
 },
 "nbformat": 4,
 "nbformat_minor": 4
}
