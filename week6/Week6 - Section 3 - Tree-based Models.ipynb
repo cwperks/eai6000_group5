{
 "cells": [
  {
   "cell_type": "markdown",
   "metadata": {},
   "source": [
    "# Group 5 - Final Report\n",
    "### Noelani Roy, Yihong Qiu, Cosimo Cambi, Craig Perkins"
   ]
  },
  {
   "cell_type": "code",
   "execution_count": 104,
   "metadata": {},
   "outputs": [],
   "source": [
    "#Libraries Imported\n",
    "import pandas as pd\n",
    "import numpy as np\n",
    "from numpy import mean, where\n",
    "from datetime import date\n",
    "import geopy.distance\n",
    "from math import sin, cos, sqrt, atan2, radians, log\n",
    "import time\n",
    "from collections import Counter\n",
    "import xgboost as xgb\n",
    "\n",
    "import seaborn as sns\n",
    "import matplotlib.pyplot as plt"
   ]
  },
  {
   "cell_type": "code",
   "execution_count": 2,
   "metadata": {},
   "outputs": [],
   "source": [
    "from imblearn.pipeline import Pipeline\n",
    "from imblearn.over_sampling import SMOTE\n",
    "from imblearn.under_sampling import RandomUnderSampler"
   ]
  },
  {
   "cell_type": "code",
   "execution_count": 3,
   "metadata": {},
   "outputs": [],
   "source": [
    "from sklearn.model_selection import train_test_split\n",
    "from sklearn import tree, metrics\n",
    "from sklearn.tree import DecisionTreeClassifier\n",
    "from sklearn.ensemble import RandomForestClassifier\n",
    "from sklearn.datasets import make_classification\n",
    "from sklearn.metrics import confusion_matrix,classification_report,make_scorer, mean_squared_error\n",
    "from sklearn.metrics import roc_curve, roc_auc_score, accuracy_score, precision_score, recall_score\n",
    "from sklearn.model_selection import GridSearchCV, RandomizedSearchCV"
   ]
  },
  {
   "cell_type": "markdown",
   "metadata": {},
   "source": [
    "### EDA - Data Loading"
   ]
  },
  {
   "cell_type": "code",
   "execution_count": 4,
   "metadata": {},
   "outputs": [
    {
     "data": {
      "text/html": [
       "<div>\n",
       "<style scoped>\n",
       "    .dataframe tbody tr th:only-of-type {\n",
       "        vertical-align: middle;\n",
       "    }\n",
       "\n",
       "    .dataframe tbody tr th {\n",
       "        vertical-align: top;\n",
       "    }\n",
       "\n",
       "    .dataframe thead th {\n",
       "        text-align: right;\n",
       "    }\n",
       "</style>\n",
       "<table border=\"1\" class=\"dataframe\">\n",
       "  <thead>\n",
       "    <tr style=\"text-align: right;\">\n",
       "      <th></th>\n",
       "      <th>Unnamed: 0</th>\n",
       "      <th>trans_date_trans_time</th>\n",
       "      <th>cc_num</th>\n",
       "      <th>merchant</th>\n",
       "      <th>category</th>\n",
       "      <th>amt</th>\n",
       "      <th>first</th>\n",
       "      <th>last</th>\n",
       "      <th>gender</th>\n",
       "      <th>street</th>\n",
       "      <th>...</th>\n",
       "      <th>lat</th>\n",
       "      <th>long</th>\n",
       "      <th>city_pop</th>\n",
       "      <th>job</th>\n",
       "      <th>dob</th>\n",
       "      <th>trans_num</th>\n",
       "      <th>unix_time</th>\n",
       "      <th>merch_lat</th>\n",
       "      <th>merch_long</th>\n",
       "      <th>is_fraud</th>\n",
       "    </tr>\n",
       "  </thead>\n",
       "  <tbody>\n",
       "    <tr>\n",
       "      <th>0</th>\n",
       "      <td>0</td>\n",
       "      <td>2020-06-21 12:14:25</td>\n",
       "      <td>2291163933867244</td>\n",
       "      <td>fraud_Kirlin and Sons</td>\n",
       "      <td>personal_care</td>\n",
       "      <td>2.86</td>\n",
       "      <td>Jeff</td>\n",
       "      <td>Elliott</td>\n",
       "      <td>M</td>\n",
       "      <td>351 Darlene Green</td>\n",
       "      <td>...</td>\n",
       "      <td>33.9659</td>\n",
       "      <td>-80.9355</td>\n",
       "      <td>333497</td>\n",
       "      <td>Mechanical engineer</td>\n",
       "      <td>1968-03-19</td>\n",
       "      <td>2da90c7d74bd46a0caf3777415b3ebd3</td>\n",
       "      <td>1371816865</td>\n",
       "      <td>33.986391</td>\n",
       "      <td>-81.200714</td>\n",
       "      <td>0</td>\n",
       "    </tr>\n",
       "    <tr>\n",
       "      <th>1</th>\n",
       "      <td>1</td>\n",
       "      <td>2020-06-21 12:14:33</td>\n",
       "      <td>3573030041201292</td>\n",
       "      <td>fraud_Sporer-Keebler</td>\n",
       "      <td>personal_care</td>\n",
       "      <td>29.84</td>\n",
       "      <td>Joanne</td>\n",
       "      <td>Williams</td>\n",
       "      <td>F</td>\n",
       "      <td>3638 Marsh Union</td>\n",
       "      <td>...</td>\n",
       "      <td>40.3207</td>\n",
       "      <td>-110.4360</td>\n",
       "      <td>302</td>\n",
       "      <td>Sales professional, IT</td>\n",
       "      <td>1990-01-17</td>\n",
       "      <td>324cc204407e99f51b0d6ca0055005e7</td>\n",
       "      <td>1371816873</td>\n",
       "      <td>39.450498</td>\n",
       "      <td>-109.960431</td>\n",
       "      <td>0</td>\n",
       "    </tr>\n",
       "    <tr>\n",
       "      <th>2</th>\n",
       "      <td>2</td>\n",
       "      <td>2020-06-21 12:14:53</td>\n",
       "      <td>3598215285024754</td>\n",
       "      <td>fraud_Swaniawski, Nitzsche and Welch</td>\n",
       "      <td>health_fitness</td>\n",
       "      <td>41.28</td>\n",
       "      <td>Ashley</td>\n",
       "      <td>Lopez</td>\n",
       "      <td>F</td>\n",
       "      <td>9333 Valentine Point</td>\n",
       "      <td>...</td>\n",
       "      <td>40.6729</td>\n",
       "      <td>-73.5365</td>\n",
       "      <td>34496</td>\n",
       "      <td>Librarian, public</td>\n",
       "      <td>1970-10-21</td>\n",
       "      <td>c81755dbbbea9d5c77f094348a7579be</td>\n",
       "      <td>1371816893</td>\n",
       "      <td>40.495810</td>\n",
       "      <td>-74.196111</td>\n",
       "      <td>0</td>\n",
       "    </tr>\n",
       "    <tr>\n",
       "      <th>3</th>\n",
       "      <td>3</td>\n",
       "      <td>2020-06-21 12:15:15</td>\n",
       "      <td>3591919803438423</td>\n",
       "      <td>fraud_Haley Group</td>\n",
       "      <td>misc_pos</td>\n",
       "      <td>60.05</td>\n",
       "      <td>Brian</td>\n",
       "      <td>Williams</td>\n",
       "      <td>M</td>\n",
       "      <td>32941 Krystal Mill Apt. 552</td>\n",
       "      <td>...</td>\n",
       "      <td>28.5697</td>\n",
       "      <td>-80.8191</td>\n",
       "      <td>54767</td>\n",
       "      <td>Set designer</td>\n",
       "      <td>1987-07-25</td>\n",
       "      <td>2159175b9efe66dc301f149d3d5abf8c</td>\n",
       "      <td>1371816915</td>\n",
       "      <td>28.812398</td>\n",
       "      <td>-80.883061</td>\n",
       "      <td>0</td>\n",
       "    </tr>\n",
       "    <tr>\n",
       "      <th>4</th>\n",
       "      <td>4</td>\n",
       "      <td>2020-06-21 12:15:17</td>\n",
       "      <td>3526826139003047</td>\n",
       "      <td>fraud_Johnston-Casper</td>\n",
       "      <td>travel</td>\n",
       "      <td>3.19</td>\n",
       "      <td>Nathan</td>\n",
       "      <td>Massey</td>\n",
       "      <td>M</td>\n",
       "      <td>5783 Evan Roads Apt. 465</td>\n",
       "      <td>...</td>\n",
       "      <td>44.2529</td>\n",
       "      <td>-85.0170</td>\n",
       "      <td>1126</td>\n",
       "      <td>Furniture designer</td>\n",
       "      <td>1955-07-06</td>\n",
       "      <td>57ff021bd3f328f8738bb535c302a31b</td>\n",
       "      <td>1371816917</td>\n",
       "      <td>44.959148</td>\n",
       "      <td>-85.884734</td>\n",
       "      <td>0</td>\n",
       "    </tr>\n",
       "  </tbody>\n",
       "</table>\n",
       "<p>5 rows × 23 columns</p>\n",
       "</div>"
      ],
      "text/plain": [
       "   Unnamed: 0 trans_date_trans_time            cc_num  \\\n",
       "0           0   2020-06-21 12:14:25  2291163933867244   \n",
       "1           1   2020-06-21 12:14:33  3573030041201292   \n",
       "2           2   2020-06-21 12:14:53  3598215285024754   \n",
       "3           3   2020-06-21 12:15:15  3591919803438423   \n",
       "4           4   2020-06-21 12:15:17  3526826139003047   \n",
       "\n",
       "                               merchant        category    amt   first  \\\n",
       "0                 fraud_Kirlin and Sons   personal_care   2.86    Jeff   \n",
       "1                  fraud_Sporer-Keebler   personal_care  29.84  Joanne   \n",
       "2  fraud_Swaniawski, Nitzsche and Welch  health_fitness  41.28  Ashley   \n",
       "3                     fraud_Haley Group        misc_pos  60.05   Brian   \n",
       "4                 fraud_Johnston-Casper          travel   3.19  Nathan   \n",
       "\n",
       "       last gender                       street  ...      lat      long  \\\n",
       "0   Elliott      M            351 Darlene Green  ...  33.9659  -80.9355   \n",
       "1  Williams      F             3638 Marsh Union  ...  40.3207 -110.4360   \n",
       "2     Lopez      F         9333 Valentine Point  ...  40.6729  -73.5365   \n",
       "3  Williams      M  32941 Krystal Mill Apt. 552  ...  28.5697  -80.8191   \n",
       "4    Massey      M     5783 Evan Roads Apt. 465  ...  44.2529  -85.0170   \n",
       "\n",
       "   city_pop                     job         dob  \\\n",
       "0    333497     Mechanical engineer  1968-03-19   \n",
       "1       302  Sales professional, IT  1990-01-17   \n",
       "2     34496       Librarian, public  1970-10-21   \n",
       "3     54767            Set designer  1987-07-25   \n",
       "4      1126      Furniture designer  1955-07-06   \n",
       "\n",
       "                          trans_num   unix_time  merch_lat  merch_long  \\\n",
       "0  2da90c7d74bd46a0caf3777415b3ebd3  1371816865  33.986391  -81.200714   \n",
       "1  324cc204407e99f51b0d6ca0055005e7  1371816873  39.450498 -109.960431   \n",
       "2  c81755dbbbea9d5c77f094348a7579be  1371816893  40.495810  -74.196111   \n",
       "3  2159175b9efe66dc301f149d3d5abf8c  1371816915  28.812398  -80.883061   \n",
       "4  57ff021bd3f328f8738bb535c302a31b  1371816917  44.959148  -85.884734   \n",
       "\n",
       "   is_fraud  \n",
       "0         0  \n",
       "1         0  \n",
       "2         0  \n",
       "3         0  \n",
       "4         0  \n",
       "\n",
       "[5 rows x 23 columns]"
      ]
     },
     "execution_count": 4,
     "metadata": {},
     "output_type": "execute_result"
    }
   ],
   "source": [
    "df_test=pd.read_csv('fraudTest.csv')\n",
    "df_train=pd.read_csv('fraudTrain.csv')  \n",
    "\n",
    "fraud_df= df_test.append(df_train)\n",
    "fraud_df.head()"
   ]
  },
  {
   "cell_type": "markdown",
   "metadata": {},
   "source": [
    "### EDA - Data Preprocessing"
   ]
  },
  {
   "cell_type": "code",
   "execution_count": 5,
   "metadata": {},
   "outputs": [
    {
     "data": {
      "text/plain": [
       "0"
      ]
     },
     "execution_count": 5,
     "metadata": {},
     "output_type": "execute_result"
    }
   ],
   "source": [
    "# Checking for missing values\n",
    "fraud_df.isnull().any().sum()"
   ]
  },
  {
   "cell_type": "code",
   "execution_count": 6,
   "metadata": {},
   "outputs": [
    {
     "data": {
      "text/plain": [
       "Unnamed: 0               1296675\n",
       "trans_date_trans_time    1819551\n",
       "cc_num                       999\n",
       "merchant                     693\n",
       "category                      14\n",
       "amt                        60616\n",
       "first                        355\n",
       "last                         486\n",
       "gender                         2\n",
       "street                       999\n",
       "city                         906\n",
       "state                         51\n",
       "zip                          985\n",
       "lat                          983\n",
       "long                         983\n",
       "city_pop                     891\n",
       "job                          497\n",
       "dob                          984\n",
       "trans_num                1852394\n",
       "unix_time                1819583\n",
       "merch_lat                1754157\n",
       "merch_long               1809753\n",
       "is_fraud                       2\n",
       "dtype: int64"
      ]
     },
     "execution_count": 6,
     "metadata": {},
     "output_type": "execute_result"
    }
   ],
   "source": [
    "fraud_df.nunique()"
   ]
  },
  {
   "cell_type": "code",
   "execution_count": 7,
   "metadata": {},
   "outputs": [
    {
     "data": {
      "text/plain": [
       "Unnamed: 0                 int64\n",
       "trans_date_trans_time     object\n",
       "cc_num                     int64\n",
       "merchant                  object\n",
       "category                  object\n",
       "amt                      float64\n",
       "first                     object\n",
       "last                      object\n",
       "gender                    object\n",
       "street                    object\n",
       "city                      object\n",
       "state                     object\n",
       "zip                        int64\n",
       "lat                      float64\n",
       "long                     float64\n",
       "city_pop                   int64\n",
       "job                       object\n",
       "dob                       object\n",
       "trans_num                 object\n",
       "unix_time                  int64\n",
       "merch_lat                float64\n",
       "merch_long               float64\n",
       "is_fraud                   int64\n",
       "dtype: object"
      ]
     },
     "execution_count": 7,
     "metadata": {},
     "output_type": "execute_result"
    }
   ],
   "source": [
    "fraud_df.dtypes"
   ]
  },
  {
   "cell_type": "markdown",
   "metadata": {},
   "source": [
    "### EDA - Column Exploration"
   ]
  },
  {
   "cell_type": "code",
   "execution_count": 8,
   "metadata": {},
   "outputs": [
    {
     "data": {
      "text/plain": [
       "Text(0, 0.5, 'Volume')"
      ]
     },
     "execution_count": 8,
     "metadata": {},
     "output_type": "execute_result"
    },
    {
     "data": {
      "image/png": "[encoded data removed]",
      "text/plain": [
       "<Figure size 1152x576 with 1 Axes>"
      ]
     },
     "metadata": {
      "needs_background": "light"
     },
     "output_type": "display_data"
    }
   ],
   "source": [
    "plt = pd.value_counts(fraud_df['category']).plot.bar(figsize=(16, 8), title=\"Volume by Category\")\n",
    "plt.set_xlabel('Category')\n",
    "plt.set_ylabel('Volume')"
   ]
  },
  {
   "cell_type": "code",
   "execution_count": 9,
   "metadata": {},
   "outputs": [
    {
     "data": {
      "text/plain": [
       "Text(0, 0.5, 'Volume')"
      ]
     },
     "execution_count": 9,
     "metadata": {},
     "output_type": "execute_result"
    },
    {
     "data": {
      "image/png": "[encoded data removed]",
      "text/plain": [
       "<Figure size 1152x576 with 1 Axes>"
      ]
     },
     "metadata": {
      "needs_background": "light"
     },
     "output_type": "display_data"
    }
   ],
   "source": [
    "plt = pd.value_counts(fraud_df['state']).plot.bar(figsize=(16, 8), title=\"Volume by State\")\n",
    "plt.set_xlabel('State')\n",
    "plt.set_ylabel('Volume')"
   ]
  },
  {
   "cell_type": "code",
   "execution_count": 10,
   "metadata": {},
   "outputs": [
    {
     "data": {
      "text/plain": [
       "Text(0, 0.5, 'Volume')"
      ]
     },
     "execution_count": 10,
     "metadata": {},
     "output_type": "execute_result"
    },
    {
     "data": {
      "image/png": "[encoded data removed]",
      "text/plain": [
       "<Figure size 1152x576 with 1 Axes>"
      ]
     },
     "metadata": {
      "needs_background": "light"
     },
     "output_type": "display_data"
    }
   ],
   "source": [
    "fraud_df['txn_datetime'] =  pd.to_datetime(fraud_df['trans_date_trans_time'], format='%Y-%m-%d %H:%M:%S')\n",
    "\n",
    "fraud_df['date_of_birth'] =  pd.to_datetime(fraud_df['dob'], format='%Y-%m-%d')\n",
    "fraud_df['year_of_birth'] = fraud_df['date_of_birth'].dt.year\n",
    "fraud_df['date_of_birth'] = fraud_df['date_of_birth'].dt.date\n",
    "\n",
    "fraud_df['txn_date'] = fraud_df['txn_datetime'].dt.date\n",
    "txn_count_by_date = fraud_df['txn_date'].value_counts().sort_index().reset_index()\n",
    "txn_count_by_date.columns = ['txn_date','count']\n",
    "plt = txn_count_by_date.plot.line(x='txn_date', y='count', figsize=(16, 8), title=\"Transaction Volume by Date\")\n",
    "plt.set_xlabel('Transaction Date')\n",
    "plt.set_ylabel('Volume')"
   ]
  },
  {
   "cell_type": "code",
   "execution_count": 11,
   "metadata": {},
   "outputs": [
    {
     "data": {
      "text/plain": [
       "Text(0, 0.5, 'Count')"
      ]
     },
     "execution_count": 11,
     "metadata": {},
     "output_type": "execute_result"
    },
    {
     "data": {
      "image/png": "[encoded data removed]",
      "text/plain": [
       "<Figure size 1152x576 with 1 Axes>"
      ]
     },
     "metadata": {
      "needs_background": "light"
     },
     "output_type": "display_data"
    }
   ],
   "source": [
    "dob_counts = fraud_df['year_of_birth'].value_counts().sort_index().reset_index()\n",
    "dob_counts.columns = ['year_of_birth','count']\n",
    "\n",
    "plt = dob_counts.plot.bar(x='year_of_birth', y='count', figsize=(16, 8), title=\"Year of Birth Distribution\")\n",
    "plt.set_xlabel('Year of Birth')\n",
    "plt.set_ylabel('Count')"
   ]
  },
  {
   "cell_type": "code",
   "execution_count": 12,
   "metadata": {},
   "outputs": [
    {
     "name": "stdout",
     "output_type": "stream",
     "text": [
      "Number of merchants: 693\n",
      "Number of cards: 999\n",
      "Number of unique users: 999\n"
     ]
    }
   ],
   "source": [
    "# Number of merchants in the dataset\n",
    "\n",
    "print(f\"Number of merchants: {fraud_df['merchant'].nunique()}\")\n",
    "\n",
    "# Number of cards in the dataset\n",
    "\n",
    "print(f\"Number of cards: {fraud_df['cc_num'].nunique()}\")\n",
    "\n",
    "# Number of cards in the dataset\n",
    "\n",
    "print(f\"Number of unique users: {fraud_df.groupby(['first', 'last', 'gender', 'street', 'city']).ngroups}\")\n"
   ]
  },
  {
   "cell_type": "code",
   "execution_count": 13,
   "metadata": {},
   "outputs": [
    {
     "data": {
      "text/plain": [
       "Text(0, 0.5, 'Volume')"
      ]
     },
     "execution_count": 13,
     "metadata": {},
     "output_type": "execute_result"
    },
    {
     "data": {
      "image/png": "[encoded data removed]",
      "text/plain": [
       "<Figure size 576x576 with 1 Axes>"
      ]
     },
     "metadata": {
      "needs_background": "light"
     },
     "output_type": "display_data"
    }
   ],
   "source": [
    "plt = pd.value_counts(fraud_df['merchant']).nlargest(10).plot.bar(figsize=(8, 8), title=\"Volume by Merchant\")\n",
    "plt.set_xlabel('Merchent')\n",
    "plt.set_ylabel('Volume')"
   ]
  },
  {
   "cell_type": "code",
   "execution_count": 14,
   "metadata": {},
   "outputs": [
    {
     "data": {
      "text/plain": [
       "<matplotlib.axes._subplots.AxesSubplot at 0x7fbb0f3d2b20>"
      ]
     },
     "execution_count": 14,
     "metadata": {},
     "output_type": "execute_result"
    },
    {
     "data": {
      "image/png": "[encoded data removed]",
      "text/plain": [
       "<Figure size 720x864 with 1 Axes>"
      ]
     },
     "metadata": {},
     "output_type": "display_data"
    }
   ],
   "source": [
    "category_amt = fraud_df.groupby(\"category\")[\"amt\"].sum()\n",
    "category_amt.plot.pie(autopct=\"%.1f%%\", figsize=(10, 12))"
   ]
  },
  {
   "cell_type": "markdown",
   "metadata": {},
   "source": [
    "### EDA - Special Features Engineering"
   ]
  },
  {
   "cell_type": "markdown",
   "metadata": {},
   "source": [
    "#### Calculating Age from Date of Birth Column "
   ]
  },
  {
   "cell_type": "code",
   "execution_count": 15,
   "metadata": {},
   "outputs": [],
   "source": [
    "#Calculate Age\n",
    "def calculate_age(born):\n",
    "    today = date.today()\n",
    "    return today.year - born.year - ((today.month, today.day) < (born.month, born.day))\n",
    "\n",
    "if 'dob' in fraud_df.columns:\n",
    "    fraud_df['age'] = [calculate_age(d) for d in pd.to_datetime(fraud_df['dob'], format='%Y-%m-%d')]"
   ]
  },
  {
   "cell_type": "markdown",
   "metadata": {},
   "source": [
    "#### Calculating Distance between card holder and merchant"
   ]
  },
  {
   "cell_type": "code",
   "execution_count": 16,
   "metadata": {},
   "outputs": [],
   "source": [
    "def calculate_distance(row):\n",
    "    coords_1 = (row['lat'], row['long'])\n",
    "    coords_2 = (row['merch_lat'], row['merch_long'])\n",
    "    return geopy.distance.geodesic(coords_1, coords_2).km\n",
    "\n",
    "# Answer from https://stackoverflow.com/questions/19412462/getting-distance-between-two-points-based-on-latitude-longitude\n",
    "# The answers above are based on the Haversine formula, which assumes the earth is a sphere,\n",
    "# which results in errors of up to about 0.5% (according to help(geopy.distance)). \n",
    "# Vincenty distance uses more accurate ellipsoidal models such as WGS-84, and is implemented in geopy. For example,\n",
    "def calculate_distance2(row):\n",
    "    # approximate radius of earth in km\n",
    "    R = 6373.0\n",
    "\n",
    "    lat1 = radians(row['lat'])\n",
    "    lon1 = radians(row['long'])\n",
    "    lat2 = radians(row['merch_lat'])\n",
    "    lon2 = radians(row['merch_long'])\n",
    "\n",
    "    dlon = lon2 - lon1\n",
    "    dlat = lat2 - lat1\n",
    "\n",
    "    a = sin(dlat / 2)**2 + cos(lat1) * cos(lat2) * sin(dlon / 2)**2\n",
    "    c = 2 * atan2(sqrt(a), sqrt(1 - a))\n",
    "\n",
    "    distance = R * c\n",
    "    print(distance)\n",
    "    \n",
    "if set(['lat', 'long', 'merch_lat', 'merch_long']).issubset(set(fraud_df.columns)):\n",
    "     fraud_df['distance'] = [calculate_distance(row) for _, row in fraud_df.iterrows()]"
   ]
  },
  {
   "cell_type": "markdown",
   "metadata": {},
   "source": [
    "#### Separating Time Buckets from Datetime Column"
   ]
  },
  {
   "cell_type": "code",
   "execution_count": 17,
   "metadata": {},
   "outputs": [],
   "source": [
    "fraud_df['hour'] = fraud_df['txn_datetime'].dt.hour\n",
    "fraud_df['day'] = fraud_df['txn_datetime'].dt.day\n",
    "fraud_df['month'] = fraud_df['txn_datetime'].dt.month\n",
    "fraud_df['year'] = fraud_df['txn_datetime'].dt.year"
   ]
  },
  {
   "cell_type": "markdown",
   "metadata": {},
   "source": [
    "#### Removing Columns used to derive new features"
   ]
  },
  {
   "cell_type": "code",
   "execution_count": 18,
   "metadata": {},
   "outputs": [
    {
     "data": {
      "text/html": [
       "<div>\n",
       "<style scoped>\n",
       "    .dataframe tbody tr th:only-of-type {\n",
       "        vertical-align: middle;\n",
       "    }\n",
       "\n",
       "    .dataframe tbody tr th {\n",
       "        vertical-align: top;\n",
       "    }\n",
       "\n",
       "    .dataframe thead th {\n",
       "        text-align: right;\n",
       "    }\n",
       "</style>\n",
       "<table border=\"1\" class=\"dataframe\">\n",
       "  <thead>\n",
       "    <tr style=\"text-align: right;\">\n",
       "      <th></th>\n",
       "      <th>txn_datetime</th>\n",
       "      <th>cc_num</th>\n",
       "      <th>merchant</th>\n",
       "      <th>category</th>\n",
       "      <th>amt</th>\n",
       "      <th>gender</th>\n",
       "      <th>city_pop</th>\n",
       "      <th>job</th>\n",
       "      <th>date_of_birth</th>\n",
       "      <th>year_of_birth</th>\n",
       "      <th>txn_date</th>\n",
       "      <th>age</th>\n",
       "      <th>distance</th>\n",
       "      <th>hour</th>\n",
       "      <th>day</th>\n",
       "      <th>month</th>\n",
       "      <th>year</th>\n",
       "      <th>is_fraud</th>\n",
       "    </tr>\n",
       "  </thead>\n",
       "  <tbody>\n",
       "    <tr>\n",
       "      <th>0</th>\n",
       "      <td>2020-06-21 12:14:25</td>\n",
       "      <td>2291163933867244</td>\n",
       "      <td>fraud_Kirlin and Sons</td>\n",
       "      <td>personal_care</td>\n",
       "      <td>2.86</td>\n",
       "      <td>M</td>\n",
       "      <td>333497</td>\n",
       "      <td>Mechanical engineer</td>\n",
       "      <td>1968-03-19</td>\n",
       "      <td>1968</td>\n",
       "      <td>2020-06-21</td>\n",
       "      <td>52</td>\n",
       "      <td>24.613746</td>\n",
       "      <td>12</td>\n",
       "      <td>21</td>\n",
       "      <td>6</td>\n",
       "      <td>2020</td>\n",
       "      <td>0</td>\n",
       "    </tr>\n",
       "    <tr>\n",
       "      <th>1</th>\n",
       "      <td>2020-06-21 12:14:33</td>\n",
       "      <td>3573030041201292</td>\n",
       "      <td>fraud_Sporer-Keebler</td>\n",
       "      <td>personal_care</td>\n",
       "      <td>29.84</td>\n",
       "      <td>F</td>\n",
       "      <td>302</td>\n",
       "      <td>Sales professional, IT</td>\n",
       "      <td>1990-01-17</td>\n",
       "      <td>1990</td>\n",
       "      <td>2020-06-21</td>\n",
       "      <td>30</td>\n",
       "      <td>104.834043</td>\n",
       "      <td>12</td>\n",
       "      <td>21</td>\n",
       "      <td>6</td>\n",
       "      <td>2020</td>\n",
       "      <td>0</td>\n",
       "    </tr>\n",
       "    <tr>\n",
       "      <th>2</th>\n",
       "      <td>2020-06-21 12:14:53</td>\n",
       "      <td>3598215285024754</td>\n",
       "      <td>fraud_Swaniawski, Nitzsche and Welch</td>\n",
       "      <td>health_fitness</td>\n",
       "      <td>41.28</td>\n",
       "      <td>F</td>\n",
       "      <td>34496</td>\n",
       "      <td>Librarian, public</td>\n",
       "      <td>1970-10-21</td>\n",
       "      <td>1970</td>\n",
       "      <td>2020-06-21</td>\n",
       "      <td>50</td>\n",
       "      <td>59.204796</td>\n",
       "      <td>12</td>\n",
       "      <td>21</td>\n",
       "      <td>6</td>\n",
       "      <td>2020</td>\n",
       "      <td>0</td>\n",
       "    </tr>\n",
       "    <tr>\n",
       "      <th>3</th>\n",
       "      <td>2020-06-21 12:15:15</td>\n",
       "      <td>3591919803438423</td>\n",
       "      <td>fraud_Haley Group</td>\n",
       "      <td>misc_pos</td>\n",
       "      <td>60.05</td>\n",
       "      <td>M</td>\n",
       "      <td>54767</td>\n",
       "      <td>Set designer</td>\n",
       "      <td>1987-07-25</td>\n",
       "      <td>1987</td>\n",
       "      <td>2020-06-21</td>\n",
       "      <td>33</td>\n",
       "      <td>27.615117</td>\n",
       "      <td>12</td>\n",
       "      <td>21</td>\n",
       "      <td>6</td>\n",
       "      <td>2020</td>\n",
       "      <td>0</td>\n",
       "    </tr>\n",
       "    <tr>\n",
       "      <th>4</th>\n",
       "      <td>2020-06-21 12:15:17</td>\n",
       "      <td>3526826139003047</td>\n",
       "      <td>fraud_Johnston-Casper</td>\n",
       "      <td>travel</td>\n",
       "      <td>3.19</td>\n",
       "      <td>M</td>\n",
       "      <td>1126</td>\n",
       "      <td>Furniture designer</td>\n",
       "      <td>1955-07-06</td>\n",
       "      <td>1955</td>\n",
       "      <td>2020-06-21</td>\n",
       "      <td>65</td>\n",
       "      <td>104.423175</td>\n",
       "      <td>12</td>\n",
       "      <td>21</td>\n",
       "      <td>6</td>\n",
       "      <td>2020</td>\n",
       "      <td>0</td>\n",
       "    </tr>\n",
       "  </tbody>\n",
       "</table>\n",
       "</div>"
      ],
      "text/plain": [
       "         txn_datetime            cc_num                              merchant  \\\n",
       "0 2020-06-21 12:14:25  2291163933867244                 fraud_Kirlin and Sons   \n",
       "1 2020-06-21 12:14:33  3573030041201292                  fraud_Sporer-Keebler   \n",
       "2 2020-06-21 12:14:53  3598215285024754  fraud_Swaniawski, Nitzsche and Welch   \n",
       "3 2020-06-21 12:15:15  3591919803438423                     fraud_Haley Group   \n",
       "4 2020-06-21 12:15:17  3526826139003047                 fraud_Johnston-Casper   \n",
       "\n",
       "         category    amt gender  city_pop                     job  \\\n",
       "0   personal_care   2.86      M    333497     Mechanical engineer   \n",
       "1   personal_care  29.84      F       302  Sales professional, IT   \n",
       "2  health_fitness  41.28      F     34496       Librarian, public   \n",
       "3        misc_pos  60.05      M     54767            Set designer   \n",
       "4          travel   3.19      M      1126      Furniture designer   \n",
       "\n",
       "  date_of_birth  year_of_birth    txn_date  age    distance  hour  day  month  \\\n",
       "0    1968-03-19           1968  2020-06-21   52   24.613746    12   21      6   \n",
       "1    1990-01-17           1990  2020-06-21   30  104.834043    12   21      6   \n",
       "2    1970-10-21           1970  2020-06-21   50   59.204796    12   21      6   \n",
       "3    1987-07-25           1987  2020-06-21   33   27.615117    12   21      6   \n",
       "4    1955-07-06           1955  2020-06-21   65  104.423175    12   21      6   \n",
       "\n",
       "   year  is_fraud  \n",
       "0  2020         0  \n",
       "1  2020         0  \n",
       "2  2020         0  \n",
       "3  2020         0  \n",
       "4  2020         0  "
      ]
     },
     "execution_count": 18,
     "metadata": {},
     "output_type": "execute_result"
    }
   ],
   "source": [
    "fraud_df.drop([\n",
    "    'Unnamed: 0',\n",
    "    'trans_num',\n",
    "    'unix_time',\n",
    "    'first',\n",
    "    'last',\n",
    "    'street',\n",
    "    'city',\n",
    "    'state',\n",
    "    'zip',\n",
    "    'dob',\n",
    "    'trans_date_trans_time',\n",
    "    'lat',\n",
    "    'long',\n",
    "    'merch_lat',\n",
    "    'merch_long'\n",
    "], axis=1, errors='ignore', inplace=True)\n",
    "\n",
    "cols = list(fraud_df.columns)\n",
    "cols.insert(0, cols.pop(cols.index(\"txn_datetime\")))\n",
    "cols.append(cols.pop(cols.index('is_fraud')))\n",
    "fraud_df = fraud_df[cols]\n",
    "\n",
    "fraud_df.head()"
   ]
  },
  {
   "cell_type": "markdown",
   "metadata": {},
   "source": [
    "### EDA - Outlier Detection"
   ]
  },
  {
   "cell_type": "code",
   "execution_count": 19,
   "metadata": {},
   "outputs": [
    {
     "data": {
      "text/plain": [
       "<matplotlib.axes._subplots.AxesSubplot at 0x7fbb1fa41bb0>"
      ]
     },
     "execution_count": 19,
     "metadata": {},
     "output_type": "execute_result"
    },
    {
     "data": {
      "image/png": "[encoded data removed]",
      "text/plain": [
       "<Figure size 288x288 with 1 Axes>"
      ]
     },
     "metadata": {
      "needs_background": "light"
     },
     "output_type": "display_data"
    }
   ],
   "source": [
    "fraud_df.boxplot(column='age', figsize=(4, 4))"
   ]
  },
  {
   "cell_type": "code",
   "execution_count": 20,
   "metadata": {},
   "outputs": [
    {
     "name": "stdout",
     "output_type": "stream",
     "text": [
      "Transaction Amount:\n",
      "count    1.852394e+06\n",
      "mean     7.006357e+01\n",
      "std      1.592540e+02\n",
      "min      1.000000e+00\n",
      "25%      9.640000e+00\n",
      "50%      4.745000e+01\n",
      "75%      8.310000e+01\n",
      "max      2.894890e+04\n",
      "Name: amt, dtype: float64\n"
     ]
    },
    {
     "data": {
      "text/plain": [
       "<matplotlib.axes._subplots.AxesSubplot at 0x7fbb1f7a4ee0>"
      ]
     },
     "execution_count": 20,
     "metadata": {},
     "output_type": "execute_result"
    },
    {
     "data": {
      "image/png": "[encoded data removed]",
      "text/plain": [
       "<Figure size 576x720 with 1 Axes>"
      ]
     },
     "metadata": {
      "needs_background": "light"
     },
     "output_type": "display_data"
    }
   ],
   "source": [
    "stats = fraud_df['amt'].describe()\n",
    "print(\"Transaction Amount:\")\n",
    "print(stats)\n",
    "fraud_df.head(1000).boxplot(column='amt', figsize=(8, 10))"
   ]
  },
  {
   "cell_type": "code",
   "execution_count": 24,
   "metadata": {},
   "outputs": [
    {
     "data": {
      "text/plain": [
       "<matplotlib.axes._subplots.AxesSubplot at 0x7fbb1fa3ae50>"
      ]
     },
     "execution_count": 24,
     "metadata": {},
     "output_type": "execute_result"
    },
    {
     "data": {
      "image/png": "[encoded data removed]",
      "text/plain": [
       "<Figure size 576x720 with 1 Axes>"
      ]
     },
     "metadata": {
      "needs_background": "light"
     },
     "output_type": "display_data"
    }
   ],
   "source": [
    "gender_amt = pd.DataFrame(fraud_df.head(1000), columns = ['amt', 'gender'])\n",
    "plt.figure(figsize=(8,10))\n",
    "sns.boxplot(y='amt', x='gender', data=gender_amt, hue='gender', dodge=False, width = 0.6, palette= 'Set2')"
   ]
  },
  {
   "cell_type": "markdown",
   "metadata": {},
   "source": [
    "### EDA - Imbalance Identification"
   ]
  },
  {
   "cell_type": "code",
   "execution_count": 31,
   "metadata": {},
   "outputs": [
    {
     "name": "stdout",
     "output_type": "stream",
     "text": [
      "No Fraud Count: 1842743\n",
      "Fraud Count: 9651\n",
      "Fraud Percentage: 0.52%\n"
     ]
    }
   ],
   "source": [
    "fraud_counts = fraud_df['is_fraud'].value_counts().sort_index().reset_index()\n",
    "fraud_counts.columns = ['is_fraud','count']\n",
    "\n",
    "# print(fraud_counts)\n",
    "\n",
    "no_fraud_count = fraud_counts.loc[fraud_counts['is_fraud'] == 0].iloc[0]['count']\n",
    "fraud_count = fraud_counts.loc[fraud_counts['is_fraud'] == 1].iloc[0]['count']\n",
    "\n",
    "percent_with_fraud = \"{:.2f}\".format(((fraud_count / no_fraud_count) * 100))\n",
    "\n",
    "print(f\"No Fraud Count: {no_fraud_count}\")\n",
    "print(f\"Fraud Count: {fraud_count}\")\n",
    "print(f\"Fraud Percentage: {percent_with_fraud}%\")"
   ]
  },
  {
   "cell_type": "markdown",
   "metadata": {},
   "source": [
    "### Data Encoding - One Hot Encoder"
   ]
  },
  {
   "cell_type": "code",
   "execution_count": 32,
   "metadata": {},
   "outputs": [
    {
     "data": {
      "text/html": [
       "<div>\n",
       "<style scoped>\n",
       "    .dataframe tbody tr th:only-of-type {\n",
       "        vertical-align: middle;\n",
       "    }\n",
       "\n",
       "    .dataframe tbody tr th {\n",
       "        vertical-align: top;\n",
       "    }\n",
       "\n",
       "    .dataframe thead th {\n",
       "        text-align: right;\n",
       "    }\n",
       "</style>\n",
       "<table border=\"1\" class=\"dataframe\">\n",
       "  <thead>\n",
       "    <tr style=\"text-align: right;\">\n",
       "      <th></th>\n",
       "      <th>category_food_dining</th>\n",
       "      <th>category_gas_transport</th>\n",
       "      <th>category_grocery_net</th>\n",
       "      <th>category_grocery_pos</th>\n",
       "      <th>category_health_fitness</th>\n",
       "      <th>category_home</th>\n",
       "      <th>category_kids_pets</th>\n",
       "      <th>category_misc_net</th>\n",
       "      <th>category_misc_pos</th>\n",
       "      <th>category_personal_care</th>\n",
       "      <th>category_shopping_net</th>\n",
       "      <th>category_shopping_pos</th>\n",
       "      <th>category_travel</th>\n",
       "      <th>gender_M</th>\n",
       "    </tr>\n",
       "  </thead>\n",
       "  <tbody>\n",
       "    <tr>\n",
       "      <th>0</th>\n",
       "      <td>0</td>\n",
       "      <td>0</td>\n",
       "      <td>0</td>\n",
       "      <td>0</td>\n",
       "      <td>0</td>\n",
       "      <td>0</td>\n",
       "      <td>0</td>\n",
       "      <td>0</td>\n",
       "      <td>0</td>\n",
       "      <td>1</td>\n",
       "      <td>0</td>\n",
       "      <td>0</td>\n",
       "      <td>0</td>\n",
       "      <td>1</td>\n",
       "    </tr>\n",
       "    <tr>\n",
       "      <th>1</th>\n",
       "      <td>0</td>\n",
       "      <td>0</td>\n",
       "      <td>0</td>\n",
       "      <td>0</td>\n",
       "      <td>0</td>\n",
       "      <td>0</td>\n",
       "      <td>0</td>\n",
       "      <td>0</td>\n",
       "      <td>0</td>\n",
       "      <td>1</td>\n",
       "      <td>0</td>\n",
       "      <td>0</td>\n",
       "      <td>0</td>\n",
       "      <td>0</td>\n",
       "    </tr>\n",
       "    <tr>\n",
       "      <th>2</th>\n",
       "      <td>0</td>\n",
       "      <td>0</td>\n",
       "      <td>0</td>\n",
       "      <td>0</td>\n",
       "      <td>1</td>\n",
       "      <td>0</td>\n",
       "      <td>0</td>\n",
       "      <td>0</td>\n",
       "      <td>0</td>\n",
       "      <td>0</td>\n",
       "      <td>0</td>\n",
       "      <td>0</td>\n",
       "      <td>0</td>\n",
       "      <td>0</td>\n",
       "    </tr>\n",
       "    <tr>\n",
       "      <th>3</th>\n",
       "      <td>0</td>\n",
       "      <td>0</td>\n",
       "      <td>0</td>\n",
       "      <td>0</td>\n",
       "      <td>0</td>\n",
       "      <td>0</td>\n",
       "      <td>0</td>\n",
       "      <td>0</td>\n",
       "      <td>1</td>\n",
       "      <td>0</td>\n",
       "      <td>0</td>\n",
       "      <td>0</td>\n",
       "      <td>0</td>\n",
       "      <td>1</td>\n",
       "    </tr>\n",
       "    <tr>\n",
       "      <th>4</th>\n",
       "      <td>0</td>\n",
       "      <td>0</td>\n",
       "      <td>0</td>\n",
       "      <td>0</td>\n",
       "      <td>0</td>\n",
       "      <td>0</td>\n",
       "      <td>0</td>\n",
       "      <td>0</td>\n",
       "      <td>0</td>\n",
       "      <td>0</td>\n",
       "      <td>0</td>\n",
       "      <td>0</td>\n",
       "      <td>1</td>\n",
       "      <td>1</td>\n",
       "    </tr>\n",
       "  </tbody>\n",
       "</table>\n",
       "</div>"
      ],
      "text/plain": [
       "   category_food_dining  category_gas_transport  category_grocery_net  \\\n",
       "0                     0                       0                     0   \n",
       "1                     0                       0                     0   \n",
       "2                     0                       0                     0   \n",
       "3                     0                       0                     0   \n",
       "4                     0                       0                     0   \n",
       "\n",
       "   category_grocery_pos  category_health_fitness  category_home  \\\n",
       "0                     0                        0              0   \n",
       "1                     0                        0              0   \n",
       "2                     0                        1              0   \n",
       "3                     0                        0              0   \n",
       "4                     0                        0              0   \n",
       "\n",
       "   category_kids_pets  category_misc_net  category_misc_pos  \\\n",
       "0                   0                  0                  0   \n",
       "1                   0                  0                  0   \n",
       "2                   0                  0                  0   \n",
       "3                   0                  0                  1   \n",
       "4                   0                  0                  0   \n",
       "\n",
       "   category_personal_care  category_shopping_net  category_shopping_pos  \\\n",
       "0                       1                      0                      0   \n",
       "1                       1                      0                      0   \n",
       "2                       0                      0                      0   \n",
       "3                       0                      0                      0   \n",
       "4                       0                      0                      0   \n",
       "\n",
       "   category_travel  gender_M  \n",
       "0                0         1  \n",
       "1                0         0  \n",
       "2                0         0  \n",
       "3                0         1  \n",
       "4                1         1  "
      ]
     },
     "execution_count": 32,
     "metadata": {},
     "output_type": "execute_result"
    }
   ],
   "source": [
    "cat_col = ['category','gender']\n",
    "fraud_df['Target'] = fraud_df['amt']\n",
    "#This one hot encodes the categorical columns and create a new variable to hold the nex column headers\n",
    "if len(cat_col)>0: \n",
    "    cat_onehotencode = pd.get_dummies(fraud_df[cat_col],drop_first = True)\n",
    "    cat_col_onehotencode = list(cat_onehotencode.columns)\n",
    "    fraud_df = pd.concat([fraud_df,cat_onehotencode], axis = 1)\n",
    "\n",
    "else:\n",
    "    cat_col_onehotencode = []\n",
    "fraud_df[cat_col_onehotencode].head()"
   ]
  },
  {
   "cell_type": "code",
   "execution_count": 33,
   "metadata": {},
   "outputs": [],
   "source": [
    "fraud_df.to_csv('df_cat.csv', index=False)"
   ]
  },
  {
   "cell_type": "code",
   "execution_count": 34,
   "metadata": {},
   "outputs": [
    {
     "data": {
      "text/html": [
       "<div>\n",
       "<style scoped>\n",
       "    .dataframe tbody tr th:only-of-type {\n",
       "        vertical-align: middle;\n",
       "    }\n",
       "\n",
       "    .dataframe tbody tr th {\n",
       "        vertical-align: top;\n",
       "    }\n",
       "\n",
       "    .dataframe thead th {\n",
       "        text-align: right;\n",
       "    }\n",
       "</style>\n",
       "<table border=\"1\" class=\"dataframe\">\n",
       "  <thead>\n",
       "    <tr style=\"text-align: right;\">\n",
       "      <th></th>\n",
       "      <th>txn_datetime</th>\n",
       "      <th>cc_num</th>\n",
       "      <th>merchant</th>\n",
       "      <th>category</th>\n",
       "      <th>amt</th>\n",
       "      <th>gender</th>\n",
       "      <th>city_pop</th>\n",
       "      <th>job</th>\n",
       "      <th>date_of_birth</th>\n",
       "      <th>year_of_birth</th>\n",
       "      <th>...</th>\n",
       "      <th>category_health_fitness</th>\n",
       "      <th>category_home</th>\n",
       "      <th>category_kids_pets</th>\n",
       "      <th>category_misc_net</th>\n",
       "      <th>category_misc_pos</th>\n",
       "      <th>category_personal_care</th>\n",
       "      <th>category_shopping_net</th>\n",
       "      <th>category_shopping_pos</th>\n",
       "      <th>category_travel</th>\n",
       "      <th>gender_M</th>\n",
       "    </tr>\n",
       "  </thead>\n",
       "  <tbody>\n",
       "    <tr>\n",
       "      <th>0</th>\n",
       "      <td>2020-06-21 12:14:25</td>\n",
       "      <td>2291163933867244</td>\n",
       "      <td>fraud_Kirlin and Sons</td>\n",
       "      <td>personal_care</td>\n",
       "      <td>2.86</td>\n",
       "      <td>M</td>\n",
       "      <td>333497</td>\n",
       "      <td>Mechanical engineer</td>\n",
       "      <td>1968-03-19</td>\n",
       "      <td>1968</td>\n",
       "      <td>...</td>\n",
       "      <td>0</td>\n",
       "      <td>0</td>\n",
       "      <td>0</td>\n",
       "      <td>0</td>\n",
       "      <td>0</td>\n",
       "      <td>1</td>\n",
       "      <td>0</td>\n",
       "      <td>0</td>\n",
       "      <td>0</td>\n",
       "      <td>1</td>\n",
       "    </tr>\n",
       "    <tr>\n",
       "      <th>1</th>\n",
       "      <td>2020-06-21 12:14:33</td>\n",
       "      <td>3573030041201292</td>\n",
       "      <td>fraud_Sporer-Keebler</td>\n",
       "      <td>personal_care</td>\n",
       "      <td>29.84</td>\n",
       "      <td>F</td>\n",
       "      <td>302</td>\n",
       "      <td>Sales professional, IT</td>\n",
       "      <td>1990-01-17</td>\n",
       "      <td>1990</td>\n",
       "      <td>...</td>\n",
       "      <td>0</td>\n",
       "      <td>0</td>\n",
       "      <td>0</td>\n",
       "      <td>0</td>\n",
       "      <td>0</td>\n",
       "      <td>1</td>\n",
       "      <td>0</td>\n",
       "      <td>0</td>\n",
       "      <td>0</td>\n",
       "      <td>0</td>\n",
       "    </tr>\n",
       "    <tr>\n",
       "      <th>2</th>\n",
       "      <td>2020-06-21 12:14:53</td>\n",
       "      <td>3598215285024754</td>\n",
       "      <td>fraud_Swaniawski, Nitzsche and Welch</td>\n",
       "      <td>health_fitness</td>\n",
       "      <td>41.28</td>\n",
       "      <td>F</td>\n",
       "      <td>34496</td>\n",
       "      <td>Librarian, public</td>\n",
       "      <td>1970-10-21</td>\n",
       "      <td>1970</td>\n",
       "      <td>...</td>\n",
       "      <td>1</td>\n",
       "      <td>0</td>\n",
       "      <td>0</td>\n",
       "      <td>0</td>\n",
       "      <td>0</td>\n",
       "      <td>0</td>\n",
       "      <td>0</td>\n",
       "      <td>0</td>\n",
       "      <td>0</td>\n",
       "      <td>0</td>\n",
       "    </tr>\n",
       "    <tr>\n",
       "      <th>3</th>\n",
       "      <td>2020-06-21 12:15:15</td>\n",
       "      <td>3591919803438423</td>\n",
       "      <td>fraud_Haley Group</td>\n",
       "      <td>misc_pos</td>\n",
       "      <td>60.05</td>\n",
       "      <td>M</td>\n",
       "      <td>54767</td>\n",
       "      <td>Set designer</td>\n",
       "      <td>1987-07-25</td>\n",
       "      <td>1987</td>\n",
       "      <td>...</td>\n",
       "      <td>0</td>\n",
       "      <td>0</td>\n",
       "      <td>0</td>\n",
       "      <td>0</td>\n",
       "      <td>1</td>\n",
       "      <td>0</td>\n",
       "      <td>0</td>\n",
       "      <td>0</td>\n",
       "      <td>0</td>\n",
       "      <td>1</td>\n",
       "    </tr>\n",
       "    <tr>\n",
       "      <th>4</th>\n",
       "      <td>2020-06-21 12:15:17</td>\n",
       "      <td>3526826139003047</td>\n",
       "      <td>fraud_Johnston-Casper</td>\n",
       "      <td>travel</td>\n",
       "      <td>3.19</td>\n",
       "      <td>M</td>\n",
       "      <td>1126</td>\n",
       "      <td>Furniture designer</td>\n",
       "      <td>1955-07-06</td>\n",
       "      <td>1955</td>\n",
       "      <td>...</td>\n",
       "      <td>0</td>\n",
       "      <td>0</td>\n",
       "      <td>0</td>\n",
       "      <td>0</td>\n",
       "      <td>0</td>\n",
       "      <td>0</td>\n",
       "      <td>0</td>\n",
       "      <td>0</td>\n",
       "      <td>1</td>\n",
       "      <td>1</td>\n",
       "    </tr>\n",
       "    <tr>\n",
       "      <th>5</th>\n",
       "      <td>2020-06-21 12:15:37</td>\n",
       "      <td>30407675418785</td>\n",
       "      <td>fraud_Daugherty LLC</td>\n",
       "      <td>kids_pets</td>\n",
       "      <td>19.55</td>\n",
       "      <td>F</td>\n",
       "      <td>520</td>\n",
       "      <td>Psychotherapist</td>\n",
       "      <td>1991-10-13</td>\n",
       "      <td>1991</td>\n",
       "      <td>...</td>\n",
       "      <td>0</td>\n",
       "      <td>0</td>\n",
       "      <td>1</td>\n",
       "      <td>0</td>\n",
       "      <td>0</td>\n",
       "      <td>0</td>\n",
       "      <td>0</td>\n",
       "      <td>0</td>\n",
       "      <td>0</td>\n",
       "      <td>0</td>\n",
       "    </tr>\n",
       "    <tr>\n",
       "      <th>6</th>\n",
       "      <td>2020-06-21 12:15:44</td>\n",
       "      <td>213180742685905</td>\n",
       "      <td>fraud_Romaguera Ltd</td>\n",
       "      <td>health_fitness</td>\n",
       "      <td>133.93</td>\n",
       "      <td>F</td>\n",
       "      <td>1139</td>\n",
       "      <td>Therapist, occupational</td>\n",
       "      <td>1951-01-15</td>\n",
       "      <td>1951</td>\n",
       "      <td>...</td>\n",
       "      <td>1</td>\n",
       "      <td>0</td>\n",
       "      <td>0</td>\n",
       "      <td>0</td>\n",
       "      <td>0</td>\n",
       "      <td>0</td>\n",
       "      <td>0</td>\n",
       "      <td>0</td>\n",
       "      <td>0</td>\n",
       "      <td>0</td>\n",
       "    </tr>\n",
       "    <tr>\n",
       "      <th>7</th>\n",
       "      <td>2020-06-21 12:15:50</td>\n",
       "      <td>3589289942931264</td>\n",
       "      <td>fraud_Reichel LLC</td>\n",
       "      <td>personal_care</td>\n",
       "      <td>10.37</td>\n",
       "      <td>F</td>\n",
       "      <td>343</td>\n",
       "      <td>Development worker, international aid</td>\n",
       "      <td>1972-03-05</td>\n",
       "      <td>1972</td>\n",
       "      <td>...</td>\n",
       "      <td>0</td>\n",
       "      <td>0</td>\n",
       "      <td>0</td>\n",
       "      <td>0</td>\n",
       "      <td>0</td>\n",
       "      <td>1</td>\n",
       "      <td>0</td>\n",
       "      <td>0</td>\n",
       "      <td>0</td>\n",
       "      <td>0</td>\n",
       "    </tr>\n",
       "    <tr>\n",
       "      <th>8</th>\n",
       "      <td>2020-06-21 12:16:10</td>\n",
       "      <td>3596357274378601</td>\n",
       "      <td>fraud_Goyette, Howell and Collier</td>\n",
       "      <td>shopping_pos</td>\n",
       "      <td>4.37</td>\n",
       "      <td>M</td>\n",
       "      <td>3688</td>\n",
       "      <td>Advice worker</td>\n",
       "      <td>1973-05-27</td>\n",
       "      <td>1973</td>\n",
       "      <td>...</td>\n",
       "      <td>0</td>\n",
       "      <td>0</td>\n",
       "      <td>0</td>\n",
       "      <td>0</td>\n",
       "      <td>0</td>\n",
       "      <td>0</td>\n",
       "      <td>0</td>\n",
       "      <td>1</td>\n",
       "      <td>0</td>\n",
       "      <td>1</td>\n",
       "    </tr>\n",
       "    <tr>\n",
       "      <th>9</th>\n",
       "      <td>2020-06-21 12:16:11</td>\n",
       "      <td>3546897637165774</td>\n",
       "      <td>fraud_Kilback Group</td>\n",
       "      <td>food_dining</td>\n",
       "      <td>66.54</td>\n",
       "      <td>F</td>\n",
       "      <td>263</td>\n",
       "      <td>Barrister</td>\n",
       "      <td>1956-05-30</td>\n",
       "      <td>1956</td>\n",
       "      <td>...</td>\n",
       "      <td>0</td>\n",
       "      <td>0</td>\n",
       "      <td>0</td>\n",
       "      <td>0</td>\n",
       "      <td>0</td>\n",
       "      <td>0</td>\n",
       "      <td>0</td>\n",
       "      <td>0</td>\n",
       "      <td>0</td>\n",
       "      <td>0</td>\n",
       "    </tr>\n",
       "  </tbody>\n",
       "</table>\n",
       "<p>10 rows × 33 columns</p>\n",
       "</div>"
      ],
      "text/plain": [
       "          txn_datetime            cc_num  \\\n",
       "0  2020-06-21 12:14:25  2291163933867244   \n",
       "1  2020-06-21 12:14:33  3573030041201292   \n",
       "2  2020-06-21 12:14:53  3598215285024754   \n",
       "3  2020-06-21 12:15:15  3591919803438423   \n",
       "4  2020-06-21 12:15:17  3526826139003047   \n",
       "5  2020-06-21 12:15:37    30407675418785   \n",
       "6  2020-06-21 12:15:44   213180742685905   \n",
       "7  2020-06-21 12:15:50  3589289942931264   \n",
       "8  2020-06-21 12:16:10  3596357274378601   \n",
       "9  2020-06-21 12:16:11  3546897637165774   \n",
       "\n",
       "                               merchant        category     amt gender  \\\n",
       "0                 fraud_Kirlin and Sons   personal_care    2.86      M   \n",
       "1                  fraud_Sporer-Keebler   personal_care   29.84      F   \n",
       "2  fraud_Swaniawski, Nitzsche and Welch  health_fitness   41.28      F   \n",
       "3                     fraud_Haley Group        misc_pos   60.05      M   \n",
       "4                 fraud_Johnston-Casper          travel    3.19      M   \n",
       "5                   fraud_Daugherty LLC       kids_pets   19.55      F   \n",
       "6                   fraud_Romaguera Ltd  health_fitness  133.93      F   \n",
       "7                     fraud_Reichel LLC   personal_care   10.37      F   \n",
       "8     fraud_Goyette, Howell and Collier    shopping_pos    4.37      M   \n",
       "9                   fraud_Kilback Group     food_dining   66.54      F   \n",
       "\n",
       "   city_pop                                    job date_of_birth  \\\n",
       "0    333497                    Mechanical engineer    1968-03-19   \n",
       "1       302                 Sales professional, IT    1990-01-17   \n",
       "2     34496                      Librarian, public    1970-10-21   \n",
       "3     54767                           Set designer    1987-07-25   \n",
       "4      1126                     Furniture designer    1955-07-06   \n",
       "5       520                        Psychotherapist    1991-10-13   \n",
       "6      1139                Therapist, occupational    1951-01-15   \n",
       "7       343  Development worker, international aid    1972-03-05   \n",
       "8      3688                          Advice worker    1973-05-27   \n",
       "9       263                              Barrister    1956-05-30   \n",
       "\n",
       "   year_of_birth  ... category_health_fitness  category_home  \\\n",
       "0           1968  ...                       0              0   \n",
       "1           1990  ...                       0              0   \n",
       "2           1970  ...                       1              0   \n",
       "3           1987  ...                       0              0   \n",
       "4           1955  ...                       0              0   \n",
       "5           1991  ...                       0              0   \n",
       "6           1951  ...                       1              0   \n",
       "7           1972  ...                       0              0   \n",
       "8           1973  ...                       0              0   \n",
       "9           1956  ...                       0              0   \n",
       "\n",
       "   category_kids_pets  category_misc_net  category_misc_pos  \\\n",
       "0                   0                  0                  0   \n",
       "1                   0                  0                  0   \n",
       "2                   0                  0                  0   \n",
       "3                   0                  0                  1   \n",
       "4                   0                  0                  0   \n",
       "5                   1                  0                  0   \n",
       "6                   0                  0                  0   \n",
       "7                   0                  0                  0   \n",
       "8                   0                  0                  0   \n",
       "9                   0                  0                  0   \n",
       "\n",
       "   category_personal_care  category_shopping_net  category_shopping_pos  \\\n",
       "0                       1                      0                      0   \n",
       "1                       1                      0                      0   \n",
       "2                       0                      0                      0   \n",
       "3                       0                      0                      0   \n",
       "4                       0                      0                      0   \n",
       "5                       0                      0                      0   \n",
       "6                       0                      0                      0   \n",
       "7                       1                      0                      0   \n",
       "8                       0                      0                      1   \n",
       "9                       0                      0                      0   \n",
       "\n",
       "   category_travel  gender_M  \n",
       "0                0         1  \n",
       "1                0         0  \n",
       "2                0         0  \n",
       "3                0         1  \n",
       "4                1         1  \n",
       "5                0         0  \n",
       "6                0         0  \n",
       "7                0         0  \n",
       "8                0         1  \n",
       "9                0         0  \n",
       "\n",
       "[10 rows x 33 columns]"
      ]
     },
     "execution_count": 34,
     "metadata": {},
     "output_type": "execute_result"
    }
   ],
   "source": [
    "df=pd.read_csv('df_cat.csv')\n",
    "df.head(10)"
   ]
  },
  {
   "cell_type": "code",
   "execution_count": 35,
   "metadata": {},
   "outputs": [
    {
     "data": {
      "text/html": [
       "<div>\n",
       "<style scoped>\n",
       "    .dataframe tbody tr th:only-of-type {\n",
       "        vertical-align: middle;\n",
       "    }\n",
       "\n",
       "    .dataframe tbody tr th {\n",
       "        vertical-align: top;\n",
       "    }\n",
       "\n",
       "    .dataframe thead th {\n",
       "        text-align: right;\n",
       "    }\n",
       "</style>\n",
       "<table border=\"1\" class=\"dataframe\">\n",
       "  <thead>\n",
       "    <tr style=\"text-align: right;\">\n",
       "      <th></th>\n",
       "      <th>amt</th>\n",
       "      <th>city_pop</th>\n",
       "      <th>age</th>\n",
       "      <th>distance</th>\n",
       "      <th>hour</th>\n",
       "      <th>day</th>\n",
       "      <th>month</th>\n",
       "      <th>year</th>\n",
       "      <th>is_fraud</th>\n",
       "      <th>category_food_dining</th>\n",
       "      <th>...</th>\n",
       "      <th>category_health_fitness</th>\n",
       "      <th>category_home</th>\n",
       "      <th>category_kids_pets</th>\n",
       "      <th>category_misc_net</th>\n",
       "      <th>category_misc_pos</th>\n",
       "      <th>category_personal_care</th>\n",
       "      <th>category_shopping_net</th>\n",
       "      <th>category_shopping_pos</th>\n",
       "      <th>category_travel</th>\n",
       "      <th>gender_M</th>\n",
       "    </tr>\n",
       "  </thead>\n",
       "  <tbody>\n",
       "    <tr>\n",
       "      <th>0</th>\n",
       "      <td>2.86</td>\n",
       "      <td>333497</td>\n",
       "      <td>52</td>\n",
       "      <td>24.613746</td>\n",
       "      <td>12</td>\n",
       "      <td>21</td>\n",
       "      <td>6</td>\n",
       "      <td>2020</td>\n",
       "      <td>0</td>\n",
       "      <td>0</td>\n",
       "      <td>...</td>\n",
       "      <td>0</td>\n",
       "      <td>0</td>\n",
       "      <td>0</td>\n",
       "      <td>0</td>\n",
       "      <td>0</td>\n",
       "      <td>1</td>\n",
       "      <td>0</td>\n",
       "      <td>0</td>\n",
       "      <td>0</td>\n",
       "      <td>1</td>\n",
       "    </tr>\n",
       "    <tr>\n",
       "      <th>1</th>\n",
       "      <td>29.84</td>\n",
       "      <td>302</td>\n",
       "      <td>30</td>\n",
       "      <td>104.834043</td>\n",
       "      <td>12</td>\n",
       "      <td>21</td>\n",
       "      <td>6</td>\n",
       "      <td>2020</td>\n",
       "      <td>0</td>\n",
       "      <td>0</td>\n",
       "      <td>...</td>\n",
       "      <td>0</td>\n",
       "      <td>0</td>\n",
       "      <td>0</td>\n",
       "      <td>0</td>\n",
       "      <td>0</td>\n",
       "      <td>1</td>\n",
       "      <td>0</td>\n",
       "      <td>0</td>\n",
       "      <td>0</td>\n",
       "      <td>0</td>\n",
       "    </tr>\n",
       "    <tr>\n",
       "      <th>2</th>\n",
       "      <td>41.28</td>\n",
       "      <td>34496</td>\n",
       "      <td>50</td>\n",
       "      <td>59.204796</td>\n",
       "      <td>12</td>\n",
       "      <td>21</td>\n",
       "      <td>6</td>\n",
       "      <td>2020</td>\n",
       "      <td>0</td>\n",
       "      <td>0</td>\n",
       "      <td>...</td>\n",
       "      <td>1</td>\n",
       "      <td>0</td>\n",
       "      <td>0</td>\n",
       "      <td>0</td>\n",
       "      <td>0</td>\n",
       "      <td>0</td>\n",
       "      <td>0</td>\n",
       "      <td>0</td>\n",
       "      <td>0</td>\n",
       "      <td>0</td>\n",
       "    </tr>\n",
       "    <tr>\n",
       "      <th>3</th>\n",
       "      <td>60.05</td>\n",
       "      <td>54767</td>\n",
       "      <td>33</td>\n",
       "      <td>27.615117</td>\n",
       "      <td>12</td>\n",
       "      <td>21</td>\n",
       "      <td>6</td>\n",
       "      <td>2020</td>\n",
       "      <td>0</td>\n",
       "      <td>0</td>\n",
       "      <td>...</td>\n",
       "      <td>0</td>\n",
       "      <td>0</td>\n",
       "      <td>0</td>\n",
       "      <td>0</td>\n",
       "      <td>1</td>\n",
       "      <td>0</td>\n",
       "      <td>0</td>\n",
       "      <td>0</td>\n",
       "      <td>0</td>\n",
       "      <td>1</td>\n",
       "    </tr>\n",
       "    <tr>\n",
       "      <th>4</th>\n",
       "      <td>3.19</td>\n",
       "      <td>1126</td>\n",
       "      <td>65</td>\n",
       "      <td>104.423175</td>\n",
       "      <td>12</td>\n",
       "      <td>21</td>\n",
       "      <td>6</td>\n",
       "      <td>2020</td>\n",
       "      <td>0</td>\n",
       "      <td>0</td>\n",
       "      <td>...</td>\n",
       "      <td>0</td>\n",
       "      <td>0</td>\n",
       "      <td>0</td>\n",
       "      <td>0</td>\n",
       "      <td>0</td>\n",
       "      <td>0</td>\n",
       "      <td>0</td>\n",
       "      <td>0</td>\n",
       "      <td>1</td>\n",
       "      <td>1</td>\n",
       "    </tr>\n",
       "  </tbody>\n",
       "</table>\n",
       "<p>5 rows × 23 columns</p>\n",
       "</div>"
      ],
      "text/plain": [
       "     amt  city_pop  age    distance  hour  day  month  year  is_fraud  \\\n",
       "0   2.86    333497   52   24.613746    12   21      6  2020         0   \n",
       "1  29.84       302   30  104.834043    12   21      6  2020         0   \n",
       "2  41.28     34496   50   59.204796    12   21      6  2020         0   \n",
       "3  60.05     54767   33   27.615117    12   21      6  2020         0   \n",
       "4   3.19      1126   65  104.423175    12   21      6  2020         0   \n",
       "\n",
       "   category_food_dining  ...  category_health_fitness  category_home  \\\n",
       "0                     0  ...                        0              0   \n",
       "1                     0  ...                        0              0   \n",
       "2                     0  ...                        1              0   \n",
       "3                     0  ...                        0              0   \n",
       "4                     0  ...                        0              0   \n",
       "\n",
       "   category_kids_pets  category_misc_net  category_misc_pos  \\\n",
       "0                   0                  0                  0   \n",
       "1                   0                  0                  0   \n",
       "2                   0                  0                  0   \n",
       "3                   0                  0                  1   \n",
       "4                   0                  0                  0   \n",
       "\n",
       "   category_personal_care  category_shopping_net  category_shopping_pos  \\\n",
       "0                       1                      0                      0   \n",
       "1                       1                      0                      0   \n",
       "2                       0                      0                      0   \n",
       "3                       0                      0                      0   \n",
       "4                       0                      0                      0   \n",
       "\n",
       "   category_travel  gender_M  \n",
       "0                0         1  \n",
       "1                0         0  \n",
       "2                0         0  \n",
       "3                0         1  \n",
       "4                1         1  \n",
       "\n",
       "[5 rows x 23 columns]"
      ]
     },
     "execution_count": 35,
     "metadata": {},
     "output_type": "execute_result"
    }
   ],
   "source": [
    "df.drop([\n",
    "    'cc_num',\n",
    "    'merchant',\n",
    "    'category',\n",
    "    'last',\n",
    "    'job',\n",
    "    'date_of_birth',\n",
    "    'year_of_birth',\n",
    "    'gender',\n",
    "    'txn_datetime',\n",
    "    'txn_date',\n",
    "    'Target'\n",
    "], axis=1, errors='ignore', inplace=True)\n",
    "df.head()"
   ]
  },
  {
   "cell_type": "code",
   "execution_count": 36,
   "metadata": {},
   "outputs": [
    {
     "data": {
      "text/plain": [
       "amt                          60616\n",
       "city_pop                       891\n",
       "age                             82\n",
       "distance                   1852394\n",
       "hour                            24\n",
       "day                             31\n",
       "month                           12\n",
       "year                             2\n",
       "is_fraud                         2\n",
       "category_food_dining             2\n",
       "category_gas_transport           2\n",
       "category_grocery_net             2\n",
       "category_grocery_pos             2\n",
       "category_health_fitness          2\n",
       "category_home                    2\n",
       "category_kids_pets               2\n",
       "category_misc_net                2\n",
       "category_misc_pos                2\n",
       "category_personal_care           2\n",
       "category_shopping_net            2\n",
       "category_shopping_pos            2\n",
       "category_travel                  2\n",
       "gender_M                         2\n",
       "dtype: int64"
      ]
     },
     "execution_count": 36,
     "metadata": {},
     "output_type": "execute_result"
    }
   ],
   "source": [
    "df.nunique()"
   ]
  },
  {
   "cell_type": "code",
   "execution_count": 37,
   "metadata": {},
   "outputs": [],
   "source": [
    "#df.sum"
   ]
  },
  {
   "cell_type": "code",
   "execution_count": 38,
   "metadata": {},
   "outputs": [
    {
     "data": {
      "text/html": [
       "<div>\n",
       "<style scoped>\n",
       "    .dataframe tbody tr th:only-of-type {\n",
       "        vertical-align: middle;\n",
       "    }\n",
       "\n",
       "    .dataframe tbody tr th {\n",
       "        vertical-align: top;\n",
       "    }\n",
       "\n",
       "    .dataframe thead th {\n",
       "        text-align: right;\n",
       "    }\n",
       "</style>\n",
       "<table border=\"1\" class=\"dataframe\">\n",
       "  <thead>\n",
       "    <tr style=\"text-align: right;\">\n",
       "      <th></th>\n",
       "      <th>amt</th>\n",
       "      <th>city_pop</th>\n",
       "      <th>age</th>\n",
       "      <th>distance</th>\n",
       "      <th>hour</th>\n",
       "      <th>day</th>\n",
       "      <th>month</th>\n",
       "      <th>year</th>\n",
       "      <th>category_food_dining</th>\n",
       "      <th>category_gas_transport</th>\n",
       "      <th>...</th>\n",
       "      <th>category_health_fitness</th>\n",
       "      <th>category_home</th>\n",
       "      <th>category_kids_pets</th>\n",
       "      <th>category_misc_net</th>\n",
       "      <th>category_misc_pos</th>\n",
       "      <th>category_personal_care</th>\n",
       "      <th>category_shopping_net</th>\n",
       "      <th>category_shopping_pos</th>\n",
       "      <th>category_travel</th>\n",
       "      <th>gender_M</th>\n",
       "    </tr>\n",
       "  </thead>\n",
       "  <tbody>\n",
       "    <tr>\n",
       "      <th>0</th>\n",
       "      <td>2.86</td>\n",
       "      <td>333497</td>\n",
       "      <td>52</td>\n",
       "      <td>24.613746</td>\n",
       "      <td>12</td>\n",
       "      <td>21</td>\n",
       "      <td>6</td>\n",
       "      <td>2020</td>\n",
       "      <td>0</td>\n",
       "      <td>0</td>\n",
       "      <td>...</td>\n",
       "      <td>0</td>\n",
       "      <td>0</td>\n",
       "      <td>0</td>\n",
       "      <td>0</td>\n",
       "      <td>0</td>\n",
       "      <td>1</td>\n",
       "      <td>0</td>\n",
       "      <td>0</td>\n",
       "      <td>0</td>\n",
       "      <td>1</td>\n",
       "    </tr>\n",
       "    <tr>\n",
       "      <th>1</th>\n",
       "      <td>29.84</td>\n",
       "      <td>302</td>\n",
       "      <td>30</td>\n",
       "      <td>104.834043</td>\n",
       "      <td>12</td>\n",
       "      <td>21</td>\n",
       "      <td>6</td>\n",
       "      <td>2020</td>\n",
       "      <td>0</td>\n",
       "      <td>0</td>\n",
       "      <td>...</td>\n",
       "      <td>0</td>\n",
       "      <td>0</td>\n",
       "      <td>0</td>\n",
       "      <td>0</td>\n",
       "      <td>0</td>\n",
       "      <td>1</td>\n",
       "      <td>0</td>\n",
       "      <td>0</td>\n",
       "      <td>0</td>\n",
       "      <td>0</td>\n",
       "    </tr>\n",
       "    <tr>\n",
       "      <th>2</th>\n",
       "      <td>41.28</td>\n",
       "      <td>34496</td>\n",
       "      <td>50</td>\n",
       "      <td>59.204796</td>\n",
       "      <td>12</td>\n",
       "      <td>21</td>\n",
       "      <td>6</td>\n",
       "      <td>2020</td>\n",
       "      <td>0</td>\n",
       "      <td>0</td>\n",
       "      <td>...</td>\n",
       "      <td>1</td>\n",
       "      <td>0</td>\n",
       "      <td>0</td>\n",
       "      <td>0</td>\n",
       "      <td>0</td>\n",
       "      <td>0</td>\n",
       "      <td>0</td>\n",
       "      <td>0</td>\n",
       "      <td>0</td>\n",
       "      <td>0</td>\n",
       "    </tr>\n",
       "    <tr>\n",
       "      <th>3</th>\n",
       "      <td>60.05</td>\n",
       "      <td>54767</td>\n",
       "      <td>33</td>\n",
       "      <td>27.615117</td>\n",
       "      <td>12</td>\n",
       "      <td>21</td>\n",
       "      <td>6</td>\n",
       "      <td>2020</td>\n",
       "      <td>0</td>\n",
       "      <td>0</td>\n",
       "      <td>...</td>\n",
       "      <td>0</td>\n",
       "      <td>0</td>\n",
       "      <td>0</td>\n",
       "      <td>0</td>\n",
       "      <td>1</td>\n",
       "      <td>0</td>\n",
       "      <td>0</td>\n",
       "      <td>0</td>\n",
       "      <td>0</td>\n",
       "      <td>1</td>\n",
       "    </tr>\n",
       "    <tr>\n",
       "      <th>4</th>\n",
       "      <td>3.19</td>\n",
       "      <td>1126</td>\n",
       "      <td>65</td>\n",
       "      <td>104.423175</td>\n",
       "      <td>12</td>\n",
       "      <td>21</td>\n",
       "      <td>6</td>\n",
       "      <td>2020</td>\n",
       "      <td>0</td>\n",
       "      <td>0</td>\n",
       "      <td>...</td>\n",
       "      <td>0</td>\n",
       "      <td>0</td>\n",
       "      <td>0</td>\n",
       "      <td>0</td>\n",
       "      <td>0</td>\n",
       "      <td>0</td>\n",
       "      <td>0</td>\n",
       "      <td>0</td>\n",
       "      <td>1</td>\n",
       "      <td>1</td>\n",
       "    </tr>\n",
       "  </tbody>\n",
       "</table>\n",
       "<p>5 rows × 22 columns</p>\n",
       "</div>"
      ],
      "text/plain": [
       "     amt  city_pop  age    distance  hour  day  month  year  \\\n",
       "0   2.86    333497   52   24.613746    12   21      6  2020   \n",
       "1  29.84       302   30  104.834043    12   21      6  2020   \n",
       "2  41.28     34496   50   59.204796    12   21      6  2020   \n",
       "3  60.05     54767   33   27.615117    12   21      6  2020   \n",
       "4   3.19      1126   65  104.423175    12   21      6  2020   \n",
       "\n",
       "   category_food_dining  category_gas_transport  ...  category_health_fitness  \\\n",
       "0                     0                       0  ...                        0   \n",
       "1                     0                       0  ...                        0   \n",
       "2                     0                       0  ...                        1   \n",
       "3                     0                       0  ...                        0   \n",
       "4                     0                       0  ...                        0   \n",
       "\n",
       "   category_home  category_kids_pets  category_misc_net  category_misc_pos  \\\n",
       "0              0                   0                  0                  0   \n",
       "1              0                   0                  0                  0   \n",
       "2              0                   0                  0                  0   \n",
       "3              0                   0                  0                  1   \n",
       "4              0                   0                  0                  0   \n",
       "\n",
       "   category_personal_care  category_shopping_net  category_shopping_pos  \\\n",
       "0                       1                      0                      0   \n",
       "1                       1                      0                      0   \n",
       "2                       0                      0                      0   \n",
       "3                       0                      0                      0   \n",
       "4                       0                      0                      0   \n",
       "\n",
       "   category_travel  gender_M  \n",
       "0                0         1  \n",
       "1                0         0  \n",
       "2                0         0  \n",
       "3                0         1  \n",
       "4                1         1  \n",
       "\n",
       "[5 rows x 22 columns]"
      ]
     },
     "execution_count": 38,
     "metadata": {},
     "output_type": "execute_result"
    }
   ],
   "source": [
    "#Breaking it into two parts, separate the target variable from the other columns\n",
    "X=df.drop('is_fraud',axis=1).copy()\n",
    "X.head()"
   ]
  },
  {
   "cell_type": "code",
   "execution_count": 39,
   "metadata": {},
   "outputs": [
    {
     "data": {
      "text/plain": [
       "0    0\n",
       "1    0\n",
       "2    0\n",
       "3    0\n",
       "4    0\n",
       "Name: is_fraud, dtype: int64"
      ]
     },
     "execution_count": 39,
     "metadata": {},
     "output_type": "execute_result"
    }
   ],
   "source": [
    "y=df['is_fraud'].copy()\n",
    "y.head()"
   ]
  },
  {
   "cell_type": "code",
   "execution_count": 40,
   "metadata": {},
   "outputs": [],
   "source": [
    "X_train, X_test, y_train, y_test = train_test_split(X, y, test_size=.3 , stratify=y)"
   ]
  },
  {
   "cell_type": "code",
   "execution_count": 41,
   "metadata": {},
   "outputs": [
    {
     "name": "stdout",
     "output_type": "stream",
     "text": [
      "(1296675, 22)\n",
      "(1296675,)\n",
      "(555719, 22)\n",
      "(555719,)\n"
     ]
    }
   ],
   "source": [
    "print(X_train.shape)\n",
    "print(y_train.shape)\n",
    "print(X_test.shape)\n",
    "print(y_test.shape)"
   ]
  },
  {
   "cell_type": "markdown",
   "metadata": {},
   "source": [
    "### Resampling"
   ]
  },
  {
   "cell_type": "code",
   "execution_count": 158,
   "metadata": {},
   "outputs": [
    {
     "name": "stdout",
     "output_type": "stream",
     "text": [
      "Counter({0: 99000, 1: 1000})\n",
      "Counter({0: 33000, 1: 19800})\n"
     ]
    },
    {
     "data": {
      "image/png": "[encoded data removed]",
      "text/plain": [
       "<Figure size 864x576 with 1 Axes>"
      ]
     },
     "metadata": {
      "needs_background": "light"
     },
     "output_type": "display_data"
    }
   ],
   "source": [
    "# Oversample with SMOTE and random undersample for imbalanced dataset\n",
    "# Define dataset\n",
    "X_train, y_train = make_classification(n_samples=100000, n_features=22, n_redundant=2, n_clusters_per_class=2, \n",
    "                           weights=[0.99], flip_y=0, random_state=1)\n",
    "\n",
    "# Summarize class distribution\n",
    "counter = Counter(y_train)\n",
    "print(counter)\n",
    "\n",
    "# Define pipeline\n",
    "over = SMOTE(sampling_strategy=0.2)\n",
    "under = RandomUnderSampler(sampling_strategy=0.6)\n",
    "steps = [('o', over), ('u', under)]\n",
    "pipeline = Pipeline(steps=steps)\n",
    "\n",
    "# Transform the dataset\n",
    "X_train, y_train = pipeline.fit_resample(X_train, y_train)\n",
    "\n",
    "# Summarize the new class distribution\n",
    "counter = Counter(y_train)\n",
    "print(counter)\n",
    "\n",
    "\n",
    "# Scatter plot of examples by class label\n",
    "plt.figure(figsize=(12, 8))\n",
    "for label, _ in counter.items():\n",
    "    row_ix = where(y_train == label)[0]\n",
    "    plt.scatter(X_train[row_ix, 0], X_train[row_ix, 1], label=str(label))\n",
    "\n",
    "plt.legend()\n",
    "plt.show()"
   ]
  },
  {
   "cell_type": "code",
   "execution_count": 43,
   "metadata": {},
   "outputs": [
    {
     "name": "stdout",
     "output_type": "stream",
     "text": [
      "After resampling, the shape of X_train: (52800, 22)\n",
      "After resampling, the shape of y_train: (52800,) \n",
      "\n",
      "After resampling, counts of label '1': 19800\n",
      "After resampling, counts of label '0': 33000\n"
     ]
    }
   ],
   "source": [
    "print('After resampling, the shape of X_train: {}'.format(X_train.shape)) \n",
    "print('After resampling, the shape of y_train: {} \\n'.format(y_train.shape)) \n",
    "\n",
    "print(\"After resampling, counts of label '1': {}\".format(sum(y_train == 1))) \n",
    "print(\"After resampling, counts of label '0': {}\".format(sum(y_train == 0))) "
   ]
  },
  {
   "cell_type": "markdown",
   "metadata": {},
   "source": [
    "## Tree-based Models"
   ]
  },
  {
   "cell_type": "markdown",
   "metadata": {},
   "source": [
    "### Decision Tree"
   ]
  },
  {
   "cell_type": "code",
   "execution_count": 77,
   "metadata": {},
   "outputs": [
    {
     "name": "stdout",
     "output_type": "stream",
     "text": [
      "Baseline Decision Tree\n",
      "\n",
      "Accuracy: 63.66%\n",
      "\n",
      "ROC AUC:  0.46\n"
     ]
    }
   ],
   "source": [
    "#Create a Baseline Model\n",
    "dt=DecisionTreeClassifier(random_state = 12)\n",
    "\n",
    "dt.fit(X_train, y_train)\n",
    "dt.score(X_train, y_train)\n",
    "\n",
    "# Predict Output\n",
    "y_preds = dt.predict(X_test)\n",
    "\n",
    "print('Baseline Decision Tree')\n",
    "\n",
    "# Accuracy Score on test dataset\n",
    "dt_acc_test = metrics.accuracy_score(y_test, y_preds)\n",
    "print('\\nAccuracy: %.2f%%' % (dt_acc_test * 100.0))\n",
    "\n",
    "# Calculate roc auc\n",
    "dt_probs_test = dt.predict_proba(X_test)[:, 1]\n",
    "dt_roc_value_test = roc_auc_score(y_test, dt_probs_test)\n",
    "print('\\nROC AUC: ', round(dt_roc_value_test,2))"
   ]
  },
  {
   "cell_type": "code",
   "execution_count": 45,
   "metadata": {},
   "outputs": [
    {
     "name": "stdout",
     "output_type": "stream",
     "text": [
      "{'ccp_alpha': [0.0, 0.1, 0.2, 0.5], 'class_weight': [None], 'criterion': ['gini', 'entropy'], 'max_depth': [3, 4, 5, 10], 'max_features': ['auto', 'sqrt', 'log2', 'none'], 'max_leaf_nodes': [3, 4, 5, 10], 'min_impurity_decrease': [0.0], 'min_impurity_split': [None], 'min_samples_leaf': [1, 2, 5, 10], 'min_samples_split': [1, 2, 5, 10], 'min_weight_fraction_leaf': [0.0, 0.1, 0.25], 'random_state': [24], 'splitter': ['best', 'random']}\n"
     ]
    }
   ],
   "source": [
    "#Create Optimized Model\n",
    "\n",
    "ccp_alpha=[0.0,0.2]\n",
    "class_weight=[None]\n",
    "criterion=['gini','entropy']\n",
    "max_depth=[3,4,5]\n",
    "max_features=[\"auto\", \"sqrt\", \"log2\",\"none\"]\n",
    "max_leaf_nodes=[3,4,5]\n",
    "min_impurity_decrease=[0.0]\n",
    "min_impurity_split=[None]\n",
    "min_samples_leaf=[1,2,5,10]\n",
    "min_samples_split=[1,2,5,10]\n",
    "min_weight_fraction_leaf=[0.0,0.1,0.25]\n",
    "random_state=[24]\n",
    "splitter=['best','random']\n",
    "\n",
    "#param_grid\n",
    "\n",
    "param_grid_dt = {'ccp_alpha': ccp_alpha,\n",
    " 'class_weight': class_weight,\n",
    " 'criterion': criterion,\n",
    " 'max_depth': max_depth,\n",
    " 'max_features': max_features,\n",
    " 'max_leaf_nodes': max_leaf_nodes,\n",
    " 'min_impurity_decrease': min_impurity_decrease,\n",
    " 'min_impurity_split': min_impurity_split,\n",
    " 'min_samples_leaf': min_samples_leaf,\n",
    " 'min_samples_split': min_samples_split,\n",
    " 'min_weight_fraction_leaf': min_weight_fraction_leaf,\n",
    " 'random_state': random_state,\n",
    " 'splitter': splitter}\n",
    "\n",
    "print(param_grid_dt)"
   ]
  },
  {
   "cell_type": "code",
   "execution_count": 46,
   "metadata": {},
   "outputs": [
    {
     "name": "stdout",
     "output_type": "stream",
     "text": [
      "Fitting 5 folds for each of 49152 candidates, totalling 245760 fits\n"
     ]
    },
    {
     "name": "stderr",
     "output_type": "stream",
     "text": [
      "[Parallel(n_jobs=-1)]: Using backend LokyBackend with 8 concurrent workers.\n",
      "[Parallel(n_jobs=-1)]: Done  34 tasks      | elapsed:    2.2s\n",
      "[Parallel(n_jobs=-1)]: Done 560 tasks      | elapsed:    6.0s\n",
      "[Parallel(n_jobs=-1)]: Done 1560 tasks      | elapsed:   13.3s\n",
      "[Parallel(n_jobs=-1)]: Done 2960 tasks      | elapsed:   22.9s\n",
      "[Parallel(n_jobs=-1)]: Done 4760 tasks      | elapsed:   35.4s\n",
      "[Parallel(n_jobs=-1)]: Done 6992 tasks      | elapsed:   47.1s\n",
      "[Parallel(n_jobs=-1)]: Done 12192 tasks      | elapsed:  1.3min\n",
      "[Parallel(n_jobs=-1)]: Done 18192 tasks      | elapsed:  2.0min\n",
      "[Parallel(n_jobs=-1)]: Done 24992 tasks      | elapsed:  2.7min\n",
      "[Parallel(n_jobs=-1)]: Done 32592 tasks      | elapsed:  3.6min\n",
      "[Parallel(n_jobs=-1)]: Done 40992 tasks      | elapsed:  4.6min\n",
      "[Parallel(n_jobs=-1)]: Done 50192 tasks      | elapsed:  5.8min\n",
      "[Parallel(n_jobs=-1)]: Done 60192 tasks      | elapsed:  7.1min\n",
      "[Parallel(n_jobs=-1)]: Done 70992 tasks      | elapsed:  8.2min\n",
      "[Parallel(n_jobs=-1)]: Done 82592 tasks      | elapsed:  9.7min\n",
      "[Parallel(n_jobs=-1)]: Done 94992 tasks      | elapsed: 11.2min\n",
      "[Parallel(n_jobs=-1)]: Done 108192 tasks      | elapsed: 12.8min\n",
      "[Parallel(n_jobs=-1)]: Done 122192 tasks      | elapsed: 14.8min\n",
      "[Parallel(n_jobs=-1)]: Done 136992 tasks      | elapsed: 16.6min\n",
      "[Parallel(n_jobs=-1)]: Done 152592 tasks      | elapsed: 18.5min\n",
      "[Parallel(n_jobs=-1)]: Done 168992 tasks      | elapsed: 20.6min\n",
      "[Parallel(n_jobs=-1)]: Done 182056 tasks      | elapsed: 22.7min\n",
      "[Parallel(n_jobs=-1)]: Done 191056 tasks      | elapsed: 23.7min\n",
      "[Parallel(n_jobs=-1)]: Done 200456 tasks      | elapsed: 25.0min\n",
      "[Parallel(n_jobs=-1)]: Done 210256 tasks      | elapsed: 26.2min\n",
      "[Parallel(n_jobs=-1)]: Done 225800 tasks      | elapsed: 28.2min\n",
      "[Parallel(n_jobs=-1)]: Done 244208 tasks      | elapsed: 30.8min\n",
      "[Parallel(n_jobs=-1)]: Done 245760 out of 245760 | elapsed: 30.9min finished\n"
     ]
    },
    {
     "name": "stdout",
     "output_type": "stream",
     "text": [
      "Elapsed Time: 1853.7536578178406\n",
      "Best Parameters: {'ccp_alpha': 0.0, 'class_weight': None, 'criterion': 'entropy', 'max_depth': 3, 'max_features': 'auto', 'max_leaf_nodes': 3, 'min_impurity_decrease': 0.0, 'min_impurity_split': None, 'min_samples_leaf': 1, 'min_samples_split': 2, 'min_weight_fraction_leaf': 0.1, 'random_state': 24, 'splitter': 'best'}\n"
     ]
    }
   ],
   "source": [
    "# create the cross-validation by grid method\n",
    "auc_scoring = make_scorer(roc_auc_score)\n",
    "\n",
    "dt_grid = GridSearchCV(estimator = dt, param_grid = param_grid_dt, \n",
    "                            cv = 5, scoring=auc_scoring,verbose = 1, n_jobs = -1, \n",
    "                            error_score=0)\n",
    "\n",
    "# fit the random search model\n",
    "t1 = time.time()\n",
    "dt_grid.fit(X_train, y_train)\n",
    "t2 = time.time()\n",
    "print('Elapsed Time:',(t2-t1))\n",
    "\n",
    "print('Best Parameters:',dt_grid.best_params_)"
   ]
  },
  {
   "cell_type": "code",
   "execution_count": 78,
   "metadata": {},
   "outputs": [
    {
     "name": "stdout",
     "output_type": "stream",
     "text": [
      "Optimized Decision Tree\n",
      "\n",
      "Accuracy: 90.23%\n",
      "\n",
      "ROC AUC:  0.57\n"
     ]
    }
   ],
   "source": [
    "print('Optimized Decision Tree')\n",
    "\n",
    "y_preds_grid = dt_grid.best_estimator_.predict_proba(X_test)[:,1]\n",
    "\n",
    "dt_opt_acc = accuracy_score(y_test, y_preds_grid.round())\n",
    "print('\\nAccuracy: %.2f%%' % (dt_opt_acc * 100.0))\n",
    "\n",
    "dt_opt_auc = roc_auc_score(y_test, y_preds_grid)\n",
    "print('\\nROC AUC: ', round(dt_opt_auc,2))"
   ]
  },
  {
   "cell_type": "markdown",
   "metadata": {},
   "source": [
    "### Confusion Matrix"
   ]
  },
  {
   "cell_type": "code",
   "execution_count": 102,
   "metadata": {},
   "outputs": [
    {
     "name": "stdout",
     "output_type": "stream",
     "text": [
      "Confusion matrix : \n",
      " [[500766  52058]\n",
      " [  2225    670]]\n",
      "Classification report : \n",
      "               precision    recall  f1-score   support\n",
      "\n",
      "           0       1.00      0.91      0.95    552824\n",
      "           1       0.01      0.23      0.02      2895\n",
      "\n",
      "    accuracy                           0.90    555719\n",
      "   macro avg       0.50      0.57      0.49    555719\n",
      "weighted avg       0.99      0.90      0.94    555719\n",
      "\n"
     ]
    },
    {
     "data": {
      "image/png": "[encoded data removed]",
      "text/plain": [
       "<Figure size 432x288 with 2 Axes>"
      ]
     },
     "metadata": {
      "needs_background": "light"
     },
     "output_type": "display_data"
    }
   ],
   "source": [
    "# confusion matrix\n",
    "DTmatrix = confusion_matrix(y_test, y_preds_grid.round())\n",
    "print('Confusion matrix : \\n',DTmatrix)\n",
    "\n",
    "# classification report for precision, recall f1-score and accuracy\n",
    "DTmatrix1 = classification_report(y_test,y_preds_grid.round())\n",
    "print('Classification report : \\n',DTmatrix1)\n",
    "\n",
    "cmap =  sns.diverging_palette(150, 275, s=80, l=60, n=10)\n",
    "sns.heatmap(DTmatrix, annot=True,fmt='.0f',cmap=cmap)\n",
    "plt.show()"
   ]
  },
  {
   "cell_type": "markdown",
   "metadata": {},
   "source": [
    "### Feature Importances"
   ]
  },
  {
   "cell_type": "code",
   "execution_count": 91,
   "metadata": {},
   "outputs": [
    {
     "data": {
      "text/html": [
       "<div>\n",
       "<style scoped>\n",
       "    .dataframe tbody tr th:only-of-type {\n",
       "        vertical-align: middle;\n",
       "    }\n",
       "\n",
       "    .dataframe tbody tr th {\n",
       "        vertical-align: top;\n",
       "    }\n",
       "\n",
       "    .dataframe thead th {\n",
       "        text-align: right;\n",
       "    }\n",
       "</style>\n",
       "<table border=\"1\" class=\"dataframe\">\n",
       "  <thead>\n",
       "    <tr style=\"text-align: right;\">\n",
       "      <th></th>\n",
       "      <th>features</th>\n",
       "      <th>importance</th>\n",
       "    </tr>\n",
       "  </thead>\n",
       "  <tbody>\n",
       "    <tr>\n",
       "      <th>11</th>\n",
       "      <td>category_grocery_pos</td>\n",
       "      <td>0.794296</td>\n",
       "    </tr>\n",
       "    <tr>\n",
       "      <th>15</th>\n",
       "      <td>category_misc_net</td>\n",
       "      <td>0.060506</td>\n",
       "    </tr>\n",
       "    <tr>\n",
       "      <th>17</th>\n",
       "      <td>category_personal_care</td>\n",
       "      <td>0.024574</td>\n",
       "    </tr>\n",
       "    <tr>\n",
       "      <th>6</th>\n",
       "      <td>month</td>\n",
       "      <td>0.008582</td>\n",
       "    </tr>\n",
       "    <tr>\n",
       "      <th>1</th>\n",
       "      <td>city_pop</td>\n",
       "      <td>0.007731</td>\n",
       "    </tr>\n",
       "    <tr>\n",
       "      <th>21</th>\n",
       "      <td>gender_M</td>\n",
       "      <td>0.007692</td>\n",
       "    </tr>\n",
       "    <tr>\n",
       "      <th>5</th>\n",
       "      <td>day</td>\n",
       "      <td>0.007543</td>\n",
       "    </tr>\n",
       "    <tr>\n",
       "      <th>14</th>\n",
       "      <td>category_kids_pets</td>\n",
       "      <td>0.007280</td>\n",
       "    </tr>\n",
       "    <tr>\n",
       "      <th>0</th>\n",
       "      <td>amt</td>\n",
       "      <td>0.007257</td>\n",
       "    </tr>\n",
       "    <tr>\n",
       "      <th>20</th>\n",
       "      <td>category_travel</td>\n",
       "      <td>0.007095</td>\n",
       "    </tr>\n",
       "  </tbody>\n",
       "</table>\n",
       "</div>"
      ],
      "text/plain": [
       "                  features  importance\n",
       "11    category_grocery_pos    0.794296\n",
       "15       category_misc_net    0.060506\n",
       "17  category_personal_care    0.024574\n",
       "6                    month    0.008582\n",
       "1                 city_pop    0.007731\n",
       "21                gender_M    0.007692\n",
       "5                      day    0.007543\n",
       "14      category_kids_pets    0.007280\n",
       "0                      amt    0.007257\n",
       "20         category_travel    0.007095"
      ]
     },
     "execution_count": 91,
     "metadata": {},
     "output_type": "execute_result"
    }
   ],
   "source": [
    "# Extract feature importances\n",
    "DT_Feature_Imp = pd.DataFrame({'features': list(X),\n",
    "                   'importance': dt.feature_importances_}).\\\n",
    "                    sort_values('importance', ascending = False)\n",
    "DT_Feature_Imp = DT_Feature_Imp.head(10)\n",
    "DT_Feature_Imp"
   ]
  },
  {
   "cell_type": "code",
   "execution_count": 92,
   "metadata": {},
   "outputs": [
    {
     "data": {
      "image/png": "[encoded data removed]",
      "text/plain": [
       "<Figure size 432x288 with 1 Axes>"
      ]
     },
     "metadata": {
      "needs_background": "light"
     },
     "output_type": "display_data"
    }
   ],
   "source": [
    "DT_Feature_Imp.plot(x ='features', y='importance', kind = 'bar', color ='blue', title='Top 10 Feature Importances')\n",
    "plt.show()"
   ]
  },
  {
   "cell_type": "markdown",
   "metadata": {},
   "source": [
    "### Random Forest"
   ]
  },
  {
   "cell_type": "code",
   "execution_count": 81,
   "metadata": {},
   "outputs": [
    {
     "name": "stdout",
     "output_type": "stream",
     "text": [
      "Baseline Random Forest\n",
      "\n",
      "Number of Trees used :  100\n",
      "\n",
      "Accuracy: 99.48%\n",
      "\n",
      "ROC AUC:  0.5\n"
     ]
    }
   ],
   "source": [
    "#Create a Baseline Model\n",
    "rf=RandomForestClassifier(random_state = 12)\n",
    "\n",
    "rf.fit(X_train, y_train)\n",
    "\n",
    "rf_preds = rf.predict(X_test)\n",
    "\n",
    "print('Baseline Random Forest')\n",
    "\n",
    "print('\\nNumber of Trees used : ', rf.n_estimators)\n",
    "\n",
    "rf_acc = accuracy_score(y_test,rf_preds)\n",
    "print('\\nAccuracy: %.2f%%' % (rf_acc * 100.0))\n",
    "\n",
    "rf_base_auc = roc_auc_score(y_test, rf_preds)\n",
    "print('\\nROC AUC: ', round(rf_base_auc,2))"
   ]
  },
  {
   "cell_type": "code",
   "execution_count": 82,
   "metadata": {},
   "outputs": [
    {
     "name": "stdout",
     "output_type": "stream",
     "text": [
      "{'bootstrap': [True, False], 'ccp_alpha': [0.0, 0.2], 'class_weight': [None], 'criterion': ['gini', 'entropy'], 'max_depth': [3, 4, 5], 'max_features': ['auto', 'sqrt', 'log2', 'none'], 'max_leaf_nodes': [None], 'max_samples': [0, 0.5, 1], 'min_impurity_decrease': [0.0], 'min_impurity_split': [None], 'min_samples_leaf': [1, 2, 10], 'min_samples_split': [1, 2, 10], 'min_weight_fraction_leaf': [0.0, 0.1, 0.25], 'n_estimators': [10, 100, 250], 'n_jobs': [-1], 'oob_score': [True, False], 'random_state': [12], 'verbose': [1], 'warm_start': [True, False]}\n"
     ]
    }
   ],
   "source": [
    "#Create Optimized Model\n",
    "\n",
    "bootstrap=[True,False]\n",
    "ccp_alpha=[0.0,0.2]\n",
    "class_weight=[None]\n",
    "criterion=['gini','entropy']\n",
    "max_depth=[3,4,5]\n",
    "max_features=[\"auto\", \"sqrt\", \"log2\",\"none\"]\n",
    "max_leaf_nodes=[None]\n",
    "max_samples=[0,.5,1]\n",
    "min_impurity_decrease=[0.0]\n",
    "min_impurity_split=[None]\n",
    "min_samples_leaf=[1,2,10]\n",
    "min_samples_split=[1,2,10]\n",
    "n_estimators=[10,100,250]\n",
    "n_jobs=[-1]\n",
    "oob_score=[True,False]\n",
    "random_state=[12]\n",
    "verbose=[1]\n",
    "warm_start=[True,False]\n",
    "\n",
    "#param_grid\n",
    "\n",
    "param_grid_rf = {'bootstrap': bootstrap,\n",
    " 'ccp_alpha': ccp_alpha,\n",
    " 'class_weight': class_weight,\n",
    " 'criterion': criterion,\n",
    " 'max_depth': max_depth,\n",
    " 'max_features': max_features,\n",
    " 'max_leaf_nodes': max_leaf_nodes,\n",
    " 'max_samples': max_samples,\n",
    " 'min_impurity_decrease': min_impurity_decrease,\n",
    " 'min_impurity_split': min_impurity_split,\n",
    " 'min_samples_leaf': min_samples_leaf,\n",
    " 'min_samples_split': min_samples_split,\n",
    " 'min_weight_fraction_leaf': min_weight_fraction_leaf,\n",
    " 'n_estimators': n_estimators,\n",
    " 'n_jobs': n_jobs,\n",
    " 'oob_score': oob_score,\n",
    " 'random_state': random_state,\n",
    " 'verbose': verbose,\n",
    " 'warm_start': warm_start}\n",
    "\n",
    "print(param_grid_rf)"
   ]
  },
  {
   "cell_type": "code",
   "execution_count": 83,
   "metadata": {},
   "outputs": [
    {
     "name": "stdout",
     "output_type": "stream",
     "text": [
      "Fitting 5 folds for each of 1000 candidates, totalling 5000 fits\n"
     ]
    },
    {
     "name": "stderr",
     "output_type": "stream",
     "text": [
      "[Parallel(n_jobs=-1)]: Using backend LokyBackend with 8 concurrent workers.\n",
      "[Parallel(n_jobs=-1)]: Done  34 tasks      | elapsed:    4.3s\n",
      "[Parallel(n_jobs=-1)]: Done 184 tasks      | elapsed:   24.3s\n",
      "[Parallel(n_jobs=-1)]: Done 464 tasks      | elapsed:  2.3min\n",
      "[Parallel(n_jobs=-1)]: Done 816 tasks      | elapsed:  3.6min\n",
      "[Parallel(n_jobs=-1)]: Done 1266 tasks      | elapsed:  6.8min\n",
      "[Parallel(n_jobs=-1)]: Done 1854 tasks      | elapsed:  9.4min\n",
      "[Parallel(n_jobs=-1)]: Done 2506 tasks      | elapsed: 13.1min\n",
      "[Parallel(n_jobs=-1)]: Done 3488 tasks      | elapsed: 15.9min\n",
      "[Parallel(n_jobs=-1)]: Done 4354 tasks      | elapsed: 21.1min\n",
      "[Parallel(n_jobs=-1)]: Done 5000 out of 5000 | elapsed: 23.8min finished\n",
      "[Parallel(n_jobs=-1)]: Using backend ThreadingBackend with 8 concurrent workers.\n",
      "[Parallel(n_jobs=-1)]: Done  34 tasks      | elapsed:    0.6s\n",
      "[Parallel(n_jobs=-1)]: Done 184 tasks      | elapsed:    2.3s\n",
      "[Parallel(n_jobs=-1)]: Done 250 out of 250 | elapsed:    3.0s finished\n"
     ]
    },
    {
     "name": "stdout",
     "output_type": "stream",
     "text": [
      "Elapsed Time: 1435.5347800254822\n",
      "Best Parameters: {'warm_start': False, 'verbose': 1, 'random_state': 12, 'oob_score': True, 'n_jobs': -1, 'n_estimators': 250, 'min_weight_fraction_leaf': 0.0, 'min_samples_split': 10, 'min_samples_leaf': 2, 'min_impurity_split': None, 'min_impurity_decrease': 0.0, 'max_samples': 0.5, 'max_leaf_nodes': None, 'max_features': 'sqrt', 'max_depth': 5, 'criterion': 'gini', 'class_weight': None, 'ccp_alpha': 0.0, 'bootstrap': True}\n"
     ]
    }
   ],
   "source": [
    "#Random grid search used for time constraints:\n",
    "rf_rand = RandomizedSearchCV(estimator = rf, param_distributions = param_grid_rf, \n",
    "                            n_iter = 1000, cv = 5, scoring=auc_scoring,verbose = 1, n_jobs = -1,\n",
    "                            error_score=0, random_state=12)\n",
    "        \n",
    "\n",
    "# fit the random search model (this will take a few minutes)\n",
    "t1 = time.time()\n",
    "rf_rand.fit(X_train, y_train)\n",
    "t2 = time.time()\n",
    "print('Elapsed Time:',(t2-t1))\n",
    "\n",
    "print('Best Parameters:',rf_rand.best_params_)"
   ]
  },
  {
   "cell_type": "code",
   "execution_count": 93,
   "metadata": {},
   "outputs": [
    {
     "name": "stdout",
     "output_type": "stream",
     "text": [
      "Optimized Random Forest\n"
     ]
    },
    {
     "name": "stderr",
     "output_type": "stream",
     "text": [
      "[Parallel(n_jobs=8)]: Using backend ThreadingBackend with 8 concurrent workers.\n",
      "[Parallel(n_jobs=8)]: Done  34 tasks      | elapsed:    0.2s\n",
      "[Parallel(n_jobs=8)]: Done 184 tasks      | elapsed:    0.9s\n"
     ]
    },
    {
     "name": "stdout",
     "output_type": "stream",
     "text": [
      "\n",
      "Accuracy: 90.23%\n",
      "\n",
      "ROC AUC:  0.57\n"
     ]
    },
    {
     "name": "stderr",
     "output_type": "stream",
     "text": [
      "[Parallel(n_jobs=8)]: Done 250 out of 250 | elapsed:    1.2s finished\n"
     ]
    }
   ],
   "source": [
    "print('Optimized Random Forest')\n",
    "y_preds_rand = rf_rand.best_estimator_.predict_proba(X_test)[:,1]\n",
    "\n",
    "rf_opt_acc = accuracy_score(y_test,y_preds_rand.round())\n",
    "print('\\nAccuracy: %.2f%%' % (rf_opt_acc * 100.0))\n",
    "\n",
    "rf_opt_auc = roc_auc_score(y_test, y_preds_rand.round())\n",
    "print('\\nROC AUC: ', round(rf_opt_auc,2))"
   ]
  },
  {
   "cell_type": "markdown",
   "metadata": {},
   "source": [
    "### Confusion Matrix"
   ]
  },
  {
   "cell_type": "code",
   "execution_count": 101,
   "metadata": {},
   "outputs": [
    {
     "name": "stdout",
     "output_type": "stream",
     "text": [
      "Confusion matrix : \n",
      " [[500766  52058]\n",
      " [  2225    670]]\n",
      "Classification report : \n",
      "               precision    recall  f1-score   support\n",
      "\n",
      "           0       1.00      0.91      0.95    552824\n",
      "           1       0.01      0.23      0.02      2895\n",
      "\n",
      "    accuracy                           0.90    555719\n",
      "   macro avg       0.50      0.57      0.49    555719\n",
      "weighted avg       0.99      0.90      0.94    555719\n",
      "\n"
     ]
    },
    {
     "data": {
      "image/png": "[encoded data removed]",
      "text/plain": [
       "<Figure size 432x288 with 2 Axes>"
      ]
     },
     "metadata": {
      "needs_background": "light"
     },
     "output_type": "display_data"
    }
   ],
   "source": [
    "# confusion matrix\n",
    "RFmatrix = confusion_matrix(y_test, y_preds_rand.round())\n",
    "print('Confusion matrix : \\n',RFmatrix)\n",
    "\n",
    "# classification report for precision, recall f1-score and accuracy\n",
    "RFmatrix1 = classification_report(y_test,y_preds_rand.round())\n",
    "print('Classification report : \\n',RFmatrix1)\n",
    "\n",
    "cmap =  sns.diverging_palette(250, 30, s=80, l=60, n=20)\n",
    "sns.heatmap(RFmatrix, annot=True,fmt='.0f', cmap=cmap)\n",
    "plt.show()"
   ]
  },
  {
   "cell_type": "markdown",
   "metadata": {},
   "source": [
    "### Feature Importances"
   ]
  },
  {
   "cell_type": "code",
   "execution_count": 89,
   "metadata": {},
   "outputs": [
    {
     "data": {
      "text/html": [
       "<div>\n",
       "<style scoped>\n",
       "    .dataframe tbody tr th:only-of-type {\n",
       "        vertical-align: middle;\n",
       "    }\n",
       "\n",
       "    .dataframe tbody tr th {\n",
       "        vertical-align: top;\n",
       "    }\n",
       "\n",
       "    .dataframe thead th {\n",
       "        text-align: right;\n",
       "    }\n",
       "</style>\n",
       "<table border=\"1\" class=\"dataframe\">\n",
       "  <thead>\n",
       "    <tr style=\"text-align: right;\">\n",
       "      <th></th>\n",
       "      <th>features</th>\n",
       "      <th>importance</th>\n",
       "    </tr>\n",
       "  </thead>\n",
       "  <tbody>\n",
       "    <tr>\n",
       "      <th>11</th>\n",
       "      <td>category_grocery_pos</td>\n",
       "      <td>0.543077</td>\n",
       "    </tr>\n",
       "    <tr>\n",
       "      <th>9</th>\n",
       "      <td>category_gas_transport</td>\n",
       "      <td>0.195319</td>\n",
       "    </tr>\n",
       "    <tr>\n",
       "      <th>15</th>\n",
       "      <td>category_misc_net</td>\n",
       "      <td>0.062333</td>\n",
       "    </tr>\n",
       "    <tr>\n",
       "      <th>17</th>\n",
       "      <td>category_personal_care</td>\n",
       "      <td>0.048829</td>\n",
       "    </tr>\n",
       "    <tr>\n",
       "      <th>18</th>\n",
       "      <td>category_shopping_net</td>\n",
       "      <td>0.010499</td>\n",
       "    </tr>\n",
       "    <tr>\n",
       "      <th>14</th>\n",
       "      <td>category_kids_pets</td>\n",
       "      <td>0.010089</td>\n",
       "    </tr>\n",
       "    <tr>\n",
       "      <th>5</th>\n",
       "      <td>day</td>\n",
       "      <td>0.009976</td>\n",
       "    </tr>\n",
       "    <tr>\n",
       "      <th>2</th>\n",
       "      <td>age</td>\n",
       "      <td>0.009289</td>\n",
       "    </tr>\n",
       "    <tr>\n",
       "      <th>20</th>\n",
       "      <td>category_travel</td>\n",
       "      <td>0.008875</td>\n",
       "    </tr>\n",
       "    <tr>\n",
       "      <th>7</th>\n",
       "      <td>year</td>\n",
       "      <td>0.008441</td>\n",
       "    </tr>\n",
       "  </tbody>\n",
       "</table>\n",
       "</div>"
      ],
      "text/plain": [
       "                  features  importance\n",
       "11    category_grocery_pos    0.543077\n",
       "9   category_gas_transport    0.195319\n",
       "15       category_misc_net    0.062333\n",
       "17  category_personal_care    0.048829\n",
       "18   category_shopping_net    0.010499\n",
       "14      category_kids_pets    0.010089\n",
       "5                      day    0.009976\n",
       "2                      age    0.009289\n",
       "20         category_travel    0.008875\n",
       "7                     year    0.008441"
      ]
     },
     "execution_count": 89,
     "metadata": {},
     "output_type": "execute_result"
    }
   ],
   "source": [
    "# Extract feature importances\n",
    "RF_Feature_Imp = pd.DataFrame({'features': list(X),\n",
    "                   'importance': rf.feature_importances_}).\\\n",
    "                    sort_values('importance', ascending = False)\n",
    "RF_Feature_Imp = RF_Feature_Imp.head(10)\n",
    "RF_Feature_Imp"
   ]
  },
  {
   "cell_type": "code",
   "execution_count": 90,
   "metadata": {},
   "outputs": [
    {
     "data": {
      "image/png": "[encoded data removed]",
      "text/plain": [
       "<Figure size 432x288 with 1 Axes>"
      ]
     },
     "metadata": {
      "needs_background": "light"
     },
     "output_type": "display_data"
    }
   ],
   "source": [
    "RF_Feature_Imp.plot(x ='features', y='importance', kind = 'bar', color ='orange', title='Top 10 Feature Importances')\n",
    "plt.show()"
   ]
  },
  {
   "cell_type": "markdown",
   "metadata": {},
   "source": [
    "## XgBoost Model"
   ]
  },
  {
   "cell_type": "code",
   "execution_count": 115,
   "metadata": {},
   "outputs": [
    {
     "name": "stdout",
     "output_type": "stream",
     "text": [
      "(1296675, 22)\n",
      "(1296675,)\n",
      "(555719, 22)\n",
      "(555719,)\n"
     ]
    }
   ],
   "source": [
    "count = len(df)\n",
    "train2 = df[:count]\n",
    "test2 = df[count:]\n",
    "X2 = train2.drop(['is_fraud'], axis=1)\n",
    "y2 = train2['is_fraud'].astype('int')\n",
    "test2 = test2.drop(['is_fraud'], axis=1)\n",
    "X_train2,X_test2, y_train2,y_test2 = train_test_split(X2, y2, test_size=0.3,random_state=123)\n",
    "\n",
    "print(X_train2.shape)\n",
    "print(y_train2.shape)\n",
    "print(X_test2.shape)\n",
    "print(y_test2.shape)"
   ]
  },
  {
   "cell_type": "code",
   "execution_count": 116,
   "metadata": {},
   "outputs": [
    {
     "name": "stdout",
     "output_type": "stream",
     "text": [
      "Accuracy: 99.54%\n",
      "\n",
      "ROC AUC :  0.98\n"
     ]
    }
   ],
   "source": [
    "XGB = xgb.XGBClassifier(n_estimators = 50, objective='binary:logistic', booster='gbtree',\n",
    "                        colsample_bytree = 0.3, learning_rate = 0.1,max_depth = 5, alpha = 10)\n",
    "\n",
    "XGB.fit(X_train2,y_train2)\n",
    "\n",
    "# Predict Output\n",
    "XGB_pred = XGB.predict(X_test2)\n",
    "\n",
    "# Accuracy Score on test dataset\n",
    "XGB_accuracy = accuracy_score(y_test2,XGB_pred)\n",
    "print(\"Accuracy: %.2f%%\" % (XGB_accuracy * 100.0))\n",
    "\n",
    "XGB_probs = XGB.predict_proba(X_test2)[:, 1]\n",
    "\n",
    "# Calculate roc auc\n",
    "XGB_roc_value = roc_auc_score(y_test2, XGB_probs)\n",
    "print('\\nROC AUC : ', round(XGB_roc_value,2))"
   ]
  },
  {
   "cell_type": "markdown",
   "metadata": {},
   "source": [
    "### Confusion Matrix"
   ]
  },
  {
   "cell_type": "code",
   "execution_count": 148,
   "metadata": {},
   "outputs": [
    {
     "name": "stdout",
     "output_type": "stream",
     "text": [
      "Confusion matrix : \n",
      " [[500766  52058]\n",
      " [  2225    670]]\n",
      "Classification report : \n",
      "               precision    recall  f1-score   support\n",
      "\n",
      "           0       1.00      1.00      1.00    552781\n",
      "           1       1.00      0.14      0.24      2938\n",
      "\n",
      "    accuracy                           1.00    555719\n",
      "   macro avg       1.00      0.57      0.62    555719\n",
      "weighted avg       1.00      1.00      0.99    555719\n",
      "\n"
     ]
    },
    {
     "data": {
      "image/png": "[encoded data removed]",
      "text/plain": [
       "<Figure size 432x288 with 2 Axes>"
      ]
     },
     "metadata": {
      "needs_background": "light"
     },
     "output_type": "display_data"
    }
   ],
   "source": [
    "# confusion matrix\n",
    "XGBmatrix = confusion_matrix(y_test2, XGB_pred)\n",
    "print('Confusion matrix : \\n',RFmatrix)\n",
    "\n",
    "# classification report for precision, recall f1-score and accuracy\n",
    "XGBmatrix1 = classification_report(y_test2,XGB_pred)\n",
    "print('Classification report : \\n',XGBmatrix1)\n",
    "\n",
    "cmap =  sns.diverging_palette(30, 150, s=75, l=65, n=20)\n",
    "sns.heatmap(XGBmatrix, annot=True,fmt='.0f', cmap=cmap)\n",
    "plt.show()"
   ]
  },
  {
   "cell_type": "markdown",
   "metadata": {},
   "source": [
    "### Feature Importances"
   ]
  },
  {
   "cell_type": "code",
   "execution_count": 153,
   "metadata": {},
   "outputs": [
    {
     "data": {
      "text/html": [
       "<div>\n",
       "<style scoped>\n",
       "    .dataframe tbody tr th:only-of-type {\n",
       "        vertical-align: middle;\n",
       "    }\n",
       "\n",
       "    .dataframe tbody tr th {\n",
       "        vertical-align: top;\n",
       "    }\n",
       "\n",
       "    .dataframe thead th {\n",
       "        text-align: right;\n",
       "    }\n",
       "</style>\n",
       "<table border=\"1\" class=\"dataframe\">\n",
       "  <thead>\n",
       "    <tr style=\"text-align: right;\">\n",
       "      <th></th>\n",
       "      <th>features</th>\n",
       "      <th>importance</th>\n",
       "    </tr>\n",
       "  </thead>\n",
       "  <tbody>\n",
       "    <tr>\n",
       "      <th>9</th>\n",
       "      <td>category_gas_transport</td>\n",
       "      <td>0.618332</td>\n",
       "    </tr>\n",
       "    <tr>\n",
       "      <th>11</th>\n",
       "      <td>category_grocery_pos</td>\n",
       "      <td>0.114567</td>\n",
       "    </tr>\n",
       "    <tr>\n",
       "      <th>0</th>\n",
       "      <td>amt</td>\n",
       "      <td>0.067872</td>\n",
       "    </tr>\n",
       "    <tr>\n",
       "      <th>4</th>\n",
       "      <td>hour</td>\n",
       "      <td>0.061888</td>\n",
       "    </tr>\n",
       "    <tr>\n",
       "      <th>16</th>\n",
       "      <td>category_misc_pos</td>\n",
       "      <td>0.029923</td>\n",
       "    </tr>\n",
       "    <tr>\n",
       "      <th>18</th>\n",
       "      <td>category_shopping_net</td>\n",
       "      <td>0.023106</td>\n",
       "    </tr>\n",
       "    <tr>\n",
       "      <th>15</th>\n",
       "      <td>category_misc_net</td>\n",
       "      <td>0.016268</td>\n",
       "    </tr>\n",
       "    <tr>\n",
       "      <th>19</th>\n",
       "      <td>category_shopping_pos</td>\n",
       "      <td>0.015123</td>\n",
       "    </tr>\n",
       "    <tr>\n",
       "      <th>10</th>\n",
       "      <td>category_grocery_net</td>\n",
       "      <td>0.008890</td>\n",
       "    </tr>\n",
       "    <tr>\n",
       "      <th>2</th>\n",
       "      <td>age</td>\n",
       "      <td>0.008029</td>\n",
       "    </tr>\n",
       "  </tbody>\n",
       "</table>\n",
       "</div>"
      ],
      "text/plain": [
       "                  features  importance\n",
       "9   category_gas_transport    0.618332\n",
       "11    category_grocery_pos    0.114567\n",
       "0                      amt    0.067872\n",
       "4                     hour    0.061888\n",
       "16       category_misc_pos    0.029923\n",
       "18   category_shopping_net    0.023106\n",
       "15       category_misc_net    0.016268\n",
       "19   category_shopping_pos    0.015123\n",
       "10    category_grocery_net    0.008890\n",
       "2                      age    0.008029"
      ]
     },
     "execution_count": 153,
     "metadata": {},
     "output_type": "execute_result"
    }
   ],
   "source": [
    "# Extract feature importances\n",
    "XGB_Feature_Imp = pd.DataFrame({'features': list(X),\n",
    "                   'importance': XGB.feature_importances_}).\\\n",
    "                    sort_values('importance', ascending = False)\n",
    "XGB_Feature_Imp = XGB_Feature_Imp.head(10)\n",
    "XGB_Feature_Imp"
   ]
  },
  {
   "cell_type": "code",
   "execution_count": 155,
   "metadata": {},
   "outputs": [
    {
     "data": {
      "image/png": "[encoded data removed]",
      "text/plain": [
       "<Figure size 432x288 with 1 Axes>"
      ]
     },
     "metadata": {
      "needs_background": "light"
     },
     "output_type": "display_data"
    }
   ],
   "source": [
    "XGB_Feature_Imp.plot(x ='features', y='importance', kind = 'bar', color ='plum', title='Top 10 Feature Importances')\n",
    "plt.show()"
   ]
  }
 ],
 "metadata": {
  "kernelspec": {
   "display_name": "Python 3",
   "language": "python",
   "name": "python3"
  },
  "language_info": {
   "codemirror_mode": {
    "name": "ipython",
    "version": 3
   },
   "file_extension": ".py",
   "mimetype": "text/x-python",
   "name": "python",
   "nbconvert_exporter": "python",
   "pygments_lexer": "ipython3",
   "version": "3.8.3"
  }
 },
 "nbformat": 4,
 "nbformat_minor": 4
}
