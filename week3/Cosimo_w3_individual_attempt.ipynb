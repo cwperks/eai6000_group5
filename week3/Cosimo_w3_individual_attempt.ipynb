{
 "cells": [
  {
   "cell_type": "markdown",
   "metadata": {},
   "source": [
    "# Assignment Week 3 - Group 5\n",
    "\n",
    "### Cosimo Individual Work\n"
   ]
  },
  {
   "cell_type": "code",
   "execution_count": 1,
   "metadata": {},
   "outputs": [
    {
     "data": {
      "text/plain": [
       "<module 'CambiCosimo_Functions' from 'C:\\\\Users\\\\ccambi\\\\Desktop\\\\NEU\\\\EAI6000\\\\CambiCosimo_Functions.py'>"
      ]
     },
     "execution_count": 1,
     "metadata": {},
     "output_type": "execute_result"
    }
   ],
   "source": [
    "import CambiCosimo_Functions as cc\n",
    "#Some Functions to make this process easier and cleaner\n",
    "import importlib\n",
    "importlib.reload(cc)"
   ]
  },
  {
   "cell_type": "code",
   "execution_count": 2,
   "metadata": {},
   "outputs": [],
   "source": [
    "import pandas as pd\n",
    "import numpy as np\n",
    "import math as m\n",
    "from datetime import date\n",
    "import geopy.distance\n",
    "import matplotlib.pyplot as plt\n",
    "\n",
    "from sklearn.metrics import mean_squared_error, r2_score\n",
    "from sklearn.preprocessing import StandardScaler\n",
    "from sklearn.metrics import make_scorer, roc_curve, roc_auc_score, accuracy_score, precision_score, recall_score\n",
    "from sklearn.model_selection import GridSearchCV, RandomizedSearchCV\n",
    "from sklearn.ensemble import GradientBoostingClassifier\n",
    "\n",
    "from sklearn.tree import DecisionTreeClassifier\n",
    "from sklearn.ensemble import RandomForestClassifier\n",
    "from sklearn.linear_model import LinearRegression, ElasticNet, LogisticRegression\n",
    "\n",
    "import time\n",
    "\n",
    "#import seaborn as sns"
   ]
  },
  {
   "cell_type": "code",
   "execution_count": 3,
   "metadata": {},
   "outputs": [],
   "source": [
    "filename1 = \"fraudTrain.csv\"\n",
    "df_1 = pd.read_csv(filename1)\n",
    "filename2 = \"fraudTest.csv\"\n",
    "df_2 = pd.read_csv(filename2)\n",
    "\n",
    "fraud_df_all = df_1.append(df_2)\n",
    "\n",
    "#set to a sample of .1 to get all of the code working correctly, change to 1 for actuall run\n",
    "#fraud_df = fraud_df_all.sample(frac=.01,\n",
    "#                                random_state=12)\n",
    "fraud_df=fraud_df_all"
   ]
  },
  {
   "cell_type": "code",
   "execution_count": 4,
   "metadata": {},
   "outputs": [],
   "source": [
    "#Custom Functions From Craig:\n",
    "def calculate_age(born):\n",
    "    today = date.today()\n",
    "    return today.year - born.year - ((today.month, today.day) < (born.month, born.day))\n",
    "\n",
    "def calculate_distance(row):\n",
    "    coords_1 = (row['lat'], row['long'])\n",
    "    coords_2 = (row['merch_lat'], row['merch_long'])\n",
    "    return geopy.distance.geodesic(coords_1, coords_2).km\n",
    "\n",
    "# Answer from https://stackoverflow.com/questions/19412462/getting-distance-between-two-points-based-on-latitude-longitude\n",
    "# The answers above are based on the Haversine formula, which assumes the earth is a sphere,\n",
    "# which results in errors of up to about 0.5% (according to help(geopy.distance)). \n",
    "# Vincenty distance uses more accurate ellipsoidal models such as WGS-84, and is implemented in geopy. For example,\n",
    "def calculate_distance2(row):\n",
    "    # approximate radius of earth in km\n",
    "    R = 6373.0\n",
    "\n",
    "    lat1 = radians(row['lat'])\n",
    "    lon1 = radians(row['long'])\n",
    "    lat2 = radians(row['merch_lat'])\n",
    "    lon2 = radians(row['merch_long'])\n",
    "\n",
    "    dlon = lon2 - lon1\n",
    "    dlat = lat2 - lat1\n",
    "\n",
    "    a = sin(dlat / 2)**2 + cos(lat1) * cos(lat2) * sin(dlon / 2)**2\n",
    "    c = 2 * atan2(sqrt(a), sqrt(1 - a))\n",
    "\n",
    "    distance = R * c\n",
    "    print(distance)"
   ]
  },
  {
   "cell_type": "code",
   "execution_count": 5,
   "metadata": {},
   "outputs": [],
   "source": [
    "# First derive columns\n",
    "if 'trans_date_trans_time' in fraud_df.columns:\n",
    "    fraud_df['txn_datetime'] =  pd.to_datetime(fraud_df['trans_date_trans_time'], format='%Y-%m-%d %H:%M:%S')\n",
    "\n",
    "if 'dob' in fraud_df.columns:\n",
    "    fraud_df['age'] = [calculate_age(d) for d in pd.to_datetime(fraud_df['dob'], format='%Y-%m-%d')]\n",
    "    \n",
    "if set(['lat', 'long', 'merch_lat', 'merch_long']).issubset(set(fraud_df.columns)):\n",
    "     fraud_df['distance'] = [calculate_distance(row) for _, row in fraud_df.iterrows()]\n",
    "        \n",
    "fraud_df['hour'] = fraud_df['txn_datetime'].dt.hour\n",
    "fraud_df['day'] = fraud_df['txn_datetime'].dt.day\n",
    "fraud_df['month'] = fraud_df['txn_datetime'].dt.month\n",
    "fraud_df['year'] = fraud_df['txn_datetime'].dt.year\n",
    "\n",
    "#create a seasons category??\n",
    "#create a time of day category??\n",
    "\n",
    "fraud_df['log_amt'] = [m.log(n) for n in fraud_df['amt']] "
   ]
  },
  {
   "cell_type": "code",
   "execution_count": 6,
   "metadata": {},
   "outputs": [
    {
     "name": "stdout",
     "output_type": "stream",
     "text": [
      "Unnamed: 0: 1296675 unique values\n",
      "trans_date_trans_time: 1819551 unique values\n",
      "cc_num: 999 unique values\n",
      "merchant: 693 unique values\n",
      "category\n",
      "['misc_net' 'grocery_pos' 'entertainment' 'gas_transport' 'misc_pos'\n",
      " 'grocery_net' 'shopping_net' 'shopping_pos' 'food_dining' 'personal_care'\n",
      " 'health_fitness' 'travel' 'kids_pets' 'home']\n",
      "amt: 60616 unique values\n",
      "first: 355 unique values\n",
      "last: 486 unique values\n",
      "gender\n",
      "['F' 'M']\n",
      "street: 999 unique values\n",
      "city: 906 unique values\n",
      "state: 51 unique values\n",
      "zip: 985 unique values\n",
      "lat: 983 unique values\n",
      "long: 983 unique values\n",
      "city_pop: 891 unique values\n",
      "job: 497 unique values\n",
      "dob: 984 unique values\n",
      "trans_num: 1852394 unique values\n",
      "unix_time: 1819583 unique values\n",
      "merch_lat: 1754157 unique values\n",
      "merch_long: 1809753 unique values\n",
      "is_fraud\n",
      "[0 1]\n",
      "txn_datetime: 1819551 unique values\n",
      "age: 82 unique values\n",
      "distance: 1852394 unique values\n",
      "hour\n",
      "[ 0  1  2  3  4  5  6  7  8  9 10 11 12 13 14 15 16 17 18 19 20 21 22 23]\n",
      "day: 31 unique values\n",
      "month\n",
      "[ 1  2  3  4  5  6  7  8  9 10 11 12]\n",
      "year\n",
      "[2019 2020]\n",
      "log_amt: 60616 unique values\n"
     ]
    }
   ],
   "source": [
    "#(dataframe, max number of unique values to show)\n",
    "cc.UniqueValues(fraud_df,30)"
   ]
  },
  {
   "cell_type": "code",
   "execution_count": 7,
   "metadata": {},
   "outputs": [],
   "source": [
    "#create target lables\n",
    "#target will be a binary classification variable for logistic regression: is_fraud\n",
    "fraud_df['Target'] = fraud_df['is_fraud']"
   ]
  },
  {
   "cell_type": "code",
   "execution_count": 8,
   "metadata": {},
   "outputs": [
    {
     "name": "stdout",
     "output_type": "stream",
     "text": [
      "Prevalence of the positive class for Target: 0.005\n"
     ]
    }
   ],
   "source": [
    "#Review the prevalence of the positive class for target\n",
    "print('Prevalence of the positive class for Target: {:.3f}'.format(cc.calc_prevalence(fraud_df['Target'].values)))"
   ]
  },
  {
   "cell_type": "code",
   "execution_count": 9,
   "metadata": {},
   "outputs": [],
   "source": [
    "#create a list to hold our categorical columns and one to hold our numerical columns\n",
    "cat_col = ['category','gender']\n",
    "num_col = ['age','city_pop','distance','amt','month','hour','day','year']"
   ]
  },
  {
   "cell_type": "code",
   "execution_count": 10,
   "metadata": {},
   "outputs": [
    {
     "name": "stdout",
     "output_type": "stream",
     "text": [
      "gender      0\n",
      "category    0\n",
      "dtype: int64\n",
      "year        0\n",
      "day         0\n",
      "hour        0\n",
      "month       0\n",
      "amt         0\n",
      "distance    0\n",
      "city_pop    0\n",
      "age         0\n",
      "dtype: int64\n"
     ]
    }
   ],
   "source": [
    "#make sure there are no missing values \n",
    "print(fraud_df[cat_col].isnull().sum().sort_values(ascending = False).head(50))\n",
    "print(fraud_df[num_col].isnull().sum().sort_values(ascending = False).head(50))"
   ]
  },
  {
   "cell_type": "code",
   "execution_count": 11,
   "metadata": {},
   "outputs": [],
   "source": [
    "#In order for categorical columns to work we have to one hot encode them\n",
    "if len(cat_col)>0: \n",
    "    cat_onehotencode = pd.get_dummies(fraud_df[cat_col],drop_first = True)\n",
    "    cat_col_onehotencode = list(cat_onehotencode.columns)\n",
    "    fraud_df = pd.concat([fraud_df,cat_onehotencode], axis = 1)\n",
    "\n",
    "else:\n",
    "    cat_col_onehotencode = []"
   ]
  },
  {
   "cell_type": "code",
   "execution_count": 12,
   "metadata": {},
   "outputs": [],
   "source": [
    "input_col = (num_col + cat_col_onehotencode)"
   ]
  },
  {
   "cell_type": "code",
   "execution_count": null,
   "metadata": {},
   "outputs": [],
   "source": [
    "#check for colinearity and create a new input column list for the reduced set\n",
    "input_col_reduced = cc.auto_vif(fraud_df[input_col],7)"
   ]
  },
  {
   "cell_type": "code",
   "execution_count": 17,
   "metadata": {},
   "outputs": [
    {
     "name": "stdout",
     "output_type": "stream",
     "text": [
      "Total number of features: 22\n",
      "Numerical Features: 8\n",
      "Categorical Features: 14\n"
     ]
    }
   ],
   "source": [
    "print('Total number of features: {}'.format(len(num_col + cat_col_onehotencode)))\n",
    "print('Numerical Features: {}'.format(len(num_col)))\n",
    "print('Categorical Features: {}'.format(len(cat_col_onehotencode)))\n",
    "#print('Total number of features after coliniarity reduction: {}'.format(len(input_col_reduced)))"
   ]
  },
  {
   "cell_type": "code",
   "execution_count": 13,
   "metadata": {},
   "outputs": [],
   "source": [
    "#build Training/Validation/Test Samples \n",
    "#(dataframe,randomseed,train split)\n",
    "train_ub,valid,test = cc.Train_Valid_Test_Split(fraud_df[input_col +['Target']],12,.7)"
   ]
  },
  {
   "cell_type": "code",
   "execution_count": 23,
   "metadata": {},
   "outputs": [
    {
     "name": "stdout",
     "output_type": "stream",
     "text": [
      "Balance Method Selected is  Sub\n",
      "Train balanced prevalence(n = 13,480):0.500\n"
     ]
    }
   ],
   "source": [
    "#balance the data set via Smote\n",
    "train = cc.balance_train_df(train_ub,'Sub','Target')\n",
    "\n",
    "#Possible alternative is to underdampe the data\n",
    "#train = cc.balance_train_df(train_ub,'Sub','Target')"
   ]
  },
  {
   "cell_type": "code",
   "execution_count": 24,
   "metadata": {},
   "outputs": [],
   "source": [
    "# create the X and y matrices for models\n",
    "X_train = train[input_col].values\n",
    "#X_train_rd = train[input_col_reduced].values\n",
    "X_valid = valid[input_col].values\n",
    "#X_valid_rd = valid[input_col_reduced].values\n",
    "X_test = test[input_col].values\n",
    "\n",
    "y_train = train['Target'].values\n",
    "y_valid = valid['Target'].values\n",
    "y_test = test['Target'].values"
   ]
  },
  {
   "cell_type": "code",
   "execution_count": 25,
   "metadata": {},
   "outputs": [],
   "source": [
    "#This creates scalars in order to scale the data so each variable is of similar size.\n",
    "#Use the unbalenced data set\n",
    "scaler  = StandardScaler()\n",
    "scaler.fit(train_ub[input_col].values)\n",
    "\n",
    "#scaler_reduced  = StandardScaler()\n",
    "#scaler_reduced.fit(train_ub[input_col_reduced].values)\n",
    "\n",
    "# transform our data matrices - this applies our scalar and scales the matrices for training and validation data\n",
    "X_train_tf = scaler.transform(X_train)\n",
    "#X_train_rd_tf = scaler_reduced.transform(X_train_rd)\n",
    "X_valid_tf = scaler.transform(X_valid)\n",
    "#X_valid_rd_tf = scaler_reduced.transform(X_valid_rd)\n",
    "X_test_tf = scaler.transform(X_test)"
   ]
  },
  {
   "cell_type": "markdown",
   "metadata": {},
   "source": [
    "# Start Modeling"
   ]
  },
  {
   "cell_type": "code",
   "execution_count": 26,
   "metadata": {},
   "outputs": [],
   "source": [
    "#Scoring used for cross validation\n",
    "auc_scoring = make_scorer(roc_auc_score)"
   ]
  },
  {
   "cell_type": "markdown",
   "metadata": {},
   "source": [
    "# Logistic Regression"
   ]
  },
  {
   "cell_type": "code",
   "execution_count": null,
   "metadata": {},
   "outputs": [],
   "source": [
    "#Create a Baseline Model\n",
    "lr=LogisticRegression(random_state = 12)\n",
    "\n",
    "lr.fit(X_train_rd, y_train)\n",
    "\n",
    "y_train_preds = lr.predict_proba(X_train_rd_tf)[:,1]\n",
    "y_valid_preds = lr.predict_proba(X_valid_rd_tf)[:,1]\n",
    "\n",
    "print('Baseline Logistic Regression')\n",
    "lr_train_base_auc = roc_auc_score(y_train, y_train_preds)\n",
    "lr_valid_base_auc = roc_auc_score(y_valid, y_valid_preds)\n",
    "\n",
    "print('Training AUC:{:.3f}'.format(lr_train_base_auc))\n",
    "print('Validation AUC:{:.3f}'.format(lr_valid_base_auc))"
   ]
  },
  {
   "cell_type": "code",
   "execution_count": null,
   "metadata": {},
   "outputs": [],
   "source": [
    "#help(LogisticRegression)\n",
    "#lr.get_params()"
   ]
  },
  {
   "cell_type": "code",
   "execution_count": null,
   "metadata": {},
   "outputs": [],
   "source": [
    "#Create grid Optimized Model\n",
    "\n",
    "C = [0.002,0.02,1.2,2,20]\n",
    "class_weight = [None]\n",
    "dual = [False,True]\n",
    "fit_intercept = [False,True]\n",
    "intercept_scaling = [1]\n",
    "l1_ratio = [None]\n",
    "max_iter = [50,100,250]\n",
    "multi_class = ['auto']\n",
    "n_jobs = [-1]\n",
    "random_state = [12]\n",
    "penalty = ['l1', 'l2', 'elasticnet']\n",
    "solver = ['newton-cg', 'lbfgs', 'liblinear', 'sag', 'saga']\n",
    "tol = [0.001,0.0001,0.00001]\n",
    "verbose = [1]\n",
    "warm_start = [False,True]\n",
    "\n",
    "#param_grid\n",
    "\n",
    "param_grid_lr = {'C': C,\n",
    " 'class_weight': class_weight,\n",
    " 'dual': dual,\n",
    " 'fit_intercept': fit_intercept,\n",
    " 'intercept_scaling': intercept_scaling,\n",
    " 'l1_ratio': l1_ratio,\n",
    " 'max_iter': max_iter,\n",
    " 'multi_class': multi_class,\n",
    " 'n_jobs': n_jobs,\n",
    " 'penalty': penalty,\n",
    " 'random_state': random_state,\n",
    " 'solver': solver,\n",
    " 'tol': tol,\n",
    " 'verbose': verbose,\n",
    " 'warm_start': warm_start}\n",
    "\n",
    "print(param_grid_lr)\n"
   ]
  },
  {
   "cell_type": "code",
   "execution_count": null,
   "metadata": {},
   "outputs": [],
   "source": [
    "# create the cross-validation by grid method\n",
    "lr_grid = GridSearchCV(estimator = lr, param_grid = param_grid_lr, \n",
    "                            cv = 5, scoring=auc_scoring,verbose = 3, n_jobs = -1, \n",
    "                            error_score=0)\n",
    "\n",
    "\n",
    "# fit the random search model (this will take a few minutes)\n",
    "t1 = time.time()\n",
    "lr_grid.fit(X_train_rd_tf, y_train)\n",
    "t2 = time.time()\n",
    "print('Elapsed Time:',(t2-t1))\n",
    "\n",
    "print('Best Parameters:',lr_grid.best_params_)"
   ]
  },
  {
   "cell_type": "code",
   "execution_count": null,
   "metadata": {},
   "outputs": [],
   "source": [
    "print('Optimized Logistic Regression')\n",
    "y_train_preds_grid = lr_grid.best_estimator_.predict_proba(X_train_rd_tf)[:,1]\n",
    "y_valid_preds_grid = lr_grid.best_estimator_.predict_proba(X_valid_rd_tf)[:,1]\n",
    "\n",
    "lr_train_opt_auc = roc_auc_score(y_train, y_train_preds_grid)\n",
    "lr_valid_opt_auc = roc_auc_score(y_valid, y_valid_preds_grid)\n",
    "\n",
    "print('Training AUC:{:.3f}'.format(lr_train_opt_auc))\n",
    "print('Validation AUC:{:.3f}'.format(lr_valid_opt_auc))"
   ]
  },
  {
   "cell_type": "markdown",
   "metadata": {},
   "source": [
    "## Decision Tree"
   ]
  },
  {
   "cell_type": "code",
   "execution_count": 32,
   "metadata": {},
   "outputs": [
    {
     "name": "stdout",
     "output_type": "stream",
     "text": [
      "Baseline Decision Tree\n",
      "Training AUC:0.482\n",
      "Validation AUC:0.479\n"
     ]
    }
   ],
   "source": [
    "#Create a Baseline Model\n",
    "dt=DecisionTreeClassifier(random_state = 12)\n",
    "\n",
    "dt.fit(X_train, y_train)\n",
    "\n",
    "y_train_preds = dt.predict_proba(X_train_tf)[:,1]\n",
    "y_valid_preds = dt.predict_proba(X_valid_tf)[:,1]\n",
    "\n",
    "print('Baseline Decision Tree')\n",
    "dt_train_base_auc = roc_auc_score(y_train, y_train_preds)\n",
    "dt_valid_base_auc = roc_auc_score(y_valid, y_valid_preds)\n",
    "\n",
    "print('Training AUC:{:.3f}'.format(dt_train_base_auc))\n",
    "print('Validation AUC:{:.3f}'.format(dt_valid_base_auc))\n"
   ]
  },
  {
   "cell_type": "code",
   "execution_count": null,
   "metadata": {},
   "outputs": [],
   "source": [
    "#help(DecisionTreeClassifier)\n",
    "#dt_sub.get_params()"
   ]
  },
  {
   "cell_type": "code",
   "execution_count": null,
   "metadata": {},
   "outputs": [],
   "source": [
    "#Create Optimized Model\n",
    "\n",
    "ccp_alpha=[0.0,0.2]\n",
    "class_weight=[None]\n",
    "criterion=['gini','entropy']\n",
    "max_depth=[None]\n",
    "max_features=[\"auto\", \"sqrt\", \"log2\",\"none\"]\n",
    "max_leaf_nodes=[None]\n",
    "min_impurity_decrease=[0.0]\n",
    "min_impurity_split=[None]\n",
    "min_samples_leaf=[1,2,10]\n",
    "min_samples_split=[1,2,10]\n",
    "min_weight_fraction_leaf=[0.0,0.1,0.25]\n",
    "random_state=[12]\n",
    "splitter=['best','random']\n",
    "\n",
    "#param_grid\n",
    "\n",
    "param_grid_dt = {'ccp_alpha': ccp_alpha,\n",
    " 'class_weight': class_weight,\n",
    " 'criterion': criterion,\n",
    " 'max_depth': max_depth,\n",
    " 'max_features': max_features,\n",
    " 'max_leaf_nodes': max_leaf_nodes,\n",
    " 'min_impurity_decrease': min_impurity_decrease,\n",
    " 'min_impurity_split': min_impurity_split,\n",
    " 'min_samples_leaf': min_samples_leaf,\n",
    " 'min_samples_split': min_samples_split,\n",
    " 'min_weight_fraction_leaf': min_weight_fraction_leaf,\n",
    " 'random_state': random_state,\n",
    " 'splitter': splitter}\n",
    "\n",
    "print(param_grid_dt)"
   ]
  },
  {
   "cell_type": "code",
   "execution_count": null,
   "metadata": {},
   "outputs": [],
   "source": [
    "# create the cross-validation by grid method\n",
    "dt_grid = GridSearchCV(estimator = dt, param_grid = param_grid_dt, \n",
    "                            cv = 5, scoring=auc_scoring,verbose = 1, n_jobs = -1, \n",
    "                            error_score=0)\n",
    "\n",
    "# fit the random search model (this will take a few minutes)\n",
    "t1 = time.time()\n",
    "dt_grid.fit(X_train_tf, y_train)\n",
    "t2 = time.time()\n",
    "print('Elapsed Time:',(t2-t1))\n",
    "\n",
    "print('Best Parameters:',dt_grid.best_params_)"
   ]
  },
  {
   "cell_type": "code",
   "execution_count": null,
   "metadata": {},
   "outputs": [],
   "source": [
    "print('Optimized Decision Tree')\n",
    "y_train_preds_grid = dt_grid.best_estimator_.predict_proba(X_train_tf)[:,1]\n",
    "y_valid_preds_grid = dt_grid.best_estimator_.predict_proba(X_valid_tf)[:,1]\n",
    "\n",
    "dt_train_opt_auc = roc_auc_score(y_train, y_train_preds_grid)\n",
    "dt_valid_opt_auc = roc_auc_score(y_valid, y_valid_preds_grid)\n",
    "\n",
    "print('Training AUC:{:.3f}'.format(dt_train_opt_auc))\n",
    "print('Validation AUC:{:.3f}'.format(dt_valid_opt_auc))"
   ]
  },
  {
   "cell_type": "markdown",
   "metadata": {},
   "source": [
    "## Random Forest"
   ]
  },
  {
   "cell_type": "code",
   "execution_count": 31,
   "metadata": {},
   "outputs": [
    {
     "name": "stdout",
     "output_type": "stream",
     "text": [
      "Baseline Random Forest\n",
      "Training AUC:0.380\n",
      "Validation AUC:0.371\n"
     ]
    }
   ],
   "source": [
    "#Create a Baseline Model\n",
    "rf=RandomForestClassifier(random_state = 12)\n",
    "\n",
    "rf.fit(X_train, y_train)\n",
    "\n",
    "y_train_preds = rf.predict_proba(X_train_tf)[:,1]\n",
    "y_valid_preds = rf.predict_proba(X_valid_tf)[:,1]\n",
    "\n",
    "print('Baseline Random Forest')\n",
    "rf_train_base_auc = roc_auc_score(y_train, y_train_preds)\n",
    "rf_valid_base_auc = roc_auc_score(y_valid, y_valid_preds)\n",
    "\n",
    "print('Training AUC:{:.3f}'.format(rf_train_base_auc))\n",
    "print('Validation AUC:{:.3f}'.format(rf_valid_base_auc))"
   ]
  },
  {
   "cell_type": "code",
   "execution_count": null,
   "metadata": {},
   "outputs": [],
   "source": [
    "#help(RandomForestClassifier)\n",
    "#rf_sub.get_params()"
   ]
  },
  {
   "cell_type": "code",
   "execution_count": null,
   "metadata": {},
   "outputs": [],
   "source": [
    "#Create Optimized Model\n",
    "\n",
    "bootstrap=[True,False]\n",
    "ccp_alpha=[0.0,0.2]\n",
    "class_weight=[None]\n",
    "criterion=['gini','entropy']\n",
    "max_depth=[None]\n",
    "max_features=[\"auto\", \"sqrt\", \"log2\",\"none\"]\n",
    "max_leaf_nodes=[None]\n",
    "max_samples=[0,.5,1]\n",
    "min_impurity_decrease=[0.0]\n",
    "min_impurity_split=[None]\n",
    "min_samples_leaf=[1,2,10]\n",
    "min_samples_split=[1,2,10]\n",
    "n_estimators=[10,100,250]#,1000]\n",
    "n_jobs=[-1]\n",
    "oob_score=[True,False]\n",
    "random_state=[12]\n",
    "verbose=[1]\n",
    "warm_start=[True,False]\n",
    "\n",
    "#param_grid\n",
    "\n",
    "param_grid_rf = {'bootstrap': bootstrap,\n",
    " 'ccp_alpha': ccp_alpha,\n",
    " 'class_weight': class_weight,\n",
    " 'criterion': criterion,\n",
    " 'max_depth': max_depth,\n",
    " 'max_features': max_features,\n",
    " 'max_leaf_nodes': max_leaf_nodes,\n",
    " 'max_samples': max_samples,\n",
    " 'min_impurity_decrease': min_impurity_decrease,\n",
    " 'min_impurity_split': min_impurity_split,\n",
    " 'min_samples_leaf': min_samples_leaf,\n",
    " 'min_samples_split': min_samples_split,\n",
    " 'min_weight_fraction_leaf': min_weight_fraction_leaf,\n",
    " 'n_estimators': n_estimators,\n",
    " 'n_jobs': n_jobs,\n",
    " 'oob_score': oob_score,\n",
    " 'random_state': random_state,\n",
    " 'verbose': verbose,\n",
    " 'warm_start': warm_start}\n",
    "\n",
    "print(param_grid_rf)"
   ]
  },
  {
   "cell_type": "code",
   "execution_count": null,
   "metadata": {},
   "outputs": [],
   "source": [
    "\n",
    "# create the cross-validation by grid method\n",
    "#rf_grid = GridSearchCV(estimator = rf, param_grid = param_grid_rf, \n",
    "#                            cv = 2, scoring=auc_scoring,verbose = 1, n_jobs = -1, #changed cv to 2 due to time\n",
    "#                            error_score=0)\n",
    "\n",
    "#Random grid search used for time constraints:\n",
    "\n",
    "rf_rand = RandomizedSearchCV(estimator = rf, param_distributions = param_grid_rf, \n",
    "                            n_iter = 1000, cv = 5, scoring=auc_scoring,verbose = 1, n_jobs = -1,\n",
    "                            error_score=0, random_state=12)\n",
    "        \n",
    "\n",
    "# fit the random search model (this will take a few minutes)\n",
    "t1 = time.time()\n",
    "rf_rand.fit(X_train_tf, y_train)\n",
    "t2 = time.time()\n",
    "print('Elapsed Time:',(t2-t1))\n",
    "\n",
    "print('Best Parameters:',rf_rand.best_params_)"
   ]
  },
  {
   "cell_type": "code",
   "execution_count": null,
   "metadata": {},
   "outputs": [],
   "source": [
    "print('Optimized Random Forest')\n",
    "y_train_preds_rand = rf_rand.best_estimator_.predict_proba(X_train_tf)[:,1]\n",
    "y_valid_preds_rand = rf_rand.best_estimator_.predict_proba(X_valid_tf)[:,1]\n",
    "\n",
    "rf_train_opt_auc = roc_auc_score(y_train, y_train_preds_rand)\n",
    "rf_valid_opt_auc = roc_auc_score(y_valid, y_valid_preds_rand)\n",
    "\n",
    "print('Training AUC:{:.3f}'.format(rf_train_opt_auc))\n",
    "print('Validation AUC:{:.3f}'.format(rf_valid_opt_auc))"
   ]
  },
  {
   "cell_type": "markdown",
   "metadata": {},
   "source": [
    "## Gradient Boosting Classifier"
   ]
  },
  {
   "cell_type": "code",
   "execution_count": 27,
   "metadata": {},
   "outputs": [
    {
     "name": "stdout",
     "output_type": "stream",
     "text": [
      "Baseline Gradient Boosting Classifier\n",
      "Training AUC:0.466\n",
      "Validation AUC:0.467\n"
     ]
    }
   ],
   "source": [
    "#Create a Baseline Model\n",
    "gbc=GradientBoostingClassifier(random_state = 12)\n",
    "\n",
    "gbc.fit(X_train, y_train)\n",
    "\n",
    "y_train_preds = gbc.predict_proba(X_train_tf)[:,1]\n",
    "y_valid_preds = gbc.predict_proba(X_valid_tf)[:,1]\n",
    "\n",
    "print('Baseline Gradient Boosting Classifier')\n",
    "gbc_train_base_auc = roc_auc_score(y_train, y_train_preds)\n",
    "gbc_valid_base_auc = roc_auc_score(y_valid, y_valid_preds)\n",
    "\n",
    "print('Training AUC:{:.3f}'.format(gbc_train_base_auc))\n",
    "print('Validation AUC:{:.3f}'.format(gbc_valid_base_auc))"
   ]
  },
  {
   "cell_type": "markdown",
   "metadata": {},
   "source": [
    "## Learning Curves to help with hypertuning parameters"
   ]
  },
  {
   "cell_type": "code",
   "execution_count": 28,
   "metadata": {},
   "outputs": [
    {
     "data": {
      "image/png": "[encoded data removed]",
      "text/plain": [
       "<Figure size 432x288 with 1 Axes>"
      ]
     },
     "metadata": {
      "needs_background": "light"
     },
     "output_type": "display_data"
    }
   ],
   "source": [
    "#learning curves\n",
    "max_features = np.arange(1,23,1)\n",
    "\n",
    "train_aucs = np.zeros(len(max_features))\n",
    "valid_aucs = np.zeros(len(max_features))\n",
    "\n",
    "for jj in range(len(max_features)):\n",
    "    max_feature = max_features[jj]\n",
    "    # fit model\n",
    "    gbc =GradientBoostingClassifier(max_features=max_feature, random_state=12)\n",
    "    gbc.fit(X_train_tf, y_train)\n",
    "    \n",
    "    # get predictions\n",
    "    y_train_preds = gbc.predict_proba(X_train_tf)[:,1]\n",
    "    y_valid_preds = gbc.predict_proba(X_valid_tf)[:,1]\n",
    "\n",
    "    # calculate auc\n",
    "    auc_train = roc_auc_score(y_train, y_train_preds)\n",
    "    auc_valid = roc_auc_score(y_valid, y_valid_preds)\n",
    "\n",
    "    # save aucs\n",
    "    train_aucs[jj] = auc_train\n",
    "    valid_aucs[jj] = auc_valid\n",
    "\n",
    "plt.plot(max_features, train_aucs,'o-',label = 'Train')\n",
    "plt.plot(max_features, valid_aucs,'o-',label = 'Valid')\n",
    "\n",
    "plt.xlabel('max_features')\n",
    "plt.title('max_features learning curve')\n",
    "plt.ylabel('AUC')\n",
    "plt.legend()\n",
    "plt.show()"
   ]
  },
  {
   "cell_type": "code",
   "execution_count": 29,
   "metadata": {},
   "outputs": [
    {
     "data": {
      "image/png": "[encoded data removed]",
      "text/plain": [
       "<Figure size 432x288 with 1 Axes>"
      ]
     },
     "metadata": {
      "needs_background": "light"
     },
     "output_type": "display_data"
    }
   ],
   "source": [
    "#learning curves\n",
    "n_estimators = np.arange(10,500,10)\n",
    "\n",
    "train_aucs = np.zeros(len(n_estimators))\n",
    "valid_aucs = np.zeros(len(n_estimators))\n",
    "\n",
    "for jj in range(len(n_estimators)):\n",
    "    n_estimator = n_estimators[jj]\n",
    "    print\n",
    "    # fit model\n",
    "    gbc =GradientBoostingClassifier(n_estimators=n_estimator, random_state=12)\n",
    "    gbc.fit(X_train_tf, y_train)\n",
    "    \n",
    "    # get predictions\n",
    "    y_train_preds = gbc.predict_proba(X_train_tf)[:,1]\n",
    "    y_valid_preds = gbc.predict_proba(X_valid_tf)[:,1]\n",
    "\n",
    "    # calculate auc\n",
    "    auc_train = roc_auc_score(y_train, y_train_preds)\n",
    "    auc_valid = roc_auc_score(y_valid, y_valid_preds)\n",
    "\n",
    "    # save aucs\n",
    "    train_aucs[jj] = auc_train\n",
    "    valid_aucs[jj] = auc_valid\n",
    "\n",
    "plt.plot(n_estimators, train_aucs,'o-',label = 'Train')\n",
    "plt.plot(n_estimators, valid_aucs,'o-',label = 'Valid')\n",
    "\n",
    "plt.xlabel('n_estimators')\n",
    "plt.ylabel('AUC')\n",
    "plt.title('n_estimators learning curve')\n",
    "plt.legend()\n",
    "plt.show()"
   ]
  },
  {
   "cell_type": "code",
   "execution_count": 36,
   "metadata": {},
   "outputs": [
    {
     "data": {
      "image/png": "[encoded data removed]",
      "text/plain": [
       "<Figure size 432x288 with 1 Axes>"
      ]
     },
     "metadata": {
      "needs_background": "light"
     },
     "output_type": "display_data"
    }
   ],
   "source": [
    "#learning curves\n",
    "max_depths = np.arange(2,26,2)\n",
    "\n",
    "train_aucs = np.zeros(len(max_depths))\n",
    "valid_aucs = np.zeros(len(max_depths))\n",
    "\n",
    "for jj in range(len(max_depths)):\n",
    "    max_depth = max_depths[jj]\n",
    "    # fit model\n",
    "    gbc =GradientBoostingClassifier(max_depth=max_depth, random_state=12)\n",
    "    gbc.fit(X_train_tf, y_train)\n",
    "    \n",
    "    # get predictions\n",
    "    y_train_preds = gbc.predict_proba(X_train_tf)[:,1]\n",
    "    y_valid_preds = gbc.predict_proba(X_valid_tf)[:,1]\n",
    "\n",
    "    # calculate auc\n",
    "    auc_train = roc_auc_score(y_train, y_train_preds)\n",
    "    auc_valid = roc_auc_score(y_valid, y_valid_preds)\n",
    "\n",
    "    # save aucs\n",
    "    train_aucs[jj] = auc_train\n",
    "    valid_aucs[jj] = auc_valid\n",
    "\n",
    "plt.plot(max_depths, train_aucs,'o-',label = 'Train')\n",
    "plt.plot(max_depths, valid_aucs,'o-',label = 'Valid')\n",
    "\n",
    "plt.xlabel('max_depths')\n",
    "plt.title('max_depths learning curve')\n",
    "plt.ylabel('AUC')\n",
    "plt.legend()\n",
    "plt.show()"
   ]
  },
  {
   "cell_type": "code",
   "execution_count": 34,
   "metadata": {},
   "outputs": [
    {
     "data": {
      "image/png": "[encoded data removed]",
      "text/plain": [
       "<Figure size 432x288 with 1 Axes>"
      ]
     },
     "metadata": {
      "needs_background": "light"
     },
     "output_type": "display_data"
    }
   ],
   "source": [
    "#learning curves\n",
    "min_samples_leafs = np.arange(1,20,1)\n",
    "\n",
    "train_aucs = np.zeros(len(min_samples_leafs))\n",
    "valid_aucs = np.zeros(len(min_samples_leafs))\n",
    "\n",
    "for jj in range(len(min_samples_leafs)):\n",
    "    min_samples_leaf = min_samples_leafs[jj]\n",
    "    # fit model\n",
    "    gbc =GradientBoostingClassifier(min_samples_leaf=min_samples_leaf, random_state=12)\n",
    "    gbc.fit(X_train_tf, y_train)\n",
    "    \n",
    "    # get predictions\n",
    "    y_train_preds = gbc.predict_proba(X_train_tf)[:,1]\n",
    "    y_valid_preds = gbc.predict_proba(X_valid_tf)[:,1]\n",
    "\n",
    "    # calculate auc\n",
    "    auc_train = roc_auc_score(y_train, y_train_preds)\n",
    "    auc_valid = roc_auc_score(y_valid, y_valid_preds)\n",
    "\n",
    "    # save aucs\n",
    "    train_aucs[jj] = auc_train\n",
    "    valid_aucs[jj] = auc_valid\n",
    "\n",
    "plt.plot(min_samples_leafs, train_aucs,'o-',label = 'Train')\n",
    "plt.plot(min_samples_leafs, valid_aucs,'o-',label = 'Valid')\n",
    "\n",
    "plt.xlabel('min_samples_leafs')\n",
    "plt.title('min_samples_leafs learning curve')\n",
    "plt.ylabel('AUC')\n",
    "plt.legend()\n",
    "plt.show()"
   ]
  },
  {
   "cell_type": "code",
   "execution_count": 35,
   "metadata": {
    "scrolled": true
   },
   "outputs": [
    {
     "data": {
      "image/png": "[encoded data removed]",
      "text/plain": [
       "<Figure size 432x288 with 1 Axes>"
      ]
     },
     "metadata": {
      "needs_background": "light"
     },
     "output_type": "display_data"
    }
   ],
   "source": [
    "#learning curves\n",
    "min_samples_splits = np.arange(2,20,1)\n",
    "\n",
    "train_aucs = np.zeros(len(min_samples_splits))\n",
    "valid_aucs = np.zeros(len(min_samples_splits))\n",
    "\n",
    "for jj in range(len(min_samples_splits)):\n",
    "    min_samples_split = min_samples_splits[jj]\n",
    "    # fit model\n",
    "    gbc =GradientBoostingClassifier(min_samples_split=min_samples_split, random_state=12)\n",
    "    gbc.fit(X_train_tf, y_train)\n",
    "    \n",
    "    # get predictions\n",
    "    y_train_preds = gbc.predict_proba(X_train_tf)[:,1]\n",
    "    y_valid_preds = gbc.predict_proba(X_valid_tf)[:,1]\n",
    "\n",
    "    # calculate auc\n",
    "    auc_train = roc_auc_score(y_train, y_train_preds)\n",
    "    auc_valid = roc_auc_score(y_valid, y_valid_preds)\n",
    "\n",
    "    # save aucs\n",
    "    train_aucs[jj] = auc_train\n",
    "    valid_aucs[jj] = auc_valid\n",
    "\n",
    "plt.plot(min_samples_splits, train_aucs,'o-',label = 'Train')\n",
    "plt.plot(min_samples_splits, valid_aucs,'o-',label = 'Valid')\n",
    "\n",
    "plt.xlabel('min_samples_splits')\n",
    "plt.title('min_samples_splits learning curve')\n",
    "plt.ylabel('AUC')\n",
    "plt.legend()\n",
    "plt.show()"
   ]
  },
  {
   "cell_type": "markdown",
   "metadata": {},
   "source": [
    "## Grid Search"
   ]
  },
  {
   "cell_type": "code",
   "execution_count": 37,
   "metadata": {},
   "outputs": [
    {
     "name": "stdout",
     "output_type": "stream",
     "text": [
      "{'ccp_alpha': [0.0, 0, 5, 1], 'criterion': ['friedman_mse', 'mse', 'mae'], 'init': ['zero'], 'learning_rate': [0.01, 0.05, 0.1, 0.25], 'loss': ['deviance', 'exponential'], 'max_depth': [4, 6, 8, 10, 12], 'max_features': ['auto', 'log2', 8], 'max_leaf_nodes': [10, None], 'min_impurity_decrease': [0.0], 'min_impurity_split': [None], 'min_samples_leaf': [1, 2, 3, 4], 'min_samples_split': [2], 'n_estimators': range(150, 501, 50), 'n_iter_no_change': [None], 'random_state': [12], 'subsample': [0.75, 1.0], 'tol': [0.0001, 0.001, 0.01], 'validation_fraction': [0.1, 0.25], 'verbose': [1], 'warm_start': [True, False]}\n"
     ]
    }
   ],
   "source": [
    "#Create Optimized Model\n",
    "\n",
    "ccp_alpha= [0.0,0,5,1]\n",
    "criterion = ['friedman_mse','mse','mae']\n",
    "init= ['zero']\n",
    "learning_rate = [0.01,0.05,0.1,0.25]\n",
    "loss = ['deviance', 'exponential']\n",
    "max_depth = [4,6,8,10,12]\n",
    "max_features = ['auto','log2',8]\n",
    "max_leaf_nodes = [10,None]\n",
    "min_impurity_decrease = [0.0]\n",
    "min_impurity_split = [None]\n",
    "min_samples_leaf = [1,2,3,4]\n",
    "min_samples_split = [2]\n",
    "min_weight_fraction_leaf = [0.0]\n",
    "n_estimators = range(150,501,50)\n",
    "n_iter_no_change = [None]\n",
    "random_state = [12]\n",
    "subsample = [0.75,1.0]\n",
    "tol = [0.0001,0.001,0.01]\n",
    "validation_fraction = [0.1,0.25]\n",
    "verbose = [1]\n",
    "warm_start = [True,False]\n",
    "    \n",
    "# param grid\n",
    "param_grid_gbc = {'ccp_alpha' : ccp_alpha,\n",
    "                    'criterion': criterion,\n",
    "                    'init': init,\n",
    "                    'learning_rate': learning_rate,\n",
    "                    'loss': loss,\n",
    "                    'max_depth': max_depth,\n",
    "                    'max_features': max_features,\n",
    "                    'max_leaf_nodes': max_leaf_nodes,\n",
    "                    'min_impurity_decrease': min_impurity_decrease,\n",
    "                    'min_impurity_split': min_impurity_split,\n",
    "                    'min_samples_leaf': min_samples_leaf,\n",
    "                    'min_samples_split': min_samples_split,\n",
    "                    'n_estimators': n_estimators,\n",
    "                    'n_iter_no_change': n_iter_no_change,\n",
    "                    'random_state': random_state,\n",
    "                    'subsample': subsample,\n",
    "                    'tol': tol,\n",
    "                    'validation_fraction': validation_fraction,\n",
    "                    'verbose': verbose,\n",
    "                    'warm_start': warm_start\n",
    "                    }\n",
    "\n",
    "print(param_grid_gbc)"
   ]
  },
  {
   "cell_type": "code",
   "execution_count": null,
   "metadata": {},
   "outputs": [
    {
     "name": "stdout",
     "output_type": "stream",
     "text": [
      "Fitting 2 folds for each of 500 candidates, totalling 1000 fits\n"
     ]
    },
    {
     "name": "stderr",
     "output_type": "stream",
     "text": [
      "[Parallel(n_jobs=-1)]: Using backend LokyBackend with 8 concurrent workers.\n",
      "[Parallel(n_jobs=-1)]: Done  34 tasks      | elapsed: 24.1min\n"
     ]
    }
   ],
   "source": [
    "# create the cross-validation by grid method\n",
    "#gbc_grid = GridSearchCV(estimator = gbc, param_grid = param_grid_gbc, \n",
    "#                            cv = 2, scoring=auc_scoring,verbose = 1, n_jobs = -1, #changed cv to 2 due to time\n",
    "#                            error_score=0)\n",
    "\n",
    "#Random grid search used for time constraints:\n",
    "\n",
    "gbc_rand = RandomizedSearchCV(estimator = gbc, param_distributions = param_grid_gbc, \n",
    "                            n_iter = 500, cv = 2, scoring=auc_scoring,verbose = 1, n_jobs = -1,\n",
    "                            error_score=0, random_state=12)\n",
    "        \n",
    "\n",
    "# fit the random search model (this will take a few minutes)\n",
    "t1 = time.time()\n",
    "gbc_rand.fit(X_train_tf, y_train)\n",
    "t2 = time.time()\n",
    "print('Elapsed Time:',(t2-t1))\n",
    "\n",
    "print('Best Parameters:',gbc_rand.best_params_)"
   ]
  },
  {
   "cell_type": "code",
   "execution_count": null,
   "metadata": {},
   "outputs": [],
   "source": [
    "print('Optimized Gradient Boosting Classifier')\n",
    "y_train_preds_rand = gbc_rand.best_estimator_.predict_proba(X_train_tf)[:,1]\n",
    "y_valid_preds_rand = gbc_rand.best_estimator_.predict_proba(X_valid_tf)[:,1]\n",
    "\n",
    "gbc_train_opt_auc = roc_auc_score(y_train, y_train_preds_rand)\n",
    "gbc_valid_opt_auc = roc_auc_score(y_valid, y_valid_preds_rand)\n",
    "\n",
    "print('Training AUC:{:.3f}'.format(gbc_train_opt_auc))\n",
    "print('Validation AUC:{:.3f}'.format(gbc_valid_opt_auc))"
   ]
  },
  {
   "cell_type": "code",
   "execution_count": null,
   "metadata": {},
   "outputs": [],
   "source": [
    "thresh = 0.5\n",
    "\n",
    "y_train_preds_gbc = gbc_rand.best_estimator_.predict_proba(X_train_tf)[:,1]\n",
    "y_valid_preds_gbc = gbc_rand.best_estimator_.predict_proba(X_valid_tf)[:,1]\n",
    "y_test_preds_gbc = gbc_rand.best_estimator_.predict_proba(X_test_tf)[:,1]\n",
    "\n",
    "print('GBC Training:')\n",
    "train_auc, train_accuracy, train_recall, train_precision, train_specificity = cc.print_report(y_train,y_train_preds_gbc, thresh)\n",
    "print('GBC Validation:')\n",
    "valid_auc, valid_accuracy, valid_recall, valid_precision, valid_specificity = cc.print_report(y_valid,y_valid_preds_gbc, thresh)\n",
    "print('GBC Test:')\n",
    "test_auc, test_accuracy, test_recall, test_precision, test_specificity = cc.print_report(y_test,y_test_preds_gbc, thresh)\n"
   ]
  }
 ],
 "metadata": {
  "kernelspec": {
   "display_name": "Python 3",
   "language": "python",
   "name": "python3"
  },
  "language_info": {
   "codemirror_mode": {
    "name": "ipython",
    "version": 3
   },
   "file_extension": ".py",
   "mimetype": "text/x-python",
   "name": "python",
   "nbconvert_exporter": "python",
   "pygments_lexer": "ipython3",
   "version": "3.7.7"
  }
 },
 "nbformat": 4,
 "nbformat_minor": 4
}
